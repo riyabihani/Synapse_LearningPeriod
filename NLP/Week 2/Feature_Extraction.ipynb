{
  "nbformat": 4,
  "nbformat_minor": 0,
  "metadata": {
    "kernelspec": {
      "display_name": "Python 3",
      "language": "python",
      "name": "python3"
    },
    "language_info": {
      "codemirror_mode": {
        "name": "ipython",
        "version": 3
      },
      "file_extension": ".py",
      "mimetype": "text/x-python",
      "name": "python",
      "nbconvert_exporter": "python",
      "pygments_lexer": "ipython3",
      "version": "3.6.12"
    },
    "colab": {
      "name": "Feature_Extraction.ipynb",
      "provenance": []
    }
  },
  "cells": [
    {
      "cell_type": "markdown",
      "metadata": {
        "id": "MurMl25mdKfC"
      },
      "source": [
        "<a id=\"Introduction\"></a>\n",
        "# Introduction\n",
        "\n",
        "This week we will be focusing on NLP preprocessing and feature extraction techniques and codes. We will mainly use the [Real or Not? NLP with Disaster Tweets](https://www.kaggle.com/c/nlp-getting-started) dataset for illustration.\n",
        "\n",
        "We will revise our concepts learned from last week and will be learning newer concepts based on feature extraction and word embeddings\n",
        "\n",
        "<img src=\"https://miro.medium.com/max/1750/1*rJQVqDjbhI3k22lHqa4dFw.png\" align=\"center\"/>\n",
        "\n",
        "image source: [Natural Language Processing Pipeline](https://towardsdatascience.com/natural-language-processing-pipeline-93df02ecd03f)"
      ]
    },
    {
      "cell_type": "markdown",
      "metadata": {
        "id": "vK_CojWOdKfH"
      },
      "source": [
        "<a id=\"Read_and_explore_data\"></a>\n",
        "\n",
        "# Read and explore data\n",
        "\n",
        "<a id=\"Importing_Main_Packages\"></a>\n",
        "## Importing Main Packages"
      ]
    },
    {
      "cell_type": "code",
      "metadata": {
        "execution": {
          "iopub.execute_input": "2021-11-13T10:20:32.194579Z",
          "iopub.status.busy": "2021-11-13T10:20:32.194211Z",
          "iopub.status.idle": "2021-11-13T10:20:32.234873Z",
          "shell.execute_reply": "2021-11-13T10:20:32.234227Z",
          "shell.execute_reply.started": "2021-11-13T10:20:32.194548Z"
        },
        "scrolled": true,
        "id": "N97OXjDodKfI"
      },
      "source": [
        "\n",
        "import sys\n",
        "import numpy as np\n",
        "import pandas as pd\n",
        "import sklearn\n",
        "\n",
        "# Libraries and packages for text (pre-)processing \n",
        "import string\n",
        "import re\n",
        "import nltk\n"
      ],
      "execution_count": 1,
      "outputs": []
    },
    {
      "cell_type": "markdown",
      "metadata": {
        "id": "xuHL67kLdKfJ"
      },
      "source": [
        "<a id=\"Read_the_Data\"></a>\n",
        "## Read the Data"
      ]
    },
    {
      "cell_type": "code",
      "metadata": {
        "colab": {
          "base_uri": "https://localhost:8080/"
        },
        "id": "JYrU-TOHdZsC",
        "outputId": "486b2e4b-9160-404e-89e1-d24d83933efd"
      },
      "source": [
        "from google.colab import drive\n",
        "drive.mount(\"/content/gdrive\")"
      ],
      "execution_count": 2,
      "outputs": [
        {
          "output_type": "stream",
          "name": "stdout",
          "text": [
            "Mounted at /content/gdrive\n"
          ]
        }
      ]
    },
    {
      "cell_type": "code",
      "metadata": {
        "execution": {
          "iopub.execute_input": "2021-11-13T10:20:32.236818Z",
          "iopub.status.busy": "2021-11-13T10:20:32.236328Z",
          "iopub.status.idle": "2021-11-13T10:20:32.272601Z",
          "shell.execute_reply": "2021-11-13T10:20:32.271053Z",
          "shell.execute_reply.started": "2021-11-13T10:20:32.236782Z"
        },
        "id": "hcrHWS8ydKfK"
      },
      "source": [
        "# read the \"train.csv\" file and display using head(). Name the variable as \"train_df\"\n",
        "train_path = \"/content/gdrive/My Drive/synapse_w7/train.csv\"\n",
        "train_df = pd.read_csv(train_path)"
      ],
      "execution_count": 3,
      "outputs": []
    },
    {
      "cell_type": "code",
      "metadata": {
        "execution": {
          "iopub.execute_input": "2021-11-13T10:20:32.274127Z",
          "iopub.status.busy": "2021-11-13T10:20:32.273855Z",
          "iopub.status.idle": "2021-11-13T10:20:32.296992Z",
          "shell.execute_reply": "2021-11-13T10:20:32.295936Z",
          "shell.execute_reply.started": "2021-11-13T10:20:32.274099Z"
        },
        "scrolled": true,
        "colab": {
          "base_uri": "https://localhost:8080/",
          "height": 242
        },
        "id": "SeSGHJ35dKfK",
        "outputId": "98bfbd82-29c0-47e3-c60e-809c745bd379"
      },
      "source": [
        "# some data exploration\n",
        "display(train_df[~train_df[\"location\"].isnull()].head())\n",
        "display(train_df[train_df[\"target\"] == 0][\"text\"].values[1])\n",
        "display(train_df[train_df[\"target\"] == 1][\"text\"].values[1])"
      ],
      "execution_count": 4,
      "outputs": [
        {
          "output_type": "display_data",
          "data": {
            "text/html": [
              "<div>\n",
              "<style scoped>\n",
              "    .dataframe tbody tr th:only-of-type {\n",
              "        vertical-align: middle;\n",
              "    }\n",
              "\n",
              "    .dataframe tbody tr th {\n",
              "        vertical-align: top;\n",
              "    }\n",
              "\n",
              "    .dataframe thead th {\n",
              "        text-align: right;\n",
              "    }\n",
              "</style>\n",
              "<table border=\"1\" class=\"dataframe\">\n",
              "  <thead>\n",
              "    <tr style=\"text-align: right;\">\n",
              "      <th></th>\n",
              "      <th>id</th>\n",
              "      <th>keyword</th>\n",
              "      <th>location</th>\n",
              "      <th>text</th>\n",
              "      <th>target</th>\n",
              "    </tr>\n",
              "  </thead>\n",
              "  <tbody>\n",
              "    <tr>\n",
              "      <th>31</th>\n",
              "      <td>48</td>\n",
              "      <td>ablaze</td>\n",
              "      <td>Birmingham</td>\n",
              "      <td>@bbcmtd Wholesale Markets ablaze http://t.co/l...</td>\n",
              "      <td>1</td>\n",
              "    </tr>\n",
              "    <tr>\n",
              "      <th>32</th>\n",
              "      <td>49</td>\n",
              "      <td>ablaze</td>\n",
              "      <td>Est. September 2012 - Bristol</td>\n",
              "      <td>We always try to bring the heavy. #metal #RT h...</td>\n",
              "      <td>0</td>\n",
              "    </tr>\n",
              "    <tr>\n",
              "      <th>33</th>\n",
              "      <td>50</td>\n",
              "      <td>ablaze</td>\n",
              "      <td>AFRICA</td>\n",
              "      <td>#AFRICANBAZE: Breaking news:Nigeria flag set a...</td>\n",
              "      <td>1</td>\n",
              "    </tr>\n",
              "    <tr>\n",
              "      <th>34</th>\n",
              "      <td>52</td>\n",
              "      <td>ablaze</td>\n",
              "      <td>Philadelphia, PA</td>\n",
              "      <td>Crying out for more! Set me ablaze</td>\n",
              "      <td>0</td>\n",
              "    </tr>\n",
              "    <tr>\n",
              "      <th>35</th>\n",
              "      <td>53</td>\n",
              "      <td>ablaze</td>\n",
              "      <td>London, UK</td>\n",
              "      <td>On plus side LOOK AT THE SKY LAST NIGHT IT WAS...</td>\n",
              "      <td>0</td>\n",
              "    </tr>\n",
              "  </tbody>\n",
              "</table>\n",
              "</div>"
            ],
            "text/plain": [
              "    id keyword  ...                                               text target\n",
              "31  48  ablaze  ...  @bbcmtd Wholesale Markets ablaze http://t.co/l...      1\n",
              "32  49  ablaze  ...  We always try to bring the heavy. #metal #RT h...      0\n",
              "33  50  ablaze  ...  #AFRICANBAZE: Breaking news:Nigeria flag set a...      1\n",
              "34  52  ablaze  ...                 Crying out for more! Set me ablaze      0\n",
              "35  53  ablaze  ...  On plus side LOOK AT THE SKY LAST NIGHT IT WAS...      0\n",
              "\n",
              "[5 rows x 5 columns]"
            ]
          },
          "metadata": {}
        },
        {
          "output_type": "display_data",
          "data": {
            "application/vnd.google.colaboratory.intrinsic+json": {
              "type": "string"
            },
            "text/plain": [
              "'I love fruits'"
            ]
          },
          "metadata": {}
        },
        {
          "output_type": "display_data",
          "data": {
            "application/vnd.google.colaboratory.intrinsic+json": {
              "type": "string"
            },
            "text/plain": [
              "'Forest fire near La Ronge Sask. Canada'"
            ]
          },
          "metadata": {}
        }
      ]
    },
    {
      "cell_type": "markdown",
      "metadata": {
        "id": "Cqv8c9NEdKfL"
      },
      "source": [
        "<a id=\"Text_Preprocessing\"></a>\n",
        "\n",
        "# Text Preprocessing:\n",
        "\n",
        "<a id=\"Capitalization\"></a>\n"
      ]
    },
    {
      "cell_type": "code",
      "metadata": {
        "execution": {
          "iopub.execute_input": "2021-11-13T10:20:32.299060Z",
          "iopub.status.busy": "2021-11-13T10:20:32.298617Z",
          "iopub.status.idle": "2021-11-13T10:20:32.319369Z",
          "shell.execute_reply": "2021-11-13T10:20:32.318525Z",
          "shell.execute_reply.started": "2021-11-13T10:20:32.299030Z"
        },
        "scrolled": true,
        "colab": {
          "base_uri": "https://localhost:8080/",
          "height": 206
        },
        "id": "dHXYiSEldKfM",
        "outputId": "4587a8eb-c1e9-41d6-facb-89bafd0d6906"
      },
      "source": [
        "#Write the code to remove all text capitalization and save it in a column called \"text_clean\"\n",
        "# Complete the code below\n",
        "# Hint: Use pandas apply()\n",
        "train_df[\"text_clean\"] = train_df[\"text\"].apply(lambda x: x.lower())\n",
        "display(train_df.head())"
      ],
      "execution_count": 5,
      "outputs": [
        {
          "output_type": "display_data",
          "data": {
            "text/html": [
              "<div>\n",
              "<style scoped>\n",
              "    .dataframe tbody tr th:only-of-type {\n",
              "        vertical-align: middle;\n",
              "    }\n",
              "\n",
              "    .dataframe tbody tr th {\n",
              "        vertical-align: top;\n",
              "    }\n",
              "\n",
              "    .dataframe thead th {\n",
              "        text-align: right;\n",
              "    }\n",
              "</style>\n",
              "<table border=\"1\" class=\"dataframe\">\n",
              "  <thead>\n",
              "    <tr style=\"text-align: right;\">\n",
              "      <th></th>\n",
              "      <th>id</th>\n",
              "      <th>keyword</th>\n",
              "      <th>location</th>\n",
              "      <th>text</th>\n",
              "      <th>target</th>\n",
              "      <th>text_clean</th>\n",
              "    </tr>\n",
              "  </thead>\n",
              "  <tbody>\n",
              "    <tr>\n",
              "      <th>0</th>\n",
              "      <td>1</td>\n",
              "      <td>NaN</td>\n",
              "      <td>NaN</td>\n",
              "      <td>Our Deeds are the Reason of this #earthquake M...</td>\n",
              "      <td>1</td>\n",
              "      <td>our deeds are the reason of this #earthquake m...</td>\n",
              "    </tr>\n",
              "    <tr>\n",
              "      <th>1</th>\n",
              "      <td>4</td>\n",
              "      <td>NaN</td>\n",
              "      <td>NaN</td>\n",
              "      <td>Forest fire near La Ronge Sask. Canada</td>\n",
              "      <td>1</td>\n",
              "      <td>forest fire near la ronge sask. canada</td>\n",
              "    </tr>\n",
              "    <tr>\n",
              "      <th>2</th>\n",
              "      <td>5</td>\n",
              "      <td>NaN</td>\n",
              "      <td>NaN</td>\n",
              "      <td>All residents asked to 'shelter in place' are ...</td>\n",
              "      <td>1</td>\n",
              "      <td>all residents asked to 'shelter in place' are ...</td>\n",
              "    </tr>\n",
              "    <tr>\n",
              "      <th>3</th>\n",
              "      <td>6</td>\n",
              "      <td>NaN</td>\n",
              "      <td>NaN</td>\n",
              "      <td>13,000 people receive #wildfires evacuation or...</td>\n",
              "      <td>1</td>\n",
              "      <td>13,000 people receive #wildfires evacuation or...</td>\n",
              "    </tr>\n",
              "    <tr>\n",
              "      <th>4</th>\n",
              "      <td>7</td>\n",
              "      <td>NaN</td>\n",
              "      <td>NaN</td>\n",
              "      <td>Just got sent this photo from Ruby #Alaska as ...</td>\n",
              "      <td>1</td>\n",
              "      <td>just got sent this photo from ruby #alaska as ...</td>\n",
              "    </tr>\n",
              "  </tbody>\n",
              "</table>\n",
              "</div>"
            ],
            "text/plain": [
              "   id keyword  ... target                                         text_clean\n",
              "0   1     NaN  ...      1  our deeds are the reason of this #earthquake m...\n",
              "1   4     NaN  ...      1             forest fire near la ronge sask. canada\n",
              "2   5     NaN  ...      1  all residents asked to 'shelter in place' are ...\n",
              "3   6     NaN  ...      1  13,000 people receive #wildfires evacuation or...\n",
              "4   7     NaN  ...      1  just got sent this photo from ruby #alaska as ...\n",
              "\n",
              "[5 rows x 6 columns]"
            ]
          },
          "metadata": {}
        }
      ]
    },
    {
      "cell_type": "markdown",
      "metadata": {
        "id": "SkhTwvDNdKfN"
      },
      "source": [
        "## Noise Removal \n",
        "Text data could include various unnecessary characters or punctuation such as URLs, HTML tags, non-ASCII characters, or other special characters (symbols, emojis, and other graphic characters). \n",
        "\n",
        "### Remove URLs"
      ]
    },
    {
      "cell_type": "code",
      "metadata": {
        "execution": {
          "iopub.execute_input": "2021-11-13T10:20:39.762075Z",
          "iopub.status.busy": "2021-11-13T10:20:39.761848Z",
          "iopub.status.idle": "2021-11-13T10:20:39.766745Z",
          "shell.execute_reply": "2021-11-13T10:20:39.765345Z",
          "shell.execute_reply.started": "2021-11-13T10:20:39.762051Z"
        },
        "scrolled": true,
        "colab": {
          "base_uri": "https://localhost:8080/"
        },
        "id": "D0zFxkMIdKfO",
        "outputId": "06ed0691-ae8f-4ecf-e970-ef8cb61152a1"
      },
      "source": [
        "#complete the function below to remove urls\n",
        "\n",
        "def remove_URL(text):\n",
        "    \"\"\"\n",
        "        Remove URLs from a sample string\n",
        "    \"\"\"\n",
        "    return re.sub(r\"https?://\\S+|www\\.\\S+\", \"\", text)\n",
        "    pass\n",
        "\n",
        "# removing urls from the text\n",
        "train_df[\"text_clean\"] = train_df[\"text_clean\"].apply(lambda x: remove_URL(x))\n",
        "\n",
        "# double check\n",
        "print(train_df[\"text\"][31])\n",
        "print(train_df[\"text_clean\"][31])\n",
        "print(train_df[\"text\"][37])\n",
        "print(train_df[\"text_clean\"][37])\n",
        "print(train_df[\"text\"][62])\n",
        "print(train_df[\"text_clean\"][62])"
      ],
      "execution_count": 6,
      "outputs": [
        {
          "output_type": "stream",
          "name": "stdout",
          "text": [
            "@bbcmtd Wholesale Markets ablaze http://t.co/lHYXEOHY6C\n",
            "@bbcmtd wholesale markets ablaze \n",
            "INEC Office in Abia Set Ablaze - http://t.co/3ImaomknnA\n",
            "inec office in abia set ablaze - \n",
            "Rene Ablaze &amp; Jacinta - Secret 2k13 (Fallen Skies Edit) - Mar 30 2013  https://t.co/7MLMsUzV1Z\n",
            "rene ablaze &amp; jacinta - secret 2k13 (fallen skies edit) - mar 30 2013  \n"
          ]
        }
      ]
    },
    {
      "cell_type": "markdown",
      "metadata": {
        "id": "pGtFwkl0dKfO"
      },
      "source": [
        "<a id=\"Remove_HTML_tags\"></a>\n",
        "\n",
        "### Remove HTML tags"
      ]
    },
    {
      "cell_type": "code",
      "metadata": {
        "execution": {
          "iopub.execute_input": "2021-11-13T10:20:39.833807Z",
          "iopub.status.busy": "2021-11-13T10:20:39.833453Z",
          "iopub.status.idle": "2021-11-13T10:20:39.839093Z",
          "shell.execute_reply": "2021-11-13T10:20:39.837859Z",
          "shell.execute_reply.started": "2021-11-13T10:20:39.833777Z"
        },
        "scrolled": true,
        "id": "JyMgYJm8dKfP"
      },
      "source": [
        "#complete the function below to remove html tags\n",
        "\n",
        "\n",
        "def remove_html(text):\n",
        "    \"\"\"\n",
        "        Remove the html in sample text\n",
        "    \"\"\"\n",
        "    pass\n",
        "\n",
        "# remove html from the text\n",
        "train_df[\"text_clean\"] = train_df[\"text_clean\"].apply(lambda x: remove_html(x))\n",
        "\n",
        "# double check\n",
        "print(train_df[\"text\"][62])\n",
        "print(train_df[\"text_clean\"][62])\n",
        "print(train_df[\"text\"][7385])\n",
        "print(train_df[\"text_clean\"][7385])"
      ],
      "execution_count": null,
      "outputs": []
    },
    {
      "cell_type": "markdown",
      "metadata": {
        "id": "lRP2ikjXdKfP"
      },
      "source": [
        "<a id=\"Remove_Non_ASCII\"></a>\n",
        "\n",
        "### Remove Non-ASCI:"
      ]
    },
    {
      "cell_type": "code",
      "metadata": {
        "execution": {
          "iopub.execute_input": "2021-11-13T10:20:39.909211Z",
          "iopub.status.busy": "2021-11-13T10:20:39.908999Z",
          "iopub.status.idle": "2021-11-13T10:20:39.913459Z",
          "shell.execute_reply": "2021-11-13T10:20:39.912481Z",
          "shell.execute_reply.started": "2021-11-13T10:20:39.909188Z"
        },
        "scrolled": true,
        "colab": {
          "base_uri": "https://localhost:8080/"
        },
        "id": "9SiTzVatdKfP",
        "outputId": "b92a28dd-48ba-43da-c22b-bfbfff4d5f9e"
      },
      "source": [
        "#complete the function below to remove non-ascii characters\n",
        "\n",
        "def remove_non_ascii(text):\n",
        "    \"\"\"\n",
        "        Remove non-ASCII characters \n",
        "    \"\"\"\n",
        "    return re.sub(r'[^\\x00-\\x7f]',r'', text)\n",
        "    pass\n",
        "\n",
        "# removing non-ascii characters from the text\n",
        "train_df[\"text_clean\"] = train_df[\"text_clean\"].apply(lambda x: remove_non_ascii(x))\n",
        "\n",
        "# double check\n",
        "print(train_df[\"text\"][38])\n",
        "print(train_df[\"text_clean\"][38])\n",
        "print(train_df[\"text\"][7586])\n",
        "print(train_df[\"text_clean\"][7586])"
      ],
      "execution_count": 7,
      "outputs": [
        {
          "output_type": "stream",
          "name": "stdout",
          "text": [
            "Barbados #Bridgetown JAMAICA ÛÒ Two cars set ablaze: SANTA CRUZ ÛÓ Head of the St Elizabeth Police Superintende...  http://t.co/wDUEaj8Q4J\n",
            "barbados #bridgetown jamaica  two cars set ablaze: santa cruz  head of the st elizabeth police superintende...  \n",
            "#Sismo DETECTADO #JapÌ_n 15:41:07 Seismic intensity 0 Iwate Miyagi JST #?? http://t.co/gMoUl9zQ2Q\n",
            "#sismo detectado #jap_n 15:41:07 seismic intensity 0 iwate miyagi jst #?? \n"
          ]
        }
      ]
    },
    {
      "cell_type": "markdown",
      "metadata": {
        "id": "IwXDWGBFdKfQ"
      },
      "source": [
        "<a id=\"Remove_punctuations\"></a>\n",
        "\n",
        "## Remove punctuations:"
      ]
    },
    {
      "cell_type": "code",
      "metadata": {
        "execution": {
          "iopub.execute_input": "2021-11-13T10:20:39.953064Z",
          "iopub.status.busy": "2021-11-13T10:20:39.952769Z",
          "iopub.status.idle": "2021-11-13T10:20:39.958153Z",
          "shell.execute_reply": "2021-11-13T10:20:39.957085Z",
          "shell.execute_reply.started": "2021-11-13T10:20:39.953040Z"
        },
        "scrolled": true,
        "colab": {
          "base_uri": "https://localhost:8080/"
        },
        "id": "ulChrjcNdKfQ",
        "outputId": "a31c331c-7b1b-4f5c-e5e1-ae469a170dde"
      },
      "source": [
        "#complete the function below to remove punctuations\n",
        "\n",
        "def remove_punct(text):\n",
        "    \"\"\"\n",
        "        Remove the punctuation\n",
        "    \"\"\"\n",
        "    return text.translate(str.maketrans('', '', string.punctuation))\n",
        "    pass\n",
        "\n",
        "# removing punctuations from the text\n",
        "train_df[\"text_clean\"] = train_df[\"text_clean\"].apply(lambda x: remove_punct(x))\n",
        "\n",
        "# double check\n",
        "print(train_df[\"text\"][5])\n",
        "print(train_df[\"text_clean\"][5])\n",
        "print(train_df[\"text\"][7597])\n",
        "print(train_df[\"text_clean\"][7597])"
      ],
      "execution_count": 8,
      "outputs": [
        {
          "output_type": "stream",
          "name": "stdout",
          "text": [
            "#RockyFire Update => California Hwy. 20 closed in both directions due to Lake County fire - #CAfire #wildfires\n",
            "rockyfire update  california hwy 20 closed in both directions due to lake county fire  cafire wildfires\n",
            "#??? #?? #??? #??? MH370: Aircraft debris found on La Reunion is from missing Malaysia Airlines ... http://t.co/5B7qT2YxdA\n",
            "    mh370 aircraft debris found on la reunion is from missing malaysia airlines  \n"
          ]
        }
      ]
    },
    {
      "cell_type": "markdown",
      "metadata": {
        "id": "nQ0QsYsrdKfR"
      },
      "source": [
        "<a id=\"Text_Preprocessing\"></a>\n",
        "\n",
        "# Text Preprocessing:\n",
        "\n",
        "<a id=\"Tokenization\"></a>\n",
        "## Tokenization\n",
        "Tokenization is a common technique that split a sentence into tokens, where a token could be characters, words, phrases, symbols, or other meaningful elements. By breaking sentences into smaller chunks, that would help to investigate the words in a sentence and also the subsequent steps in the NLP pipeline, such as stemming. "
      ]
    },
    {
      "cell_type": "code",
      "metadata": {
        "execution": {
          "iopub.execute_input": "2021-11-13T10:20:40.160184Z",
          "iopub.status.busy": "2021-11-13T10:20:40.159958Z",
          "iopub.status.idle": "2021-11-13T10:20:41.111234Z",
          "shell.execute_reply": "2021-11-13T10:20:41.109647Z",
          "shell.execute_reply.started": "2021-11-13T10:20:40.160161Z"
        },
        "scrolled": true,
        "colab": {
          "base_uri": "https://localhost:8080/",
          "height": 293
        },
        "id": "BNtM07v9dKfR",
        "outputId": "0056aa96-793f-4446-e20a-3f238461a4a2"
      },
      "source": [
        "# Tokenizing the tweet base texts and save it in a column called \"tokenized\"\n",
        "import nltk\n",
        "import nltk\n",
        "nltk.download('punkt')\n",
        "from nltk.tokenize import word_tokenize\n",
        "\n",
        "train_df['tokenized'] = train_df['text_clean'].apply(word_tokenize) \n",
        "train_df.head()"
      ],
      "execution_count": 10,
      "outputs": [
        {
          "output_type": "stream",
          "name": "stdout",
          "text": [
            "[nltk_data] Downloading package punkt to /root/nltk_data...\n",
            "[nltk_data]   Unzipping tokenizers/punkt.zip.\n"
          ]
        },
        {
          "output_type": "execute_result",
          "data": {
            "text/html": [
              "<div>\n",
              "<style scoped>\n",
              "    .dataframe tbody tr th:only-of-type {\n",
              "        vertical-align: middle;\n",
              "    }\n",
              "\n",
              "    .dataframe tbody tr th {\n",
              "        vertical-align: top;\n",
              "    }\n",
              "\n",
              "    .dataframe thead th {\n",
              "        text-align: right;\n",
              "    }\n",
              "</style>\n",
              "<table border=\"1\" class=\"dataframe\">\n",
              "  <thead>\n",
              "    <tr style=\"text-align: right;\">\n",
              "      <th></th>\n",
              "      <th>id</th>\n",
              "      <th>keyword</th>\n",
              "      <th>location</th>\n",
              "      <th>text</th>\n",
              "      <th>target</th>\n",
              "      <th>text_clean</th>\n",
              "      <th>tokenized</th>\n",
              "    </tr>\n",
              "  </thead>\n",
              "  <tbody>\n",
              "    <tr>\n",
              "      <th>0</th>\n",
              "      <td>1</td>\n",
              "      <td>NaN</td>\n",
              "      <td>NaN</td>\n",
              "      <td>Our Deeds are the Reason of this #earthquake M...</td>\n",
              "      <td>1</td>\n",
              "      <td>our deeds are the reason of this earthquake ma...</td>\n",
              "      <td>[our, deeds, are, the, reason, of, this, earth...</td>\n",
              "    </tr>\n",
              "    <tr>\n",
              "      <th>1</th>\n",
              "      <td>4</td>\n",
              "      <td>NaN</td>\n",
              "      <td>NaN</td>\n",
              "      <td>Forest fire near La Ronge Sask. Canada</td>\n",
              "      <td>1</td>\n",
              "      <td>forest fire near la ronge sask canada</td>\n",
              "      <td>[forest, fire, near, la, ronge, sask, canada]</td>\n",
              "    </tr>\n",
              "    <tr>\n",
              "      <th>2</th>\n",
              "      <td>5</td>\n",
              "      <td>NaN</td>\n",
              "      <td>NaN</td>\n",
              "      <td>All residents asked to 'shelter in place' are ...</td>\n",
              "      <td>1</td>\n",
              "      <td>all residents asked to shelter in place are be...</td>\n",
              "      <td>[all, residents, asked, to, shelter, in, place...</td>\n",
              "    </tr>\n",
              "    <tr>\n",
              "      <th>3</th>\n",
              "      <td>6</td>\n",
              "      <td>NaN</td>\n",
              "      <td>NaN</td>\n",
              "      <td>13,000 people receive #wildfires evacuation or...</td>\n",
              "      <td>1</td>\n",
              "      <td>13000 people receive wildfires evacuation orde...</td>\n",
              "      <td>[13000, people, receive, wildfires, evacuation...</td>\n",
              "    </tr>\n",
              "    <tr>\n",
              "      <th>4</th>\n",
              "      <td>7</td>\n",
              "      <td>NaN</td>\n",
              "      <td>NaN</td>\n",
              "      <td>Just got sent this photo from Ruby #Alaska as ...</td>\n",
              "      <td>1</td>\n",
              "      <td>just got sent this photo from ruby alaska as s...</td>\n",
              "      <td>[just, got, sent, this, photo, from, ruby, ala...</td>\n",
              "    </tr>\n",
              "  </tbody>\n",
              "</table>\n",
              "</div>"
            ],
            "text/plain": [
              "   id  ...                                          tokenized\n",
              "0   1  ...  [our, deeds, are, the, reason, of, this, earth...\n",
              "1   4  ...      [forest, fire, near, la, ronge, sask, canada]\n",
              "2   5  ...  [all, residents, asked, to, shelter, in, place...\n",
              "3   6  ...  [13000, people, receive, wildfires, evacuation...\n",
              "4   7  ...  [just, got, sent, this, photo, from, ruby, ala...\n",
              "\n",
              "[5 rows x 7 columns]"
            ]
          },
          "metadata": {},
          "execution_count": 10
        }
      ]
    },
    {
      "cell_type": "markdown",
      "metadata": {
        "id": "zyzfMC6_dKfR"
      },
      "source": [
        "<a id=\"Remove_Stop_Words\"></a>\n",
        "\n",
        "## Remove Stop Words (or/and Frequent words/ Rare words):\n",
        "Stop words are common words in any language that occur with a high frequency but do not deliver meaningful information for the whole sentence. For example, {“a”, “about”, “above”, “across”, “after”, “afterward”, “again”, ...} can be considered as stop words. Traditionally, we could remove all of them in the text preprocessing stage. However, refer to the example from the [Natural Language Processing in Action](https://www.manning.com/books/natural-language-processing-in-action) book: \n",
        "> * Mark reported to the CEO\n",
        "> * Suzanne reported as the CEO to the board \n",
        "\n",
        "> In your NLP pipeline, you might create 4-grams such as reported to the CEO and reported as the CEO. If you remove the stop words from the 4-grams, both examples would be reduced to \"reported CEO\", and you would lack the information about the professional hierarchy. In the first example, Mark could have been an assistant to the CEO, whereas in the second example Suzanne was the CEO reporting to the board. Unfortunately, retaining the stop words within your pipeline creates another problem: it increases the length of the n-grams required to make use of these connections formed by the otherwise meaningless stop words. This issue forces us to retain at least 4-grams if you want to avoid the ambiguity of the human resources example.\n",
        "> Designing a filter for stop words depends on your particular application.\n",
        "\n",
        "In short, removing stop words is a common method in NLP text preprocessing, whereas, it needs to be experimented carefully depending on different situations. \n"
      ]
    },
    {
      "cell_type": "code",
      "metadata": {
        "execution": {
          "iopub.execute_input": "2021-11-13T10:20:41.113323Z",
          "iopub.status.busy": "2021-11-13T10:20:41.113005Z",
          "iopub.status.idle": "2021-11-13T10:20:41.155762Z",
          "shell.execute_reply": "2021-11-13T10:20:41.155096Z",
          "shell.execute_reply.started": "2021-11-13T10:20:41.113297Z"
        },
        "colab": {
          "base_uri": "https://localhost:8080/",
          "height": 327
        },
        "id": "H8pl8XpGdKfR",
        "outputId": "bacacaa7-ac3b-4124-8d99-0df962045a48"
      },
      "source": [
        "# Remove stopwords from train_df['tokenized'] and save it in another column called 'stopwords_removed'\n",
        "# Hint: Use pandas apply function with lambda function (the way we did in previous cells) and you can use list\n",
        "# comprehension to remove stop words\n",
        "\n",
        "nltk.download(\"stopwords\")\n",
        "from nltk.corpus import stopwords\n",
        "\n",
        "stop = set(stopwords.words('english'))\n",
        "\n",
        "#complete code below\n",
        "train_df['stopwords_removed'] = train_df['tokenized'].apply(lambda x: [word for word in x if word not in stop])\n",
        "train_df.head()"
      ],
      "execution_count": 11,
      "outputs": [
        {
          "output_type": "stream",
          "name": "stdout",
          "text": [
            "[nltk_data] Downloading package stopwords to /root/nltk_data...\n",
            "[nltk_data]   Unzipping corpora/stopwords.zip.\n"
          ]
        },
        {
          "output_type": "execute_result",
          "data": {
            "text/html": [
              "<div>\n",
              "<style scoped>\n",
              "    .dataframe tbody tr th:only-of-type {\n",
              "        vertical-align: middle;\n",
              "    }\n",
              "\n",
              "    .dataframe tbody tr th {\n",
              "        vertical-align: top;\n",
              "    }\n",
              "\n",
              "    .dataframe thead th {\n",
              "        text-align: right;\n",
              "    }\n",
              "</style>\n",
              "<table border=\"1\" class=\"dataframe\">\n",
              "  <thead>\n",
              "    <tr style=\"text-align: right;\">\n",
              "      <th></th>\n",
              "      <th>id</th>\n",
              "      <th>keyword</th>\n",
              "      <th>location</th>\n",
              "      <th>text</th>\n",
              "      <th>target</th>\n",
              "      <th>text_clean</th>\n",
              "      <th>tokenized</th>\n",
              "      <th>stopwords_removed</th>\n",
              "    </tr>\n",
              "  </thead>\n",
              "  <tbody>\n",
              "    <tr>\n",
              "      <th>0</th>\n",
              "      <td>1</td>\n",
              "      <td>NaN</td>\n",
              "      <td>NaN</td>\n",
              "      <td>Our Deeds are the Reason of this #earthquake M...</td>\n",
              "      <td>1</td>\n",
              "      <td>our deeds are the reason of this earthquake ma...</td>\n",
              "      <td>[our, deeds, are, the, reason, of, this, earth...</td>\n",
              "      <td>[deeds, reason, earthquake, may, allah, forgiv...</td>\n",
              "    </tr>\n",
              "    <tr>\n",
              "      <th>1</th>\n",
              "      <td>4</td>\n",
              "      <td>NaN</td>\n",
              "      <td>NaN</td>\n",
              "      <td>Forest fire near La Ronge Sask. Canada</td>\n",
              "      <td>1</td>\n",
              "      <td>forest fire near la ronge sask canada</td>\n",
              "      <td>[forest, fire, near, la, ronge, sask, canada]</td>\n",
              "      <td>[forest, fire, near, la, ronge, sask, canada]</td>\n",
              "    </tr>\n",
              "    <tr>\n",
              "      <th>2</th>\n",
              "      <td>5</td>\n",
              "      <td>NaN</td>\n",
              "      <td>NaN</td>\n",
              "      <td>All residents asked to 'shelter in place' are ...</td>\n",
              "      <td>1</td>\n",
              "      <td>all residents asked to shelter in place are be...</td>\n",
              "      <td>[all, residents, asked, to, shelter, in, place...</td>\n",
              "      <td>[residents, asked, shelter, place, notified, o...</td>\n",
              "    </tr>\n",
              "    <tr>\n",
              "      <th>3</th>\n",
              "      <td>6</td>\n",
              "      <td>NaN</td>\n",
              "      <td>NaN</td>\n",
              "      <td>13,000 people receive #wildfires evacuation or...</td>\n",
              "      <td>1</td>\n",
              "      <td>13000 people receive wildfires evacuation orde...</td>\n",
              "      <td>[13000, people, receive, wildfires, evacuation...</td>\n",
              "      <td>[13000, people, receive, wildfires, evacuation...</td>\n",
              "    </tr>\n",
              "    <tr>\n",
              "      <th>4</th>\n",
              "      <td>7</td>\n",
              "      <td>NaN</td>\n",
              "      <td>NaN</td>\n",
              "      <td>Just got sent this photo from Ruby #Alaska as ...</td>\n",
              "      <td>1</td>\n",
              "      <td>just got sent this photo from ruby alaska as s...</td>\n",
              "      <td>[just, got, sent, this, photo, from, ruby, ala...</td>\n",
              "      <td>[got, sent, photo, ruby, alaska, smoke, wildfi...</td>\n",
              "    </tr>\n",
              "  </tbody>\n",
              "</table>\n",
              "</div>"
            ],
            "text/plain": [
              "   id  ...                                  stopwords_removed\n",
              "0   1  ...  [deeds, reason, earthquake, may, allah, forgiv...\n",
              "1   4  ...      [forest, fire, near, la, ronge, sask, canada]\n",
              "2   5  ...  [residents, asked, shelter, place, notified, o...\n",
              "3   6  ...  [13000, people, receive, wildfires, evacuation...\n",
              "4   7  ...  [got, sent, photo, ruby, alaska, smoke, wildfi...\n",
              "\n",
              "[5 rows x 8 columns]"
            ]
          },
          "metadata": {},
          "execution_count": 11
        }
      ]
    },
    {
      "cell_type": "markdown",
      "metadata": {
        "id": "AVIAwgb6dKfS"
      },
      "source": [
        "<a id=\"Stemming\"></a>\n",
        "\n",
        "## Stemming\n",
        "Stemming is a process of extracting a root word - identifying a common stem among various forms (e.g., singular and plural noun form) of a word, for example, the words \"gardening\", \"gardener\" or \"gardens\" share the same stem, garden. Stemming uproots suffixes from words to merge words with similar meanings under their standard stem.\n",
        "\n",
        "There are three major stemming algorithms in use nowadays:\n",
        "- **Porter** - PorterStemmer()): This stemming algorithm is an older one. It’s from the 1980s and its main concern is removing the common endings to words so that they can be resolved to a common form. It’s not too complex and development on it is frozen. Typically, it’s a nice starting basic stemmer, but it’s not really advised to use it for any production/complex application. Instead, it has its place in research as a nice, basic stemming algorithm that can guarantee reproducibility. It also is a very gentle stemming algorithm when compared to others.\n",
        "\n",
        "- **Snowball** -  SnowballStemmer(): This algorithm is also known as the Porter2 stemming algorithm. It is almost universally accepted as better than the Porter stemmer, even being acknowledged as such by the individual who created the Porter stemmer. That being said, it is also more aggressive than the Porter stemmer. A lot of the things added to the Snowball stemmer were because of issues noticed with the Porter stemmer. There is about a 5% difference in the way that Snowball stems versus Porter.\n",
        "\n",
        "- **Lancaster** -LancasterStemmer(): Just for fun, the Lancaster stemming algorithm is another algorithm that you can use. This one is the most aggressive stemming algorithm of the bunch. However, if you use the stemmer in NLTK, you can add your own custom rules to this algorithm very easily. It’s a good choice for that. One complaint around this stemming algorithm though is that it sometimes is overly aggressive and can really transform words into strange stems. Just make sure it does what you want it to before you go with this option!\n",
        "\n",
        "source: http://hunterheidenreich.com/blog/stemming-lemmatization-what/\n",
        "\n",
        "### PorterStemmer"
      ]
    },
    {
      "cell_type": "code",
      "metadata": {
        "execution": {
          "iopub.execute_input": "2021-11-13T10:20:41.157015Z",
          "iopub.status.busy": "2021-11-13T10:20:41.156792Z",
          "iopub.status.idle": "2021-11-13T10:20:41.162619Z",
          "shell.execute_reply": "2021-11-13T10:20:41.161640Z",
          "shell.execute_reply.started": "2021-11-13T10:20:41.156991Z"
        },
        "scrolled": true,
        "id": "5e7ja6B6dKfS"
      },
      "source": [
        "from nltk.stem import PorterStemmer\n",
        "\n",
        "def porter_stemmer(text):\n",
        "    \"\"\"\n",
        "        Stem words in list of tokenized words with PorterStemmer\n",
        "    \"\"\"\n",
        "    stemmer = nltk.PorterStemmer()\n",
        "    stems = [stemmer.stem(i) for i in text]\n",
        "    return stems\n",
        "train_df['porter_stemmer'] = train_df['stopwords_removed'].apply(lambda x: porter_stemmer(x))"
      ],
      "execution_count": 17,
      "outputs": []
    },
    {
      "cell_type": "markdown",
      "metadata": {
        "id": "xcoy_BGkdKfS"
      },
      "source": [
        "<a id=\"Lemmatization\"></a>\n",
        "\n",
        "## Lemmatization:\n",
        "According to the [Speech and Language Processing](https://web.stanford.edu/~jurafsky/slp3/ed3book.pdf) book:\n",
        "> Lemmatization is the task of determining that two words have the same root, despite their surface differences. The words am, are, and is have the shared lemma be; the words dinner and dinners both have the lemma dinner. Lemmatizing each of these forms to the same lemma will let us ﬁnd all mentions of words in Russian like Moscow. The lemmatized form of a sentence like He is reading detective stories would thus be He be read detective story.\n",
        "\n",
        "and the book [Natural Language Processing in Action](https://www.manning.com/books/natural-language-processing-in-action):\n",
        "> Some lemmatizers use the word’s part of speech (POS) tag in addition to its spelling to help improve accuracy. The POS tag for a word indicates its role in the grammar of a phrase or sentence. For example, the noun POS is for words that refer to “people, places, or things” within a phrase. An adjective POS is for a word that modifies or describes a noun. A verb refers to an action. The POS of a word in isolation cannot be determined. The context of a word must be known for its POS to be identified. So some advanced lemmatizers can’t be run-on words in isolation.\n",
        "\n",
        "For example, the \"good\", \"better\" or \"best\" is lemmatized into good and the verb \"gardening\" should be lemmatized to \"to garden\", while the \"garden\" and \"gardener\" are both different lemmas. In this notebook, we will also explore on both lemmatize on without POS-Tagging and POS-Tagging examples.\n"
      ]
    },
    {
      "cell_type": "markdown",
      "metadata": {
        "id": "qJXzm3tvdKfT"
      },
      "source": [
        "<a id=\"Lemmatization\"></a>\n",
        "\n",
        "### Lemmatization:\n"
      ]
    },
    {
      "cell_type": "code",
      "metadata": {
        "execution": {
          "iopub.execute_input": "2021-11-13T10:20:48.176982Z",
          "iopub.status.busy": "2021-11-13T10:20:48.176700Z",
          "iopub.status.idle": "2021-11-13T10:20:48.785702Z",
          "shell.execute_reply": "2021-11-13T10:20:48.784673Z",
          "shell.execute_reply.started": "2021-11-13T10:20:48.176953Z"
        },
        "colab": {
          "base_uri": "https://localhost:8080/",
          "height": 519
        },
        "id": "_BP6z0rxdKfT",
        "outputId": "c27c4f16-5557-42f0-cc55-f26437b27975"
      },
      "source": [
        "import nltk\n",
        "nltk.download('wordnet')\n",
        "from nltk.stem import WordNetLemmatizer\n",
        "lemmatizer = WordNetLemmatizer()\n",
        "#Apply lemmatization on train_df['stopwords_removed'] and save it in train_df['lemmatize_word']\n",
        "train_df['lemmatize_word'] = train_df['stopwords_removed'].apply(lambda x: [lemmatizer.lemmatize(word) for word in x])\n",
        "\n",
        "# Next, remove any newly formed stop words in train_df['lemmatize_word']\n",
        "train_df['lemmatize_word'] = train_df['lemmatize_word'].apply(lambda x: [word for word in x if word not in stop])\n",
        "\n",
        "#Joining the lemmatized tokens back to text\n",
        "train_df['lemmatize_text'] = [' '.join(map(str, l)) for l in train_df['lemmatize_word']] \n",
        "\n",
        "train_df.head()"
      ],
      "execution_count": 18,
      "outputs": [
        {
          "output_type": "stream",
          "name": "stdout",
          "text": [
            "[nltk_data] Downloading package wordnet to /root/nltk_data...\n",
            "[nltk_data]   Unzipping corpora/wordnet.zip.\n"
          ]
        },
        {
          "output_type": "execute_result",
          "data": {
            "text/html": [
              "<div>\n",
              "<style scoped>\n",
              "    .dataframe tbody tr th:only-of-type {\n",
              "        vertical-align: middle;\n",
              "    }\n",
              "\n",
              "    .dataframe tbody tr th {\n",
              "        vertical-align: top;\n",
              "    }\n",
              "\n",
              "    .dataframe thead th {\n",
              "        text-align: right;\n",
              "    }\n",
              "</style>\n",
              "<table border=\"1\" class=\"dataframe\">\n",
              "  <thead>\n",
              "    <tr style=\"text-align: right;\">\n",
              "      <th></th>\n",
              "      <th>id</th>\n",
              "      <th>keyword</th>\n",
              "      <th>location</th>\n",
              "      <th>text</th>\n",
              "      <th>target</th>\n",
              "      <th>text_clean</th>\n",
              "      <th>tokenized</th>\n",
              "      <th>stopwords_removed</th>\n",
              "      <th>porter_stemmer</th>\n",
              "      <th>lemmatize_word</th>\n",
              "      <th>lemmatize_text</th>\n",
              "    </tr>\n",
              "  </thead>\n",
              "  <tbody>\n",
              "    <tr>\n",
              "      <th>0</th>\n",
              "      <td>1</td>\n",
              "      <td>NaN</td>\n",
              "      <td>NaN</td>\n",
              "      <td>Our Deeds are the Reason of this #earthquake M...</td>\n",
              "      <td>1</td>\n",
              "      <td>our deeds are the reason of this earthquake ma...</td>\n",
              "      <td>[our, deeds, are, the, reason, of, this, earth...</td>\n",
              "      <td>[deeds, reason, earthquake, may, allah, forgiv...</td>\n",
              "      <td>[deed, reason, earthquak, may, allah, forgiv, us]</td>\n",
              "      <td>[deed, reason, earthquake, may, allah, forgive...</td>\n",
              "      <td>deed reason earthquake may allah forgive u</td>\n",
              "    </tr>\n",
              "    <tr>\n",
              "      <th>1</th>\n",
              "      <td>4</td>\n",
              "      <td>NaN</td>\n",
              "      <td>NaN</td>\n",
              "      <td>Forest fire near La Ronge Sask. Canada</td>\n",
              "      <td>1</td>\n",
              "      <td>forest fire near la ronge sask canada</td>\n",
              "      <td>[forest, fire, near, la, ronge, sask, canada]</td>\n",
              "      <td>[forest, fire, near, la, ronge, sask, canada]</td>\n",
              "      <td>[forest, fire, near, la, rong, sask, canada]</td>\n",
              "      <td>[forest, fire, near, la, ronge, sask, canada]</td>\n",
              "      <td>forest fire near la ronge sask canada</td>\n",
              "    </tr>\n",
              "    <tr>\n",
              "      <th>2</th>\n",
              "      <td>5</td>\n",
              "      <td>NaN</td>\n",
              "      <td>NaN</td>\n",
              "      <td>All residents asked to 'shelter in place' are ...</td>\n",
              "      <td>1</td>\n",
              "      <td>all residents asked to shelter in place are be...</td>\n",
              "      <td>[all, residents, asked, to, shelter, in, place...</td>\n",
              "      <td>[residents, asked, shelter, place, notified, o...</td>\n",
              "      <td>[resid, ask, shelter, place, notifi, offic, ev...</td>\n",
              "      <td>[resident, asked, shelter, place, notified, of...</td>\n",
              "      <td>resident asked shelter place notified officer ...</td>\n",
              "    </tr>\n",
              "    <tr>\n",
              "      <th>3</th>\n",
              "      <td>6</td>\n",
              "      <td>NaN</td>\n",
              "      <td>NaN</td>\n",
              "      <td>13,000 people receive #wildfires evacuation or...</td>\n",
              "      <td>1</td>\n",
              "      <td>13000 people receive wildfires evacuation orde...</td>\n",
              "      <td>[13000, people, receive, wildfires, evacuation...</td>\n",
              "      <td>[13000, people, receive, wildfires, evacuation...</td>\n",
              "      <td>[13000, peopl, receiv, wildfir, evacu, order, ...</td>\n",
              "      <td>[13000, people, receive, wildfire, evacuation,...</td>\n",
              "      <td>13000 people receive wildfire evacuation order...</td>\n",
              "    </tr>\n",
              "    <tr>\n",
              "      <th>4</th>\n",
              "      <td>7</td>\n",
              "      <td>NaN</td>\n",
              "      <td>NaN</td>\n",
              "      <td>Just got sent this photo from Ruby #Alaska as ...</td>\n",
              "      <td>1</td>\n",
              "      <td>just got sent this photo from ruby alaska as s...</td>\n",
              "      <td>[just, got, sent, this, photo, from, ruby, ala...</td>\n",
              "      <td>[got, sent, photo, ruby, alaska, smoke, wildfi...</td>\n",
              "      <td>[got, sent, photo, rubi, alaska, smoke, wildfi...</td>\n",
              "      <td>[got, sent, photo, ruby, alaska, smoke, wildfi...</td>\n",
              "      <td>got sent photo ruby alaska smoke wildfire pour...</td>\n",
              "    </tr>\n",
              "  </tbody>\n",
              "</table>\n",
              "</div>"
            ],
            "text/plain": [
              "   id  ...                                     lemmatize_text\n",
              "0   1  ...         deed reason earthquake may allah forgive u\n",
              "1   4  ...              forest fire near la ronge sask canada\n",
              "2   5  ...  resident asked shelter place notified officer ...\n",
              "3   6  ...  13000 people receive wildfire evacuation order...\n",
              "4   7  ...  got sent photo ruby alaska smoke wildfire pour...\n",
              "\n",
              "[5 rows x 11 columns]"
            ]
          },
          "metadata": {},
          "execution_count": 18
        }
      ]
    },
    {
      "cell_type": "code",
      "metadata": {
        "execution": {
          "iopub.execute_input": "2021-11-13T10:20:49.466150Z",
          "iopub.status.busy": "2021-11-13T10:20:49.465755Z",
          "iopub.status.idle": "2021-11-13T10:20:49.473793Z",
          "shell.execute_reply": "2021-11-13T10:20:49.472384Z",
          "shell.execute_reply.started": "2021-11-13T10:20:49.466110Z"
        },
        "colab": {
          "base_uri": "https://localhost:8080/"
        },
        "id": "8hrCU058dKfT",
        "outputId": "85ae1263-18ce-4549-ac01-331bba597d7f"
      },
      "source": [
        "#comparison between original text and lemmatized text\n",
        "\n",
        "print(train_df[\"text\"][8])\n",
        "print(train_df[\"lemmatize_word\"][8])\n"
      ],
      "execution_count": 19,
      "outputs": [
        {
          "output_type": "stream",
          "name": "stdout",
          "text": [
            "There's an emergency evacuation happening now in the building across the street\n",
            "['emergency', 'evacuation', 'happening', 'building', 'across', 'street']\n"
          ]
        }
      ]
    },
    {
      "cell_type": "markdown",
      "metadata": {
        "id": "sNlkOezBdKfT"
      },
      "source": [
        "Comparison between original text and the lammatized text:"
      ]
    },
    {
      "cell_type": "code",
      "metadata": {
        "execution": {
          "iopub.execute_input": "2021-11-13T10:20:49.475416Z",
          "iopub.status.busy": "2021-11-13T10:20:49.475133Z",
          "iopub.status.idle": "2021-11-13T10:20:49.508126Z",
          "shell.execute_reply": "2021-11-13T10:20:49.507045Z",
          "shell.execute_reply.started": "2021-11-13T10:20:49.475386Z"
        },
        "colab": {
          "base_uri": "https://localhost:8080/",
          "height": 197
        },
        "id": "nUT0FUlqdKfT",
        "outputId": "16a9abe6-6587-49a6-ac16-87166ffe1094"
      },
      "source": [
        "display(train_df[\"text\"][0], train_df[\"lemmatize_text\"][0])\n",
        "display(train_df[\"text\"][5], train_df[\"lemmatize_text\"][5])\n",
        "display(train_df[\"text\"][10], train_df[\"lemmatize_text\"][10])\n",
        "display(train_df[\"text\"][15], train_df[\"lemmatize_text\"][15])\n",
        "display(train_df[\"text\"][20], train_df[\"lemmatize_text\"][20])"
      ],
      "execution_count": 20,
      "outputs": [
        {
          "output_type": "display_data",
          "data": {
            "application/vnd.google.colaboratory.intrinsic+json": {
              "type": "string"
            },
            "text/plain": [
              "'Our Deeds are the Reason of this #earthquake May ALLAH Forgive us all'"
            ]
          },
          "metadata": {}
        },
        {
          "output_type": "display_data",
          "data": {
            "application/vnd.google.colaboratory.intrinsic+json": {
              "type": "string"
            },
            "text/plain": [
              "'deed reason earthquake may allah forgive u'"
            ]
          },
          "metadata": {}
        },
        {
          "output_type": "display_data",
          "data": {
            "application/vnd.google.colaboratory.intrinsic+json": {
              "type": "string"
            },
            "text/plain": [
              "'#RockyFire Update => California Hwy. 20 closed in both directions due to Lake County fire - #CAfire #wildfires'"
            ]
          },
          "metadata": {}
        },
        {
          "output_type": "display_data",
          "data": {
            "application/vnd.google.colaboratory.intrinsic+json": {
              "type": "string"
            },
            "text/plain": [
              "'rockyfire update california hwy 20 closed direction due lake county fire cafire wildfire'"
            ]
          },
          "metadata": {}
        },
        {
          "output_type": "display_data",
          "data": {
            "application/vnd.google.colaboratory.intrinsic+json": {
              "type": "string"
            },
            "text/plain": [
              "'Three people died from the heat wave so far'"
            ]
          },
          "metadata": {}
        },
        {
          "output_type": "display_data",
          "data": {
            "application/vnd.google.colaboratory.intrinsic+json": {
              "type": "string"
            },
            "text/plain": [
              "'three people died heat wave far'"
            ]
          },
          "metadata": {}
        },
        {
          "output_type": "display_data",
          "data": {
            "application/vnd.google.colaboratory.intrinsic+json": {
              "type": "string"
            },
            "text/plain": [
              "\"What's up man?\""
            ]
          },
          "metadata": {}
        },
        {
          "output_type": "display_data",
          "data": {
            "application/vnd.google.colaboratory.intrinsic+json": {
              "type": "string"
            },
            "text/plain": [
              "'whats man'"
            ]
          },
          "metadata": {}
        },
        {
          "output_type": "display_data",
          "data": {
            "application/vnd.google.colaboratory.intrinsic+json": {
              "type": "string"
            },
            "text/plain": [
              "'this is ridiculous....'"
            ]
          },
          "metadata": {}
        },
        {
          "output_type": "display_data",
          "data": {
            "application/vnd.google.colaboratory.intrinsic+json": {
              "type": "string"
            },
            "text/plain": [
              "'ridiculous'"
            ]
          },
          "metadata": {}
        }
      ]
    },
    {
      "cell_type": "markdown",
      "metadata": {
        "id": "LFF_UzVTdKfU"
      },
      "source": [
        "# Text Features Extraction:\n",
        "\n",
        "## Weighted Words - Bag of Words (BoW) - Bag of n-grams:\n",
        "**Watch this video: https://www.youtube.com/watch?v=IKgBLTeQQL8**\n",
        "\n",
        "* N-gram is a sequence that contains n-elements (characters, words, etc). A single word such a \"apple\", \"orange\" is a Uni-gram; hence, \"red apple\" \"big orange\" is bi-gram and \"red ripped apple\", \"big orange bag\" is tri-gram. \n",
        "* Bags of words: Vectors of word counts or frequencies \n",
        "* Bags of n-grams: Counts of word pairs (bigrams), triplets (trigrams), and so on\n",
        "\n",
        "> The bag-of-words/ bag-of-n-gram model is a reduced and simpliﬁed representation of a text document from selected parts of the text, based on speciﬁc criteria, such as word frequency.\n",
        "> \n",
        "> In a BoW, a body of text, such as a document or a sentence, is thought of like a bag of words. Lists of words are created in the BoW process. These words in a matrix are not sentences which structure sentences and grammar, and the semantic relationship between these words are ignored in their collection and construction. The words are often representative of the content of a sentence. While grammar and order of appearance are ignored, multiplicity is counted and may be used later to determine the focus points of the documents.\n",
        "> \n",
        "> Example:\n",
        "> Document\n",
        "> \n",
        "> “As the home to UVA’s recognized undergraduate and graduate degree programs in systems engineering. In the UVA Department of Systems and Information Engineering, our students are exposed to a wide range of range”\n",
        "> \n",
        "> Bag-of-Words (BoW):\n",
        "> {“As”, “the”, “home”, “to”, “UVA’s”, “recognized”, “undergraduate”, “and”, “graduate”, “degree”, “program”, “in”, “systems”, “engineering”, “in”, “Department”, “Information”,“students”, “ ”,“are”, “exposed”, “wide”, “range” }\n",
        "> \n",
        "> Bag-of-Feature (BoF)\n",
        "> Feature = {1,1,1,3,2,1,2,1,2,3,1,1,1,2,1,1,1,1,1,1}\n",
        "\n",
        "### Frequency Vectors - CountVectorizer:\n",
        "We will implement the Bag of Words/ Bag of n-grams text representation via sklearn - CountVectorizer function.\n",
        "The code will test with a sample corpus of the first five sentence of the dataset, then print out the output of uni-gram, bi-gram and tri-gram. Finaly, we also run on the whole dataset.\n",
        "\n"
      ]
    },
    {
      "cell_type": "code",
      "metadata": {
        "execution": {
          "iopub.execute_input": "2021-11-13T10:20:49.510031Z",
          "iopub.status.busy": "2021-11-13T10:20:49.509756Z",
          "iopub.status.idle": "2021-11-13T10:20:49.517122Z",
          "shell.execute_reply": "2021-11-13T10:20:49.516090Z",
          "shell.execute_reply.started": "2021-11-13T10:20:49.510003Z"
        },
        "scrolled": true,
        "colab": {
          "base_uri": "https://localhost:8080/"
        },
        "id": "ZgpIZMatdKfU",
        "outputId": "bb0f75cb-ce46-4d81-9128-101e3ae61f2b"
      },
      "source": [
        "from sklearn.feature_extraction.text import CountVectorizer\n",
        "\n",
        "# implement CountVectorizer for 1-gram, 2-gram and 3-gram on train_df[\"lemmatize_text\"].tolist()\n",
        "\n",
        "def cv(data, ngram = 1, MAX_NB_WORDS = 75000):\n",
        "    \"\"\"\n",
        "        return transformed_dataset, CountVectorizer_object\n",
        "    \"\"\"\n",
        "    count_vectorizer = CountVectorizer(ngram_range = (ngram, ngram), max_features = MAX_NB_WORDS)\n",
        "    emb = count_vectorizer.fit_transform(data).toarray()\n",
        "    print(\"count vectorize with\", str(np.array(emb).shape[1]), \"features\")\n",
        "    return emb, count_vectorizer\n",
        "    pass\n",
        "\n",
        "\n",
        "# applying 1-gram, 2-gram and 3-gram into the whole dataset\n",
        "\n",
        "train_df_corpus = train_df[\"lemmatize_text\"].tolist()\n",
        "train_df_em_1gram, cv_1gram = cv(train_df_corpus, ngram=1)\n",
        "train_df_em_2gram, cv_2gram = cv(train_df_corpus, ngram=2)\n",
        "train_df_em_3gram, cv_3gram = cv(train_df_corpus, ngram=3)\n",
        "\n",
        "print(len(train_df_corpus))\n",
        "print(train_df_em_1gram.shape)\n",
        "print(train_df_em_2gram.shape)\n",
        "print(train_df_em_3gram.shape)"
      ],
      "execution_count": 23,
      "outputs": [
        {
          "output_type": "stream",
          "name": "stdout",
          "text": [
            "count vectorize with 16295 features\n",
            "count vectorize with 47133 features\n",
            "count vectorize with 45042 features\n",
            "7613\n",
            "(7613, 16295)\n",
            "(7613, 47133)\n",
            "(7613, 45042)\n"
          ]
        }
      ]
    },
    {
      "cell_type": "markdown",
      "metadata": {
        "id": "ZNybakJZdKfU"
      },
      "source": [
        "<a id=\"TF_IDF\"></a>\n",
        "\n",
        "### Term Frequency-Inverse Document Frequency (TF-IDF):\n",
        "**Watch this video: https://www.youtube.com/watch?v=D2V1okCEsiE**\n",
        "> The Inverse Document Frequency (IDF) as a method to be used in conjunction with term frequency in order to lessen the effect of implicitly common words in the corpus. IDF assigns a higher weight to words with either high or low frequencies term in the document. This combination of TF and IDF is well known as Term Frequency-Inverse document frequency (TF-IDF). The mathematical representation of the weight of a term in a document by TF-IDF is given in Equation: \n",
        "> $$ W(d,t) = TF(d,t) * log \\frac{N}{df(t)}$$\n",
        "> Here N is the number of documents and $df(t)$ is the number of documents containing the term t in the corpus. The ﬁrst term in the equation improves the recall while the second term improves the precision of the word embedding. Although TF-IDF tries to overcome the problem of common terms in the document, it still suffers from some other descriptive limitations. Namely, TF-IDF cannot account for the similarity between the words in the document since each word is independently presented as an index. However, with the development of more complex models in recent years, new methods, such as word embedding, have been presented that can incorporate concepts such as similarity of words and part of speech tagging.\n",
        "\n",
        "(source: [Text Classification Algorithms: A Survey](https://arxiv.org/abs/1904.08067))\n",
        "\n",
        "We also implement the TF-IDF via sklearn TfidfVectorizer function, the experiments are similar to the previous section\n",
        "\n"
      ]
    },
    {
      "cell_type": "code",
      "metadata": {
        "execution": {
          "iopub.execute_input": "2021-11-13T10:20:52.328871Z",
          "iopub.status.busy": "2021-11-13T10:20:52.328590Z",
          "iopub.status.idle": "2021-11-13T10:20:52.345690Z",
          "shell.execute_reply": "2021-11-13T10:20:52.343526Z",
          "shell.execute_reply.started": "2021-11-13T10:20:52.328842Z"
        },
        "scrolled": true,
        "colab": {
          "base_uri": "https://localhost:8080/"
        },
        "id": "s9HhZaoxdKfU",
        "outputId": "23b3e56b-7dc6-42d9-bf18-eeb7f609625b"
      },
      "source": [
        "from sklearn.feature_extraction.text import TfidfVectorizer\n",
        "\n",
        "#implement tfid vectorizer for ngram=1, on train_df[\"lemmatize_text\"].tolist() and print its shape\n",
        "def TFIDF(data, ngram = 1, MAX_NB_WORDS = 75000):\n",
        "    \"\"\"\n",
        "        return transformed_dataset, TfidfVectorizer_object\n",
        "    \"\"\"\n",
        "    tfidf_x = TfidfVectorizer(ngram_range = (ngram, ngram), max_features = MAX_NB_WORDS)\n",
        "    emb = tfidf_x.fit_transform(data).toarray()\n",
        "    print(\"tf-idf with\", str(np.array(emb).shape[1]), \"features\")\n",
        "    return emb, tfidf_x\n",
        "    pass\n",
        "\n",
        "train_df_corpus = train_df[\"lemmatize_text\"].tolist()\n",
        "train_df_tfidf_1gram, tfidf_1gram = TFIDF(train_df_corpus, 1)\n",
        "\n",
        "print(len(train_df_corpus))\n",
        "print(train_df_tfidf_1gram.shape)"
      ],
      "execution_count": 25,
      "outputs": [
        {
          "output_type": "stream",
          "name": "stdout",
          "text": [
            "tf-idf with 16295 features\n",
            "7613\n",
            "(7613, 16295)\n"
          ]
        }
      ]
    },
    {
      "cell_type": "markdown",
      "metadata": {
        "id": "vXRh0bOGdKfU"
      },
      "source": [
        "<a id=\"Word_Embedding\"></a>\n",
        "\n",
        "## Word Embedding:\n",
        "\n",
        "> **Word vectors** are numerical vector representations of word semantics, or meaning, including literal and implied meaning. So word vectors can capture the connotation of words, like “peopleness,” “animalness,” “placeness,” “thingness,” and even “conceptness.” And they combine all that into a dense vector (no zeros) of floating point values. This dense vector enables queries and logical reasoning.\n",
        "\n",
        "(source: [Natural Language Processing in Action](https://www.manning.com/books/natural-language-processing-in-action))\n",
        "\n",
        "> Even though we have syntactic word representations, it does not mean that the model captures the semantics meaning of the words. On the other hand, bag-of-word models do not respect the semantics of the word. For example, words “airplane”, “aeroplane”, “plane”, and “aircraft” are often used in the same context. However, the vectors corresponding to these words are orthogonal in the bag-of-words model. This issue presents a serious problem to understanding sentences within the model. The other problem in the bag-of-word is that the order of words in the phrase is not respected. The n-gram does not solve this problem so a similarity needs to be found for each word in the sentence. Many researchers worked on word embedding to solve this problem. The Word2Vec propose a simple single-layer architecture based on the inner product between two word vectors.\n",
        "\n",
        "> Word embedding is a feature learning technique in which each word or phrase from the vocabulary is mapped to a N dimension vector of real numbers. Various word embedding methods have been proposed to translate unigrams into understandable input for machine learning algorithms. This work focuses on Word2Vec, GloVe, and FastText, three of the most common methods that have been successfully used for deep learning techniques.\n",
        "\n",
        "(source: [Text Classification Algorithms: A Survey](https://arxiv.org/abs/1904.08067))\n",
        "\n",
        "<a id=\"Basic_Word_Embedding\"></a>\n",
        "### Basic Word Embedding Methods:\n",
        "\n",
        "**Watch this video: https://www.youtube.com/watch?v=pO_6Jk0QtKw**\n",
        "#### Word2Vec:\n",
        "\n",
        "[T. Mikolov et al.](https://papers.nips.cc/paper/5021-distributed-representations-of-words-and-phrases-and-their-compositionality.pdf) presented the Word2vec in 2013, which learns the meaning of words merely by processing a large corpus of unlabeled text. The Word2Vec approach uses shallow neural networks with two hidden layers, continuous bag-of-words (CBOW), and the Skip-gram model to create a high dimension vector for each word. This unsupervised nature of Word2vec is what makes it so powerful. The world is full of unlabeled, uncategorized, unstructured natural language text.\n",
        "\n",
        "We will implement the Word2vec via gensim libary \n"
      ]
    },
    {
      "cell_type": "code",
      "metadata": {
        "execution": {
          "iopub.execute_input": "2021-11-13T10:20:54.904469Z",
          "iopub.status.busy": "2021-11-13T10:20:54.904142Z",
          "iopub.status.idle": "2021-11-13T10:20:57.389866Z",
          "shell.execute_reply": "2021-11-13T10:20:57.389040Z",
          "shell.execute_reply.started": "2021-11-13T10:20:54.904438Z"
        },
        "scrolled": true,
        "colab": {
          "base_uri": "https://localhost:8080/"
        },
        "id": "wdYEQP4AdKfV",
        "outputId": "e1ef087b-56c7-488c-b162-9c76a69ba107"
      },
      "source": [
        "import gensim\n",
        "import gensim\n",
        "document = train_df[\"lemmatize_word\"].tolist()\n",
        "\n",
        "# train the Word2vec model on train_df[\"lemmatize_word\"].tolist()\n",
        "model = gensim.models.Word2Vec(document, min_count=10, window=5, size=100)\n",
        "\n",
        "# print summary of the model\n",
        "print(model)\n",
        "\n",
        "# print vector for any one word\n",
        "model.wv['fire']"
      ],
      "execution_count": 26,
      "outputs": [
        {
          "output_type": "stream",
          "name": "stdout",
          "text": [
            "Word2Vec(vocab=1427, size=100, alpha=0.025)\n"
          ]
        },
        {
          "output_type": "execute_result",
          "data": {
            "text/plain": [
              "array([-0.19220199, -0.5405911 ,  0.43023258, -0.02842685, -0.3172025 ,\n",
              "       -0.10305621, -0.41462448,  0.28046545,  0.4202863 ,  0.15185636,\n",
              "       -0.57750475,  0.53341424, -0.11585369,  0.2266584 ,  0.27977067,\n",
              "       -0.21745577, -0.5974042 , -0.03678155, -0.50224185,  0.11850125,\n",
              "       -0.12702794,  0.4432111 ,  0.72721213,  0.4929953 ,  0.31282175,\n",
              "        0.26156136, -0.46056315, -0.02576142, -0.6724269 ,  0.02154484,\n",
              "        0.15733124, -0.4719381 ,  0.01966146, -0.45633656,  0.3619359 ,\n",
              "       -0.04409145,  0.01418796, -0.07278287,  0.0441535 , -0.41483533,\n",
              "        0.12401257, -0.4797339 ,  0.13219647, -0.00489528, -0.16543126,\n",
              "        0.21277441,  0.13039365,  0.15622243, -0.12217917,  0.01076953,\n",
              "        0.0394014 ,  0.24209464, -0.12377664,  0.30720386,  0.40144312,\n",
              "       -0.24107486, -0.02807987, -0.6003087 ,  0.24991542, -0.2490169 ,\n",
              "       -0.7315885 , -0.39790365,  0.26306608,  0.22124352,  0.18506536,\n",
              "        0.5138926 , -0.2469701 , -0.32497966, -0.19490245,  0.00811525,\n",
              "       -0.08522518,  0.4608116 , -0.5435288 ,  0.17061134, -0.13927203,\n",
              "       -0.10120864, -0.55457956, -0.4303301 , -0.27315775,  0.73278373,\n",
              "       -0.5057725 ,  0.7415203 ,  0.14817013,  0.7185308 , -0.02070374,\n",
              "        0.29874837, -0.35331464, -0.04463555,  0.05148362, -0.21216507,\n",
              "       -0.51103514,  0.11763307,  0.52605623,  0.12605323, -0.03376333,\n",
              "        0.14174244, -0.00876904,  0.03905424, -0.18764867,  0.3053185 ],\n",
              "      dtype=float32)"
            ]
          },
          "metadata": {},
          "execution_count": 26
        }
      ]
    },
    {
      "cell_type": "code",
      "metadata": {
        "execution": {
          "iopub.execute_input": "2021-11-13T10:20:57.391319Z",
          "iopub.status.busy": "2021-11-13T10:20:57.391049Z",
          "iopub.status.idle": "2021-11-13T10:20:57.396403Z",
          "shell.execute_reply": "2021-11-13T10:20:57.395837Z",
          "shell.execute_reply.started": "2021-11-13T10:20:57.391291Z"
        },
        "colab": {
          "base_uri": "https://localhost:8080/"
        },
        "id": "JhaABTVwdKfV",
        "outputId": "baad1c6a-cc59-4136-e4ea-68849af4a59f"
      },
      "source": [
        "#print the similarity between any two words in the dataset\n",
        "model.wv.similarity('fire','smoke')"
      ],
      "execution_count": 27,
      "outputs": [
        {
          "output_type": "execute_result",
          "data": {
            "text/plain": [
              "0.9997332"
            ]
          },
          "metadata": {},
          "execution_count": 27
        }
      ]
    },
    {
      "cell_type": "markdown",
      "metadata": {
        "id": "59ZQQWmUdKfV"
      },
      "source": [
        "<a id=\"GloVe\"></a>\n",
        "\n",
        "#### Global Vectors for Word Representation (GloVe):\n",
        "> Another powerful word embedding technique that has been used for text classiﬁcation is [Global Vectors (GloVe)](https://nlp.stanford.edu/pubs/glove.pdf). The approach is very similar to the Word2Vec method, where each word is presented by a high dimension vector and trained based on the surrounding words over a huge corpus. The pre-trained word embedding used in many works is based on 400,000 vocabularies trained over Wikipedia 2014 and Gigaword 5 as the corpus and 50 dimensions for word presentation. GloVe also provides other pre-trained word vectorizations with 100, 200, 300 dimensions which are trained over even bigger corpora, including Twitter content.\n",
        "\n",
        "We will create our GloVe's sentence embeddings  via gensim libary with the pre-trained word vectors on the dataset from Wikipedia 2014 + Gigaword 5 (source: https://github.com/stanfordnlp/GloVe) and see the embedding output on the sample sentence from the our dataset. \n",
        "\n",
        "\n"
      ]
    },
    {
      "cell_type": "code",
      "metadata": {
        "execution": {
          "iopub.execute_input": "2021-11-13T10:20:58.560808Z",
          "iopub.status.busy": "2021-11-13T10:20:58.560428Z",
          "iopub.status.idle": "2021-11-13T10:22:43.013605Z",
          "shell.execute_reply": "2021-11-13T10:22:43.012543Z",
          "shell.execute_reply.started": "2021-11-13T10:20:58.560780Z"
        },
        "scrolled": true,
        "id": "YrLxJC9rdKfV"
      },
      "source": [
        "from gensim.scripts.glove2word2vec import glove2word2vec\n",
        "import gensim\n",
        "#download glove embeddings from: https://www.kaggle.com/anindya2906/glove6b and save it in the same folder as this task\n",
        "\n",
        "glove_input_file = \"/content/gdrive/My Drive/synapse_w7/glove.6B.100d.txt\" #if you have named the file differently, then make changes here\n",
        "word2vec_output_file = \"glove.6B.100d.txt.word2vec\"\n",
        "glove2word2vec(glove_input_file, word2vec_output_file) #converting glove_input_file in word format to word2vec format\n",
        "\n",
        "glove_model = gensim.models.KeyedVectors.load_word2vec_format(word2vec_output_file, binary=False, limit=200000) "
      ],
      "execution_count": 30,
      "outputs": []
    },
    {
      "cell_type": "markdown",
      "metadata": {
        "id": "5L42vll3dKfW"
      },
      "source": [
        "Compare the similarity between \"cat\" vs. \"kitten\" and \"cat\" vs. \"cats\" from GloVe"
      ]
    },
    {
      "cell_type": "code",
      "metadata": {
        "execution": {
          "iopub.execute_input": "2021-11-13T10:22:43.014821Z",
          "iopub.status.busy": "2021-11-13T10:22:43.014607Z",
          "iopub.status.idle": "2021-11-13T10:22:43.022062Z",
          "shell.execute_reply": "2021-11-13T10:22:43.021216Z",
          "shell.execute_reply.started": "2021-11-13T10:22:43.014799Z"
        },
        "colab": {
          "base_uri": "https://localhost:8080/"
        },
        "id": "IrQk3cFxdKfW",
        "outputId": "5fa22844-5cda-42fb-c0e0-acd93a513513"
      },
      "source": [
        "# Compare the similarity between \"cat\" vs. \"kitten\" and \"cat\" vs. \"cats\" from the GloVe Model\n",
        "print(glove_model.wv.similarity('cat','kitten'))\n",
        "print(glove_model.wv.similarity('cat','cats'))"
      ],
      "execution_count": 31,
      "outputs": [
        {
          "output_type": "stream",
          "name": "stdout",
          "text": [
            "0.55805016\n",
            "0.7323004\n"
          ]
        },
        {
          "output_type": "stream",
          "name": "stderr",
          "text": [
            "/usr/local/lib/python3.7/dist-packages/ipykernel_launcher.py:2: DeprecationWarning: Call to deprecated `wv` (Attribute will be removed in 4.0.0, use self instead).\n",
            "  \n",
            "/usr/local/lib/python3.7/dist-packages/ipykernel_launcher.py:3: DeprecationWarning: Call to deprecated `wv` (Attribute will be removed in 4.0.0, use self instead).\n",
            "  This is separate from the ipykernel package so we can avoid doing imports until\n"
          ]
        }
      ]
    },
    {
      "cell_type": "markdown",
      "metadata": {
        "id": "S94HDAkDdKfW"
      },
      "source": [
        "## T-SNE"
      ]
    },
    {
      "cell_type": "markdown",
      "metadata": {
        "id": "-LLUcOmRdKfW"
      },
      "source": [
        "**Watch This Video: https://www.youtube.com/watch?v=NEaUSP4YerM**<br>\n",
        "Now, lets visualize some of our embeddings. To plot embeddings with a dimensionality of 100 or more, we first need to map them to a dimensionality of 2. We do this with the popular t-SNE method. T-SNE, short for t-distributed Stochastic Neighbor Embedding, helps us visualize high-dimensional data by mapping similar data to nearby points and dissimilar data to distance points in the low-dimensional space.\n",
        "\n",
        "T-SNE is present in Scikit-learn. To run it, we just have to specify the number of dimensions we'd like to map the data to (n_components), and the similarity metric that t-SNE should use to compute the similarity between two data points (metric). We're going to map to 2 dimensions and use the cosine as our similarity metric. Additionally, we use PCA as an initialization method to remove some noise and speed up computation. The Scikit-learn user guide contains some additional tips for optimizing performance.\n",
        "\n",
        "Plotting all the embeddings in our vector space would result in a very crowded figure where the labels are hardly legible. Therefore we'll focus on a subset of embeddings by selecting the 200 most similar words to a target word.\n",
        "\n"
      ]
    },
    {
      "cell_type": "code",
      "metadata": {
        "colab": {
          "base_uri": "https://localhost:8080/"
        },
        "id": "vrcuo61_dKfW",
        "outputId": "6765c319-0931-42f6-ed18-963bf5073343"
      },
      "source": [
        "#tSNE\n",
        "import pandas as pd\n",
        "import matplotlib\n",
        "import matplotlib.pyplot as plt\n",
        "\n",
        "from sklearn.manifold import TSNE\n",
        "\n",
        "target_word = \"body\"\n",
        "selected_words = [w[0] for w in model.wv.most_similar(positive=[target_word], topn=200)] + [target_word]\n",
        "embeddings = [model.wv[w] for w in selected_words] + model.wv[\"body\"]\n",
        "\n",
        "mapped_embeddings = TSNE(n_components=2, metric='cosine', init='pca').fit_transform(embeddings)"
      ],
      "execution_count": 32,
      "outputs": [
        {
          "output_type": "stream",
          "name": "stderr",
          "text": [
            "/usr/local/lib/python3.7/dist-packages/sklearn/manifold/_t_sne.py:793: FutureWarning: The default learning rate in TSNE will change from 200.0 to 'auto' in 1.2.\n",
            "  FutureWarning,\n",
            "/usr/local/lib/python3.7/dist-packages/sklearn/manifold/_t_sne.py:827: FutureWarning: 'square_distances' has been introduced in 0.24 to help phase out legacy squaring behavior. The 'legacy' setting will be removed in 1.1 (renaming of 0.26), and the default setting will be changed to True. In 1.3, 'square_distances' will be removed altogether, and distances will be squared by default. Set 'square_distances'=True to silence this warning.\n",
            "  FutureWarning,\n",
            "/usr/local/lib/python3.7/dist-packages/sklearn/manifold/_t_sne.py:986: FutureWarning: The PCA initialization in TSNE will change to have the standard deviation of PC1 equal to 1e-4 in 1.2. This will ensure better convergence.\n",
            "  FutureWarning,\n"
          ]
        }
      ]
    },
    {
      "cell_type": "code",
      "metadata": {
        "colab": {
          "base_uri": "https://localhost:8080/",
          "height": 1000
        },
        "id": "NN18mT1bdKfW",
        "outputId": "292306ce-5b9f-444e-bc78-62266e9962dd"
      },
      "source": [
        "plt.figure(figsize=(20,20))\n",
        "x = mapped_embeddings[:,0]\n",
        "y = mapped_embeddings[:,1]\n",
        "plt.scatter(x, y)\n",
        "\n",
        "for i, txt in enumerate(selected_words):\n",
        "    plt.annotate(txt, (x[i], y[i]))"
      ],
      "execution_count": 33,
      "outputs": [
        {
          "output_type": "display_data",
          "data": {
            "image/png": "[encoded data removed]",
            "text/plain": [
              "<Figure size 1440x1440 with 1 Axes>"
            ]
          },
          "metadata": {
            "needs_background": "light"
          }
        }
      ]
    }
  ]
}