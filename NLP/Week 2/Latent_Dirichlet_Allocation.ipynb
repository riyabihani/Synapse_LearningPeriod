{
  "nbformat": 4,
  "nbformat_minor": 0,
  "metadata": {
    "kernelspec": {
      "display_name": "Python 3",
      "language": "python",
      "name": "python3"
    },
    "language_info": {
      "codemirror_mode": {
        "name": "ipython",
        "version": 3
      },
      "file_extension": ".py",
      "mimetype": "text/x-python",
      "name": "python",
      "nbconvert_exporter": "python",
      "pygments_lexer": "ipython3",
      "version": "3.6.12"
    },
    "colab": {
      "name": "Latent_Dirichlet_Allocation.ipynb",
      "provenance": []
    }
  },
  "cells": [
    {
      "cell_type": "markdown",
      "metadata": {
        "id": "PlPi9qBcbVXE"
      },
      "source": [
        "## Latent Dirichlet Allocation ##\n",
        "**Watch these videos:**\n",
        "- https://www.youtube.com/watch?v=azXCzI57Yfc\n",
        "- https://www.youtube.com/watch?v=T05t-SqKArY\n",
        "- https://www.youtube.com/watch?v=BaM1uiCpj_E\n",
        "\n",
        "LDA is used to classify text in a document to a particular topic. It builds a topic per document model and words per topic model, modeled as Dirichlet distributions. \n",
        "\n",
        "* Each document is modeled as a multinomial distribution of topics and each topic is modeled as a multinomial distribution of words.\n",
        "* LDA assumes that the every chunk of text we feed into it will contain words that are somehow related. Therefore choosing the right corpus of data is crucial. \n",
        "* It also assumes documents are produced from a mixture of topics. Those topics then generate words based on their probability distribution. "
      ]
    },
    {
      "cell_type": "markdown",
      "metadata": {
        "id": "yq4OmLGdbVXI"
      },
      "source": [
        "## Step 1: Load the dataset\n",
        "\n",
        "The dataset we'll use is a list of over one million news headlines published over a period of 15 years. We'll start by loading it from the `abcnews-date-text.csv` file."
      ]
    },
    {
      "cell_type": "code",
      "metadata": {
        "colab": {
          "base_uri": "https://localhost:8080/"
        },
        "id": "piBgegR1bVXJ",
        "outputId": "243f283e-19b2-48af-abb1-f9d890c46efb"
      },
      "source": [
        "'''\n",
        "Load the dataset from the CSV and save it to 'data_text'. We only need the'headline_text' column,\n",
        "so drop the rest of the columns. Call the final dataframe \"documents\" \n",
        "Then, add an 'index' column to the dataframe. Be sure to name it index.\n",
        "Hint: dataframe.index\n",
        "'''\n",
        "import pandas as pd\n",
        "from google.colab import drive\n",
        "drive.mount(\"/content/gdrive\")"
      ],
      "execution_count": null,
      "outputs": [
        {
          "output_type": "stream",
          "name": "stdout",
          "text": [
            "Mounted at /content/gdrive\n"
          ]
        }
      ]
    },
    {
      "cell_type": "code",
      "metadata": {
        "colab": {
          "base_uri": "https://localhost:8080/"
        },
        "id": "pOQRUwIbelYk",
        "outputId": "2e4cdc32-c271-41c0-a833-e121664b2d4d"
      },
      "source": [
        "data_path = \"/content/gdrive/My Drive/synapse_w7/abcnews-date-text.csv\"\n",
        "data = pd.read_csv(data_path)\n",
        "data_text = data[:300000][['headline_text']]\n",
        "data_text['index'] = data_text.index\n",
        "documents = data_text\n",
        "\n",
        "print(documents)"
      ],
      "execution_count": null,
      "outputs": [
        {
          "output_type": "stream",
          "name": "stdout",
          "text": [
            "                                            headline_text   index\n",
            "0       aba decides against community broadcasting lic...       0\n",
            "1          act fire witnesses must be aware of defamation       1\n",
            "2          a g calls for infrastructure protection summit       2\n",
            "3                air nz staff in aust strike for pay rise       3\n",
            "4           air nz strike to affect australian travellers       4\n",
            "...                                                   ...     ...\n",
            "299995      broughton hall audit reveals serious breaches  299995\n",
            "299996                 broughton hall fails key standards  299996\n",
            "299997        broughton hall safe for residents govt says  299997\n",
            "299998      burn off at conservation park aims to prevent  299998\n",
            "299999                      burns suspended for two games  299999\n",
            "\n",
            "[300000 rows x 2 columns]\n"
          ]
        }
      ]
    },
    {
      "cell_type": "markdown",
      "metadata": {
        "id": "RfQsZGbibVXK"
      },
      "source": [
        "Let's glance at the dataset:"
      ]
    },
    {
      "cell_type": "code",
      "metadata": {
        "id": "SVRVdqqpbVXK",
        "colab": {
          "base_uri": "https://localhost:8080/"
        },
        "outputId": "773925b7-ab7a-4f6b-da29-b6625acf0d4b"
      },
      "source": [
        "'''\n",
        "print the total number of documents\n",
        "'''\n",
        "print(len(documents))"
      ],
      "execution_count": null,
      "outputs": [
        {
          "output_type": "stream",
          "name": "stdout",
          "text": [
            "300000\n"
          ]
        }
      ]
    },
    {
      "cell_type": "code",
      "metadata": {
        "id": "8hJQi4-hbVXK",
        "colab": {
          "base_uri": "https://localhost:8080/",
          "height": 206
        },
        "outputId": "565b950e-087f-4b7e-d7e6-945a92bcbee6"
      },
      "source": [
        "documents[:5]"
      ],
      "execution_count": null,
      "outputs": [
        {
          "output_type": "execute_result",
          "data": {
            "text/html": [
              "<div>\n",
              "<style scoped>\n",
              "    .dataframe tbody tr th:only-of-type {\n",
              "        vertical-align: middle;\n",
              "    }\n",
              "\n",
              "    .dataframe tbody tr th {\n",
              "        vertical-align: top;\n",
              "    }\n",
              "\n",
              "    .dataframe thead th {\n",
              "        text-align: right;\n",
              "    }\n",
              "</style>\n",
              "<table border=\"1\" class=\"dataframe\">\n",
              "  <thead>\n",
              "    <tr style=\"text-align: right;\">\n",
              "      <th></th>\n",
              "      <th>headline_text</th>\n",
              "      <th>index</th>\n",
              "    </tr>\n",
              "  </thead>\n",
              "  <tbody>\n",
              "    <tr>\n",
              "      <th>0</th>\n",
              "      <td>aba decides against community broadcasting lic...</td>\n",
              "      <td>0</td>\n",
              "    </tr>\n",
              "    <tr>\n",
              "      <th>1</th>\n",
              "      <td>act fire witnesses must be aware of defamation</td>\n",
              "      <td>1</td>\n",
              "    </tr>\n",
              "    <tr>\n",
              "      <th>2</th>\n",
              "      <td>a g calls for infrastructure protection summit</td>\n",
              "      <td>2</td>\n",
              "    </tr>\n",
              "    <tr>\n",
              "      <th>3</th>\n",
              "      <td>air nz staff in aust strike for pay rise</td>\n",
              "      <td>3</td>\n",
              "    </tr>\n",
              "    <tr>\n",
              "      <th>4</th>\n",
              "      <td>air nz strike to affect australian travellers</td>\n",
              "      <td>4</td>\n",
              "    </tr>\n",
              "  </tbody>\n",
              "</table>\n",
              "</div>"
            ],
            "text/plain": [
              "                                       headline_text  index\n",
              "0  aba decides against community broadcasting lic...      0\n",
              "1     act fire witnesses must be aware of defamation      1\n",
              "2     a g calls for infrastructure protection summit      2\n",
              "3           air nz staff in aust strike for pay rise      3\n",
              "4      air nz strike to affect australian travellers      4"
            ]
          },
          "metadata": {},
          "execution_count": 6
        }
      ]
    },
    {
      "cell_type": "markdown",
      "metadata": {
        "id": "ugEF7jfObVXK"
      },
      "source": [
        "## Step 2: Data Preprocessing ##\n",
        "\n",
        "We will perform the following steps:\n",
        "\n",
        "* **Tokenization**: Split the text into sentences and the sentences into words. Lowercase the words and remove punctuation.\n",
        "* Words that have fewer than 3 characters are removed.\n",
        "* All **stopwords** are removed.\n",
        "* Words are **lemmatized** - words in third person are changed to first person and verbs in past and future tenses are changed into present.\n",
        "* Words are **stemmed** - words are reduced to their root form.\n",
        "\n",
        "This time, we'll make use of the gensim library and show you how  to preprocess text easily. "
      ]
    },
    {
      "cell_type": "code",
      "metadata": {
        "id": "657wiZwTbVXL"
      },
      "source": [
        "'''\n",
        "Loading Gensim and nltk libraries\n",
        "'''\n",
        "# pip install gensim\n",
        "import gensim\n",
        "from gensim.utils import simple_preprocess\n",
        "from gensim.parsing.preprocessing import STOPWORDS\n",
        "from nltk.stem import WordNetLemmatizer, SnowballStemmer\n",
        "from nltk.stem.porter import *\n",
        "import numpy as np\n",
        "np.random.seed(400)"
      ],
      "execution_count": null,
      "outputs": []
    },
    {
      "cell_type": "code",
      "metadata": {
        "id": "4_J148GWbVXL",
        "colab": {
          "base_uri": "https://localhost:8080/"
        },
        "outputId": "0f6c9108-2e50-4e39-b6c1-cfec87312894"
      },
      "source": [
        "import nltk\n",
        "nltk.download('wordnet')"
      ],
      "execution_count": null,
      "outputs": [
        {
          "output_type": "stream",
          "name": "stdout",
          "text": [
            "[nltk_data] Downloading package wordnet to /root/nltk_data...\n",
            "[nltk_data]   Unzipping corpora/wordnet.zip.\n"
          ]
        },
        {
          "output_type": "execute_result",
          "data": {
            "text/plain": [
              "True"
            ]
          },
          "metadata": {},
          "execution_count": 8
        }
      ]
    },
    {
      "cell_type": "markdown",
      "metadata": {
        "id": "YUHY6-fQbVXL"
      },
      "source": [
        "### Lemmatizer Example\n",
        "Before preprocessing our dataset, let's first look at an lemmatizing example. What would be the output if we lemmatized the word 'went':"
      ]
    },
    {
      "cell_type": "code",
      "metadata": {
        "id": "kM3CATTtbVXL",
        "colab": {
          "base_uri": "https://localhost:8080/"
        },
        "outputId": "c29975fe-c247-4874-cff5-774f1887c5dc"
      },
      "source": [
        "print(WordNetLemmatizer().lemmatize('went', pos = 'v')) # past tense to present tense"
      ],
      "execution_count": null,
      "outputs": [
        {
          "output_type": "stream",
          "name": "stdout",
          "text": [
            "go\n"
          ]
        }
      ]
    },
    {
      "cell_type": "markdown",
      "metadata": {
        "id": "Xs6IEy89bVXM"
      },
      "source": [
        "### Stemmer Example\n",
        "Let's also look at a stemming example. Let's throw a number of words at the stemmer and see how it deals with each one:"
      ]
    },
    {
      "cell_type": "code",
      "metadata": {
        "id": "Zee3dK0_bVXM",
        "colab": {
          "base_uri": "https://localhost:8080/",
          "height": 645
        },
        "outputId": "9c2343eb-80f7-44e6-8004-8171e3c0b7e6"
      },
      "source": [
        "stemmer = SnowballStemmer(\"english\")\n",
        "original_words = ['caresses', 'flies', 'dies', 'mules', 'denied','died', 'agreed', 'owned', \n",
        "           'humbled', 'sized','meeting', 'stating', 'siezing', 'itemization','sensational', \n",
        "           'traditional', 'reference', 'colonizer','plotted']\n",
        "singles = [stemmer.stem(plural) for plural in original_words]\n",
        "\n",
        "pd.DataFrame(data={'original word':original_words, 'stemmed':singles })"
      ],
      "execution_count": null,
      "outputs": [
        {
          "output_type": "execute_result",
          "data": {
            "text/html": [
              "<div>\n",
              "<style scoped>\n",
              "    .dataframe tbody tr th:only-of-type {\n",
              "        vertical-align: middle;\n",
              "    }\n",
              "\n",
              "    .dataframe tbody tr th {\n",
              "        vertical-align: top;\n",
              "    }\n",
              "\n",
              "    .dataframe thead th {\n",
              "        text-align: right;\n",
              "    }\n",
              "</style>\n",
              "<table border=\"1\" class=\"dataframe\">\n",
              "  <thead>\n",
              "    <tr style=\"text-align: right;\">\n",
              "      <th></th>\n",
              "      <th>original word</th>\n",
              "      <th>stemmed</th>\n",
              "    </tr>\n",
              "  </thead>\n",
              "  <tbody>\n",
              "    <tr>\n",
              "      <th>0</th>\n",
              "      <td>caresses</td>\n",
              "      <td>caress</td>\n",
              "    </tr>\n",
              "    <tr>\n",
              "      <th>1</th>\n",
              "      <td>flies</td>\n",
              "      <td>fli</td>\n",
              "    </tr>\n",
              "    <tr>\n",
              "      <th>2</th>\n",
              "      <td>dies</td>\n",
              "      <td>die</td>\n",
              "    </tr>\n",
              "    <tr>\n",
              "      <th>3</th>\n",
              "      <td>mules</td>\n",
              "      <td>mule</td>\n",
              "    </tr>\n",
              "    <tr>\n",
              "      <th>4</th>\n",
              "      <td>denied</td>\n",
              "      <td>deni</td>\n",
              "    </tr>\n",
              "    <tr>\n",
              "      <th>5</th>\n",
              "      <td>died</td>\n",
              "      <td>die</td>\n",
              "    </tr>\n",
              "    <tr>\n",
              "      <th>6</th>\n",
              "      <td>agreed</td>\n",
              "      <td>agre</td>\n",
              "    </tr>\n",
              "    <tr>\n",
              "      <th>7</th>\n",
              "      <td>owned</td>\n",
              "      <td>own</td>\n",
              "    </tr>\n",
              "    <tr>\n",
              "      <th>8</th>\n",
              "      <td>humbled</td>\n",
              "      <td>humbl</td>\n",
              "    </tr>\n",
              "    <tr>\n",
              "      <th>9</th>\n",
              "      <td>sized</td>\n",
              "      <td>size</td>\n",
              "    </tr>\n",
              "    <tr>\n",
              "      <th>10</th>\n",
              "      <td>meeting</td>\n",
              "      <td>meet</td>\n",
              "    </tr>\n",
              "    <tr>\n",
              "      <th>11</th>\n",
              "      <td>stating</td>\n",
              "      <td>state</td>\n",
              "    </tr>\n",
              "    <tr>\n",
              "      <th>12</th>\n",
              "      <td>siezing</td>\n",
              "      <td>siez</td>\n",
              "    </tr>\n",
              "    <tr>\n",
              "      <th>13</th>\n",
              "      <td>itemization</td>\n",
              "      <td>item</td>\n",
              "    </tr>\n",
              "    <tr>\n",
              "      <th>14</th>\n",
              "      <td>sensational</td>\n",
              "      <td>sensat</td>\n",
              "    </tr>\n",
              "    <tr>\n",
              "      <th>15</th>\n",
              "      <td>traditional</td>\n",
              "      <td>tradit</td>\n",
              "    </tr>\n",
              "    <tr>\n",
              "      <th>16</th>\n",
              "      <td>reference</td>\n",
              "      <td>refer</td>\n",
              "    </tr>\n",
              "    <tr>\n",
              "      <th>17</th>\n",
              "      <td>colonizer</td>\n",
              "      <td>colon</td>\n",
              "    </tr>\n",
              "    <tr>\n",
              "      <th>18</th>\n",
              "      <td>plotted</td>\n",
              "      <td>plot</td>\n",
              "    </tr>\n",
              "  </tbody>\n",
              "</table>\n",
              "</div>"
            ],
            "text/plain": [
              "   original word stemmed\n",
              "0       caresses  caress\n",
              "1          flies     fli\n",
              "2           dies     die\n",
              "3          mules    mule\n",
              "4         denied    deni\n",
              "5           died     die\n",
              "6         agreed    agre\n",
              "7          owned     own\n",
              "8        humbled   humbl\n",
              "9          sized    size\n",
              "10       meeting    meet\n",
              "11       stating   state\n",
              "12       siezing    siez\n",
              "13   itemization    item\n",
              "14   sensational  sensat\n",
              "15   traditional  tradit\n",
              "16     reference   refer\n",
              "17     colonizer   colon\n",
              "18       plotted    plot"
            ]
          },
          "metadata": {},
          "execution_count": 10
        }
      ]
    },
    {
      "cell_type": "code",
      "metadata": {
        "id": "KaCnYb6ibVXM"
      },
      "source": [
        "'''\n",
        "Write a function to perform the pre processing steps on the entire dataset\n",
        "'''\n",
        "stemmer = SnowballStemmer(\"english\")\n",
        "def lemmatize_stemming(text):\n",
        "    '''\n",
        "        1) Lemmatize the text\n",
        "        2) Then, stem the text\n",
        "        3) return final text\n",
        "    '''\n",
        "    text = WordNetLemmatizer().lemmatize(text, pos = 'v')\n",
        "    return stemmer.stem(text)\n",
        "\n",
        "# Tokenize and lemmatize. Look up how preprocessing is being done\n",
        "def preprocess(text):\n",
        "    result=[]\n",
        "    for token in gensim.utils.simple_preprocess(text) :\n",
        "        if token not in gensim.parsing.preprocessing.STOPWORDS and len(token) > 3:\n",
        "            \n",
        "            # TODO: Apply lemmatize_stemming on the token, then add to the results list\n",
        "            pass\n",
        "            result.append(lemmatize_stemming(token))\n",
        "        \n",
        "    return result"
      ],
      "execution_count": null,
      "outputs": []
    },
    {
      "cell_type": "code",
      "metadata": {
        "id": "CUfKLuCNbVXN",
        "colab": {
          "base_uri": "https://localhost:8080/"
        },
        "outputId": "32d414b9-2ef7-4e66-f948-7955e57853a9"
      },
      "source": [
        "'''\n",
        "Preview a document after preprocessing\n",
        "'''\n",
        "document_num = 4310\n",
        "doc_sample = documents[documents['index'] == document_num].values[0][0]\n",
        "\n",
        "print(\"Original document: \")\n",
        "words = []\n",
        "for word in doc_sample.split(' '):\n",
        "    words.append(word)\n",
        "print(words)\n",
        "print(\"\\n\\nTokenized and lemmatized document: \")\n",
        "print(preprocess(doc_sample))"
      ],
      "execution_count": null,
      "outputs": [
        {
          "output_type": "stream",
          "name": "stdout",
          "text": [
            "Original document: \n",
            "['rain', 'helps', 'dampen', 'bushfires']\n",
            "\n",
            "\n",
            "Tokenized and lemmatized document: \n",
            "['rain', 'help', 'dampen', 'bushfir']\n"
          ]
        }
      ]
    },
    {
      "cell_type": "markdown",
      "metadata": {
        "id": "yBDf8d7_bVXN"
      },
      "source": [
        "Let's now preprocess all the news headlines we have. To do that, let's use the [map](https://pandas.pydata.org/pandas-docs/stable/generated/pandas.Series.map.html) function from pandas to apply `preprocess()` to the `headline_text` column\n",
        "\n",
        "**Note**: This may take a few minutes"
      ]
    },
    {
      "cell_type": "code",
      "metadata": {
        "id": "1mN-UmfvbVXN"
      },
      "source": [
        "# TODO: preprocess all the headlines, saving the list of results as 'processed_docs'\n",
        "processed_docs = documents['headline_text'].map(preprocess)"
      ],
      "execution_count": null,
      "outputs": []
    },
    {
      "cell_type": "code",
      "metadata": {
        "id": "9QoaGfkvbVXN",
        "colab": {
          "base_uri": "https://localhost:8080/"
        },
        "outputId": "19c4f450-15f6-44b1-e70a-9e66317f26ec"
      },
      "source": [
        "'''\n",
        "Preview 'processed_docs'\n",
        "'''\n",
        "processed_docs[:10]"
      ],
      "execution_count": null,
      "outputs": [
        {
          "output_type": "execute_result",
          "data": {
            "text/plain": [
              "0            [decid, communiti, broadcast, licenc]\n",
              "1                               [wit, awar, defam]\n",
              "2           [call, infrastructur, protect, summit]\n",
              "3                      [staff, aust, strike, rise]\n",
              "4             [strike, affect, australian, travel]\n",
              "5               [ambiti, olsson, win, tripl, jump]\n",
              "6           [antic, delight, record, break, barca]\n",
              "7    [aussi, qualifi, stosur, wast, memphi, match]\n",
              "8            [aust, address, secur, council, iraq]\n",
              "9                         [australia, lock, timet]\n",
              "Name: headline_text, dtype: object"
            ]
          },
          "metadata": {},
          "execution_count": 14
        }
      ]
    },
    {
      "cell_type": "markdown",
      "metadata": {
        "id": "NS5bgPUgbVXO"
      },
      "source": [
        "## Step 3.1: Bag of words on the dataset\n",
        "\n",
        "Now let's create a dictionary from 'processed_docs' containing the number of times a word appears in the training set. To do that, let's pass `processed_docs` to [`gensim.corpora.Dictionary()`](https://radimrehurek.com/gensim/corpora/dictionary.html) and call it '`dictionary`'."
      ]
    },
    {
      "cell_type": "code",
      "metadata": {
        "id": "VxsLUt2BbVXO"
      },
      "source": [
        "'''\n",
        "Create a dictionary from 'processed_docs' containing the number of times a word appears \n",
        "in the training set using gensim.corpora.Dictionary and call it 'dictionary'\n",
        "'''\n",
        "#  Todo\n",
        "dictionary = gensim.corpora.Dictionary(processed_docs)"
      ],
      "execution_count": null,
      "outputs": []
    },
    {
      "cell_type": "code",
      "metadata": {
        "id": "usafYH9qbVXO",
        "colab": {
          "base_uri": "https://localhost:8080/"
        },
        "outputId": "958777f0-7c32-48d4-ba85-5e28c895b61c"
      },
      "source": [
        "'''\n",
        "Checking dictionary created\n",
        "'''\n",
        "count = 0\n",
        "for k, v in dictionary.iteritems():\n",
        "    print(k, v)\n",
        "    count += 1\n",
        "    if count > 10:\n",
        "        break"
      ],
      "execution_count": null,
      "outputs": [
        {
          "output_type": "stream",
          "name": "stdout",
          "text": [
            "0 broadcast\n",
            "1 communiti\n",
            "2 decid\n",
            "3 licenc\n",
            "4 awar\n",
            "5 defam\n",
            "6 wit\n",
            "7 call\n",
            "8 infrastructur\n",
            "9 protect\n",
            "10 summit\n"
          ]
        }
      ]
    },
    {
      "cell_type": "markdown",
      "metadata": {
        "id": "z0Cc6S5VbVXP"
      },
      "source": [
        "** Gensim filter_extremes **\n",
        "\n",
        "[`filter_extremes(no_below=5, no_above=0.5, keep_n=100000)`](https://radimrehurek.com/gensim/corpora/dictionary.html#gensim.corpora.dictionary.Dictionary.filter_extremes)\n",
        "\n",
        "Filter out tokens that appear in\n",
        "\n",
        "* less than no_below documents (absolute number) or\n",
        "* more than no_above documents (fraction of total corpus size, not absolute number).\n",
        "* after (1) and (2), keep only the first keep_n most frequent tokens (or keep all if None)."
      ]
    },
    {
      "cell_type": "code",
      "metadata": {
        "id": "GxLG4DS9bVXP"
      },
      "source": [
        "'''\n",
        "Remove very rare and very common words:\n",
        "\n",
        "- words appearing less than 15 times\n",
        "- words appearing in more than 10% of all documents\n",
        "- keep 100000 most frequent tokens\n",
        "'''\n",
        "# TODO: apply dictionary.filter_extremes() with the parameters mentioned above\n",
        "dictionary.filter_extremes(no_below=15, no_above=0.1, keep_n=100000)"
      ],
      "execution_count": null,
      "outputs": []
    },
    {
      "cell_type": "markdown",
      "metadata": {
        "id": "jKh1Wz9HbVXP"
      },
      "source": [
        "** Gensim doc2bow **\n",
        "\n",
        "[`doc2bow(document)`](https://radimrehurek.com/gensim/corpora/dictionary.html#gensim.corpora.dictionary.Dictionary.doc2bow)\n",
        "\n",
        "* Convert document (a list of words) into the bag-of-words format = list of (token_id, token_count) 2-tuples. Each word is assumed to be a tokenized and normalized string (either unicode or utf8-encoded). No further preprocessing is done on the words in document; apply tokenization, stemming etc. before calling this method."
      ]
    },
    {
      "cell_type": "code",
      "metadata": {
        "id": "-tRYlh0JbVXP"
      },
      "source": [
        "'''\n",
        "Create the Bag-of-words model for each document i.e for each document we create a dictionary reporting how many\n",
        "words and how many times those words appear. Save this to 'bow_corpus'.\n",
        "Hint: Since we want a BoW model for each document, you can use list comprehension instead of for loops. List\n",
        "comprehension is the more pythonic way.\n",
        "'''\n",
        "#  Todo:\n",
        "bow_corpus = [dictionary.doc2bow(d) for d in processed_docs]"
      ],
      "execution_count": null,
      "outputs": []
    },
    {
      "cell_type": "code",
      "metadata": {
        "id": "6PTznV6WbVXP",
        "colab": {
          "base_uri": "https://localhost:8080/"
        },
        "outputId": "0940508d-b43d-42d7-e3b9-3d99af8fe250"
      },
      "source": [
        "'''\n",
        "Checking Bag of Words corpus for our sample document --> (token_id, token_count)\n",
        "'''\n",
        "bow_corpus[document_num]"
      ],
      "execution_count": null,
      "outputs": [
        {
          "output_type": "execute_result",
          "data": {
            "text/plain": [
              "[(71, 1), (107, 1), (462, 1), (3530, 1)]"
            ]
          },
          "metadata": {},
          "execution_count": 19
        }
      ]
    },
    {
      "cell_type": "code",
      "metadata": {
        "id": "Fa2HPotJbVXQ",
        "colab": {
          "base_uri": "https://localhost:8080/"
        },
        "outputId": "debe1a24-f6be-45b5-c921-260fa9d0b02c"
      },
      "source": [
        "'''\n",
        "Preview BOW for our sample preprocessed document\n",
        "'''\n",
        "# Here document_num is document number 4310 which we have checked in Step 2\n",
        "bow_doc_4310 = bow_corpus[document_num]\n",
        "\n",
        "for i in range(len(bow_doc_4310)):\n",
        "    print(\"Word {} (\\\"{}\\\") appears {} time.\".format(bow_doc_4310[i][0], \n",
        "                                                     dictionary[bow_doc_4310[i][0]], \n",
        "                                                     bow_doc_4310[i][1]))"
      ],
      "execution_count": null,
      "outputs": [
        {
          "output_type": "stream",
          "name": "stdout",
          "text": [
            "Word 71 (\"bushfir\") appears 1 time.\n",
            "Word 107 (\"help\") appears 1 time.\n",
            "Word 462 (\"rain\") appears 1 time.\n",
            "Word 3530 (\"dampen\") appears 1 time.\n"
          ]
        }
      ]
    },
    {
      "cell_type": "markdown",
      "metadata": {
        "id": "bkr7hHPWbVXQ"
      },
      "source": [
        "## Step 3.2: TF-IDF on our document set ##\n",
        "\n",
        "While performing TF-IDF on the corpus is not necessary for LDA implemention using the gensim model, it is recemmended. TF-IDF expects a bag-of-words (integer values) training corpus during initialization. During transformation, it will take a vector and return another vector of the same dimensionality.\n",
        "\n",
        "*Please note: The author of Gensim dictates the standard procedure for LDA to be using the Bag of Words model.*"
      ]
    },
    {
      "cell_type": "markdown",
      "metadata": {
        "id": "Dz6Yd5mEbVXQ"
      },
      "source": [
        "** TF-IDF stands for \"Term Frequency, Inverse Document Frequency\".**\n",
        "\n",
        "* It is a way to score the importance of words (or \"terms\") in a document based on how frequently they appear across multiple documents.\n",
        "* If a word appears frequently in a document, it's important. Give the word a high score. But if a word appears in many documents, it's not a unique identifier. Give the word a low score.\n",
        "* Therefore, common words like \"the\" and \"for\", which appear in many documents, will be scaled down. Words that appear frequently in a single document will be scaled up.\n",
        "\n",
        "In other words:\n",
        "\n",
        "* TF(w) = `(Number of times term w appears in a document) / (Total number of terms in the document)`.\n",
        "* IDF(w) = `log_e(Total number of documents / Number of documents with term w in it)`.\n",
        "\n",
        "** For example **\n",
        "\n",
        "* Consider a document containing `100` words wherein the word 'tiger' appears 3 times. \n",
        "* The term frequency (i.e., tf) for 'tiger' is then: \n",
        "    - `TF = (3 / 100) = 0.03`. \n",
        "\n",
        "* Now, assume we have `10 million` documents and the word 'tiger' appears in `1000` of these. Then, the inverse document frequency (i.e., idf) is calculated as:\n",
        "    - `IDF = log(10,000,000 / 1,000) = 4`. \n",
        "\n",
        "* Thus, the Tf-idf weight is the product of these quantities: \n",
        "    - `TF-IDF = 0.03 * 4 = 0.12`."
      ]
    },
    {
      "cell_type": "code",
      "metadata": {
        "id": "ScGfXO26bVXQ"
      },
      "source": [
        "'''\n",
        "Create tf-idf model object using models.TfidfModel on 'bow_corpus' and save it to 'tfidf'\n",
        "'''\n",
        "from gensim import corpora, models\n",
        "# TODO\n",
        "tfidf = models.TfidfModel(bow_corpus)  "
      ],
      "execution_count": null,
      "outputs": []
    },
    {
      "cell_type": "code",
      "metadata": {
        "id": "Dc_TeL_ybVXQ"
      },
      "source": [
        "'''\n",
        "Apply transformation to the entire corpus and call it 'corpus_tfidf'\n",
        "'''\n",
        "# TODO\n",
        "corpus_tfidf = tfidf[bow_corpus]"
      ],
      "execution_count": null,
      "outputs": []
    },
    {
      "cell_type": "code",
      "metadata": {
        "id": "Lqxp81plbVXQ",
        "colab": {
          "base_uri": "https://localhost:8080/"
        },
        "outputId": "daba6ed1-82ff-4314-a7f3-e812f887afd9"
      },
      "source": [
        "'''\n",
        "Preview TF-IDF scores for our first document --> --> (token_id, tfidf score)\n",
        "'''\n",
        "from pprint import pprint\n",
        "for doc in corpus_tfidf:\n",
        "    pprint(doc)\n",
        "    break"
      ],
      "execution_count": null,
      "outputs": [
        {
          "output_type": "stream",
          "name": "stdout",
          "text": [
            "[(0, 0.5959813347777092),\n",
            " (1, 0.39204529549491984),\n",
            " (2, 0.48531419274988147),\n",
            " (3, 0.5055461098578569)]\n"
          ]
        }
      ]
    },
    {
      "cell_type": "markdown",
      "metadata": {
        "id": "ynKC0GVhbVXR"
      },
      "source": [
        "## Step 4.1: Running LDA using Bag of Words ##\n",
        "\n",
        "We are going for 10 topics in the document corpus.\n",
        "\n",
        "** We will be running LDA using all CPU cores to parallelize and speed up model training.**\n",
        "\n",
        "Some of the parameters we will be tweaking are:\n",
        "\n",
        "* **num_topics** is the number of requested latent topics to be extracted from the training corpus.\n",
        "* **id2word** is a mapping from word ids (integers) to words (strings). It is used to determine the vocabulary size, as well as for debugging and topic printing.\n",
        "* **workers** is the number of extra processes to use for parallelization. Uses all available cores by default.\n",
        "* **alpha** and **eta** are hyperparameters that affect sparsity of the document-topic (theta) and topic-word (lambda) distributions. We will let these be the default values for now(default value is `1/num_topics`)\n",
        "    - Alpha is the per document topic distribution.\n",
        "        * High alpha: Every document has a mixture of all topics(documents appear similar to each other).\n",
        "        * Low alpha: Every document has a mixture of very few topics\n",
        "\n",
        "    - Eta is the per topic word distribution.\n",
        "        * High eta: Each topic has a mixture of most words(topics appear similar to each other).\n",
        "        * Low eta: Each topic has a mixture of few words.\n",
        "\n",
        "* ** passes ** is the number of training passes through the corpus. For  example, if the training corpus has 50,000 documents, chunksize is  10,000, passes is 2, then online training is done in 10 updates: \n",
        "    * `#1 documents 0-9,999 `\n",
        "    * `#2 documents 10,000-19,999 `\n",
        "    * `#3 documents 20,000-29,999 `\n",
        "    * `#4 documents 30,000-39,999 `\n",
        "    * `#5 documents 40,000-49,999 `\n",
        "    * `#6 documents 0-9,999 `\n",
        "    * `#7 documents 10,000-19,999 `\n",
        "    * `#8 documents 20,000-29,999 `\n",
        "    * `#9 documents 30,000-39,999 `\n",
        "    * `#10 documents 40,000-49,999` "
      ]
    },
    {
      "cell_type": "code",
      "metadata": {
        "id": "U7yX80hAbVXR"
      },
      "source": [
        "# LDA multicore \n",
        "'''\n",
        "Train your lda model using gensim.models.LdaMulticore and save it to 'lda_model'\n",
        "\n",
        "If Multicore is throwing errors on you laptop, use LDA mono-core, gensim.models.LdaModel\n",
        "'''\n",
        "# TODO\n",
        "lda_model = gensim.models.LdaMulticore(bow_corpus, num_topics=10, id2word=dictionary, passes=2, workers=2)"
      ],
      "execution_count": null,
      "outputs": []
    },
    {
      "cell_type": "code",
      "metadata": {
        "id": "Khty_qyGbVXR",
        "colab": {
          "base_uri": "https://localhost:8080/"
        },
        "outputId": "17ea4948-9e46-4d5e-a0f4-64add97b74f4"
      },
      "source": [
        "'''\n",
        "For each topic, we will explore the words occuring in that topic and its relative weight\n",
        "'''\n",
        "for idx, topic in lda_model.print_topics(-1):\n",
        "    print(\"Topic: {} \\nWords: {}\".format(idx, topic))\n",
        "    print(\"\\n\")"
      ],
      "execution_count": null,
      "outputs": [
        {
          "output_type": "stream",
          "name": "stdout",
          "text": [
            "Topic: 0 \n",
            "Words: 0.022*\"closer\" + 0.021*\"test\" + 0.020*\"lead\" + 0.017*\"talk\" + 0.014*\"south\" + 0.013*\"law\" + 0.012*\"take\" + 0.011*\"timor\" + 0.011*\"open\" + 0.010*\"clash\"\n",
            "\n",
            "\n",
            "Topic: 1 \n",
            "Words: 0.092*\"polic\" + 0.028*\"seek\" + 0.025*\"investig\" + 0.022*\"miss\" + 0.016*\"search\" + 0.015*\"probe\" + 0.013*\"region\" + 0.011*\"offic\" + 0.011*\"bodi\" + 0.010*\"help\"\n",
            "\n",
            "\n",
            "Topic: 2 \n",
            "Words: 0.016*\"record\" + 0.014*\"break\" + 0.014*\"australia\" + 0.013*\"look\" + 0.012*\"rain\" + 0.012*\"price\" + 0.012*\"drought\" + 0.012*\"dead\" + 0.011*\"sydney\" + 0.009*\"crew\"\n",
            "\n",
            "\n",
            "Topic: 3 \n",
            "Words: 0.051*\"water\" + 0.033*\"warn\" + 0.015*\"industri\" + 0.015*\"continu\" + 0.013*\"farmer\" + 0.013*\"urg\" + 0.012*\"busi\" + 0.012*\"begin\" + 0.010*\"threat\" + 0.010*\"worker\"\n",
            "\n",
            "\n",
            "Topic: 4 \n",
            "Words: 0.017*\"elect\" + 0.016*\"iraq\" + 0.014*\"howard\" + 0.013*\"market\" + 0.013*\"labor\" + 0.012*\"say\" + 0.012*\"reject\" + 0.012*\"appeal\" + 0.011*\"plan\" + 0.011*\"troop\"\n",
            "\n",
            "\n",
            "Topic: 5 \n",
            "Words: 0.040*\"charg\" + 0.035*\"court\" + 0.033*\"face\" + 0.022*\"kill\" + 0.020*\"murder\" + 0.020*\"accus\" + 0.020*\"forc\" + 0.019*\"attack\" + 0.016*\"case\" + 0.013*\"trial\"\n",
            "\n",
            "\n",
            "Topic: 6 \n",
            "Words: 0.017*\"return\" + 0.017*\"hold\" + 0.014*\"question\" + 0.014*\"work\" + 0.013*\"resid\" + 0.012*\"firefight\" + 0.011*\"blaze\" + 0.010*\"rais\" + 0.010*\"unit\" + 0.010*\"battl\"\n",
            "\n",
            "\n",
            "Topic: 7 \n",
            "Words: 0.037*\"crash\" + 0.025*\"jail\" + 0.021*\"road\" + 0.017*\"die\" + 0.016*\"death\" + 0.016*\"coast\" + 0.013*\"get\" + 0.013*\"driver\" + 0.013*\"year\" + 0.013*\"prompt\"\n",
            "\n",
            "\n",
            "Topic: 8 \n",
            "Words: 0.060*\"govt\" + 0.030*\"council\" + 0.024*\"fund\" + 0.023*\"plan\" + 0.020*\"urg\" + 0.016*\"boost\" + 0.012*\"health\" + 0.012*\"rise\" + 0.012*\"defend\" + 0.011*\"servic\"\n",
            "\n",
            "\n",
            "Topic: 9 \n",
            "Words: 0.036*\"report\" + 0.025*\"opposit\" + 0.023*\"power\" + 0.014*\"win\" + 0.013*\"say\" + 0.013*\"final\" + 0.012*\"state\" + 0.011*\"compani\" + 0.010*\"nuclear\" + 0.009*\"join\"\n",
            "\n",
            "\n"
          ]
        }
      ]
    },
    {
      "cell_type": "markdown",
      "metadata": {
        "id": "RgLUDlOdSRjm"
      },
      "source": [
        "Using the words in each topic and their corresponding weights, what categories were you able to infer?\n",
        "\n",
        "* 0: Change laws\n",
        "* 1: Missing person\n",
        "* 2: Calamity in Australia\n",
        "* 3: Water Pollution\n",
        "* 4: Election\n",
        "* 5: Crime Allegations\n",
        "* 6: Fire\n",
        "* 7: Car accident\n",
        "* 8: Parliament\n",
        "* 9: Company report"
      ]
    },
    {
      "cell_type": "markdown",
      "metadata": {
        "id": "D-gI5Jv5bVXR"
      },
      "source": [
        "## Step 4.2 Running LDA using TF-IDF ##"
      ]
    },
    {
      "cell_type": "code",
      "metadata": {
        "id": "bQx5fdo7bVXS"
      },
      "source": [
        "'''\n",
        "Define lda model using corpus_tfidf\n",
        "'''\n",
        "# TODO\n",
        "lda_model_tfidf = gensim.models.LdaMulticore(corpus_tfidf, num_topics=10, id2word=dictionary, passes=2, workers=4)"
      ],
      "execution_count": null,
      "outputs": []
    },
    {
      "cell_type": "code",
      "metadata": {
        "id": "aYdX3NBrbVXS",
        "colab": {
          "base_uri": "https://localhost:8080/"
        },
        "outputId": "1ccb8b51-60ef-4dd1-fd1a-92eeb075e0ff"
      },
      "source": [
        "'''\n",
        "For each topic, we will explore the words occuring in that topic and its relative weight\n",
        "'''\n",
        "for idx, topic in lda_model_tfidf.print_topics(-1):\n",
        "    print(\"Topic: {} Word: {}\".format(idx, topic))\n",
        "    print(\"\\n\")"
      ],
      "execution_count": null,
      "outputs": [
        {
          "output_type": "stream",
          "name": "stdout",
          "text": [
            "Topic: 0 Word: 0.007*\"labor\" + 0.006*\"rudd\" + 0.006*\"govt\" + 0.006*\"violenc\" + 0.006*\"costello\" + 0.006*\"beazley\" + 0.005*\"whale\" + 0.005*\"spend\" + 0.005*\"say\" + 0.005*\"senat\"\n",
            "\n",
            "\n",
            "Topic: 1 Word: 0.009*\"nuclear\" + 0.006*\"iran\" + 0.006*\"wast\" + 0.006*\"list\" + 0.005*\"govt\" + 0.005*\"dump\" + 0.005*\"hospit\" + 0.005*\"surgeri\" + 0.005*\"cancer\" + 0.004*\"medic\"\n",
            "\n",
            "\n",
            "Topic: 2 Word: 0.008*\"council\" + 0.008*\"plan\" + 0.007*\"concern\" + 0.007*\"chang\" + 0.006*\"farm\" + 0.006*\"govt\" + 0.006*\"east\" + 0.005*\"uranium\" + 0.005*\"climat\" + 0.005*\"timor\"\n",
            "\n",
            "\n",
            "Topic: 3 Word: 0.022*\"crash\" + 0.021*\"kill\" + 0.015*\"miss\" + 0.012*\"die\" + 0.011*\"polic\" + 0.011*\"search\" + 0.009*\"dead\" + 0.008*\"injur\" + 0.008*\"accid\" + 0.008*\"blast\"\n",
            "\n",
            "\n",
            "Topic: 4 Word: 0.019*\"charg\" + 0.018*\"polic\" + 0.014*\"court\" + 0.013*\"murder\" + 0.012*\"jail\" + 0.010*\"arrest\" + 0.010*\"face\" + 0.009*\"assault\" + 0.008*\"accus\" + 0.008*\"child\"\n",
            "\n",
            "\n",
            "Topic: 5 Word: 0.007*\"health\" + 0.007*\"govt\" + 0.006*\"korea\" + 0.005*\"law\" + 0.005*\"talk\" + 0.005*\"deal\" + 0.005*\"price\" + 0.005*\"mental\" + 0.005*\"trade\" + 0.005*\"servic\"\n",
            "\n",
            "\n",
            "Topic: 6 Word: 0.007*\"titl\" + 0.006*\"world\" + 0.006*\"final\" + 0.006*\"liber\" + 0.005*\"open\" + 0.005*\"england\" + 0.005*\"tiger\" + 0.004*\"aussi\" + 0.004*\"win\" + 0.004*\"australia\"\n",
            "\n",
            "\n",
            "Topic: 7 Word: 0.008*\"drink\" + 0.008*\"govt\" + 0.008*\"hick\" + 0.007*\"polic\" + 0.006*\"drive\" + 0.005*\"indonesian\" + 0.005*\"death\" + 0.005*\"lawyer\" + 0.005*\"theft\" + 0.005*\"urg\"\n",
            "\n",
            "\n",
            "Topic: 8 Word: 0.025*\"closer\" + 0.007*\"water\" + 0.007*\"guilti\" + 0.007*\"market\" + 0.006*\"rain\" + 0.006*\"road\" + 0.006*\"rise\" + 0.006*\"boost\" + 0.006*\"plead\" + 0.005*\"tsunami\"\n",
            "\n",
            "\n",
            "Topic: 9 Word: 0.006*\"plan\" + 0.006*\"govt\" + 0.005*\"councillor\" + 0.005*\"firefight\" + 0.005*\"plant\" + 0.005*\"industri\" + 0.005*\"festiv\" + 0.005*\"council\" + 0.004*\"job\" + 0.004*\"water\"\n",
            "\n",
            "\n"
          ]
        }
      ]
    },
    {
      "cell_type": "markdown",
      "metadata": {
        "id": "Az7fx5F6bVXS"
      },
      "source": [
        "### Classification of the topics ###\n",
        "\n",
        "As we can see, when using tf-idf, heavier weights are given to words that are not as frequent which results in nouns being factored in. That makes it harder to figure out the categories as nouns can be hard to categorize. This goes to show that the models we apply depend on the type of corpus of text we are dealing with. \n",
        "\n",
        "Using the words in each topic and their corresponding weights, what categories could you find?\n",
        "\n",
        "* 0: \n",
        "* 1:  \n",
        "* 2: \n",
        "* 3: \n",
        "* 4:  \n",
        "* 5: \n",
        "* 6: \n",
        "* 7: \n",
        "* 8: \n",
        "* 9: "
      ]
    },
    {
      "cell_type": "markdown",
      "metadata": {
        "id": "Jf3b71O_bVXS"
      },
      "source": [
        "## Step 5.1: Performance evaluation by classifying sample document using LDA Bag of Words model\n",
        "\n",
        "We will check to see where our test document would be classified. "
      ]
    },
    {
      "cell_type": "code",
      "metadata": {
        "id": "6OnE52hzbVXS",
        "colab": {
          "base_uri": "https://localhost:8080/"
        },
        "outputId": "40d94680-6f60-4fda-aa92-c56a1b8f6ccd"
      },
      "source": [
        "'''\n",
        "Text of sample document 4310\n",
        "'''\n",
        "processed_docs[4310]"
      ],
      "execution_count": null,
      "outputs": [
        {
          "output_type": "execute_result",
          "data": {
            "text/plain": [
              "['rain', 'help', 'dampen', 'bushfir']"
            ]
          },
          "metadata": {},
          "execution_count": 31
        }
      ]
    },
    {
      "cell_type": "code",
      "metadata": {
        "id": "E3U6WJUqbVXS",
        "colab": {
          "base_uri": "https://localhost:8080/"
        },
        "outputId": "e2380639-0c9f-4112-96cf-5b19a5f49922"
      },
      "source": [
        "'''\n",
        "Check which topic our test document belongs to using the LDA Bag of Words model.\n",
        "'''\n",
        "\n",
        "# Our test document is document number 4310\n",
        "for index, score in sorted(lda_model[bow_corpus[document_num]], key=lambda tup: -1*tup[1]):\n",
        "    print(\"\\nScore: {}\\t \\nTopic: {}\".format(score, lda_model.print_topic(index, 10)))"
      ],
      "execution_count": null,
      "outputs": [
        {
          "output_type": "stream",
          "name": "stdout",
          "text": [
            "\n",
            "Score: 0.5505407452583313\t \n",
            "Topic: 0.016*\"record\" + 0.014*\"break\" + 0.014*\"australia\" + 0.013*\"look\" + 0.012*\"rain\" + 0.012*\"price\" + 0.012*\"drought\" + 0.012*\"dead\" + 0.011*\"sydney\" + 0.009*\"crew\"\n",
            "\n",
            "Score: 0.2894371449947357\t \n",
            "Topic: 0.051*\"water\" + 0.033*\"warn\" + 0.015*\"industri\" + 0.015*\"continu\" + 0.013*\"farmer\" + 0.013*\"urg\" + 0.012*\"busi\" + 0.012*\"begin\" + 0.010*\"threat\" + 0.010*\"worker\"\n",
            "\n",
            "Score: 0.020008644089102745\t \n",
            "Topic: 0.092*\"polic\" + 0.028*\"seek\" + 0.025*\"investig\" + 0.022*\"miss\" + 0.016*\"search\" + 0.015*\"probe\" + 0.013*\"region\" + 0.011*\"offic\" + 0.011*\"bodi\" + 0.010*\"help\"\n",
            "\n",
            "Score: 0.02000517025589943\t \n",
            "Topic: 0.017*\"return\" + 0.017*\"hold\" + 0.014*\"question\" + 0.014*\"work\" + 0.013*\"resid\" + 0.012*\"firefight\" + 0.011*\"blaze\" + 0.010*\"rais\" + 0.010*\"unit\" + 0.010*\"battl\"\n",
            "\n",
            "Score: 0.02000456675887108\t \n",
            "Topic: 0.060*\"govt\" + 0.030*\"council\" + 0.024*\"fund\" + 0.023*\"plan\" + 0.020*\"urg\" + 0.016*\"boost\" + 0.012*\"health\" + 0.012*\"rise\" + 0.012*\"defend\" + 0.011*\"servic\"\n",
            "\n",
            "Score: 0.020001841709017754\t \n",
            "Topic: 0.022*\"closer\" + 0.021*\"test\" + 0.020*\"lead\" + 0.017*\"talk\" + 0.014*\"south\" + 0.013*\"law\" + 0.012*\"take\" + 0.011*\"timor\" + 0.011*\"open\" + 0.010*\"clash\"\n",
            "\n",
            "Score: 0.020001467317342758\t \n",
            "Topic: 0.037*\"crash\" + 0.025*\"jail\" + 0.021*\"road\" + 0.017*\"die\" + 0.016*\"death\" + 0.016*\"coast\" + 0.013*\"get\" + 0.013*\"driver\" + 0.013*\"year\" + 0.013*\"prompt\"\n",
            "\n",
            "Score: 0.02000040002167225\t \n",
            "Topic: 0.017*\"elect\" + 0.016*\"iraq\" + 0.014*\"howard\" + 0.013*\"market\" + 0.013*\"labor\" + 0.012*\"say\" + 0.012*\"reject\" + 0.012*\"appeal\" + 0.011*\"plan\" + 0.011*\"troop\"\n",
            "\n",
            "Score: 0.020000049844384193\t \n",
            "Topic: 0.036*\"report\" + 0.025*\"opposit\" + 0.023*\"power\" + 0.014*\"win\" + 0.013*\"say\" + 0.013*\"final\" + 0.012*\"state\" + 0.011*\"compani\" + 0.010*\"nuclear\" + 0.009*\"join\"\n",
            "\n",
            "Score: 0.020000003278255463\t \n",
            "Topic: 0.040*\"charg\" + 0.035*\"court\" + 0.033*\"face\" + 0.022*\"kill\" + 0.020*\"murder\" + 0.020*\"accus\" + 0.020*\"forc\" + 0.019*\"attack\" + 0.016*\"case\" + 0.013*\"trial\"\n"
          ]
        }
      ]
    },
    {
      "cell_type": "markdown",
      "metadata": {
        "id": "-NYL09DjbVXT"
      },
      "source": [
        "## Step 5.2: Performance evaluation by classifying sample document using LDA TF-IDF model"
      ]
    },
    {
      "cell_type": "code",
      "metadata": {
        "id": "B1UqWRMhbVXT",
        "colab": {
          "base_uri": "https://localhost:8080/"
        },
        "outputId": "f8fbc57d-552f-459c-f4de-b248d8f31378"
      },
      "source": [
        "'''\n",
        "Check which topic our test document belongs to using the LDA TF-IDF model.\n",
        "Code would be similar to above\n",
        "'''\n",
        "# Todo\n",
        "for index, score in sorted(lda_model_tfidf[bow_corpus[4310]], key=lambda tup: -1*tup[1]):\n",
        "    print(\"\\nScore: {}\\t \\nTopic: {}\".format(score, lda_model_tfidf.print_topic(index, 10)))"
      ],
      "execution_count": null,
      "outputs": [
        {
          "output_type": "stream",
          "name": "stdout",
          "text": [
            "\n",
            "Score: 0.571742832660675\t \n",
            "Topic: 0.025*\"closer\" + 0.007*\"water\" + 0.007*\"guilti\" + 0.007*\"market\" + 0.006*\"rain\" + 0.006*\"road\" + 0.006*\"rise\" + 0.006*\"boost\" + 0.006*\"plead\" + 0.005*\"tsunami\"\n",
            "\n",
            "Score: 0.26824110746383667\t \n",
            "Topic: 0.007*\"health\" + 0.007*\"govt\" + 0.006*\"korea\" + 0.005*\"law\" + 0.005*\"talk\" + 0.005*\"deal\" + 0.005*\"price\" + 0.005*\"mental\" + 0.005*\"trade\" + 0.005*\"servic\"\n",
            "\n",
            "Score: 0.020006075501441956\t \n",
            "Topic: 0.008*\"drink\" + 0.008*\"govt\" + 0.008*\"hick\" + 0.007*\"polic\" + 0.006*\"drive\" + 0.005*\"indonesian\" + 0.005*\"death\" + 0.005*\"lawyer\" + 0.005*\"theft\" + 0.005*\"urg\"\n",
            "\n",
            "Score: 0.02000248432159424\t \n",
            "Topic: 0.006*\"plan\" + 0.006*\"govt\" + 0.005*\"councillor\" + 0.005*\"firefight\" + 0.005*\"plant\" + 0.005*\"industri\" + 0.005*\"festiv\" + 0.005*\"council\" + 0.004*\"job\" + 0.004*\"water\"\n",
            "\n",
            "Score: 0.02000163495540619\t \n",
            "Topic: 0.008*\"council\" + 0.008*\"plan\" + 0.007*\"concern\" + 0.007*\"chang\" + 0.006*\"farm\" + 0.006*\"govt\" + 0.006*\"east\" + 0.005*\"uranium\" + 0.005*\"climat\" + 0.005*\"timor\"\n",
            "\n",
            "Score: 0.020001601427793503\t \n",
            "Topic: 0.022*\"crash\" + 0.021*\"kill\" + 0.015*\"miss\" + 0.012*\"die\" + 0.011*\"polic\" + 0.011*\"search\" + 0.009*\"dead\" + 0.008*\"injur\" + 0.008*\"accid\" + 0.008*\"blast\"\n",
            "\n",
            "Score: 0.02000116929411888\t \n",
            "Topic: 0.009*\"nuclear\" + 0.006*\"iran\" + 0.006*\"wast\" + 0.006*\"list\" + 0.005*\"govt\" + 0.005*\"dump\" + 0.005*\"hospit\" + 0.005*\"surgeri\" + 0.005*\"cancer\" + 0.004*\"medic\"\n",
            "\n",
            "Score: 0.020001132041215897\t \n",
            "Topic: 0.007*\"labor\" + 0.006*\"rudd\" + 0.006*\"govt\" + 0.006*\"violenc\" + 0.006*\"costello\" + 0.006*\"beazley\" + 0.005*\"whale\" + 0.005*\"spend\" + 0.005*\"say\" + 0.005*\"senat\"\n",
            "\n",
            "Score: 0.020001020282506943\t \n",
            "Topic: 0.007*\"titl\" + 0.006*\"world\" + 0.006*\"final\" + 0.006*\"liber\" + 0.005*\"open\" + 0.005*\"england\" + 0.005*\"tiger\" + 0.004*\"aussi\" + 0.004*\"win\" + 0.004*\"australia\"\n",
            "\n",
            "Score: 0.020000983029603958\t \n",
            "Topic: 0.019*\"charg\" + 0.018*\"polic\" + 0.014*\"court\" + 0.013*\"murder\" + 0.012*\"jail\" + 0.010*\"arrest\" + 0.010*\"face\" + 0.009*\"assault\" + 0.008*\"accus\" + 0.008*\"child\"\n"
          ]
        }
      ]
    },
    {
      "cell_type": "markdown",
      "metadata": {
        "id": "Qpwg-G9sbVXT"
      },
      "source": [
        "## Step 6: Testing model on unseen document ##"
      ]
    },
    {
      "cell_type": "code",
      "metadata": {
        "id": "kbukFMvdbVXT",
        "colab": {
          "base_uri": "https://localhost:8080/"
        },
        "outputId": "9d23d19b-ec69-4e4e-89fb-9a7ddb1c7f8d"
      },
      "source": [
        "unseen_document = \"My favorite sports activities are running and swimming.\"\n",
        "\n",
        "# Data preprocessing step for the unseen document\n",
        "bow_vector = dictionary.doc2bow(preprocess(unseen_document))\n",
        "\n",
        "for index, score in sorted(lda_model[bow_vector], key=lambda tup: -1*tup[1]):\n",
        "    print(\"Score: {}\\t Topic: {}\".format(score, lda_model.print_topic(index, 5)))"
      ],
      "execution_count": null,
      "outputs": [
        {
          "output_type": "stream",
          "name": "stdout",
          "text": [
            "Score: 0.4200000762939453\t Topic: 0.022*\"closer\" + 0.021*\"test\" + 0.020*\"lead\" + 0.017*\"talk\" + 0.014*\"south\"\n",
            "Score: 0.2199999839067459\t Topic: 0.017*\"return\" + 0.017*\"hold\" + 0.014*\"question\" + 0.014*\"work\" + 0.013*\"resid\"\n",
            "Score: 0.21999160945415497\t Topic: 0.040*\"charg\" + 0.035*\"court\" + 0.033*\"face\" + 0.022*\"kill\" + 0.020*\"murder\"\n",
            "Score: 0.02000431902706623\t Topic: 0.036*\"report\" + 0.025*\"opposit\" + 0.023*\"power\" + 0.014*\"win\" + 0.013*\"say\"\n",
            "Score: 0.020003976300358772\t Topic: 0.037*\"crash\" + 0.025*\"jail\" + 0.021*\"road\" + 0.017*\"die\" + 0.016*\"death\"\n",
            "Score: 0.019999999552965164\t Topic: 0.092*\"polic\" + 0.028*\"seek\" + 0.025*\"investig\" + 0.022*\"miss\" + 0.016*\"search\"\n",
            "Score: 0.019999999552965164\t Topic: 0.016*\"record\" + 0.014*\"break\" + 0.014*\"australia\" + 0.013*\"look\" + 0.012*\"rain\"\n",
            "Score: 0.019999999552965164\t Topic: 0.051*\"water\" + 0.033*\"warn\" + 0.015*\"industri\" + 0.015*\"continu\" + 0.013*\"farmer\"\n",
            "Score: 0.019999999552965164\t Topic: 0.017*\"elect\" + 0.016*\"iraq\" + 0.014*\"howard\" + 0.013*\"market\" + 0.013*\"labor\"\n",
            "Score: 0.019999999552965164\t Topic: 0.060*\"govt\" + 0.030*\"council\" + 0.024*\"fund\" + 0.023*\"plan\" + 0.020*\"urg\"\n"
          ]
        }
      ]
    },
    {
      "cell_type": "markdown",
      "metadata": {
        "id": "bo6hzXyXbVXT"
      },
      "source": [
        "### Now, look up different ways we can transform our words or use different techniques or improvements that we can make to make our Topic Classifier more accurate. Write them down below:"
      ]
    },
    {
      "cell_type": "markdown",
      "metadata": {
        "id": "T42G2w4EbVXT"
      },
      "source": [
        "**We can:**\n",
        "\n",
        "Append points here\n",
        "- Domain Specific Features in the Corpus\n",
        "- Use An Exhaustive Stopword List\n",
        "- Noise Free Corpus\n",
        "- Eliminating features with extremely low frequency\n",
        "- Normalized Corpus\n",
        "- Use Complex Features: n-grams and part of speech tags\n"
      ]
    }
  ]
}