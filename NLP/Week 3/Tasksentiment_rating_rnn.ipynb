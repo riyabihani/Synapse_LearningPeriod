{
 "cells": [
  {
   "cell_type": "markdown",
   "metadata": {
    "id": "-c_o-kM-TIrX"
   },
   "source": [
    "# <font color='#6629b2'>Predicting sentiment ratings with RNN using Keras</font>\n"
   ]
  },
  {
   "cell_type": "markdown",
   "metadata": {
    "id": "RMZs-QO9TIrc"
   },
   "source": [
    "## <font color='#6629b2'>Study Material</font>\n",
    "- https://web.stanford.edu/~jurafsky/slp3/9.pdf\n",
    "- https://www.youtube.com/watch?v=UNmqTiOnRfg\n",
    "- https://www.youtube.com/watch?v=WCUNPb-5EYI\n",
    "- https://www.youtube.com/watch?v=OuYtk9Ymut4"
   ]
  },
  {
   "cell_type": "markdown",
   "metadata": {
    "id": "mT96DfbMTIrd"
   },
   "source": [
    "## <font color='#6629b2'>Dataset</font>\n",
    "\n",
    "The Large Movie Review Datasetconsists of 50,000 movie reviews from [IMDB](http://www.imdb.com/). The ratings are on a 1-10 scale, but the dataset specifically contains \"polarized\" reviews: positive reviews with a rating of 7 or higher, and negative reviews with a rating of 4 or lower. There are an equal number of positive and negative reviews. \n",
    "\n",
    "You can download the dataset from: https://www.kaggle.com/lakshmi25npathi/imdb-dataset-of-50k-movie-reviews"
   ]
  },
  {
   "cell_type": "code",
   "execution_count": 21,
   "metadata": {
    "colab": {
     "base_uri": "https://localhost:8080/",
     "height": 423
    },
    "executionInfo": {
     "elapsed": 1061,
     "status": "ok",
     "timestamp": 1638280762464,
     "user": {
      "displayName": "Shruti Prasad",
      "photoUrl": "https://lh3.googleusercontent.com/a/default-user=s64",
      "userId": "00085333802018642516"
     },
     "user_tz": -330
    },
    "id": "wofcABBYTIrd",
    "outputId": "6cd5f789-b811-4081-c828-27dabe8b7f00"
   },
   "outputs": [
    {
     "data": {
      "text/html": [
       "<div>\n",
       "<style scoped>\n",
       "    .dataframe tbody tr th:only-of-type {\n",
       "        vertical-align: middle;\n",
       "    }\n",
       "\n",
       "    .dataframe tbody tr th {\n",
       "        vertical-align: top;\n",
       "    }\n",
       "\n",
       "    .dataframe thead th {\n",
       "        text-align: right;\n",
       "    }\n",
       "</style>\n",
       "<table border=\"1\" class=\"dataframe\">\n",
       "  <thead>\n",
       "    <tr style=\"text-align: right;\">\n",
       "      <th></th>\n",
       "      <th>review</th>\n",
       "      <th>sentiment</th>\n",
       "    </tr>\n",
       "  </thead>\n",
       "  <tbody>\n",
       "    <tr>\n",
       "      <th>0</th>\n",
       "      <td>One of the other reviewers has mentioned that ...</td>\n",
       "      <td>positive</td>\n",
       "    </tr>\n",
       "    <tr>\n",
       "      <th>1</th>\n",
       "      <td>A wonderful little production. &lt;br /&gt;&lt;br /&gt;The...</td>\n",
       "      <td>positive</td>\n",
       "    </tr>\n",
       "    <tr>\n",
       "      <th>2</th>\n",
       "      <td>I thought this was a wonderful way to spend ti...</td>\n",
       "      <td>positive</td>\n",
       "    </tr>\n",
       "    <tr>\n",
       "      <th>3</th>\n",
       "      <td>Basically there's a family where a little boy ...</td>\n",
       "      <td>negative</td>\n",
       "    </tr>\n",
       "    <tr>\n",
       "      <th>4</th>\n",
       "      <td>Petter Mattei's \"Love in the Time of Money\" is...</td>\n",
       "      <td>positive</td>\n",
       "    </tr>\n",
       "    <tr>\n",
       "      <th>...</th>\n",
       "      <td>...</td>\n",
       "      <td>...</td>\n",
       "    </tr>\n",
       "    <tr>\n",
       "      <th>595</th>\n",
       "      <td>I read the book before watching the movie and ...</td>\n",
       "      <td>positive</td>\n",
       "    </tr>\n",
       "    <tr>\n",
       "      <th>596</th>\n",
       "      <td>Years ago, Sara, a young girl witnessed her pa...</td>\n",
       "      <td>negative</td>\n",
       "    </tr>\n",
       "    <tr>\n",
       "      <th>597</th>\n",
       "      <td>In short if you want to watch Burt Reynolds be...</td>\n",
       "      <td>positive</td>\n",
       "    </tr>\n",
       "    <tr>\n",
       "      <th>598</th>\n",
       "      <td>I have watched Love Jones over thirty times. I...</td>\n",
       "      <td>positive</td>\n",
       "    </tr>\n",
       "    <tr>\n",
       "      <th>599</th>\n",
       "      <td>The basic genre is a thriller intercut with an...</td>\n",
       "      <td>negative</td>\n",
       "    </tr>\n",
       "  </tbody>\n",
       "</table>\n",
       "<p>600 rows × 2 columns</p>\n",
       "</div>"
      ],
      "text/plain": [
       "                                                review sentiment\n",
       "0    One of the other reviewers has mentioned that ...  positive\n",
       "1    A wonderful little production. <br /><br />The...  positive\n",
       "2    I thought this was a wonderful way to spend ti...  positive\n",
       "3    Basically there's a family where a little boy ...  negative\n",
       "4    Petter Mattei's \"Love in the Time of Money\" is...  positive\n",
       "..                                                 ...       ...\n",
       "595  I read the book before watching the movie and ...  positive\n",
       "596  Years ago, Sara, a young girl witnessed her pa...  negative\n",
       "597  In short if you want to watch Burt Reynolds be...  positive\n",
       "598  I have watched Love Jones over thirty times. I...  positive\n",
       "599  The basic genre is a thriller intercut with an...  negative\n",
       "\n",
       "[600 rows x 2 columns]"
      ]
     },
     "execution_count": 21,
     "metadata": {},
     "output_type": "execute_result"
    }
   ],
   "source": [
    "'''Load the dataset into variable \"reviews\". You can truncate the dataset to keep a few hundred records if it's\n",
    "    taking too long to process/train. Keep in mind, bigger the dataset, higher the accuracy score!\n",
    "'''\n",
    "import pandas as pd\n",
    "reviews = pd.read_csv('IMDB Dataset.csv')\n",
    "reviews = reviews.truncate(after = 599)\n",
    "\n",
    "reviews"
   ]
  },
  {
   "cell_type": "code",
   "execution_count": 22,
   "metadata": {
    "executionInfo": {
     "elapsed": 17,
     "status": "ok",
     "timestamp": 1638280762466,
     "user": {
      "displayName": "Shruti Prasad",
      "photoUrl": "https://lh3.googleusercontent.com/a/default-user=s64",
      "userId": "00085333802018642516"
     },
     "user_tz": -330
    },
    "id": "m37dkz90TIre"
   },
   "outputs": [],
   "source": [
    "#Split the data into train and split\n",
    "import numpy as np\n",
    "from sklearn.model_selection import train_test_split\n",
    "X=reviews.review\n",
    "y=reviews.sentiment\n",
    "\n",
    "X_train, X_test, y_train, y_test = train_test_split(X, y, test_size = 0.3,random_state=20)\n"
   ]
  },
  {
   "cell_type": "code",
   "execution_count": 23,
   "metadata": {
    "colab": {
     "base_uri": "https://localhost:8080/",
     "height": 423
    },
    "executionInfo": {
     "elapsed": 17,
     "status": "ok",
     "timestamp": 1638280762468,
     "user": {
      "displayName": "Shruti Prasad",
      "photoUrl": "https://lh3.googleusercontent.com/a/default-user=s64",
      "userId": "00085333802018642516"
     },
     "user_tz": -330
    },
    "id": "TtmCuEz5TIrf",
    "outputId": "cd4ccb67-98de-4fe3-e448-b121faad1f4f"
   },
   "outputs": [
    {
     "data": {
      "text/html": [
       "<div>\n",
       "<style scoped>\n",
       "    .dataframe tbody tr th:only-of-type {\n",
       "        vertical-align: middle;\n",
       "    }\n",
       "\n",
       "    .dataframe tbody tr th {\n",
       "        vertical-align: top;\n",
       "    }\n",
       "\n",
       "    .dataframe thead th {\n",
       "        text-align: right;\n",
       "    }\n",
       "</style>\n",
       "<table border=\"1\" class=\"dataframe\">\n",
       "  <thead>\n",
       "    <tr style=\"text-align: right;\">\n",
       "      <th></th>\n",
       "      <th>sentiment</th>\n",
       "    </tr>\n",
       "  </thead>\n",
       "  <tbody>\n",
       "    <tr>\n",
       "      <th>493</th>\n",
       "      <td>1</td>\n",
       "    </tr>\n",
       "    <tr>\n",
       "      <th>172</th>\n",
       "      <td>1</td>\n",
       "    </tr>\n",
       "    <tr>\n",
       "      <th>352</th>\n",
       "      <td>0</td>\n",
       "    </tr>\n",
       "    <tr>\n",
       "      <th>506</th>\n",
       "      <td>0</td>\n",
       "    </tr>\n",
       "    <tr>\n",
       "      <th>595</th>\n",
       "      <td>1</td>\n",
       "    </tr>\n",
       "    <tr>\n",
       "      <th>...</th>\n",
       "      <td>...</td>\n",
       "    </tr>\n",
       "    <tr>\n",
       "      <th>508</th>\n",
       "      <td>0</td>\n",
       "    </tr>\n",
       "    <tr>\n",
       "      <th>476</th>\n",
       "      <td>1</td>\n",
       "    </tr>\n",
       "    <tr>\n",
       "      <th>475</th>\n",
       "      <td>1</td>\n",
       "    </tr>\n",
       "    <tr>\n",
       "      <th>235</th>\n",
       "      <td>1</td>\n",
       "    </tr>\n",
       "    <tr>\n",
       "      <th>89</th>\n",
       "      <td>0</td>\n",
       "    </tr>\n",
       "  </tbody>\n",
       "</table>\n",
       "<p>180 rows × 1 columns</p>\n",
       "</div>"
      ],
      "text/plain": [
       "     sentiment\n",
       "493          1\n",
       "172          1\n",
       "352          0\n",
       "506          0\n",
       "595          1\n",
       "..         ...\n",
       "508          0\n",
       "476          1\n",
       "475          1\n",
       "235          1\n",
       "89           0\n",
       "\n",
       "[180 rows x 1 columns]"
      ]
     },
     "execution_count": 23,
     "metadata": {},
     "output_type": "execute_result"
    }
   ],
   "source": [
    "# convert the above train test datasets into a pandas dataframe. You shoud have 4 dataframes.\n",
    "# Name them train_reviews, test_reviews, train_sentiment, test_sentiment.\n",
    "# In train_sentiment and test_sentiment, convert \"positive\" to 1 and \"negative\" to 0\n",
    "train_reviews = pd.DataFrame(data=X_train, columns=['review'])\n",
    "test_reviews = pd.DataFrame(data=X_test, columns=['review'])\n",
    "train_sentiment= pd.DataFrame(data=y_train, columns=['sentiment'])\n",
    "test_sentiment = pd.DataFrame(data=y_test, columns=['sentiment'])\n",
    "\n",
    "\n",
    "train_sentiment['sentiment']=train_sentiment['sentiment'].replace(['positive'],1)\n",
    "train_sentiment['sentiment']=train_sentiment['sentiment'].replace(['negative'],0)\n",
    "test_sentiment['sentiment']=test_sentiment['sentiment'].replace(['positive'],1)\n",
    "test_sentiment['sentiment']=test_sentiment['sentiment'].replace(['negative'],0)\n",
    "\n",
    "test_sentiment"
   ]
  },
  {
   "cell_type": "code",
   "execution_count": 24,
   "metadata": {
    "colab": {
     "base_uri": "https://localhost:8080/",
     "height": 206
    },
    "executionInfo": {
     "elapsed": 19,
     "status": "ok",
     "timestamp": 1638280762473,
     "user": {
      "displayName": "Shruti Prasad",
      "photoUrl": "https://lh3.googleusercontent.com/a/default-user=s64",
      "userId": "00085333802018642516"
     },
     "user_tz": -330
    },
    "id": "uyaMsAATTIrg",
    "outputId": "d0509728-521e-4923-f3a0-8e7de7f09909"
   },
   "outputs": [
    {
     "data": {
      "text/html": [
       "<div>\n",
       "<style scoped>\n",
       "    .dataframe tbody tr th:only-of-type {\n",
       "        vertical-align: middle;\n",
       "    }\n",
       "\n",
       "    .dataframe tbody tr th {\n",
       "        vertical-align: top;\n",
       "    }\n",
       "\n",
       "    .dataframe thead th {\n",
       "        text-align: right;\n",
       "    }\n",
       "</style>\n",
       "<table border=\"1\" class=\"dataframe\">\n",
       "  <thead>\n",
       "    <tr style=\"text-align: right;\">\n",
       "      <th></th>\n",
       "      <th>review</th>\n",
       "    </tr>\n",
       "  </thead>\n",
       "  <tbody>\n",
       "    <tr>\n",
       "      <th>325</th>\n",
       "      <td>Although most Americans have little knowledge ...</td>\n",
       "    </tr>\n",
       "    <tr>\n",
       "      <th>553</th>\n",
       "      <td>This movie pretty much sucked. I'm in the Army...</td>\n",
       "    </tr>\n",
       "    <tr>\n",
       "      <th>582</th>\n",
       "      <td>I would recommend this film to anyone who is s...</td>\n",
       "    </tr>\n",
       "    <tr>\n",
       "      <th>488</th>\n",
       "      <td>A fey story of a Martian attempt to colonize E...</td>\n",
       "    </tr>\n",
       "    <tr>\n",
       "      <th>496</th>\n",
       "      <td>First off, I have to say that I loved the book...</td>\n",
       "    </tr>\n",
       "  </tbody>\n",
       "</table>\n",
       "</div>"
      ],
      "text/plain": [
       "                                                review\n",
       "325  Although most Americans have little knowledge ...\n",
       "553  This movie pretty much sucked. I'm in the Army...\n",
       "582  I would recommend this film to anyone who is s...\n",
       "488  A fey story of a Martian attempt to colonize E...\n",
       "496  First off, I have to say that I loved the book..."
      ]
     },
     "execution_count": 24,
     "metadata": {},
     "output_type": "execute_result"
    }
   ],
   "source": [
    "train_reviews.head()"
   ]
  },
  {
   "cell_type": "markdown",
   "metadata": {
    "id": "WuGUdAm8TIrg"
   },
   "source": [
    "## <font color='#6629b2'>Preparing the data</font>\n",
    "\n",
    "###  <font color='#6629b2'>Tokenization</font>\n",
    "\n",
    "The first preprocessing step is to tokenize each of the reviews into (lowercased) individual words, since the models will encode the reviews at the word level (rather than subword units like characters, for example). For this we'll use [spaCy](https://spacy.io/), which is a fast and extremely user-friendly library that performs various language processing tasks. Once you load a spaCy model for a particular language, you can provide any text as input to the model, e.g. encoder(text) and access its linguistic features."
   ]
  },
  {
   "cell_type": "code",
   "execution_count": 27,
   "metadata": {
    "colab": {
     "base_uri": "https://localhost:8080/",
     "height": 363
    },
    "executionInfo": {
     "elapsed": 34800,
     "status": "ok",
     "timestamp": 1638280797255,
     "user": {
      "displayName": "Shruti Prasad",
      "photoUrl": "https://lh3.googleusercontent.com/a/default-user=s64",
      "userId": "00085333802018642516"
     },
     "user_tz": -330
    },
    "id": "rSMChzJcTIrh",
    "outputId": "030495d1-da5f-4ea2-9e05-50d1c9fd7b26"
   },
   "outputs": [
    {
     "data": {
      "text/html": [
       "<div>\n",
       "<style scoped>\n",
       "    .dataframe tbody tr th:only-of-type {\n",
       "        vertical-align: middle;\n",
       "    }\n",
       "\n",
       "    .dataframe tbody tr th {\n",
       "        vertical-align: top;\n",
       "    }\n",
       "\n",
       "    .dataframe thead th {\n",
       "        text-align: right;\n",
       "    }\n",
       "</style>\n",
       "<table border=\"1\" class=\"dataframe\">\n",
       "  <thead>\n",
       "    <tr style=\"text-align: right;\">\n",
       "      <th></th>\n",
       "      <th>review</th>\n",
       "      <th>Tokenized_Review</th>\n",
       "    </tr>\n",
       "  </thead>\n",
       "  <tbody>\n",
       "    <tr>\n",
       "      <th>325</th>\n",
       "      <td>Although most Americans have little knowledge ...</td>\n",
       "      <td>[although, most, americans, have, little, know...</td>\n",
       "    </tr>\n",
       "    <tr>\n",
       "      <th>553</th>\n",
       "      <td>This movie pretty much sucked. I'm in the Army...</td>\n",
       "      <td>[this, movie, pretty, much, sucked, ., i, 'm, ...</td>\n",
       "    </tr>\n",
       "    <tr>\n",
       "      <th>582</th>\n",
       "      <td>I would recommend this film to anyone who is s...</td>\n",
       "      <td>[i, would, recommend, this, film, to, anyone, ...</td>\n",
       "    </tr>\n",
       "    <tr>\n",
       "      <th>488</th>\n",
       "      <td>A fey story of a Martian attempt to colonize E...</td>\n",
       "      <td>[a, fey, story, of, a, martian, attempt, to, c...</td>\n",
       "    </tr>\n",
       "    <tr>\n",
       "      <th>496</th>\n",
       "      <td>First off, I have to say that I loved the book...</td>\n",
       "      <td>[first, off, ,, i, have, to, say, that, i, lov...</td>\n",
       "    </tr>\n",
       "    <tr>\n",
       "      <th>76</th>\n",
       "      <td>The Last Hard Men finds James Coburn an outlaw...</td>\n",
       "      <td>[the, last, hard, men, finds, james, coburn, a...</td>\n",
       "    </tr>\n",
       "    <tr>\n",
       "      <th>427</th>\n",
       "      <td>This is an OK adaptation of the breath taking ...</td>\n",
       "      <td>[this, is, an, ok, adaptation, of, the, breath...</td>\n",
       "    </tr>\n",
       "    <tr>\n",
       "      <th>550</th>\n",
       "      <td>A response to previous comments made by reside...</td>\n",
       "      <td>[a, response, to, previous, comments, made, by...</td>\n",
       "    </tr>\n",
       "    <tr>\n",
       "      <th>329</th>\n",
       "      <td>What a surprisingly good movie this one turned...</td>\n",
       "      <td>[what, a, surprisingly, good, movie, this, one...</td>\n",
       "    </tr>\n",
       "    <tr>\n",
       "      <th>260</th>\n",
       "      <td>Paul Verhoeven's predecessor to his breakout h...</td>\n",
       "      <td>[paul, verhoeven, 's, predecessor, to, his, br...</td>\n",
       "    </tr>\n",
       "  </tbody>\n",
       "</table>\n",
       "</div>"
      ],
      "text/plain": [
       "                                                review  \\\n",
       "325  Although most Americans have little knowledge ...   \n",
       "553  This movie pretty much sucked. I'm in the Army...   \n",
       "582  I would recommend this film to anyone who is s...   \n",
       "488  A fey story of a Martian attempt to colonize E...   \n",
       "496  First off, I have to say that I loved the book...   \n",
       "76   The Last Hard Men finds James Coburn an outlaw...   \n",
       "427  This is an OK adaptation of the breath taking ...   \n",
       "550  A response to previous comments made by reside...   \n",
       "329  What a surprisingly good movie this one turned...   \n",
       "260  Paul Verhoeven's predecessor to his breakout h...   \n",
       "\n",
       "                                      Tokenized_Review  \n",
       "325  [although, most, americans, have, little, know...  \n",
       "553  [this, movie, pretty, much, sucked, ., i, 'm, ...  \n",
       "582  [i, would, recommend, this, film, to, anyone, ...  \n",
       "488  [a, fey, story, of, a, martian, attempt, to, c...  \n",
       "496  [first, off, ,, i, have, to, say, that, i, lov...  \n",
       "76   [the, last, hard, men, finds, james, coburn, a...  \n",
       "427  [this, is, an, ok, adaptation, of, the, breath...  \n",
       "550  [a, response, to, previous, comments, made, by...  \n",
       "329  [what, a, surprisingly, good, movie, this, one...  \n",
       "260  [paul, verhoeven, 's, predecessor, to, his, br...  "
      ]
     },
     "execution_count": 27,
     "metadata": {},
     "output_type": "execute_result"
    }
   ],
   "source": [
    "'''Lowercase and tokenise all the reviews in train_reviews using spacy'''\n",
    "import nltk\n",
    "from nltk.tokenize import word_tokenize\n",
    "train_reviews['Tokenized_Review'] = train_reviews['review'].str.lower().apply(word_tokenize)\n",
    "train_reviews[['review','Tokenized_Review']][:10]"
   ]
  },
  {
   "cell_type": "markdown",
   "metadata": {
    "id": "Q5d_S7vxTIri"
   },
   "source": [
    "###  <font color='#6629b2'>Lexicon</font>"
   ]
  },
  {
   "cell_type": "markdown",
   "metadata": {
    "id": "nEvc8N0LTIri"
   },
   "source": [
    "Then we need to assemble a lexicon (aka vocabulary) of words that the model needs to know. Each tokenized word in the reviews is added to the lexicon, and then each word is mapped to a numerical index that can be read by the model. Since large datasets may contain a huge number of unique words, it's common to filter all words occurring less than a certain number of times, and replace them with some generic &lt;UNK&gt; token. The min_freq parameter in the function below defines this threshold. When assigning the indices, the number 1 will represent unknown words. The number 0 will represent \"empty\" word slots, which is explained below. Therefore \"real\" words will have indices of 2 or higher."
   ]
  },
  {
   "cell_type": "code",
   "execution_count": 28,
   "metadata": {
    "colab": {
     "base_uri": "https://localhost:8080/"
    },
    "executionInfo": {
     "elapsed": 37,
     "status": "ok",
     "timestamp": 1638280797256,
     "user": {
      "displayName": "Shruti Prasad",
      "photoUrl": "https://lh3.googleusercontent.com/a/default-user=s64",
      "userId": "00085333802018642516"
     },
     "user_tz": -330
    },
    "id": "-LfM1WntTIri",
    "outputId": "ab9221c6-d766-4314-949c-7fcd69c4838b"
   },
   "outputs": [
    {
     "name": "stdout",
     "output_type": "stream",
     "text": [
      "{'although': 2, 'most': 3, 'americans': 4, 'have': 5, 'little': 6, 'knowledge': 7, 'of': 8, 'his': 9, 'work': 10, 'other': 11, 'than': 12, 'star': 13, 'wars': 14, ',': 15, 'alec': 16, 'guinness': 17, 'produced': 18, 'an': 19, 'amazing': 20, 'body': 21, '--': 22, 'particularly': 23, 'in': 24, 'the': 25, '1940s-1950s': 26, 'ranging': 27, 'from': 28, 'dramas': 29, 'to': 30, 'quirky': 31, 'comedies': 32, '.': 33, 'i': 34, 'love': 35, 'as': 36, 'they': 37, 'are': 38, 'so': 39, 'well-done': 40, 'and': 41, 'seem': 42, 'natural': 43, 'real': 44, 'on': 45, 'screen': 46, 'far': 47, 'different': 48, 'usual': 49, 'fare': 50, 'hollywood.': 51, '<': 52, 'br': 53, '/': 54, '>': 55, 'this': 56, 'being': 57, 'said': 58, 'was': 59, 'film': 60, 'that': 61, 'sparked': 62, 'my': 63, 'interest': 64, 'these': 65, 'movies': 66, 'it': 67, \"'s\": 68, 'plot': 69, 'odd': 70, 'cute': 71, 'is': 72, 'very': 73, 'unlikely': 74, 'would': 75, 'been': 76, 'made': 77, 'anywhere': 78, 'except': 79, 'for': 80, 'ealing': 81, 'studios': 82, 'which': 83, 'had': 84, 'a': 85, 'particular': 86, 'fondness': 87, '``': 88, \"''\": 89, 'films': 90, 'like': 91, 'one.': 92, 'nerdy': 93, 'scientist': 94, 'works': 95, 'textile': 96, 'company': 97, 'he': 98, 'wants': 99, 'experiment': 100, 'order': 101, 'create': 102, 'synthetic': 103, 'fabric': 104, 'indestructible': 105, 'though': 106, 'not': 107, 'working': 108, 'researcher': 109, 'but': 110, 'janitorial': 111, '!': 112, 'tends': 113, 'sneak': 114, 'into': 115, 'labs': 116, '(': 117, 'either': 118, 'during': 119, 'day': 120, 'if': 121, 'no': 122, 'one': 123, 'suspects': 124, 'or': 125, 'at': 126, 'night': 127, ')': 128, 'try': 129, 'hand': 130, 'inventing': 131, 'repeatedly': 132, 'caught': 133, 'such': 134, 'after': 135, 'blew': 136, 'up': 137, 'lab': 138, 'given': 139, 'boot': 140, 'until': 141, 'actually': 142, 'succeeds': 143, 'then': 144, 'despite': 145, 'importance': 146, 'discovery': 147, 'sets': 148, 'off': 149, 'completely': 150, 'unanticipated': 151, 'chain': 152, 'events': 153, 'fun': 154, 'begins.': 155, 'wonderful': 156, 'satire': 157, 'pokes': 158, 'industry': 159, 'unions': 160, 'government': 161, 'people': 162, 'general': 163, 'movie': 164, 'pretty': 165, 'much': 166, 'sucked': 167, \"'m\": 168, 'army': 169, 'soldiers': 170, 'depicted': 171, 'horrible': 172, 'your': 173, 'military': 174, 'you': 175, 'see': 176, \"'ll\": 177, 'laugh': 178, 'be': 179, 'upset': 180, 'entire': 181, 'because': 182, 'way': 183, 'acted': 184, 'squad': 185, 'ridiculous': 186, 'bunch': 187, 'normal': 188, 'with': 189, 'uniforms': 190, 'knowing': 191, 'what': 192, 'do': 193, 'gory': 194, \"'d\": 195, 'say': 196, 'least': 197, 'there': 198, 'couple': 199, 'scenes': 200, 'where': 201, 'make': 202, 'jump': 203, 'recommend': 204, 'seeing': 205, 'bored': 206, 'want': 207, 'violent': 208, 'will': 209, 'better': 210, 'also': 211, 'liked': 212, 'first': 213, 'anyone': 214, 'who': 215, 'searching': 216, 'relaxing': 217, 'fun-filled': 218, 'thought-provoking': 219, 'absence': 220, 'sex': 221, 'vulgarities': 222, 'violence': 223, 'pleasant': 224, 'evening': 225, 'especially': 226, 'enjoyed': 227, 'buffalo': 228, 'scene': 229, 'probably': 230, 'live': 231, 'short': 232, 'distance': 233, 'even': 234, 'could': 235, 'any': 236, 'city': 237, ';': 238, 'theme': 239, 'important': 240, 'here': 241, 'just': 242, 'grateful': 243, 'manna': 244, 'heaven': 245, 'dropped': 246, 'down': 247, 'us': 248, '...': 249, 'fey': 250, 'story': 251, 'martian': 252, 'attempt': 253, 'colonize': 254, 'earth': 255, 'things': 256, 'must': 257, 'bad': 258, 'back': 259, 'mars': 260, 'two': 261, 'state': 262, 'troopers': 263, 'investigate': 264, 'reported': 265, 'ufo': 266, 'crash': 267, 'whatever': 268, 'landed': 269, 'buried': 270, 'under': 271, 'ice': 272, 'tracy': 273, 'pond': 274, 'footsteps': 275, 'snow': 276, 'leading': 277, 'nearby': 278, 'diner.': 279, 'diner': 280, 'has': 281, 'customers': 282, 'since': 283, 'eleven': 284, \"o'clock\": 285, 'morning': 286, 'now': 287, 'handful': 288, 'bus': 289, 'passengers': 290, 'sitting': 291, 'around': 292, 'waiting': 293, 'permission': 294, 'cross': 295, 'structurally': 296, 'weak': 297, 'bridge': 298, 'driver': 299, 'insists': 300, 'six': 301, 'were': 302, 'aboard': 303, 'did': 304, \"n't\": 305, 'notice': 306, 'problem': 307, 'seven': 308, 'journey': 309, 'resumed': 310, 'them': 311, 'alien': 312, '?': 313, 'all': 314, 'suspect': 315, 'crazy': 316, 'old': 317, 'man': 318, 'jack': 319, 'elam': 320, 'course': 321, 'seems': 322, 'exercise': 323, 'sub': 324, 'rosa': 325, 'wit': 326, 'blustering': 327, 'businessman': 328, 'get': 329, 'boston': 330, 'john': 331, 'hoyt': 332, 'young': 333, 'their': 334, 'honeymoon': 335, 'execrable': 336, 'performance': 337, 'by': 338, 'husband': 339, 'ron': 340, 'kipling': 341, 'couples': 342, 'nobody': 343, 'noticed': 344, 'else': 345, 'suspicious': 346, 'each': 347, 'bride': 348, 'newly': 349, 'minted': 350, ':': 351, 'sworn': 352, 'mole': 353, 'chin': 354, 'continues': 355, 'sprightly': 356, 'slightly': 357, 'spooky': 358, 'phone': 359, 'rings': 360, 'reason': 361, 'lights': 362, 'go': 363, 'juke': 364, 'box': 365, 'turns': 366, 'itself': 367, 'none': 368, 'taken': 369, 'seriously.': 370, 'thoroughly': 371, 'enjoyable': 372, 'ensemble': 373, 'play': 374, 'climactic': 375, 'revelation': 376, 'worth': 377, 'chuckle': 378, 'discernible': 379, 'depth': 380, 'moral': 381, 'message': 382, 'about': 383, 'pod': 384, 'masquerading': 385, 'citizens': 386, 'warning': 387, 'kind': 388, 'fairy': 389, 'tale': 390, 'diverts': 391, 'amuses.': 392, 'always': 393, 'enjoy': 394, 'when': 395, 'interesting': 396, 'irritable': 397, 'impatient': 398, '1954': 399, 'roman': 400, 'senator': 401, 'masterminded': 402, 'assassination': 403, 'julius': 404, 'caesar': 405, 'mgm': 406, 'version': 407, 'shakespeare': 408, 'three': 409, 'arms.': 410, 'oops': 411, 'loved': 412, 'book': 413, 'animal': 414, 'farm': 415, 'read': 416, '9th': 417, 'grade': 418, 'class': 419, 'great': 420, 'we': 421, 'decided': 422, 'watching': 423, 'beneficial': 424, 'disappointing': 425, 'me': 426, 'cuts': 427, 'out': 428, 'some': 429, 'characters': 430, 'misses': 431, 'lot': 432, 'main': 433, 'points': 434, 'skips': 435, 'does': 436, 'explain': 437, 'anything': 438, 'detail': 439, 'someone': 440, 'without': 441, 'having': 442, 'confused': 443, 'thing': 444, 'ending': 445, 'powerful': 446, 'changed': 447, 'supposed': 448, 'pigs': 449, 'men': 450, 'alliance': 451, 'sort': 452, 'melting': 453, 'together': 454, 'instead': 455, 'animals': 456, 'going': 457, 'rebel': 458, 'against': 459, 'sum': 460, 'think': 461, 'captured': 462, 'meaning': 463, 'orwell': 464, 'portrayed': 465, 'last': 466, 'hard': 467, 'finds': 468, 'james': 469, 'coburn': 470, 'outlaw': 471, 'doing': 472, 'long': 473, 'sentence': 474, 'breaking': 475, 'free': 476, 'gang': 477, 'friends': 478, 'head': 479, 'mexican': 480, 'border': 481, 'jail': 482, 'safety': 483, 'mission': 484, 'revenge': 485, 'kill': 486, 'peace': 487, 'officer': 488, 'brought': 489, 'him': 490, 'process': 491, 'killed': 492, 'woman.': 493, 'charlton': 494, 'heston': 495, 'retired': 496, 'knows': 497, 'explains': 498, 'daughter': 499, 'barbara': 500, 'hershey': 501, 'holed': 502, 'shack': 503, 'involved': 504, 'waco': 505, 'standoff': 506, 'indian': 507, 'woman': 508, 'hail': 509, 'bullets': 510, 'fired': 511, 'something': 512, 'proud': 513, 'she': 514, 'collateral': 515, 'casualty': 516, 'manhunt.': 517, 'lest': 518, 'feel': 519, 'sorry': 520, 'lets': 521, 'know': 522, 'full': 523, 'well': 524, 'evil': 525, 'truly': 526, 'stalwart': 527, 'hero': 528, 'acting': 529, 'honors': 530, 'blows': 531, 'everyone': 532, 'gets': 533, 'bright': 534, 'idea': 535, 'making': 536, 'sure': 537, 'trails': 538, 'kidnapping': 539, 'taking': 540, 'her': 541, 'reservation': 542, 'white': 543, 'authorities': 544, 'ca': 545, 'touch': 546, 'personal': 547, 'then.': 548, 'includes': 549, 'morgan': 550, 'paull': 551, 'thalmus': 552, 'rasulala': 553, 'quade': 554, 'larry': 555, 'wilcox': 556, 'jorge': 557, 'rivero': 558, 'chris': 559, 'mitchum': 560, 'along': 561, 'son-in-law': 562, 'be.': 563, 'nasty': 564, 'brutal': 565, 'western': 566, 'andrew': 567, 'mclaglen': 568, 'directed': 569, 'thinking': 570, 'may': 571, 'project': 572, 'originally': 573, 'intended': 574, 'sam': 575, 'peckinpaugh': 576, 'shows': 577, 'influence': 578, 'liberal': 579, 'use': 580, 'slow': 581, 'motion': 582, 'accentuate': 583, 'lite': 584, 'ok': 585, 'adaptation': 586, 'breath': 587, 'dan': 588, 'brown': 589, 'novel': 590, 'good': 591, 'can': 592, 'excellent': 593, 'result': 594, 'end': 595, 'feeling': 596, 'missing': 597, 'sound': 598, 'effects': 599, 'tracks': 600, 'done': 601, 'character': 602, 'development': 603, 'phase': 604, 'look': 605, 'happening': 606, 'too': 607, 'quickly': 608, 'point': 609, 'view': 610, 'trying': 611, 'put': 612, 'stuff': 613, 'tried': 614, 'more': 615, 'proper': 616, 'makes': 617, 'puzzle': 618, 'combined': 619, 'portrait': 620, 'vatican': 621, 'neither': 622, 'rush': 623, 'using': 624, 'time': 625, 'problems': 626, 'response': 627, 'previous': 628, 'comments': 629, 'residents': 630, 'region': 631, 'picture': 632, 'lensed': 633, 'person': 634, 'suggested': 635, 'closing': 636, 'destruction': 637, 'ocean': 638, 'amusement': 639, 'park': 640, 'led': 641, 'downturn': 642, 'surrounding': 643, 'neighborhoods': 644, 'simply': 645, 'true': 646, 'prior': 647, 'construction': 648, 'interstate': 649, '64': 650, 'bypasses': 651, 'area': 652, 'primary': 653, 'route': 654, 'traffic': 655, 'went': 656, 'through': 657, 'heart': 658, 'once': 659, 'completed': 660, 'rapidly': 661, 'became': 662, 'ghost': 663, 'town': 664, 'businesses': 665, 'increase': 666, 'crime': 667, 'huge': 668, 'reduction': 669, 'revenues': 670, 'faced': 671, 'new': 672, 'competition': 673, 'busch': 674, 'gardens': 675, 'williamsburg': 676, 'meanwhile': 677, 'past': 678, 'few': 679, 'years': 680, 'norfolk': 681, 'remarkable': 682, 'job': 683, 'fostering': 684, 'redevelopment': 685, 'become': 686, 'sought-after': 687, 'location': 688, 'high-end': 689, 'housing.': 690, 'footage': 691, 'roller': 692, 'coaster': 693, 'used': 694, 'rollercoaster': 695, 'untrue': 696, 'shot': 697, 'cars': 698, 'careening': 699, 'ride': 700, 'actual': 701, 'explosions': 702, 'collapse': 703, 'exclusive': 704, 'death': 705, 'storyline': 706, 'supernatural': 707, 'force': 708, 'water': 709, 'adjacent': 710, 'certainly': 711, 'silly': 712, 'somewhat': 713, 'typical': 714, 'b-grade': 715, 'cast': 716, 'should': 717, 'surprise': 718, 'scenery': 719, 'gnawed': 720, 'almost': 721, 'every': 722, 'actors': 723, 'believe': 724, 'another': 725, 'citizen': 726, 'kane': 727, 'playboy': 728, 'experimenting': 729, 'non-nude': 730, 'format': 731, 'determine': 732, 'expand': 733, 'apparently': 734, 'strange': 735, 'causing': 736, 'sounded': 737, 'conference': 738, 'table': 739, 'proved': 740, 'unmanageable': 741, 'execution': 742, 'rest': 743, 'destined': 744, 'wrecking': 745, 'ball': 746, 'anyway': 747, 'let': 748, 'come': 749, 'weird': 750, 'justify': 751, 'explosive': 752, 'demise': 753, 'casual': 754, 'viewer': 755, 'forget': 756, 'diana': 757, 'canova': 758, 'fans': 759, 'thousands': 760, 'fond': 761, 'memories': 762, 'walk': 763, 'memory': 764, 'lane': 765, 'downtown': 766, 'harborfest': 767, 'dominion': 768, 'university': 769, 'limited': 770, 'release': 771, 'dvd': 772, 'welcome': 773, 'surprisingly': 774, 'turned': 775, 'type': 776, \"'ve\": 777, 'looking': 778, 'ages': 779, 'fantastic-looking': 780, 'chicago': 781, 'still': 782, 'keep': 783, 'cover': 784, 'justice': 785, 'superb': 786, 'top-5': 787, 'paul': 788, 'verhoeven': 789, 'predecessor': 790, 'breakout': 791, 'hit': 792, \"'basic\": 793, 'instinct': 794, \"'\": 795, 'stylish': 796, 'shocking': 797, 'neo-noir': 798, 'thriller': 799, 'known': 800, 'sleazy': 801, 'trash': 802, 'both': 803, 'native': 804, 'holland': 805, 'america': 806, 'reasons': 807, 'why': 808, 'fourth': 809, 'follows': 810, 'gerard': 811, 'reve': 812, 'played': 813, 'jeroen': 814, 'krabbé': 815, 'gay': 816, 'alcoholic': 817, 'mad': 818, 'writer': 819, 'goes': 820, 'vlissingen': 821, 'give': 822, 'talk': 823, 'stories': 824, 'writes': 825, 'while': 826, 'meets': 827, 'seductive': 828, 'christine': 829, 'halsslag': 830, 'renée': 831, 'soutendijk': 832, 'takes': 833, 'house': 834, 'discovers': 835, 'handsome': 836, 'lovers': 837, 'proclaims': 838, 'meet': 839, 'kills': 840, 'him.': 841, 'twists': 842, 'truth': 843, 'many': 844, 'times': 845, 'ensures': 846, 'never': 847, 'quite': 848, 'occurrences': 849, 'appear': 850, 'easily': 851, 'interpreted': 852, 'entirely': 853, 'keeps': 854, 'audience': 855, 'edge': 856, 'seats': 857, 'duration': 858, 'narrative': 859, 'thrives': 860, 'filmmaker': 861, 'feels': 862, 'restrain': 863, 'himself': 864, 'best': 865, 'features': 866, 'ill': 867, 'hours': 868, 'afterwards': 869, 'happen': 870, 'often': 871, 'wont': 872, 'spoil': 873, 'needs': 874, 'element': 875, 'mean': 876, 'uncut': 877, 'number': 878, 'macabre': 879, 'less': 880, 'mentioned': 881, 'lovely': 882, 'nonetheless': 883, 'eaten': 884, 'lions': 885, 'pipe': 886, 'sent': 887, 'skull': 888, 'boat': 889, 'smashed': 890, 'half': 891, 'lovely.': 892, 'write': 893, 'home': 894, 'solid': 895, 'throughout': 896, 'holds': 897, 'attention': 898, 'looks': 899, 'part': 900, 'drunken': 901, 'impresses': 902, 'femme': 903, 'fatale': 904, 'centre': 905, 'sharon': 906, 'stone': 907, 'imitate': 908, 'nine': 909, 'later': 910, 'basic': 911, 'original': 912, 'direction': 913, 'directs': 914, 'our': 915, 'numerous': 916, 'help': 917, 'mystery': 918, 'gone': 919, 'rubbish': 920, 'obviously': 921, 'talent': 922, 'shame': 923, 'seen': 924, 'might': 925, 'difficult': 926, 'across': 927, 'trust': 928, 'effort': 929, 'clifton': 930, 'webb': 931, 'favorites': 932, 'however': 933, 'mister': 934, 'scoutmaster': 935, 'patented': 936, 'curmudgeon': 937, 'role': 938, 'forced': 939, 'unpleasant': 940, 'rather': 941, 'funny': 942, 'overflowing': 943, 'mawkish': 944, 'sentimentality': 945, 'addition': 946, 'presented': 947, 'ham-handed': 948, 'references': 949, 'religious': 950, 'faith': 951, 'u.s.': 952, 'patriotism': 953, 'over-reverent': 954, 'genuine': 955, 'poor': 956, 'script': 957, 'edmund': 958, 'gwenn': 959, 'plays': 960, 'yet': 961, 'jovial': 962, 'clergyman': 963, 'nothing': 964, 'child': 965, 'actor': 966, 'lead': 967, 'talentless': 968, 'displays': 969, 'flat': 970, 'affect': 971, 'sole': 972, 'claim': 973, 'fame': 974, 'performer': 975, 'evidently': 976, 'bullfrog-like': 977, 'low': 978, 'voice': 979, 'unusual': 980, 'age': 981, 'heard': 982, 'need': 983, 'hear': 984, 'again': 985, 'unfortunately': 986, 'majority': 987, 'find': 988, 'irritating': 989, 'fast': 990, 'forward': 991, 'whenever': 992, 'means': 993, 'talented': 994, 'pity': 995, 'traditional': 996, 'broad-brimmed': 997, 'hat': 998, 'shorts': 999, 'sight': 1000, 'scary': 1001, 'crude': 1002, 'opening': 1003, 'gives': 1004, 'creepy': 1005, 'chainsaw': 1006, 'massacre': 1007, '-feeling': 1008, 'everything': 1009, 'falls': 1010, 'apart.': 1011, 'spoiler': 1012, 'alert': 1013, 'soon': 1014, 'fbi-officers': 1015, 'start': 1016, 'jabbing': 1017, 'killers': 1018, 'enough': 1019, 'fooled-ya': 1020, '-movies': 1021, 'figure': 1022, 'out.': 1023, 'mader': 1024, 'mind': 1025, 'depict': 1026, 'murders': 1027, 'girl': 1028, 'tortured': 1029, 'murdered': 1030, 'next': 1031, 'movie-goers': 1032, 'torture': 1033, 'abuse': 1034, 'children': 1035, 'whats': 1036, 'wrong': 1037, 'lynch': 1038, 'disgusting': 1039, 'ugly': 1040, 'show': 1041, 'really': 1042, 'depressing': 1043, 'hate': 1044, \"ri'chard\": 1045, 'top': 1046, 'notch': 1047, 'sister': 1048, 'awesome': 1049, 'gorgeous': 1050, 'seriously': 1051, 'thought': 1052, 'carmen': 1053, 'electra': 1054, 'saw': 1055, 'imdb': 1056, 'profile': 1057, 'peter': 1058, 'galleghar': 1059, 'favorite': 1060, 'anne': 1061, 'rice': 1062, 'currently': 1063, 'reading': 1064, 'vampire': 1065, 'chronicles': 1066, 'glad': 1067, 'before': 1068, 'prefer': 1069, 'lestat': 1070, 'louis': 1071, 'witty': 1072, 'tiffs': 1073, 'struggles': 1074, 'slaves': 1075, 'eartha': 1076, 'kitt': 1077, 'ruined': 1078, 'barely': 1079, 'stand': 1080, 'watch': 1081, 'ambiguity': 1082, 'away': 1083, 'howard': 1084, 'kevin': 1085, 'kline': 1086, 'teaches': 1087, 'english': 1088, 'high': 1089, 'school': 1090, 'small': 1091, 'indiana': 1092, 'finally': 1093, 'getting': 1094, 'married': 1095, 'emily': 1096, 'joan': 1097, 'cusack': 1098, 'parents': 1099, 'delight': 1100, 'abuzz': 1101, 'its': 1102, 'own': 1103, 'cameron': 1104, 'matt': 1105, 'dillon': 1106, 'nominated': 1107, 'oscar': 1108, 'including': 1109, 'academy': 1110, 'awards': 1111, 'television': 1112, 'declared': 1113, 'winner': 1114, 'acceptance': 1115, 'speech': 1116, 'announces': 1117, 'able': 1118, 'fulfill': 1119, 'lessons': 1120, 'learned': 1121, 'teacher': 1122, 'guessed': 1123, 'fact': 1124, 'believes': 1125, 'straight': 1126, 'whole': 1127, 'members': 1128, 'media': 1129, 'observing': 1130, 'happenings': 1131, 'ahead': 1132, 'realize': 1133, 'ceremony': 1134, 'humane': 1135, 'situation': 1136, 'man-who-did-not-realize-he-was-gay': 1137, 'touching': 1138, 'equally': 1139, 'fine': 1140, 'stitch': 1141, 'mixed-up': 1142, 'fiancé': 1143, 'bob': 1144, 'newhart': 1145, 'debbie': 1146, 'reynolds': 1147, 'tom': 1148, 'selleck': 1149, 'others': 1150, 'costumes': 1151, 'nice': 1152, 'setting': 1153, 'heartland': 1154, 'beautiful': 1155, 'production': 1156, 'insightful': 1157, 'humorous': 1158, 'thoughtful': 1159, 'population': 1160, 'asset': 1161, 'doubt': 1162, 'those': 1163, 'offended': 1164, 'gay-themed': 1165, 'yes': 1166, 'skip': 1167, 'over': 1168, 'heartily': 1169, 'gain': 1170, 'understanding': 1171, 'same': 1172, 'definitely': 1173, 'average': 1174, 'tame': 1175, 'fulci': 1176, 'giallo': 1177, 'standards': 1178, 'redeemed': 1179, 'build-up': 1180, 'touches': 1181, 'neat': 1182, 'twist': 1183, 'issues': 1184, 'visions': 1185, 'clairvoyance.': 1186, 'genre': 1187, 'well-known': 1188, 'weaknesses': 1189, 'gear': 1190, 'banal': 1191, 'dialogue': 1192, 'wooden': 1193, 'illogical': 1194, 'finale': 1195, 'denouement': 1196, 'proves': 1197, 'lame': 1198, 'shall': 1199, 'limp': 1200, 'affair.': 1201, 'ironic': 1202, 'handling': 1203, 'norms': 1204, 'amusing': 1205, 'yellow': 1206, 'clues': 1207, 'wherever': 1208, 'look.': 1209, '3': 1210, '10': 1211, 'limping': 1212, 'how': 1213, 'classified': 1214, 'drama': 1215, 'voight': 1216, 'mary': 1217, 'steenburgen': 1218, 'erase': 1219, 'cv': 1220, 'historically': 1221, 'accurate': 1222, 'xena': 1223, 'hercules': 1224, 'abraham': 1225, 'moses': 1226, 'got': 1227, 'melded': 1228, 'noah': 1229, 'nephew': 1230, 'born': 1231, 'canaanites': 1232, 'wandered': 1233, 'scriptwriters': 1234, 'ignorance': 1235, 'remember': 1236, 'sunday': 1237, 'offend': 1238, 'maximum': 1239, 'planet': 1240, 'possible-': 1241, 'christians': 1242, 'jews': 1243, 'muslims': 1244, 'historians': 1245, 'archaeologists': 1246, 'geologists': 1247, 'psychologists': 1248, 'linguists': 1249, 'matter': 1250, 'modicum': 1251, 'taste': 1252, 'winced': 1253, 'owen': 1254, 'loves': 1255, 'mamma': 1256, 'only': 1257, 'feet': 1258, 'dark': 1259, 'laugh-out-loud': 1260, 'comedy': 1261, 'stars': 1262, 'danny': 1263, 'devito': 1264, 'admirable': 1265, 'assists': 1266, 'billy': 1267, 'crystal': 1268, 'ramsey': 1269, 'title': 1270, 'role.': 1271, 'throw': 1272, 'momma': 1273, 'train': 1274, 'terrific': 1275, 'shallow': 1276, 'parts': 1277, 'organic': 1278, 'tacked': 1279, 'gut-splitting': 1280, 'employing': 1281, 'chemistry': 1282, 'separate': 1283, 'comic': 1284, 'essence': 1285, 'struggling': 1286, 'avid': 1287, 'untalented': 1288, 'blocked': 1289, 'bitter': 1290, 'professor': 1291, 'donner': 1292, 'ex-wife': 1293, 'stole': 1294, 'titled': 1295, 'hot': 1296, 'fire': 1297, 'line': 1298, 'easy': 1299, 'creative': 1300, 'writing': 1301, 'budding': 1302, 'mediocrities': 1303, 'middle-aged': 1304, 'clancy-type': 1305, 'fiction': 1306, 'submarine': 1307, 'captain': 1308, 'speaks': 1309, 'upholstery': 1310, 'salesman': 1311, 'life': 1312, 'mr.': 1313, 'pinsky': 1314, 'funniest': 1315, 'laughs-per-minutes-on-screen': 1316, 'ascot-wearing': 1317, 'weirdo': 1318, 'sees': 1319, 'literature': 1320, 'excuse': 1321, 'opus': 1322, '100': 1323, 'girls': 1324, 'pork': 1325, 'lift': 1326, 'calls': 1327, 'pupil': 1328, 'wo': 1329, 'man-child': 1330, 'late': 1331, '30s': 1332, 'lives': 1333, 'overbearing': 1334, 'mother': 1335, 'lardass': 1336, 'endearing': 1337, 'sentiments': 1338, 'asked': 1339, 'piles': 1340, 'cruelties': 1341, 'onto': 1342, 'sad': 1343, 'sack': 1344, 'laughs': 1345, 'expects': 1346, 'big': 1347, 'loses': 1348, 'people.': 1349, 'humor': 1350, 'identifying': 1351, 'take': 1352, 'lark': 1353, 'stretch': 1354, 'bigger': 1355, 'gambit': 1356, 'asking': 1357, 'enlists': 1358, 'plan': 1359, 'hawaii': 1360, 'hated': 1361, 'ex': 1362, 'tells': 1363, 'turn': 1364, 'mrs.': 1365, 'swapping': 1366, 'hitchcock': 1367, 'strangers': 1368, 'director': 1369, 'complements': 1370, 'performances': 1371, 'scene-setting': 1372, 'places': 1373, 'accent': 1374, 'bold': 1375, 'visual': 1376, 'statements': 1377, 'throwing': 1378, 'bits': 1379, 'unreality': 1380, 'toes': 1381, 'helping': 1382, 'matters': 1383, 'stu': 1384, 'silver': 1385, 'coming': 1386, 'quotable': 1387, 'patter': 1388, 'rats': 1389, 'size': 1390, 'oldsmobiles': 1391, 'terminator': 1392, 'murder': 1393, 'ripper': 1394, 'words': 1395, 'lines': 1396, 'context': 1397, 'absolutely': 1398, 'wrote': 1399, 'screenplay': 1400, 'according': 1401, 'it.': 1402, 'entirety': 1403, 'theatrical': 1404, \"'coming\": 1405, 'attraction': 1406, 'presentation': 1407, 'promoted': 1408, 'introduces': 1409, \"'cousin\": 1410, 'patty': 1411, 'says': 1412, 'cousin': 1413, 'panicky': 1414, \"'you\": 1415, 'lied': 1416, 'yells': 1417, 'slamming': 1418, 'forehead': 1419, 'pan.': 1420, 'reality': 1421, 'groan': 1422, 'floor': 1423, \"'throw\": 1424, 'effectively': 1425, 'moments': 1426, 'playing': 1427, 'looney': 1428, 'tunes': 1429, 'vibe': 1430, 'disappeared': 1431, 'followed': 1432, 'directorial': 1433, 'promise': 1434, 'maybe': 1435, 'lack': 1436, 'mainstream': 1437, 'success': 1438, 'vision': 1439, 'tastes': 1440, 'cell': 1441, 'exotic': 1442, 'masterpiece': 1443, 'dizzying': 1444, 'trip': 1445, 'vast': 1446, 'serial': 1447, 'killer': 1448, 'conclusive': 1449, 'evidence': 1450, 'achieved': 1451, 'human': 1452, 'beings': 1453, 'unleash': 1454, 'uninhibited': 1455, 'imaginations': 1456, 'boldness': 1457, 'pushing': 1458, 'aside': 1459, 'thoughts': 1460, 'fall': 1461, 'formulas': 1462, 'cliches': 1463, 'creating': 1464, 'magnificent': 1465, 'year': 1466, 'date.': 1467, 'complaints': 1468, 'style': 1469, 'substance': 1470, 'poorly': 1471, 'negatively': 1472, 'criticize': 1473, 'miss': 1474, 'landmark': 1475, 'tradition': 1476, 'future': 1477, 'hopefully': 1478, 'follow': 1479, 'opened': 1480, 'door': 1481, 'world': 1482, 'imagination': 1483, 'slam': 1484, 'face': 1485, 'tell': 1486, 'tarsem': 1487, 'singh': 1488, 'personally': 1489, 'challenge': 1490, 'inside': 1491, 'agree': 1492, 'bit': 1493, 'overworked': 1494, '90s': 1495, 'tick': 1496, 'worked': 1497, 'failed': 1498, 'blaze': 1499, 'trail': 1500, 'physically': 1501, 'transported': 1502, 'fascinating': 1503, 'mysterious': 1504, 'subject': 1505, 'ever': 1506, 'studied.': 1507, 'bog': 1508, 'scientific': 1509, 'jargon': 1510, 'jennifer': 1511, 'lopez': 1512, 'enter': 1513, 'brain': 1514, 'lies': 1515, 'laboratory': 1516, 'wrapped': 1517, 'twizzlers': 1518, 'jaunted': 1519, 'entity': 1520, 'guess': 1521, 'explanations': 1522, 'ventures': 1523, 'ground': 1524, 'desires': 1525, 'in.': 1526, 'showed': 1527, 'contrast': 1528, 'visuals': 1529, 'set': 1530, 'design': 1531, 'astonishing': 1532, 'surprised': 1533, 'took': 1534, 'oscars': 1535, 'cinematography': 1536, 'picture.': 1537, 'repeating': 1538, 'myself': 1539, 'stress': 1540, 'fantastic': 1541, 'open': 1542, 'wonders': 1543, 'eye-popping': 1544, 'feast': 1545, 'assured': 1546, 'am': 1547, 'psychology': 1548, 'right': 1549, 'alley': 1550, 'leaving': 1551, 'theater': 1552, 'member': 1553, 'whoever': 1554, 'drugs': 1555, 'smoking.': 1556, '*': 1557, '4': 1558, 'saints': 1559, 'starts': 1560, 'atmospheric': 1561, 'london': 1562, 'bustling': 1563, 'busy': 1564, 'quaint': 1565, 'streets': 1566, 'sunshine': 1567, 'hoping': 1568, 'maintain': 1569, 'atmosphere': 1570, 'bogged': 1571, 'nowhere.': 1572, 'othello': 1573, 'fat': 1574, 'karva': 1575, 'crime-boss': 1576, 'step-dad': 1577, 'defined': 1578, 'drop': 1579, 'kittens': 1580, 'deep': 1581, 'friers': 1582, 'prick': 1583, 'scrappy': 1584, 'errands': 1585, 'skanky': 1586, 'girlfriend': 1587, 'daddy': 1588, 'hand-jobs': 1589, 'colleagues': 1590, 'runner': 1591, 'black': 1592, 'dude': 1593, 'dashing': 1594, 'b.': 1595, 'comes': 1596, 'mute': 1597, 'homeless': 1598, 'grants': 1599, 'wish': 1600, 'stop': 1601, 'running': 1602, 'dumps': 1603, 'lost': 1604, 'boy': 1605, 'promptly': 1606, 'granting': 1607, 'wishes': 1608, 'keen': 1609, 'fulfilled': 1610, 'kidnapped': 1611, 'bring': 1612, 'happiness': 1613, 'innocence': 1614, 'hand-job': 1615, 'grant': 1616, 'second.': 1617, 'loads': 1618, 'repetitive': 1619, 'tries': 1620, 'hardly': 1621, 'back-story': 1622, 'investment': 1623, 'serves': 1624, 'audience.': 1625, 'tony': 1626, 'grisoni': 1627, 'favourite': 1628, 'terry': 1629, 'gilliam': 1630, 'blend': 1631, 'allegory': 1632, 'ends': 1633, 'pretentious': 1634, 'hell': 1635, 'ironically': 1636, 'gave': 1637, 'accessible': 1638, 'suddenly': 1639, 'introduced': 1640, 'annoying': 1641, 'loudmouths': 1642, 'miraculously': 1643, 'develop': 1644, 'intelligence': 1645, 'confronted': 1646, 'origins': 1647, 'revealed': 1648, 'plain': 1649, 'sporadic': 1650, 'moody': 1651, 'score': 1652, 'unlikeable': 1653, 'luckily': 1654, 'soul': 1655, 'paula': 1656, 'sage': 1657, 'drives': 1658, 'uncharted': 1659, 'waters': 1660, 'transcends': 1661, 'awkward': 1662, 'special': 1663, '7/10': 1664, 'found': 1665, 'areas': 1666, 'brilliant': 1667, 'ms.stone': 1668, 'morissey': 1669, 'tramell': 1670, 'smarter': 1671, 'psychologically': 1672, 'twisted': 1673, 'minute': 1674, 'between': 1675, 'catherine': 1676, 'ways': 1677, 'novels': 1678, 'fabulous': 1679, 'deserves': 1680, 'misled': 1681, 'faulty': 1682, 'terrible': 1683, 'reviews': 1684, 'started': 1685, '.....': 1686, 'regret': 1687, 'mukhsin': 1688, 'wonderfully': 1689, 'written': 1690, 'entertainment': 1691, 'tonnes': 1692, 'subtle': 1693, 'messages': 1694, 'yasmin': 1695, 'confusing': 1696, 'sepet': 1697, 'and/or': 1698, 'gubra': 1699, '76': 1700, 'bet': 1701, 'u': 1702, 'relate': 1703, 'bossy': 1704, 'neighbour': 1705, 'prostitute': 1706, 'chick': 1707, 'snooker': 1708, 'pad': 1709, 'wife': 1710, 'pious': 1711, 'voice-overs': 1712, 'awakeningly': 1713, 'fresh': 1714, 'rumah': 1715, 'tumpangan': 1716, 'gamin': 1717, 'signboard': 1718, 'saying': 1719, \"'bismillahhirrahmannirrahim\": 1720, '..': 1721, 'climbed': 1722, 'tree': 1723, 'malaysian': 1724, 'attitude': 1725, 'mild': 1726, 'sniggering': 1727, 'pathetic': 1728, 'example': 1729, 'kids': 1730, 'sharp': 1731, 'tongued': 1732, 'complete': 1733, 'shrill': 1734, 'mouth': 1735, 'ppl': 1736, 'busybody': 1737, 'ur': 1738, 'sorted': 1739, 'totally': 1740, 'reached': 1741, 'expectation': 1742, 'exceeded': 1743, 'kept': 1744, 'glued': 1745, 'eyes': 1746, 'cinema': 1747, 'ha': 1748, 'accept': 1749, '50': 1750, 'horror': 1751, 'today': 1752, 'expect': 1753, 'blood': 1754, 'thirsty': 1755, 'beast': 1756, '....': 1757, 'yeah': 1758, 'wanted.': 1759, 'overall': 1760, 'astronaut': 1761, 'happy': 1762, 'speak': 1763, 'of.': 1764, 'endings': 1765, 'left': 1766, 'room': 1767, 'sequel': 1768, 'wisely': 1769, 'worst': 1770, 'there.': 1771, '2': 1772, 'seventies': 1773, 'truest': 1774, 'versus': 1775, 'battle': 1776, 'sentinel': 1777, 'exorcist': 1778, 'ones': 1779, 'protagonist': 1780, 'check': 1781, 'dated': 1782, 'devices': 1783, 'into.then': 1784, 'soon-to-be': 1785, 'absolute': 1786, 'eli': 1787, 'wallach': 1788, 'sylvia': 1789, 'miles': 1790, 'burgess': 1791, 'meredith': 1792, 'pay': 1793, 'close': 1794, 'four': 1795, 'catch': 1796, 'smaller': 1797, \"'black\": 1798, 'cat': 1799, 'cake': 1800, 'plus': 1801, 'books': 1802, \"'re\": 1803, 'second': 1804, 'outdo': 1805, 'chinese': 1806, 'iii': 1807, 'superfluous': 1808, 'fantasy': 1809, 'delivers': 1810, 'spell-casting': 1811, 'fails': 1812, 'painfully': 1813, 'fronts': 1814, 'extremely': 1815, 'caricatures': 1816, 'diapers': 1817, 'slapstick': 1818, 'remotely': 1819, 'predictable': 1820, 'sometimes': 1821, 'erratic': 1822, 'towards': 1823, 'begins': 1824, 'resemble': 1825, 'godzilla': 1826, 'shabby': 1827, 'larger-than-life': 1828, 'grinned': 1829, 'expecting': 1830, 'camp.': 1831, '-': 1832, 'case': 1833, 'somebody': 1834, 'squeeze': 1835, 'extra': 1836, 'money': 1837, 'successful': 1838, 'formula': 1839, 'cash': 1840, 'cow': 1841, 'dead': 1842, 'dodo': 1843, 'unforgettable': 1844, 'creator': 1845, 'secret': 1846, 'nimh': 1847, 'land': 1848, 'bittersweet': 1849, 'cartoon': 1850, 'childhood': 1851, 'dog': 1852, 'escaped': 1853, 'pound': 1854, 'friend': 1855, 'becomes': 1856, 'sweet': 1857, 'befriends': 1858, 'orphaned': 1859, 'contrary': 1860, 'cartoons': 1861, 'dream': 1862, 'sequence': 1863, 'charlie': 1864, 'okay': 1865, 'songs': 1866, 'fair': 1867, 'memorable': 1868, 'burt': 1869, 'dom': 1870, 'deluise': 1871, 'guy': 1872, 'ahehehe': 1873, 'judith': 1874, 'barsi': 1875, 'jaws': 1876, 'god': 1877, 'deserve': 1878, 'die': 1879, 'animated': 1880, 'don': 1881, 'bluth': 1882, 'classic': 1883, 'anime': 1884, 'disney': 1885, 'recommended': 1886, 'family': 1887, 'video': 1888, 'ta': 1889, 'daniel': 1890, 'day-lewis': 1891, 'versatile': 1892, 'alive': 1893, 'aristocratic': 1894, 'snob': 1895, 'passionate': 1896, 'irish': 1897, 'thief': 1898, 'name': 1899, 'father': 1900, 'impudent': 1901, 'butcher': 1902, 'gangs': 1903, 'york': 1904, 'ten': 1905, 'stronger': 1906, 'adrian': 1907, 'brody': 1908, 'pianist': 1909, 'outrageous': 1910, 'cristy': 1911, 'cerebral': 1912, 'palsy': 1913, 'foot': 1914, 'roles': 1915, 'eachother': 1916, 'seperate': 1917, 'utterly': 1918, 'unique': 1919, 'changes': 1920, 'beginning': 1921, 'act': 1922, 'anything.': 1923, 'stunning': 1924, 'ridicule': 1925, 'achievement': 1926, 'smart': 1927, 'human.': 1928, 'scene-transition': 1929, 'faults': 1930, 'inspiration': 1931, 'stupidly': 1932, 'sentimental': 1933, 'laughed': 1934, 'cried': 1935, 'single': 1936, 'moment': 1937, 'cheese': 1938, 'proof': 1939, 'hollywood': 1940, 'movie.': 1941, 'restaurant': 1942, 'discussing': 1943, 'painters': 1944, 'eileen': 1945, 'reaches': 1946, 'climax': 1947, 'kick': 1948, 'anatomy': 1949, 'wheel': 1950, 'cripple': 1951, 'slows': 1952, 'falters': 1953, 'tired': 1954, 'perspicacious': 1955, 'twitching': 1956, 'guttural': 1957, 'speeches.': 1958, 'must-see': 1959, 'fo': 1960, 'sho': 1961, 'yo': 1962, 'possibly': 1963, 'directing': 1964, 'dreadful': 1965, 'sparkly': 1966, 'suit': 1967, 'claims': 1968, 'universe': 1969, 'assumes': 1970, 'scriptwriter': 1971, 'meant': 1972, 'galaxy': 1973, 'bother': 1974, 'dictionary': 1975, 'terms': 1976, 'came': 1977, 'contrivances': 1978, 'excessively': 1979, 'nearly': 1980, 'nonexistent': 1981, 'humans': 1982, 'magical': 1983, 'macguffins': 1984, 'conform': 1985, 'tortuous': 1986, 'series': 1987, 'restrictions': 1988, 'move': 1989, 'bare': 1990, 'passage': 1991, 'ignored': 1992, 'days': 1993, 'meeting': 1994, 'bam': 1995, 'sudden': 1996, 'zero': 1997, 'hour': 1998, 'yourself': 1999, 'favor': 2000, 'stupider': 2001, 'watched': 2002, 'accompanied': 2003, 'ta-da': 2004, 'pulls': 2005, 'random': 2006, 'butt': 2007, 'sucks': 2008, 'cancer': 2009, 'minutes': 2010, 'crapping': 2011, 'enemies': 2012, 'freedom': 2013, 'honestly': 2014, 'laughing': 2015, 'retarded': 2016, 'behind': 2017, 'sci-fi': 2018, 'flick': 2019, 'doppelganger': 2020, 'crashing': 2021, \"'counter-earth\": 2022, 'opposite': 2023, 'side': 2024, 'sun': 2025, 'cold': 2026, 'war': 2027, 'totalitarian': 2028, 'vibes': 2029, 'pilot': 2030, 'tv': 2031, 'sank': 2032, 'trace': 2033, 'perfectly': 2034, 'adequate': 2035, \"'made\": 2036, 'mitchell': 2037, 'glenn': 2038, 'corbett': 2039, 'saxon': 2040, 'rugged': 2041, 'individualist': 2042, 'whose': 2043, 'existence': 2044, 'poses': 2045, 'threat': 2046, 'foundation': 2047, \"'world\": 2048, 'counter': 2049, 'earth.': 2050, 'budget': 2051, 'energy': 2052, 'inconsistent': 2053, 'designs': 2054, 'adventure': 2055, 'firmly': 2056, 'tethered': 2057, 'launch': 2058, 'pad.': 2059, 'template': 2060, 'doppleganger': 2061, 'astronauts': 2062, 'lose': 2063, 'control': 2064, 'landing': 2065, 'vehicle': 2066, 'thunderstorm': 2067, 'ship': 2068, 'appalling': 2069, 'obvious': 2070, 'fly': 2071, 'stagger': 2072, 'helplessly': 2073, 'smoking': 2074, 'remains': 2075, 'middle': 2076, 'howling': 2077, 'rains': 2078, 'winds': 2079, 'smacked': 2080, 'overcome': 2081, 'faceless': 2082, 'yelling': 2083, 'loudspeakers.': 2084, 'stranded': 2085, 'space': 2086, 'buzzers': 2087, 'shaking': 2088, 'camera': 2089, 'blurs': 2090, 'blackout': 2091, 'pointed': 2092, 'themselves': 2093, 'episodes': 2094, 'twilight': 2095, 'zone': 2096, 'outer': 2097, 'limits': 2098, 'establish': 2099, 'mood': 2100, 'made-for-tv': 2101, 'mediocrity.': 2102, 'token': 2103, 'gestures': 2104, 'fan': 2105, 'boys': 2106, 'enthusiasm': 2107, 'fill': 2108, 'guys': 2109, 'finished': 2110, 'walked': 2111, 'listing': 2112, 'c.v.': 2113, 'pressed': 2114, 'called': 2115, 'lasting': 2116, 'impression': 2117, 'recall': 2118, 'living': 2119, 'fairly': 2120, 'strong': 2121, 'finish': 2122, 'season': 2123, '11.': 2124, 'parody': 2125, 'various': 2126, 'zombie': 2127, 'notably': 2128, 'dawn': 2129, 'episode': 2130, 'parallels': 2131, 'creatures': 2132, 'feed': 2133, 'thrive': 2134, 'spare': 2135, 'change': 2136, 'brains.': 2137, 'kyle': 2138, 'blamed': 2139, 'mass': 2140, 'outbreak': 2141, 'goodness': 2142, '$': 2143, '20': 2144, 'front': 2145, 'begin': 2146, 'infiltrate': 2147, 'south': 2148, 'overrun': 2149, 'randy': 2150, 'marsh': 2151, 'shotgun-wielding': 2152, 'leader': 2153, 'adults': 2154, 'refuge': 2155, 'roof': 2156, 'county': 2157, 'community': 2158, 'center': 2159, 'accosted': 2160, 'hundreds': 2161, 'hilariously': 2162, 'screaming': 2163, 'refugees': 2164, 'losing': 2165, 'gerald': 2166, 'broflofski': 2167, 'escape': 2168, 'catching': 2169, 'unwittingly': 2170, 'tosses': 2171, 'distract': 2172, 'change.': 2173, 'studies': 2174, 'evergreen': 2175, 'similar': 2176, 'solve': 2177, 'break': 2178, 'attempts': 2179, 'shooting': 2180, 'several': 2181, 'shoots': 2182, 'jaw': 2183, 'eye': 2184, 'chest': 2185, 'neck': 2186, 'shoulder': 2187, 'horribly': 2188, 'dies': 2189, 'funnier': 2190, 'happened': 2191, 'easter': 2192, 'weeks': 2193, 'ago.': 2194, 'due': 2195, 'property': 2196, 'values': 2197, 'nosedived': 2198, 'thus': 2199, 'bank': 2200, 'foreclosed': 2201, 'immediately': 2202, 'holding': 2203, 'gun': 2204, 'begs': 2205, 'bucks': 2206, 'trigger.': 2207, 'passing': 2208, 'happens': 2209, 'country': 2210, 'modify': 2211, 'leads': 2212, 'santa': 2213, 'monica': 2214, 'california.': 2215, 're-watchable': 2216, '8/10': 2217, 'brother': 2218, 'shadow': 2219, 'tribeca': 2220, 'festival': 2221, 'judd': 2222, 'hirsch': 2223, 'scott': 2224, 'cohen': 2225, 'son': 2226, 'parole': 2227, 'alaska': 2228, 'brooklyn': 2229, 'died': 2230, 'embarks': 2231, 'slowly': 2232, 'repair': 2233, 'estranged': 2234, 'relationships': 2235, 'forgiven': 2236, 'sheep': 2237, 'hearts': 2238, 'minds': 2239, 'allows': 2240, 'deeply': 2241, 'understand': 2242, 'complexity': 2243, 'imagery': 2244, 'woodworking': 2245, 'business': 2246, 'backdrop': 2247, 'tone': 2248, 'rich': 2249, 'revealing': 2250, '2.5': 2251, 'hrs': 2252, 'rajnikanth': 2253, 'carries': 2254, 'shoulders': 2255, 'music': 2256, 'a.r.rehman': 2257, 'grow': 2258, 'liking': 2259, 'ken': 2260, 'burns': 2261, 'baseball': 2262, 'decent': 2263, 'documentary': 2264, 'presents': 2265, 'clear': 2266, 'origin': 2267, 'game': 2268, 'depiction': 2269, 'early': 2270, 'heroes': 2271, 'plenty': 2272, 'glaring': 2273, 'flaws.': 2274, '18': 2275, 'span': 2276, 'stretched': 2277, 'fit': 2278, 'inning': 2279, 'concept': 2280, 'tight': 2281, 'pace': 2282, 'segment': 2283, 'morose': 2284, 'nostalgic': 2285, 'wistful': 2286, 'exciting': 2287, 'player': 2288, 'accomplishments': 2289, 'form': 2290, 'tragedy': 2291, 'talking': 2292, 'pitch': 2293, 'emotional': 2294, 'heartbreak': 2295, 'yakking': 2296, 'metaphor': 2297, 'americana': 2298, 'theology': 2299, 'syrupy': 2300, 'drivel': 2301, 'sell': 2302, 'yankee': 2303, 'hokum': 2304, 'sold': 2305, 'uses': 2306, 'national': 2307, 'anthem': 2308, 'song': 2309, 'manages': 2310, 'ballgame': 2311, 'vomit': 2312, 'dude.': 2313, 'clearly': 2314, 'neo-hollywood': 2315, 'faux-liberal': 2316, 'spends': 2317, 'third': 2318, 'negro': 2319, 'leagues': 2320, 'segments': 2321, 'spent': 2322, 'chastising': 2323, 'whites': 2324, 'yesterday': 2325, 'open-minded': 2326, 'kenny': 2327, 'chides': 2328, 'segregated': 2329, 'thirties': 2330, 'forties': 2331, 'heels': 2332, 'buck': 2333, \"o'neil\": 2334, 'former': 2335, 'negro-league': 2336, 'drools': 2337, 'piece': 2338, 'elderly': 2339, 'waxes': 2340, 'poetic': 2341, 'nonsense': 2342, 'adult': 2343, 'edit': 2344, 'creation': 2345, 'mushy': 2346, 'gushy': 2347, 'civil-rights': 2348, 'propaganda': 2349, 'disguised': 2350, 'otherwise': 2351, 'games': 2352, 'cheering': 2353, 'weeping': 2354, 'reciting': 2355, 'soliloquies': 2356, 'listening': 2357, 'crying': 2358, 'spradling': 2359, 'dancing': 2360, 'strip': 2361, 'club': 2362, 'beyond': 2363, 'dull': 2364, 'unrealistic': 2365, 'positive': 2366, 'votes': 2367, 'suggests': 2368, 'joking': 2369, 'store': 2370, 'browsing': 2371, 'dollar': 2372, 'rentals': 2373, 'upon': 2374, 'gem': 2375, 'gut': 2376, 'instic': 2377, 'wow': 2378, 'right.': 2379, 'centers': 2380, 'survived': 2381, 'alicia': 2382, 'teenage': 2383, 'reble': 2384, 'witness': 2385, 'attack': 2386, 'deanna': 2387, 'survivor': 2388, 'bullet': 2389, 'miracle': 2390, 'thrown': 2391, 'fate': 2392, 'painful': 2393, 'display': 2394, 'healing': 2395, 'moving': 2396, 'on.': 2397, 'cracks': 2398, 'phillips': 2399, 'erkia': 2400, 'christensen': 2401, 'mention': 2402, 'complaint': 2403, 'sorely': 2404, 'lacking': 2405, 'oh': 2406, 'jarring': 2407, 'usually': 2408, 'eighties': 2409, '&': 2410, 'nineties': 2411, 'featuring': 2412, 'beens': 2413, 'incredibly': 2414, 'endurance': 2415, 'test': 2416, 'sit': 2417, 'dressing': 2418, 'pathetically': 2419, 'corey': 2420, 'haim': 2421, 'abysmal': 2422, 'nicole': 2423, 'eggert': 2424, 'redeeming': 2425, 'qualities': 2426, '#': 2427, '1': 2428, 'actor/actress': 2429, 'stay': 2430, 'bought': 2431, 'impulse': 2432, 'buy': 2433, 'walmart': 2434, 'entertaining': 2435, 'sean': 2436, 'connery': 2437, 'graphics': 2438, 'movie/game': 2439, 'remake': 2440, 'bonus': 2441, 'levels': 2442, 'sniper': 2443, 'frustrated': 2444, 'week': 2445, 'hide': 2446, 'handle': 2447, 'upgrade': 2448, 'system': 2449, 'difference': 2450, 'un-upgraded': 2451, 'equipment': 2452, 'upgraded': 2453, 'buying': 2454, 'armor': 2455, 'filling': 2456, 'meter': 2457, 'q': 2458, 'copter': 2459, 'developers': 2460, 'dumber': 2461, 'min': 2462, 'saved': 2463, 'notes': 2464, 'rated': 2465, 'highly': 2466, 'simple': 2467, 'importantly': 2468, 'sheeple': 2469, 'clue': 2470, 'scared': 2471, 'rating': 2472, 'save': 2473, 'under-appreciated': 2474, 'scores': 2475, 'trusted': 2476, 'opinions': 2477, 'broth': 2478, 'sugarcoating': 2479, 'turds': 2480, 'sense': 2481, 'fringes': 2482, 'science': 2483, 'opens': 2484, 'doorway': 2485, 'dimension': 2486, 'apparent': 2487, 'breasts': 2488, 'wears': 2489, 'skimpy': 2490, 'outfit': 2491, 'demons': 2492, 'marry': 2493, 'interested': 2494, 'stumble': 2495, 'witch': 2496, 'spell': 2497, 'witches': 2498, 'demon': 2499, 'bikini': 2500, 'spurned': 2501, 'topless': 2502, 'boyfriend': 2503, 'wrestler': 2504, 'unnecessary': 2505, 'wrestling': 2506, 'pointless': 2507, 'hurt': 2508, 'basically': 2509, 'go-camping-to-make-out-then-fight-a-monster': 2510, 'seller': 2511, 'five': 2512, 'deal': 2513, 'stupid': 2514, 'stale': 2515, 'cliched': 2516, 'opportunity': 2517, 'perspectives': 2518, 'insights': 2519, 'insipid': 2520, 'trite': 2521, 'grotesque': 2522, 'possibly-redeeming': 2523, 'value': 2524, 'brevity': 2525, 'wait': 2526, '90': 2527, 'seemed': 2528, 'longer': 2529, 'clean': 2530, 'station': 2531, 'toilets': 2532, 'toothbrush': 2533, 'expressing': 2534, 'opinion': 2535, 'held': 2536, 'holes': 2537, 'performers': 2538, 'work.': 2539, 'stewart': 2540, 'julia': 2541, 'kerbridge': 2542, '37': 2543, 'sacrificed': 2544, 'physician': 2545, 'earn': 2546, 'medical': 2547, 'performing': 2548, 'brilliantly': 2549, 'residency': 2550, 'board': 2551, 'exam': 2552, 'dream.': 2553, 'brother-in-law': 2554, 'nearest': 2555, 'relative': 2556, 'compelled': 2557, 'niece': 2558, 'amanda': 2559, 'arlen': 2560, 'aguayo-stewart': 2561, 'avoid': 2562, 'ward': 2563, '7': 2564, 'appearance': 2565, 'traumatized': 2566, 'parent': 2567, 'needless': 2568, '16-hour': 2569, 'caring': 2570, 'amanda.': 2571, 'rob': 2572, 'lowe': 2573, 'finney': 2574, 'charming': 2575, 'neighbor': 2576, 'apartment': 2577, 'building': 2578, 'trick': 2579, 'joke': 2580, 'distress': 2581, 'warm': 2582, 'progresses': 2583, 'perhaps': 2584, 'aunt': 2585, 'rely': 2586, 'load': 2587, 'prepare': 2588, 'examination': 2589, 'crisis': 2590, 'erupts': 2591, 'julia.': 2592, 'managed': 2593, 'convey': 2594, 'benefit': 2595, 'gradually': 2596, 'warming': 2597, 'relationship': 2598, 'progresses.': 2599, 'discover': 2600, 'meyers': 2601, 'industrial': 2602, 'espionage': 2603, 'valuable': 2604, 'prototype': 2605, 'microchip': 2606, 'employer': 2607, 'associates': 2608, 'share': 2609, 'proceeds': 2610, 'theft': 2611, 'planning': 2612, 'assumed': 2613, 'identities': 2614, 'unclear': 2615, 'whether': 2616, 'double': 2617, 'crossed.': 2618, 'extract': 2619, 'killing': 2620, 'search': 2621, 'fail': 2622, 'prize': 2623, 'leave': 2624, 'spend': 2625, 'remainder': 2626, 'clumsy': 2627, 'located': 2628, 'eventually': 2629, 'kidnap': 2630, 'hopes': 2631, 'location.': 2632, 'investigator': 2633, 'hired': 2634, 'recover': 2635, 'stolen': 2636, 'rough': 2637, 'manage': 2638, 'rescue': 2639, 'dispatch': 2640, 'forming': 2641, 'happily': 2642, 'together.': 2643, 'struck': 2644, 'major': 2645, 'moves': 2646, 'already': 2647, 'hands': 2648, 'blithely': 2649, 'fingerprints': 2650, 'concern': 2651, 'concealing': 2652, 'identity': 2653, 'pretends': 2654, 'psychiatrist': 2655, 'remnants': 2656, 'red': 2657, 'paint': 2658, 'shoe': 2659, 'soles': 2660, 'shown': 2661, 'mention.': 2662, 'refined': 2663, 'filming': 2664, 'added': 2665, 'expense': 2666, 'greatly': 2667, 'improved': 2668, 'poster': 2669, 'northern': 2670, 'vermont': 2671, 'inclined': 2672, 'cuba': 2673, 'bootleg': 2674, 'paddle': 2675, 'send': 2676, 'party': 2677, 'car': 2678, 'uhm': 2679, 'drive': 2680, 'hideout': 2681, 'luxury': 2682, 'packard': 2683, 'flatbed': 2684, 'truck': 2685, 'parked': 2686, 'outside': 2687, 'garage': 2688, 'targeted': 2689, 'hooch': 2690, 'asleep': 2691, 'waken': 2692, 'hauling': 2693, 'whiskey': 2694, 'spotted': 2695, 'precious': 2696, 'cargo': 2697, 'smugglers': 2698, 'float': 2699, 'told': 2700, 'uncle': 2701, 'smuggle': 2702, 'needed': 2703, 'outrun': 2704, 'canada': 2705, 'patrol': 2706, 'fraction': 2707, 'resources': 2708, 'whatsoever.': 2709, 'kris': 2710, 'kristopherson': 2711, 'grown': 2712, 'charisma': 2713, 'boring': 2714, 'nana': 2715, 'patekar': 2716, 'beating': 2717, 'daughter-in-law': 2718, 'karisma': 2719, 'kapoor': 2720, 'flee': 2721, 'village': 2722, 'executed': 2723, 'canadian': 2724, 'locales': 2725, 'nicely': 2726, 'drag': 2727, 'stupidity': 2728, 'alone': 2729, 'bloody': 2730, 'ishq': 2731, 'kamina': 2732, 'crap': 2733, 'danish': 2734, 'bladerunner': 2735, 'boldly': 2736, 'stated': 2737, 'kidding': 2738, 'soda': 2739, 'kitchen': 2740, 'pause': 2741, 'vcr': 2742, 'fridge': 2743, 'sciencefiction-scriptwriter': 2744, 'vaguest': 2745, 'computers': 2746, 'mindboggling': 2747, 'premises': 2748, 'hacker': 2749, 'computerassistant': 2750, 'microsoft': 2751, 'office': 2752, 'paperclip': 2753, 'assistant': 2754, 'helpless': 2755, 'lucky': 2756, 'driving-cap': 2757, 'lightning-effect': 2758, 'recieves': 2759, 'electroshock': 2760, 'presume': 2761, 'damage': 2762, 'mental': 2763, 'circuitry': 2764, 'val': 2765, 'mike': 2766, 'nelson': 2767, 'megacheese': 2768, 'steer': 2769, 'bots': 2770, 'nelson.': 2771, 'williams': 2772, 'payment': 2773, 'devil': 2774, 'league': 2775, 'ol': 2776, 'slewfoot': 2777, 'cursed': 2778, 'executive': 2779, 'ran': 2780, 'catering': 2781, 'studio': 2782, 'copy': 2783, 'showing': 2784, 'un-curse': 2785, 'doomed': 2786, 'perfect': 2787, 'bruce': 2788, 'campbell': 2789, 'summary': 2790, 'career': 2791, 'sarcasm': 2792, 'action': 2793, 'uneven': 2794, 'lots': 2795, 'robot': 2796, 'merely': 2797, 'female': 2798, 'implanted': 2799, 'retreads': 2800, 'incarnations': 2801, 'yegor': 2802, 'william': 2803, 'ii': 2804, 'non-sequiturs': 2805, 'height': 2806, 'panic': 2807, 'screams': 2808, 'statue': 2809, 'channel': 2810, 'tamara': 2811, 'gorski': 2812, 'tatoya': 2813, 'ruthless': 2814, 'cunning': 2815, 'tragic': 2816, 'air': 2817, 'certain': 2818, 'explored': 2819, 'ted': 2820, 'raimi': 2821, 'handled': 2822, 'standard': 2823, 'bumbling': 2824, 'admirably': 2825, 'arrogant': 2826, 'sardonic': 2827, 'condescending': 2828, 'american': 2829, 'jerk': 2830, 'typecast': 2831, 'bizarre': 2832, 'nonsensical': 2833, 'b-movie': 2834, 'ought': 2835, 'anybody': 2836, 'cinematic': 2837, 'experience': 2838, 'pulp': 2839, 'films.': 2840, 'pictures': 2841, 'made.': 2842, 'plump': 2843, 'quentin': 2844, 'tarantino': 2845, 'dumb': 2846, 'vulgar': 2847, 'learn-': 2848, 'ecstatic': 2849, 'reviewer': 2850, 'npr': 2851, 'turkey': 2852, 'please': 2853, 'allow': 2854, 'vent': 2855, 'spleen': 2856, 'admit': 2857, 'presumably': 2858, 'downright': 2859, 'unappealing': 2860, 'reminded': 2861, '70': 2862, 'decade': 2863, 'fashion': 2864, 'automobiles': 2865, 'smoking-': 2866, 'cheapen': 2867, 'succeeded.': 2868, 'estimation': 2869, 'sympathetic': 2870, 'ned': 2871, 'beaty': 2872, 'nicky': 2873, 'stray': 2874, 'mikey': 2875, 'elicited': 2876, 'shrug': 2877, 'indifference': 2878, 'most.': 2879, 'detested': 2880, 'strongly': 2881, 'suppose': 2882, 'rube': 2883, 'dig': 2884, 'art': 2885, 'flicks': 2886, 'alternative': 2887, 'edition': 2888, 'featured': 2889, 'charles': 2890, 'bronson': 2891, 'robbie': 2892, 'coltrane': 2893, 'interviewed': 2894, 'glc': 2895, 'ordinary': 2896, 'wiped': 2897, 'creeps': 2898, 'hunt': 2899, 'sadistic': 2900, 'graphic': 2901, 'manner': 2902, 'angle': 2903, 'accurately': 2904, 'describes': 2905, 'vigilante': 2906, 'motivation': 2907, 'feud': 2908, 'credibility': 2909, 'becoming': 2910, 'strained': 2911, 'hit-man': 2912, 'giving': 2913, 'retirement': 2914, 'tape': 2915, 'interviews': 2916, 'victims': 2917, 'doctor': 2918, 'legendary': 2919, 'traveler': 2920, 'infamous': 2921, 'expert': 2922, 'explained': 2923, 'police': 2924, 'myriad': 2925, 'sadists': 2926, 'nor': 2927, 'accents': 2928, 'lazily': 2929, 'incidents': 2930, 'screenwriter': 2931, 'further': 2932, 'invited': 2933, 'threesome': 2934, 'lesbian': 2935, 't': 2936, 'included': 2937, 'chuck': 2938, 'norris': 2939, 'vehicles': 2940, 'released': 2941, 'alex': 2942, 'guns': 2943, 'naverone': 2944, 'regarded': 2945, 'afternoons': 2946, 'watershed': 2947, 'warned': 2948, 'user': 2949, 'external': 2950, 'attracted': 2951, 'curiosity': 2952, 'scream': 2953, 'aficionados': 2954, 'dying': 2955, 'bottom': 2956, 'angry': 2957, 'cares': 2958, 'gimmicks': 2959, 'allowed': 2960, 'event': 2961, 'polite': 2962, 'rip': 2963, 'bwp': 2964, 'half-hearted': 2965, 'lazy': 2966, 'that.': 2967, 'sacred': 2968, 'cows': 2969, 'kudos': 2970, 'care': 2971, 'unforgivable': 2972, 'sin': 2973, 'hoot': 2974, 'comment': 2975, 'nature': 2976, 'protection': 2977, 'dominant': 2978, 'specie': 2979, 'useful': 2980, 'twelve': 2981, 'waterlilies': 2982, 'knew': 2983, 'protected': 2984, 'law': 2985, 'dare': 2986, 'fearing': 2987, 'harm': 2988, '15': 2989, 'learn': 2990, 'hope': 2991, 'patients': 2992, 'indie': 2993, 'toe-tap': 2994, 'slow-paced': 2995, 'present': 2996, 'satan': 2997, 'whip': 2998, 'jason': 2999, 'maran': 3000, 'snore-fest': 3001, 'guessing': 3002, 'blue': 3003, 'increasingly': 3004, 'originality': 3005, 'content': 3006, 'slow-pacing': 3007, 'gore': 3008, 'dialog': 3009, 'alas': 3010, 'waste': 3011, 'awful': 3012, 'stinkers': 3013, 'golden': 3014, 'globe': 3015, 'famous': 3016, 'renaissance': 3017, 'painter': 3018, 'mangled': 3019, 'recognition': 3020, 'liberties': 3021, 'facts': 3022, 'accounts': 3023, 'artist': 3024, 'dishwater-dull': 3025, 'naked': 3026, 'factual': 3027, 'hurriedly': 3028, 'capped': 3029, 'ourselves': 3030, 'favored': 3031, 'failure': 3032, 'paced': 3033, 'cliché': 3034, 'hopeless': 3035, 'mess': 3036, 'shameless': 3037, 'environmental': 3038, 'self-righteous': 3039, 'destroying': 3040, 'suv': 3041, 'promoting': 3042, 'planet.': 3043, 'steve': 3044, 'carell': 3045, 'hypothetically': 3046, 'mark': 3047, 'pitiful': 3048, 'relief': 3049, 'wanda': 3050, 'sykes': 3051, 'frequent': 3052, 'cringe-worthy': 3053, 'fit.': 3054, 'brilliance': 3055, 'almighty': 3056, 'evan': 3057, 'record-breaking': 3058, 'effect': 3059, 'advance': 3060, 'ark': 3061, 'meaningless': 3062, 'vessel': 3063, 'gags': 3064, 'concludes': 3065, 'flood': 3066, 'gathering': 3067, 'political': 3068, 'statement': 3069, 'politics': 3070, 'consider': 3071, 'overstatement': 3072, 'unbelievable': 3073, 'exaggerated': 3074, 'plots': 3075, 'pull': 3076, 'way.': 3077, 'bikinis': 3078, 'plug': 3079, 'ears': 3080, 'p': 3081, 'choose': 3082, 'pick': 3083, 'choice': 3084, 'lemmon': 3085, 'matthau': 3086, 'tag': 3087, 'team': 3088, 'magic': 3089, 'perfection': 3090, 'brent': 3091, 'spiner': 3092, 'riot': 3093, 'egotistical': 3094, 'tyrant': 3095, 'cruise': 3096, 'hare': 3097, 'krishna': 3098, 'fifty': 3099, 'calling': 3100, 'studs': 3101, 'praise': 3102, 'word': 3103, 'fell': 3104, 'psychological': 3105, 'viewing': 3106, 'join': 3107, 'pieces': 3108, 'advice': 3109, 'slasher': 3110, 'ass': 3111, 'switch': 3112, 'b': 3113, 'bs': 3114, 'blood.': 3115, 'heighten': 3116, 'factor': 3117, 'supports': 3118, 'dolby': 3119, 'digital': 3120, 'dts': 3121, '5.1ch': 3122, 'mannered': 3123, 'crack': 3124, 'jokes': 3125, 'tense': 3126, 'light': 3127, 'off.': 3128, 'aspects': 3129, '=': 3130, '9/10': 3131, '10/10': 3132, 'total': 3133, 'telegraph': 3134, 'intentions': 3135, 'actions': 3136, 'plans': 3137, 'drunk': 3138, 'buffet': 3139, 'charismatic': 3140, 'nuanced': 3141, 'embeth': 3142, 'davidtz': 3143, 'kenneth': 3144, 'branagh': 3145, 'succeed': 3146, 'conveying': 3147, 'brash': 3148, 'charm': 3149, 'have.': 3150, 'one-note': 3151, 'southern': 3152, 'employed': 3153, 'british': 3154, \"c'mon\": 3155, 'reviewers': 3156, 'commenting': 3157, '60': 3158, 'trek': 3159, 'notable': 3160, 'serious': 3161, 'babe': 3162, 'yeoman': 3163, 'barrow': 3164, 'filmed': 3165, 'outdoor': 3166, 'unlike': 3167, 'tng': 3168, 'voyager': 3169, 'confined': 3170, 'stages.': 3171, 'quality': 3172, 'familiar': 3173, 'show.': 3174, 'exceptions': 3175, 'i.e': 3176, 'forever': 3177, 'assignment': 3178, 'tomorrow': 3179, 'moth-balled': 3180, 'misery': 3181, 'dozen': 3182, '79': 3183, 'batting': 3184, 'average.': 3185, 'gene': 3186, 'roddenberry': 3187, 'popular': 3188, 'belief': 3189, 'worshiped': 3190, 'spoken': 3191, 'irwin': 3192, 'allen': 3193, 'example.': 3194, 'enterprise': 3195, 'modern': 3196, 'wobbly': 3197, 'plywood': 3198, 'cafeteria': 3199, 'chairs': 3200, 'plastic': 3201, 'backs': 3202, 'cheap': 3203, 'cardboard': 3204, 'above': 3205, 'instrument': 3206, 'panels': 3207, 'folds': 3208, 'paper': 3209, 'spared': 3210, 'indeed': 3211, 'biangle': 3212, 'poetical': 3213, 'license': 3214, 'triangle': 3215, 'badly': 3216, 'image': 3217, 'crowded': 3218, 'narrow-sighted': 3219, 'romanian': 3220, 'color': 3221, 'filters': 3222, 'chosen': 3223, 'soundtrack': 3224, 'actress': 3225, 'landlady': 3226, 'immaturely': 3227, 'convince': 3228, 'realistic': 3229, 'curious': 3230, 'normally': 3231, 'tend': 3232, 'fast.': 3233, 'mind.': 3234, 'hospital': 3235, 'mysteries': 3236, 'secrets': 3237, 'beneath': 3238, 'surface': 3239, 'mighty': 3240, 'younger': 3241, 'andre': 3242, 'divorced': 3243, 'french': 3244, 'katharine': 3245, 'heigl': 3246, '}': 3247, 'vacation': 3248, 'closer': 3249, 'puberty': 3250, 'decides': 3251, 'beach': 3252, 'ben': 3253, 'wild': 3254, 'dad': 3255, 'island': 3256, 'hilarious': 3257, 'phantasm': 3258, 'erm': 3259, 'terrible.': 3260, 'stick': 3261, 'signs': 3262, 'trailers': 3263, 'prime': 3264, 'examples': 3265, 'kid': 3266, 'initially': 3267, 'karate': 3268, 'fight': 3269, 'balls': 3270, 'gon': 3271, 'na': 3272, 'blooming': 3273, 'zombies': 3274, 'link': 3275, 'phatasms': 3276, 'severe': 3277, 'midgets': 3278, 'about.': 3279, 'cracking': 3280, 'reggie': 3281, 'possible': 3282, 'filler': 3283, 'iv': 3284, 'continue': 3285, 'iv.': 3286, 'amazed': 3287, 'antal': 3288, 'kontroll': 3289, '2003.': 3290, 'vacancy': 3291, 'impressive': 3292, 'armored': 3293, 'feature': 3294, 'signature': 3295, 'recognizable': 3296, 'rises': 3297, 'level': 3298, 'premise': 3299, 'ingredients': 3300, 'deliver': 3301, 'heist': 3302, 'cool': 3303, 'department': 3304, 'implausible': 3305, 'group': 3306, 'sketched': 3307, 'bicker': 3308, 'below': 3309, 'direct-to-video': 3310, 'van': 3311, 'damme': 3312, 'seagal': 3313, 'animation': 3314, 'straightforward': 3315, 'vs.': 3316, 'apart': 3317, 'movements': 3318, 'fleeing': 3319, 'rotoscopic': 3320, 'technique': 3321, 'effective.': 3322, 'prehistoric': 3323, 'scarcely': 3324, 'dressed': 3325, 'women': 3326, 'devoted': 3327, 'damsel': 3328, 'sexy': 3329, 'voluptuous': 3330, 'serving': 3331, 'pure': 3332, 'eyecandy': 3333, 'regard': 3334, 'moronic': 3335, 'male': 3336, 'sexual': 3337, 'adore': 3338, 'esthetic': 3339, 'bakshi': 3340, 'animating': 3341, 'lushious': 3342, 'babes': 3343, 'apoligize': 3344, 'forgot': 3345, 'finest': 3346, 'animations': 3347, 'cobra': 3348, 'well.': 3349, '8': 3350, 'surrealist': 3351, 'bunuel': 3352, 'ideas': 3353, 'dali': 3354, 'life-long': 3355, 'grudge': 3356, 'catholic': 3357, 'church': 3358, 'delighted': 3359, 'catholics': 3360, 'silliest': 3361, 'smart-aleck': 3362, '18-year-old': 3363, 'final': 3364, 'nose-thumbing': 3365, 'religion.': 3366, 'scholars': 3367, 'regarding': 3368, 'occasionally': 3369, 'society': 3370, 'guilty': 3371, 'repression': 3372, 'expresses': 3373, 'roundabout': 3374, 'central': 3375, 'brute': 3376, 'kicking': 3377, 'dogs': 3378, 'knocking': 3379, 'blind': 3380, 'street': 3381, 'mentally': 3382, 'billboard': 3383, 'ads': 3384, 'fantasies': 3385, 'behavior': 3386, 'fault': 3387, 'interrupting': 3388, 'lovemaking': 3389, 'vote': 3390, 'latter': 3391, 'hangups': 3392, 'chose': 3393, 'blame.': 3394, 'cry': 3395, 'aha': 3396, 'surrealism': 3397, 'bed': 3398, 'giraffe': 3399, 'falling': 3400, 'window': 3401, 'model': 3402, 'shredding': 3403, 'feather': 3404, 'pillow': 3405, 'flushing': 3406, 'toilet': 3407, 'seething': 3408, 'lava': 3409, 'mud': 3410, 'pit': 3411, 'b/w': 3412, 'forgettable': 3413, 'self-indulgence': 3414, 'chasing': 3415, 'bogey-men': 3416, 'viridiana': 3417, 'discreet': 3418, 'jean': 3419, 'cocteau': 3420, 'impossible.': 3421, 'superiority': 3422, 'japanese': 3423, 'counterparts': 3424, 'lesson': 3425, 'abundance': 3426, '30': 3427, 'helped': 3428, 'movement': 3429, 'silences': 3430, 'bordering': 3431, 'student': 3432, 'struggled': 3433, 'ad-lib': 3434, 'coaxed': 3435, 'therory': 3436, 'me.': 3437, 'worse': 3438, 'unscary': 3439, 'make-up': 3440, 'stunk': 3441, 'unless': 3442, 'insomniac': 3443, 'marine': 3444, 'd.i': 3445, 'portrayal': 3446, 'date': 3447, 'depicting': 3448, 'corp': 3449, 'camp': 3450, 'sgt.jim': 3451, 'moore': 3452, 'tough': 3453, 'drill': 3454, 'instructor': 3455, 'paris': 3456, 'north': 3457, 'carolina': 3458, 'recruit': 3459, 'program': 3460, 'recent': 3461, 'metal': 3462, 'jacket': 3463, 'training': 3464, 'greedy': 3465, 'cattle': 3466, 'baron': 3467, 'push': 3468, 'ranchers': 3469, 'farmers': 3470, 'special.': 3471, 'stanwyck': 3472, 'vixen': 3473, 'crippled': 3474, 'edward': 3475, 'g.': 3476, 'robinson': 3477, 'hint': 3478, 'injuries': 3479, 'impotent': 3480, 'met': 3481, 'brian': 3482, 'keith': 3483, 'dianne': 3484, 'foster': 3485, 'lita': 3486, 'milan': 3487, 'friend.': 3488, 'infidelity': 3489, 'subplot': 3490, 'ford': 3491, 'rancher': 3492, 'civil': 3493, 'veteran': 3494, 'west': 3495, 'health': 3496, 'hold': 3497, 'inch': 3498, 'quiet': 3499, 'mistake': 3500, 'bill': 3501, 'elliott': 3502, 'peaceable': 3503, 'applicable': 3504, 'vioilent': 3505, 'men.': 3506, 'fifties': 3507, 'themes': 3508, 'entering': 3509, 'horse': 3510, 'operas': 3511, 'following': 3512, 'jubal': 3513, 'explores': 3514, 'component.': 3515, 'addicted': 3516, 'soap': 3517, 'account': 3518, 'transmittable': 3519, 'disease': 3520, 'disappointed': 3521, 'garbage': 3522, 'cnn': 3523, \"'worst\": 3524, 'scenario': 3525, 'obligatory': 3526, 'disaster': 3527, 'relations': 3528, 'sincere': 3529, 'weather': 3530, 'tedious': 3531, 'boring.do': 3532, 'critique': 3533, 'users': 3534, 'harsh': 3535, 'cases': 3536, 'crit': 3537, 'professional': 3538, 'viewpoint': 3539, 'all.': 3540, 'scifi': 3541, 'junkie': 3542, 'grabbed': 3543, 'idiot': 3544, 'worried': 3545, 'pieces.': 3546, 'place': 3547, 'add': 3548, 'bad.': 3549, 'dominic': 3550, 'w.c.': 3551, 'fields': 3552, 'pool': 3553, 'vaudeville': 3554, 'reamaining': 3555, '55': 3556, 'delightful': 3557, 'thankfully': 3558, 'mostly': 3559, 'ruggles': 3560, 'banker': 3561, 'j.': 3562, 'pinkham': 3563, 'whinney': 3564, 'foil': 3565, 'stutters': 3566, 'stumbles': 3567, 'pleasure': 3568, 'partner': 3569, 'boland': 3570, 'flora': 3571, 'joining': 3572, 'proceedings': 3573, 'george': 3574, 'gracie': 3575, 'near': 3576, 'tiring': 3577, 'repeat': 3578, 'desperately': 3579, 'asks': 3580, 'sweater': 3581, 'exclusively': 3582, 'constantly': 3583, 'whinneys': 3584, 'california': 3585, 'expenses': 3586, 'recruited': 3587, 'spanish': 3588, '1936': 3589, 'carol': 3590, 'débutant': 3591, 'clara': 3592, 'lago': 3593, 'initiating': 3594, 'injustices': 3595, 'race': 3596, 'fights': 3597, 'conflicts': 3598, 'contradictions.': 3599, 'imanol': 3600, 'uribe': 3601, 'días': 3602, 'contados': 3603, '1994': 3604, 'sober': 3605, 'pulse': 3606, 'photography': 3607, 'conflict': 3608, 'decide': 3609, 'explicit': 3610, 'band': 3611, 'advantage': 3612, 'presence': 3613, 'freshness': 3614, 'starring': 3615, 'juan': 3616, 'josé': 3617, 'ballesta.': 3618, 'cared': 3619, 'production.': 3620, 'rate': 3621, 'difference.': 3622, 'crile': 3623, '2003': 3624, 'wilson': 3625, 'eye-opening': 3626, 'maker': 3627, 'imaginable': 3628, 'relatively': 3629, 'obscure': 3630, 'congressman': 3631, 'district': 3632, 'texas': 3633, 'libertine': 3634, 'lifestyle': 3635, 'libertarian': 3636, 'legislation': 3637, 'likable': 3638, 'licentious': 3639, 'politician': 3640, 'served': 3641, 'constituency': 3642, 'folks': 3643, 'lufkin': 3644, 'wanted': 3645, 'replete': 3646, 'bevy': 3647, 'beltway': 3648, 'beauties': 3649, 'appropriately': 3650, 'angels.': 3651, 'staff': 3652, 'composed': 3653, 'attractive': 3654, 'aides': 3655, 'teach': 3656, \"'em\": 3657, 'tits': 3658, 'argument': 3659, 'rakish': 3660, 'rapscallion': 3661, 'conscience': 3662, 'lurking': 3663, 'somewhere': 3664, 'underneath': 3665, 'unimaginable': 3666, 'atrocities': 3667, 'committed': 3668, 'afghanistan': 3669, 'moved': 3670, 'muster': 3671, 'savvy': 3672, 'toward': 3673, 'funding': 3674, 'utter': 3675, 'humiliating': 3676, 'defeat': 3677, 'russian': 3678, 'hasten': 3679, 'chance': 3680, 'huh': 3681, 'skillful': 3682, 'nichols': 3683, 'snappy': 3684, 'adam': 3685, 'sorkin': 3686, 'sparkling': 3687, 'sophisticated': 3688, 'behind-the-': 3689, 'machinations': 3690, 'colorful': 3691, 'comprising': 3692, 'on-screen': 3693, 'marvelous': 3694, '9': 3695, 'nominations': 3696, 'beautifully': 3697, 'hanks': 3698, 'understated': 3699, 'among': 3700, 'aided': 3701, 'abetted': 3702, 'abedded': 3703, 'joanne': 3704, 'herring': 3705, 'wealthy': 3706, 'houston': 3707, 'socialite': 3708, 'still-slinky': 3709, 'roberts': 3710, 'hey': 3711, 'ms.': 3712, 'kabul': 3713, 'afghan': 3714, 'hounds': 3715, 'philip': 3716, 'seymour': 3717, 'hoffman': 3718, 'steals': 3719, 'appears': 3720, 'gust': 3721, 'aurakotos': 3722, 'street-': 3723, 'wise': 3724, 'non': 3725, 'ivy': 3726, 'graduate': 3727, 'cia': 3728, 'malcontent': 3729, 'agency': 3730, 'boardroom': 3731, 'bedroom.': 3732, 'mujahideen': 3733, 'assistance': 3734, 'provide': 3735, 'ability': 3736, 'shoot': 3737, 'dreaded': 3738, 'mi-21': 3739, 'helicopter': 3740, 'gunships': 3741, 'rule': 3742, 'skies': 3743, 'covertly': 3744, 'coerces': 3745, 'congress': 3746, 'fund': 3747, 'tune': 3748, 'billion': 3749, 'dollars': 3750, 'advanced': 3751, 'weaponry': 3752, 'arm': 3753, 'rebels': 3754, 'top-of-the-line': 3755, 'state-of-the-art': 3756, 'anti-aircraft': 3757, 'anti-tank': 3758, 'rockets': 3759, 'stuff.': 3760, 'multi-billion': 3761, 'illicit': 3762, 'activity': 3763, 'congressional': 3764, 'doors': 3765, 'alarming': 3766, 'reveals': 3767, 'frightening': 3768, 'aspect': 3769, 'business-as-usual': 3770, 'rarely': 3771, 'walls': 3772, 'initial': 3773, 'outcome': 3774, 'unqualified': 3775, 'weapons': 3776, 'troops': 3777, 'taliban': 3778, 'covert': 3779, 'generation': 3780, 'soviet': 3781, 'oppression': 3782, 'barbarity': 3783, 'direct': 3784, 'intervention': 3785, 'russkies': 3786, 'aid': 3787, 'zip': 3788, 'schools': 3789, 'infrastructure': 3790, 'maintaining': 3791, 'meaningful': 3792, 'consequence': 3793, 'unmitigated': 3794, 'forerunner': 3795, 'accomplished': 3796, 'nichol': 3797, 'pointedly': 3798, 'bouncing': 3799, 'krzyzewski': 3800, 'eva': 3801, 'longoria': 3802, 'parker': 3803, 'lateesha': 3804, 'lafayette': 3805, 'catch-22': 3806, 'f': 3807, '%': 3808, 'ked': 3809, 'videos': 3810, 'feelings': 3811, 'likewise': 3812, 'mj': 3813, 'toss': 3814, 'alltime': 3815, 'choreography': 3816, 'singing': 3817, 'spectacular': 3818, 'lady': 3819, 'dating': 3820, 'sinister': 3821, 'vincent': 3822, 'price': 3823, 'adding': 3824, 'jaguars': 3825, 'perfecto': 3826, 'thousand': 3827, 'facelifts': 3828, 'makeup': 3829, 'youtube': 3830, '14': 3831, 'mins': 3832, 'televisión': 3833, 'española': 3834, 'tve': 3835, 'chapters': 3836, '1968': 3837, 'primarily': 3838, 'youngest': 3839, 'son.': 3840, 'based': 3841, 'background': 3842, 'historical': 3843, 'uprising': 3844, 'france': 3845, 'decaying': 3846, 'franco': 3847, 'regime': 3848, 'viet-nam': 3849, 'rise': 3850, 'imperialism': 3851, 'specifically': 3852, 'related': 3853, 'compilation': 3854, 'characteristic': 3855, 'foibles': 3856, 'entertainment.': 3857, 'generally': 3858, 'treated': 3859, 'lightweight': 3860, 'vein': 3861, 'dramatic': 3862, 'aimed': 3863, 'rember': 3864, 'chooses': 3865, 'ignore': 3866, 'busily': 3867, 'occupied': 3868, 'things.': 3869, 'ana': 3870, 'duato': 3871, 'rôle': 3872, 'housewife': 3873, 'manifesting': 3874, 'peculiar': 3875, 'penchant': 3876, 'noticeable': 3877, 'letting': 3878, 'doings': 3879, 'carried': 3880, 'impetus': 3881, 'resorting': 3882, 'spain': 3883, 'common': 3884, 'senses': 3885, 'arias': 3886, 'offers': 3887, 'stereotyped': 3888, 'policeman': 3889, 'working-class': 3890, 'household': 3891, 'recommendable': 3892, 'audiences': 3893, 'spanish-speakers': 3894, 'latin': 3895, 'parochially': 3896, 'specific': 3897, 'spot': 3898, 'contemporary': 3899, 'history': 3900, 'probable': 3901, 'situations': 3902, 'cause': 3903, 'smiles': 3904, 'viewers': 3905, 'murray': 3906, 'light-weight': 3907, 'carry': 3908, 'meatballs': 3909, 'low-rent': 3910, 'northstar': 3911, 'counselors': 3912, 'campers': 3913, 'rivals': 3914, 'lake': 3915, 'named': 3916, 'mohawk': 3917, 'culminates': 3918, 'two-day': 3919, 'olympiad': 3920, 'clowning': 3921, 'debut.': 3922, 'sprinkled': 3923, 'medium-sized': 3924, 'chuckles': 3925, 'guffaws': 3926, 'biggest': 3927, 'pranks': 3928, 'involve': 3929, 'locations': 3930, 'sleeping': 3931, 'morty': 3932, 'micky': 3933, 'wakes': 3934, 'road': 3935, 'strung': 3936, 'trees': 3937, 'floating': 3938, 'raft': 3939, 'involving': 3940, 'hitting': 3941, 'pg': 3942, 'raunchiness.': 3943, 'note': 3944, 'shy': 3945, 'camper': 3946, 'rudy': 3947, 'makepeace': 3948, 'confidence': 3949, 'run': 3950, 'marathon': 3951, 'degree': 3952, 'grass': 3953, 'depressed': 3954, 'ordered': 3955, 'wonder': 3956, 'ad-libbing': 3957, 'cameras': 3958, 'rolling': 3959, 'stereotypical': 3960, 'lonely': 3961, 'summer': 3962, 'device': 3963, 'bearable': 3964, 'makepeace.': 3965, 'rival': 3966, 'camps': 3967, 'believable': 3968, 'absurd': 3969, '5.6': 3970, 'scare': 3971, 'sequels': 3972, 'feldman': 3973, 'stars.': 3974, 'hound': 3975, 'twice': 3976, 'researched': 3977, 'heavily': 3978, 'net': 3979, 'length': 3980, 'sheridan': 3981, 'lafanu': 3982, \"'carmilla\": 3983, 'review': 3984, 'describe': 3985, 'whilst': 3986, 'book.': 3987, 'laura': 3988, 'castle': 3989, 'syberia': 3990, 'mr': 3991, 'de': 3992, 'lafontaine': 3993, 'blissfully': 3994, 'peacefully': 3995, 'letter': 3996, \"'general\": 3997, 'avenge': 3998, 'daughters': 3999, 'powers': 4000, 'visit': 4001, 'encounter': 4002, 'results': 4003, 'lafontaines': 4004, 'carmilla': 4005, 'months': 4006, 'overwhelmed': 4007, 'dreams': 4008, 'illness': 4009, 'condition': 4010, 'invented': 4011, 'catchy': 4012, 'jingle': 4013, 'bothered': 4014, 'game.': 4015, 'questions': 4016, 'answered': 4017, 'complete.': 4018, 'answer': 4019, 'vampires': 4020, 'lesbians': 4021, 'herself': 4022, 'accepted': 4023, 'bat': 4024, 'eyelid': 4025, 'travis': 4026, 'fontaine': 4027, 'slowing': 4028, 'driving': 4029, 'hostage': 4030, 'openly': 4031, 'asylum': 4032, 'green': 4033, 'goo': 4034, 'nurse': 4035, 'fighting': 4036, 'significance': 4037, 'necklace': 4038, 'jenna': 4039, 'sod': 4040, 'too.': 4041, 'effort.': 4042, 'conclusion': 4043, \"'vampires\": 4044, 'vs': 4045, 'exactly': 4046, 'reluctant': 4047, 'somehow': 4048, '19th': 4049, 'century': 4050, 'starred': 4051, 'forgotten': 4052, '1930s': 4053, 'pearl': 4054, 'radio': 4055, 'munchausen': 4056, 'jimmy': 4057, 'durante': 4058, '7-1/2': 4059, 'decades': 4060, 'billed': 4061, 'stooges': 4062, 'recognize': 4063, 'fanatics': 4064, 'edna': 4065, 'oliver': 4066, 'zazu': 4067, 'pitts.': 4068, 'healy': 4069, 'fortunately': 4070, 'within': 4071, 'columbia': 4072, 'executives': 4073, 'occurrence': 4074, 'buster': 4075, 'keaton': 4076, 'laurel': 4077, 'hardy': 4078, 'abbott': 4079, 'costello': 4080, 'wide': 4081, 'variety': 4082, 'clark': 4083, 'gable': 4084, 'crawford': 4085, 'oddly': 4086, 'supporting': 4087, 'piano': 4088, 'african': 4089, 'jungle': 4090, 'rescued': 4091, 'structure': 4092, 'punctuated': 4093, 'transition': 4094, 'personality': 4095, 'slug': 4096, 'public': 4097, 'concerned': 4098, 'loud': 4099, 'ruin': 4100, 'verbal': 4101, 'vaudeville-style': 4102, 'routines': 4103, 'flat.': 4104, 'moe': 4105, 'die-hard': 4106, 'goal': 4107, 'stooge': 4108, 'rotten': 4109, 'joe': 4110, 'derita': 4111, 'besser': 4112, 'deaths': 4113, 'shemp': 4114, 'curly': 4115, '13': 4116, 'brief': 4117, 'tour': 4118, 'guide': 4119, 'carefully': 4120, 'walter': 4121, 'brennan': 4122, 'whistle': 4123, 'starting': 4124, '22': 4125, 'dance': 4126, 'so-called': 4127, 'pre-code': 4128, '1934': 4129, 'code': 4130, 'strengthened': 4131, 'titillating': 4132, 'flesh': 4133, 'stimulate': 4134, 'excesses': 4135, '63': 4136, '1.': 4137, 'root': 4138, 'mayhem': 4139, 'hairs': 4140, 'changing': 4141, 'views': 4142, 'convoluted': 4143, 'insane': 4144, 'paid': 4145, 'demand': 4146, 'honest': 4147, 'picked': 4148, 'rented': 4149, 'duped': 4150, 'trip/eurotrip/american': 4151, 'pie': 4152, 'dumbest': 4153, 'unrated': 4154, 'teases': 4155, 'disappoint': 4156, 'gaudy': 4157, 'appeared': 4158, 'eurotrip': 4159, 'lampoon': 4160, 'rent': 4161, 'norton': 4162, 'automatically': 4163, 'blowing': 4164, 'yea': 4165, 'bad/horrible': 4166, 'recesses': 4167, 'blacks': 4168, 'nacho': 4169, 'libre': 4170, 'jacks': 4171, 'whale': 4172, 'hammin': 4173, 'smarmy': 4174, 'slimy': 4175, 'friar': 4176, 'misfire': 4177, 'department.': 4178, 'sat': 4179, 'tenacious': 4180, 'd': 4181, 'offer': 4182, 'lousy': 4183, 'crappy': 4184, 'naff': 4185, 'endless': 4186, 'surely': 4187, 'stave': 4188, 'aneurism': 4189, 'painful.': 4190, 'ago': 4191, 'fave': 4192, 'pap': 4193, 'embarrassed': 4194, 'plop': 4195, 'earlier': 4196, 'hall': 4197, 'destiny': 4198, 'round': 4199, 'hammer': 4200, 'kneecaps': 4201, 'to.': 4202, 'meryl': 4203, 'streep': 4204, 'genius': 4205, 'nails': 4206, 'lindy': 4207, 'chamberlain': 4208, 'inspiring': 4209, 'australia': 4210, 'bigotry': 4211, 'largely': 4212, 'missed': 4213, 'australian': 4214, 'press': 4215, 'misery-inducing': 4216, 'pursuit': 4217, 'overkill': 4218, 'miranda': 4219, 'remark': 4220, 'frequency': 4221, 'waves': 4222, 'ugliness': 4223, 'talky': 4224, 'kolos': 4225, 'ambassador': 4226, 'federation': 4227, 'damn': 4228, 'medusans': 4229, 'speaking': 4230, 'spock': 4231, 'loneliness': 4232, 'tos': 4233, 'lamest': 4234, 'mmm': 4235, 'purchase': 4236, 'frontier': 4237, 'crew': 4238, 'shore': 4239, 'signal': 4240, 'ambassadors': 4241, 'representing': 4242, 'romulus': 4243, 'kronos': 4244, 'klingon': 4245, 'renegade': 4246, 'vulcan': 4247, 'bent': 4248, 'quest': 4249, 'attain': 4250, 'starship': 4251, 'venture': 4252, 'barrier': 4253, 'mysticism': 4254, 'persuades': 4255, 'senior': 4256, 'officers': 4257, 'betray': 4258, 'kirk': 4259, 'reach': 4260, 'god-like': 4261, 'core': 4262, 'developed': 4263, 'nowhere': 4264, 'writers': 4265, 'fiasco': 4266, 'suspense': 4267, 'wrath': 4268, 'kahn': 4269, 'philosophy': 4270, 'focus': 4271, 'anger': 4272, 'shatner': 4273, 'chair': 4274, 'ego': 4275, 'mccoy': 4276, 'moreover': 4277, 'whereas': 4278, 'over-acting': 4279, 'spots': 4280, 'reckless': 4281, 'practical': 4282, 'jokers': 4283, 'involves': 4284, 'leaders': 4285, 'row': 4286, 'campfire': 4287, 'franchise': 4288, 'swimming': 4289, 'interactions': 4290, 'wider': 4291, 'distribution': 4292, 'time.': 4293, 'almost-olympian': 4294, 'reduced': 4295, 'teaching': 4296, 'target': 4297, 'horndogging': 4298, 'students': 4299, 'fend': 4300, 'varying': 4301, 'results.': 4302, 'u.s.a': 4303, 'teachers': 4304, 'policemen': 4305, 'college': 4306, 'whom': 4307, 'swim': 4308, 'covers': 4309, 'relatives': 4310, 'romantic': 4311, 'conquests': 4312, 'subplots': 4313, 'fodder': 4314, 'divorce': 4315, 'guys.': 4316, 'overtones': 4317, 'bobcat': 4318, 'goldthwait': 4319, 'drug': 4320, 'cells.': 4321, 'sympathy': 4322, 'empathy': 4323, 'hearing': 4324, 'hates': 4325, 'degrade': 4326, 'better-': 4327, 'imaginary': 4328, 'degrades': 4329, 'shakes': 4330, 'clown': 4331, 'unfunny': 4332, 'accident': 4333, 'goldthwaits': 4334, 'rendered': 4335, 'paralyzed': 4336, 'strike': 4337, 'tongue': 4338, 'dictate': 4339, 'experienced': 4340, 'nimrod': 4341, 'antel': 4342, 'co-workers': 4343, 'steal': 4344, 'large': 4345, 'shipment': 4346, 'base': 4347, 'unravels': 4348, '40': 4349, '6': 4350, 'everyday': 4351, 'drinks': 4352, 'etc': 4353, 'ty': 4354, 'columbus': 4355, 'scheme': 4356, 'cruel': 4357, 'decorated': 4358, 'reliable': 4359, 'employee': 4360, 'regular': 4361, 'money-crazed': 4362, 'psychos': 4363, 'willing': 4364, 'suicidal': 4365, 'rampage': 4366, 'bloodthirsty': 4367, 'cheesy': 4368, 'laurence': 4369, 'fishburne': 4370, 'reno': 4371, 'fred': 4372, 'nicholas': 4373, 'walker': 4374, 'local': 4375, 'reverand': 4376, 'martha': 4377, 'ally': 4378, 'sheedy': 4379, 'habitual': 4380, 'womanizer': 4381, 'fake': 4382, 'current': 4383, 'affair': 4384, 'veronica': 4385, 'dara': 4386, 'tomanovich': 4387, 'bout': 4388, 'amnesia': 4389, 'hence': 4390, 'sally': 4391, 'kirkland': 4392, 'coot': 4393, 'pines': 4394, 'shades': 4395, 'wasted': 4396, 'savage': 4397, 'horridly': 4398, 'shoddy': 4399, 'private': 4400, 'elements': 4401, 'spades': 4402, 'sadly': 4403, 'contains': 4404, 'furthermore': 4405, 'emphasize': 4406, 'vested': 4407, 'technically': 4408, 'all-together': 4409, 'candy': 4410, 'skin': 4411, 'c-': 4412, 'showtime': 4413, 'showcase': 4414, '5': 4415, 'haunts': 4416, 'hidden': 4417, 'sensitive': 4418, 'lifelong': 4419, 'life-changing': 4420, 'shook': 4421, 'hangover': 4422, 'lasted': 4423, 'mararía': 4424, 'rushed': 4425, 'non-believable': 4426, 'evoke': 4427, 'emotions': 4428, 'dr.': 4429, 'fermín': 4430, 'unprecedented': 4431, 'behaviour': 4432, 'passion': 4433, 'conversation': 4434, 'stereotype': 4435, 'marcial': 4436, 'sub-intelligent': 4437, 'humble': 4438, 'drunkard': 4439, 'cultural': 4440, 'tidbits': 4441, 'canary': 4442, 'islands': 4443, 'intention': 4444, 'noes': 4445, 'sells': 4446, 'pulling': 4447, 'pulled': 4448, 'cellphone': 4449, 'dramaticness': 4450, 'kinda': 4451, 'lacked': 4452, '14-16': 4453, 'listen': 4454, 'rock': 4455, 'million': 4456, '=d': 4457, '3/10': 4458, 'lewis': 4459, 'ripping': 4460, 'pillows': 4461, 'auras': 4462, 'fear': 4463, 'auteur': 4464, 'slot': 4465, 'basement': 4466, 'giant': 4467, 'spider': 4468, 'leg': 4469, 'worms': 4470, 'cave': 4471, 'sock': 4472, 'puppets': 4473, 'teeth': 4474, 'post-apocalyptic': 4475, 'mumbo': 4476, 'jumbo': 4477, 'laughable': 4478, \"'airport\": 4479, 'slopped': 4480, 'universal': 4481, 'concorde': 4482, 'supersonic': 4483, 'airliner': 4484, \"'disaster-in-the-sky\": 4485, 'formula.': 4486, 'unintentional': 4487, 'kennedy': 4488, 'sticks': 4489, 'speed': 4490, 'flare': 4491, 'heat-seeking': 4492, 'missile': 4493, 'aircraft': 4494, 'flight': 4495, 'path': 4496, 're-boarding': 4497, 'plane': 4498, 'robert': 4499, 'wagner': 4500, 'kristel': 4501, 'alain': 4502, 'delon': 4503, 'raye': 4504, 'nervous': 4505, 'passenger': 4506, 'fingersmith': 4507, 'stunned': 4508, 'randomly': 4509, 'applied.': 4510, 'attempting': 4511, 'dimensional': 4512, 'tedious.': 4513, 'undertones': 4514, 'hammered': 4515, 'film.': 4516, 'phoned': 4517, 'ohhh': 4518, 'carpet': 4519, 'munchers': 4520, 'evening.': 4521, 'tonsil': 4522, 'hockey': 4523, 'raunchy': 4524, \"'here\": 4525, 'david': 4526, 'morse': 4527, 'helps': 4528, 'pickle': 4529, 'greatest': 4530, 'coolest': 4531, 'created': 4532, 'koepp': 4533, 'amount': 4534, 'baffles': 4535, 'outstanding': 4536, 'valentina': 4537, 'cervi': 4538, 'artemisia': 4539, 'gentileschi': 4540, 'portrays': 4541, 'tentative': 4542, 'confidant': 4543, 'mannerisms': 4544, 'mapping': 4545, 'models': 4546, 'watch.': 4547, 'overtly': 4548, 'facial': 4549, 'hair': 4550, 'clothing': 4551, 'eagerly': 4552, 'awaited': 4553, 'screening': 4554, 'christmas': 4555, 'reserved': 4556, 'aged': 4557, '17': 4558, 'chocolates': 4559, 'eager': 4560, 'anticipation': 4561, 'jane': 4562, 'austin.': 4563, 'sunk': 4564, 'shaky': 4565, 'shots': 4566, 'angles': 4567, 'dissatisfied': 4568, 'despondent': 4569, 'viewed': 4570, 'hawkins': 4571, 'looked': 4572, 'purpose': 4573, 'directly': 4574, 'occasions': 4575, 'hard-won': 4576, \"'fantasy\": 4577, 'engaging': 4578, 'stalking': 4579, 'fashion.': 4580, 'rupert': 4581, 'penry-jones': 4582, 'wentworth': 4583, 'bless': 4584, 'practically': 4585, 'drowned': 4586, 'occasion': 4587, 'wave': 4588, 'predictably': 4589, 'breached': 4590, 'seawall': 4591, 'drenching': 4592, 'co-actor': 4593, 'swept': 4594, 'sea': 4595, 'field': 4596, 'spitting': 4597, 'kitty': 4598, 're-shoot': 4599, 'attempted': 4600, 'place.': 4601, 'alice': 4602, 'krige': 4603, 'convincing': 4604, 'russell': 4605, 'efforts': 4606, 'counterbalanced': 4607, 'anthony': 4608, 'unconvincing': 4609, 'sir': 4610, 'elliott.': 4611, 'long-awaited': 4612, 'grace': 4613, 'seconds': 4614, 'pains': 4615, 'impediment': 4616, 'caused': 4617, 'hyper-ventilating': 4618, 'pillar': 4619, 'post': 4620, 'meantime': 4621, 'call': 4622, 'bath': 4623, 'sweat.': 4624, 'charms': 4625, 'crossing': 4626, 'wondering': 4627, 'spineless': 4628, 'opinion-less': 4629, 'winging': 4630, 'shut': 4631, 'heck': 4632, 'up.': 4633, 'crucial': 4634, 'kiss': 4635, 'girlie': 4636, 'drawn': 4637, 'chewing': 4638, 'gum': 4639, 'lips': 4640, 'eww': 4641, 'exchange': 4642, 'been.': 4643, 'enchanting': 4644, 'england': 4645, 'scenery.': 4646, 'imagined': 4647, 'everytown': 4648, 'spans': 4649, '1940': 4650, '2036': 4651, 'mainly': 4652, 'ruler': 4653, 'boss': 4654, 'capability': 4655, 'airplanes': 4656, 'bombed': 4657, 'broke': 4658, 'audio': 4659, 'muddy': 4660, 'quirks': 4661, 'altogether': 4662, 'finger': 4663, 'fluffy': 4664, 'h.g': 4665, 'wells': 4666, 'hundred': 4667, 'drawn-out': 4668, 'germany': 4669, 'biological': 4670, 'everything.': 4671, 'debating': 4672, '2012': 4673, 'inglourious': 4674, 'basterds': 4675, 'amazingly': 4676, 'disappointment': 4677, 'expected': 4678, 'gratuitous': 4679, 'dosage': 4680, 'felt': 4681, 'shortchanged': 4682, 'ratio': 4683, 'masses': 4684, 'caruso': 4685, '1951': 4686, 'records': 4687, 'movergoers': 4688, 'stay-at-homes': 4689, 'motorola': 4690, 'televisions': 4691, 'figures': 4692, 'false': 4693, 'adjust': 4694, 'inflation': 4695, 'dominate': 4696, 'cost': 4697, '90c': 4698, '1.60': 4699, '44c': 4700, '75c': 4701, 'loew': 4702, 'palace': 4703, 'washington': 4704, 'dc': 4705, '35c': 4706, '50c': 4707, 'neighborhood': 4708, 'runs': 4709, 'counts': 4710, 'responding': 4711, 'unadjusted': 4712, 'spin': 4713, 'filmmakers': 4714, 'enrico': 4715, 'threw': 4716, 'opera': 4717, 'singer': 4718, 'mario': 4719, 'lanza': 4720, 'best-ever': 4721, 'historic': 4722, 'overeating': 4723, 'prince': 4724, 'purdom': 4725, 'dubbed': 4726, 'formerly': 4727, 'not-fat': 4728, 'pictured': 4729, 'advertising': 4730, 'ebay': 4731, '2.00': 4732, 'reflects': 4733, 'availability': 4734, 'copies': 4735, 'bonanza': 4736, 'fatal': 4737, 'cartwright': 4738, 'widower': 4739, 'marriage': 4740, 'hoss': 4741, 'rid': 4742, 'sons': 4743, 'western.': 4744, 'revolving': 4745, 'cartwrights': 4746, 'demanding': 4747, 'nobility': 4748, 'intact': 4749, 'today.': 4750, 'nbc': 4751, 'noble': 4752, 'patriarch': 4753, 'ideal': 4754, 'immense': 4755, 'ponderosa': 4756, 'spread': 4757, 'pinch.': 4758, 'institution': 4759, 'daresay': 4760, 'kennedys': 4761, 'popularity': 4762, 'syndication': 4763, 'testifies': 4764, 'pernell': 4765, 'oldest': 4766, 'rumor': 4767, 'bordered': 4768, 'sanctimonious': 4769, 'describe.': 4770, 'michael': 4771, 'landon': 4772, 'credit': 4773, 'highway': 4774, 'prarie': 4775, 'headed': 4776, 'blocker': 4777, 'tim': 4778, 'matheson': 4779, 'adopted': 4780, 'mitch': 4781, 'vogel': 4782, 'loyal': 4783, 'thick': 4784, 'lovable': 4785, 'surgery': 4786, 'hole': 4787, 'family.': 4788, 'passed': 4789, 'visited': 4790, 'virginia': 4791, 'tahoe': 4792, 'map': 4793, 'credits': 4794, 'maintained': 4795, 'tourist': 4796, '21': 4797, 'baker': 4798, 'sherlock': 4799, 'holmes': 4800, 'ranchhouse': 4801, 'real.': 4802, 'rigid': 4803, 'perspective': 4804, 'romance': 4805, 'premiere': 4806, 'casting': 4807, 'match-ups': 4808, 'era': 4809, 'errol': 4810, 'flynn': 4811, 'olivia': 4812, 'havilland': 4813, 'evident': 4814, 'pass': 4815, 'purists': 4816, 'percent': 4817, 'accuracy': 4818, 'telling': 4819, 'custer': 4820, 'horn': 4821, 'prominence': 4822, 'unresolved': 4823, 'quandary': 4824, 'arrival': 4825, 'scratcher': 4826, 'riding': 4827, 'regalia': 4828, 'arthur': 4829, 'putting': 4830, 'headquarters': 4831, 'gotten': 4832, 'trouble.': 4833, 'libby': 4834, 'bacon': 4835, 'subsequent': 4836, 'encounters': 4837, 'include': 4838, 'tea': 4839, 'reader': 4840, 'callie': 4841, 'hattie': 4842, 'mcdaniel': 4843, 'mine': 4844, 'mantan': 4845, 'moreland': 4846, 'hamming': 4847, 'dress': 4848, 'owl': 4849, 'j.e.b': 4850, 'stuart': 4851, 'ronald': 4852, 'reagan': 4853, 'fe': 4854, 'vying': 4855, 'arrogance': 4856, 'flamboyance': 4857, 'remembers': 4858, 'richard': 4859, 'mulligan': 4860, '1970': 4861, 'top.': 4862, 'persevered': 4863, 'gamble': 4864, 'risky': 4865, 'loyalty': 4866, 'discipline': 4867, 'poignant': 4868, 'confrontation': 4869, 'arch': 4870, 'glory': 4871, 'dependent': 4872, 'insight': 4873, 'farcry': 4874, 'top-10': 4875, 'list': 4876, 'directors': 4877, 'cashing': 4878, 'doom': 4879, 'carver': 4880, 'awakes': 4881, 'rpg': 4882, 'unknown': 4883, 'soldier': 4884, 'communication': 4885, 'harlan': 4886, 'doyle': 4887, 'guides': 4888, 'shipwrecks': 4889, 'jungles': 4890, 'installations': 4891, 'volcanoes': 4892, 'valerie': 4893, 'constantine': 4894, 'wile': 4895, 'battling': 4896, 'mutated': 4897, 'super': 4898, 'genetically': 4899, 'enhanced': 4900, 'animals.': 4901, 'differently': 4902, '1/3': 4903, 'backstory': 4904, \"'boat\": 4905, 'walks': 4906, 'goons': 4907, 'communicator': 4908, \"'modified\": 4909, 'albinos': 4910, 'singlets': 4911, \"'monkey-like\": 4912, 'jumping': 4913, 'bushes': 4914, 'allot': 4915, 'filled': 4916, 'carrier': 4917, 'communications': 4918, 'stations': 4919, 'cliffs': 4920, 'reference': 4921, 'in-game': 4922, 'contents': 4923, 'characters/items/vehicles': 4924, 'volcano': 4925, 'replaced': 4926, 'krieger': 4927, 'avoiding': 4928, 'costs': 4929, 'gamer': 4930, 'males': 4931, '12-29': 4932, 'disgusted': 4933, 'porting': 4934, 'books/games': 4935, 'ultra': 4936, 'nazi': 4937, 'blonde': 4938, 'supposedly': 4939, 'survivors': 4940, 'brunettes': 4941, 'deserving': 4942, 'death.': 4943, 'contrives': 4944, 'squabble': 4945, 'prejudices': 4946, 'laughable.': 4947, 'nuts': 4948, 'director-writer': 4949, 'propaganda.': 4950, 'ignores': 4951, 'brunette': 4952, 'heterosexual': 4953, 'appeal': 4954, 'melbourne': 4955, 'international': 4956, '2005': 4957, 'partial': 4958, 'concentrate': 4959, 'scandinavian': 4960, 'offerings': 4961, 'unfolds': 4962, 'extraordinary': 4963, 'details': 4964, 'silent': 4965, 'pensive': 4966, 'power': 4967, 'meaningfulness': 4968, 'underrated.': 4969, 'trammell': 4970, 'morrissey': 4971, 'dr': 4972, 'glass': 4973, 'analyst': 4974, 'evaluate': 4975, 'sports': 4976, 'trammel': 4977, 'manipulate': 4978, 'thewlis': 4979, 'slick': 4980, 'naughty': 4981, 'older': 4982, 'first.she': 4983, 'impressed': 4984, 'casino': 4985, 'morrisey': 4986, 'vunerablitity': 4987, 'over-the-top': 4988, 'sucked.': 4989, 'trio': 4990, 'dealt': 4991, 'addiction': 4992, 'monkey': 4993, 'hatful': 4994, 'rain': 4995, 'best.': 4996, 'otto': 4997, 'preminger': 4998, 'flaw': 4999, 'frank': 5000, 'sinatra': 5001, 'heroin': 5002, 'card': 5003, 'dealer': 5004, 'busted': 5005, 'covering': 5006, 'strauss': 5007, 'raided': 5008, 'cure': 5009, 'jazz': 5010, 'drummer': 5011, 'conspiring': 5012, 'dealing': 5013, 'heavyweight': 5014, 'gamblers': 5015, 'underhanded': 5016, 'methods': 5017, 'services': 5018, 'secondly': 5019, 'darren': 5020, 'mcgavin': 5021, 'dope': 5022, 'hooked': 5023, 'customer': 5024, 'eleanor': 5025, 'clinging': 5026, 'con': 5027, 'beat': 5028, 'around.': 5029, 'nomination': 5030, 'ernest': 5031, 'borgnine': 5032, 'marty': 5033, 'won': 5034, 'eternity': 5035, 'category': 5036, 'acclaimed': 5037, 'withdrawal': 5038, 'locked': 5039, 'kim': 5040, 'novak': 5041, 'shaken.': 5042, 'scheming': 5043, 'tied': 5044, 'interrupted': 5045, 'melody': 5046, '1955': 5047, 'marked': 5048, 'serpentine': 5049, 'peddler': 5050, 'guaranteed': 5051, 'crawl.': 5052, 'elmer': 5053, 'bernstein': 5054, 'contributed': 5055, 'dinginess': 5056, 'bleak': 5057, 'swearing': 5058, 'innumerable': 5059, 'incredible': 5060, 'cheesiness': 5061, 'mile': 5062, 'lois': 5063, 'year-old': 5064, 'super-powered': 5065, 'superman': 5066, 'super-child': 5067, 'throws': 5068, 'lex': 5069, 'henchman': 5070, 'seemingly': 5071, 'fragile': 5072, 'latently': 5073, 'illegitimate': 5074, 'lifts': 5075, 'continent': 5076, 'kryptonite': 5077, 'simpsons': 5078, 'exposed': 5079, 'strength': 5080, 'weakness': 5081, 'associated': 5082, 'superman-related': 5083, 'projects': 5084, 'dracula': 5085, 'stake': 5086, 'spaceship': 5087, 'garlic': 5088, 'eat': 5089, 'brush': 5090, 'sleep': 5091, 'pajamas': 5092, 'hoist': 5093, 'powerless': 5094, 'burning': 5095, 're-entry': 5096, 'splattering': 5097, 'hits': 5098, 'slaps': 5099, 'symbolism': 5100, 'issue': 5101, 'characterization': 5102, 'jor-el': 5103, 'savior': 5104, 'all-wise': 5105, 'rocket': 5106, 'explode': 5107, 'christ': 5108, 'bible': 5109, 'sends': 5110, 'radioactive': 5111, 'crucifixion': 5112, 'luthor': 5113, 'stabs': 5114, 'spear': 5115, 'brick': 5116, 'brain-dead': 5117, 'brazenly': 5118, 'inappropriate': 5119, 'tainting': 5120, 'steel': 5121, 'foreseeable': 5122, 'rename': 5123, 'returns': 5124, 'shrewd': 5125, 'cold-hearted': 5126, 'tycoon': 5127, 'apt': 5128, 'president': 5129, 'comics': 5130, 'destroy': 5131, 'charge': 5132, 'wreck': 5133, 'wacky': 5134, 'dunce': 5135, 'zany': 5136, 'schemes': 5137, 'slightest': 5138, 'unbearable': 5139, 'travesty': 5140, 'batman': 5141, 'focuses': 5142, 'interpretation': 5143, '1960s': 5144, 'zam': 5145, 'whap': 5146, 'pow': 5147, 'summarize': 5148, 'entitled': 5149, 'sincerely': 5150, 'encourage': 5151, 'reads': 5152, 'contribute': 5153, 'bryan': 5154, 'fined': 5155, '45': 5156, 'bend': 5157, 'weapon': 5158, 'riffles': 5159, 'wwi': 5160, 'wwii': 5161, 'privates': 5162, 'armed': 5163, 'm1': 5164, 'garand': 5165, '1932': 5166, 'authentic': 5167, '1903': 5168, 'springfield': 5169, 'aka': 5170, '1,5': 5171, 'ammunition': 5172, 'semi': 5173, 'automatic': 5174, 'requires': 5175, 'reloading': 5176, 'german': 5177, 'borrowed': 5178, 'helmets': 5179, 'significant': 5180, 'pike': 5181, 'additional': 5182, 'archives': 5183, 'truthful': 5184, 'propagation': 5185, 'ah': 5186, 'motorcycles': 5187, 'angels': 5188, 'posse': 5189, 'a-lame-o': 5190, 'not-so-cool': 5191, 'drinking': 5192, 'pot': 5193, 'acts': 5194, 'rendition': 5195, 'serenade': 5196, 'vomiting': 5197, 'bike': 5198, 'linda': 5199, 'rrrr': 5200, 'fats': 5201, 'grunts': 5202, 'sounds': 5203, 'banjo': 5204, 'messin': 5205, 'stock': 5206, 'scriptwriting': 5207, 'folks.': 5208, 'lighthouse': 5209, 'detest': 5210, 'jeter': 5211, 'newman': 5212, 'mcqueen': 5213, 'racing': 5214, 'jollies': 5215, 'redford': 5216, 'ski': 5217, 'hill': 5218, 'dale': 5219, 'alpine': 5220, 'sunshine.': 5221, 'powdered': 5222, 'small-town': 5223, 'chappellet': 5224, 'olympic': 5225, 'nose': 5226, 'coach': 5227, 'team-mates': 5228, 'mere': 5229, 'side-show': 5230, 'insular': 5231, 'evidenced': 5232, 'distasteful': 5233, 'pick-up': 5234, 'hometown': 5235, 'selfishly': 5236, 'petulant': 5237, 'heavens': 5238, 'free-thinking': 5239, 'independent': 5240, 'camilla': 5241, 'sparv': 5242, 'ski-ing': 5243, 'sequences': 5244, 'stunt-work': 5245, 'bumps': 5246, 'scrapes': 5247, 'piste': 5248, 'effectiveness': 5249, 'dimmed': 5250, 'familiarity': 5251, 'coverage': 5252, 'skiing': 5253, 'convinced': 5254, 'winter': 5255, 'olympics': 5256, 'identification': 5257, 'wins': 5258, 'gold': 5259, 'medal': 5260, 'reel': 5261, 'excited': 5262, 'another.': 5263, 'hackman': 5264, 'meagre': 5265, 'material': 5266, 'ms': 5267, 'chief': 5268, 'treats': 5269, 'doubtless': 5270, 'chauvinistic': 5271, 'tension': 5272, 'fully': 5273, 'compensate': 5274, 'fig': 5275, 'hideous': 5276, 'lifetime': 5277, 'portray': 5278, 'abhorrent': 5279, 'empathetic': 5280, 'monster': 5281, 'criminal': 5282, 'question': 5283, 'letourneau': 5284, 'vili': 5285, '12': 5286, 'sympathizing': 5287, 'empathizing': 5288, 'no.': 5289, 'imagine': 5290, 'switching': 5291, 'genders': 5292, 'worthless': 5293, 'switched': 5294, 'empathize': 5295, 'likely': 5296, 'monstrous': 5297, 'preying': 5298, 'lascivious': 5299, 'prison': 5300, 'brainwashed': 5301, 'victim': 5302, 'suffering': 5303, 'stockholm': 5304, 'syndrome': 5305, 'receive': 5306, 'treatment': 5307, 'virtue': 5308, 'sex.': 5309, 'spade': 5310, 'pedophile': 5311, 'ifs': 5312, 'ands': 5313, 'buts': 5314, 'belongs': 5315, 'derision': 5316, 'contempt': 5317, 'karen': 5318, 'carpenter': 5319, 'complex': 5320, 'details.': 5321, 'cynthia': 5322, 'gibb': 5323, 'election': 5324, 'naive': 5325, 'personality.': 5326, 'louise': 5327, 'fletcher': 5328, 'agnes': 5329, 'mother.': 5330, 'album': 5331, 'ratings': 5332, 'usa': 5333, 'countries': 5334, 'crossfire': 5335, 'justifiably': 5336, '1947': 5337, 'noir': 5338, 'ryan': 5339, 'levene': 5340, 'gloria': 5341, 'grahame': 5342, 'dmytryk': 5343, 'detective': 5344, 'finlay': 5345, 'seeks': 5346, 'responsible': 5347, 'joseph': 5348, 'samuels': 5349, 'bar': 5350, 'dead.': 5351, 'nevertheless': 5352, 'packs': 5353, 'punch': 5354, 'unsparing': 5355, 'anti-semite': 5356, 'language.': 5357, 'characterizations': 5358, 'vivid': 5359, 'smallish': 5360, 'cooper': 5361, 'alibi': 5362, 'effective': 5363, 'intelligent': 5364, 'unsure': 5365, 'wife.': 5366, 'frustrating': 5367, 'energetic': 5368, 'prepared': 5369, 'looping': 5370, 'stereo-typical': 5371, 'latino': 5372, 'hanging': 5373, 'gloriously': 5374, 'badness': 5375, 'prussic': 5376, 'gas': 5377, 'murderer': 5378, 'donning': 5379, 'clansman': 5380, 'hood': 5381, 'wielding': 5382, 'convicts': 5383, 'enlisted': 5384, 'mastermind': 5385, 'containing': 5386, 'aquariums': 5387, 'turtles': 5388, 'fish': 5389, 'inspectors': 5390, 'scotland': 5391, 'yard': 5392, 'higgins': 5393, 'ijoachim': 5394, 'fuchsberger': 5395, 'superior': 5396, 'siegfried': 5397, 'schürenberg': 5398, 'ann': 5399, 'portland': 5400, 'uschi': 5401, 'glas': 5402, 'inherit': 5403, 'wealth': 5404, 'sy': 5405, 'dormitory': 5406, 'hiding': 5407, 'faculty': 5408, 'prey': 5409, 'monk': 5410, 'robe': 5411, 'disguise': 5412, 'precisely': 5413, 'strangle': 5414, 'necks': 5415, 'attacked': 5416, 'prisoners': 5417, 'commissioned': 5418, 'toxic': 5419, 'monetary': 5420, 'clever': 5421, 'greaves': 5422, 'günter': 5423, 'meisner': 5424, 'barrel': 5425, 'assisted': 5426, 'corrupt': 5427, 'guard': 5428, 'blindfolded': 5429, 'orders': 5430, 'uncovering': 5431, 'operation': 5432, 'priority': 5433, 'seek': 5434, 'regards': 5435, 'suspicion': 5436, 'headmistress': 5437, 'author': 5438, 'sweaty': 5439, 'snooping': 5440, 'gardener': 5441, 'bannister': 5442, 'herrings': 5443, 'disposed': 5444, 'loop': 5445, 'discovered': 5446, 'multiple': 5447, 'krimi': 5448, 'closest': 5449, 'yielding': 5450, 'surprises': 5451, 'potential': 5452, 'sordid': 5453, 'shenanigans': 5454, 'bond': 5455, 'villain': 5456, 'alligator': 5457, 'bible/water': 5458, 'pistol': 5459, 'fires': 5460, 'startled': 5461, 'royles': 5462, 'royce': 5463, 'latches': 5464, 'flaps': 5465, 'darken': 5466, 'windows': 5467, 'seat': 5468, 'peep': 5469, 'spy': 5470, 'rooms': 5471, 'liability': 5472, 'buffoonish': 5473, 'undermines': 5474, 'abilities': 5475, 'poking': 5476, 'know-it-all': 5477, 'psychoanalyzing': 5478, 'misunderstanding': 5479, 'skills': 5480, 'clues/facts': 5481, 'capable': 5482, 'alfred': 5483, 'vohrer': 5484, 'humming': 5485, 'lurid': 5486, 'executions': 5487, 'ace': 5488, 'sleeve': 5489, 'revelations': 5490, 'unearthed': 5491, 'literal': 5492, 'unmasking': 5493, 'strings': 5494, 'heatwave': 5495, 'european': 5496, 'whatsoever': 5497, 'hitches': 5498, 'rides': 5499, 'pisses': 5500, 'rash': 5501, 'flipping': 5502, 'channels': 5503, 'twenty': 5504, 'confusion': 5505, 'realizing': 5506, 'middle-of-the-night': 5507, 'tennis': 5508, 'chad': 5509, 'logic': 5510, 'apply': 5511, 'rehash': 5512, 'previously': 5513, 'forewarned': 5514, 'equivalent': 5515, 'pet': 5516, 'lion': 5517, 'gate': 5518, 'deceives': 5519, 'bombshell': 5520, 'swear': 5521, 'w.': 5522, 'bush': 5523, 'idiotic.': 5524, 'figured': 5525, 'tripe': 5526, 'incomprehensibly': 5527, 'mishmash': 5528, 'notorious': 5529, 'emperors': 5530, 'orgies': 5531, 'killings': 5532, 'versions': 5533, '102': 5534, 'fathom': 5535, 'muck': 5536, 'alleged': 5537, 'sex/nudity': 5538, 'beware': 5539, 'technical': 5540, 'amateurishness': 5541, 'shocks': 5542, 'junior': 5543, 'flunk': 5544, 'camera-work': 5545, 'hopelessly': 5546, 'inept': 5547, 'zooms': 5548, 'framing': 5549, 'pans': 5550, 'stage': 5551, 'grainy': 5552, 'cheapish': 5553, 'photo': 5554, 'lighting': 5555, 'in-': 5556, 'editing': 5557, 'jumpy': 5558, 'cutaways': 5559, 'continuity': 5560, 'flaws': 5561, 'transitions': 5562, 'momentum': 5563, 'progression': 5564, 'involvement': 5565, 'potentially': 5566, 'tragic.': 5567, 'possibilities': 5568, 'gargantuan': 5569, 'burnt': 5570, 'fellini-like': 5571, 'gobble-laughs': 5572, \"o'toole\": 5573, 'tiberius': 5574, 'brings': 5575, 'big-name': 5576, 'ask': 5577, 'access': 5578, 'bonk': 5579, 'period': 5580, 'ozjeppe': 5581, 'unpretentious': 5582, 'cult': 5583, 'rip-offs': 5584, 'contain': 5585, 'likened': 5586, 'bite': 5587, 'undoubtedly': 5588, 'downbeat': 5589, 'pou-soi': 5590, 'cheang': 5591, 'sensationalist': 5592, 'comparison': 5593, 'gritty': 5594, 'hard-edged': 5595, 'thing.': 5596, 'edison': 5597, 'chen': 5598, 'pang': 5599, 'cambodian': 5600, 'travels': 5601, 'hong': 5602, 'kong': 5603, 'assassinate': 5604, 'judge': 5605, 'lee': 5606, 'wai': 5607, 'cop': 5608, 'determined': 5609, 'track': 5610, 'ensure': 5611, 'escape\\x97until': 5612, 'yue': 5613, 'illegal': 5614, 'immigrant': 5615, 'abuse.': 5616, 'relentlessly': 5617, 'haunting': 5618, 'newcomer': 5619, 'pei': 5620, 'hard-hitting': 5621, 'asian': 5622, 'hyper-violence': 5623, 'chan-wook': 5624, 'vengeance': 5625, 'trilogy': 5626, 'stabbings': 5627, 'shootings': 5628, 'merciless': 5629, 'beatings': 5630, 'regularly': 5631, 'unflinchingly': 5632, 'cheang.': 5633, 'unhappy': 5634, 'crosses': 5635, 'laughably': 5636, 'over-dramatic': 5637, 'pregnant': 5638, 'suffered': 5639, 'stab': 5640, 'wounds': 5641, 'fracas': 5642, 'wounded': 5643, 'performs': 5644, 'diy': 5645, 'ceasarean': 5646, 'delivering': 5647, 'baby': 5648, 'dies.': 5649, \"'classic\": 5650, 'slice': 5651, 'excess': 5652, 'deliriously': 5653, 'ott': 5654, 'seeking': 5655, 'clichés': 5656, 'sucker': 5657, 'mixed': 5658, 'crumby': 5659, 'worthy': 5660, 'minimum': 5661, 'requirement': 5662, 'wood': 5663, 'gooding': 5664, 'jr.': 5665, 'mindless': 5666, 'rarity': 5667, 'bowl': 5668, 'popcorn': 5669, 'bottle': 5670, 'vodka': 5671, 'mo': 5672, 'ogrodnik': 5673, 'drink': 5674, 'wolfgang': 5675, 'close-ups': 5676, 'collaborative': 5677, 'actresses': 5678, 'peens': 5679, 'beetle': 5680, 'banging': 5681, 'violet': 5682, 'peen': 5683, 'rat': 5684, 'porn': 5685, 'smashing': 5686, 'alright': 5687, 'nyu': 5688, 'finishing': 5689, 'poop-': 5690, 'debut': 5691, 'uptown': 5692, 'skulls': 5693, 'sheer': 5694, 'dido': 5695, 'thirty': 5696, 'pacify': 5697, 'elephant.there': 5698, 'secretly': 5699, 'pleasurable': 5700, 'underage': 5701, 'kurt': 5702, 'cobain': 5703, 'lookalike': 5704, 'convenience': 5705, 'oh-so-naturally': 5706, 'newspaper': 5707, 'heart-shaped': 5708, 'glasses': 5709, 'delightfully': 5710, 'derivative': 5711, 'lolita': 5712, 'provocative': 5713, 'nude': 5714, 'chin-up': 5715, 'homosexual': 5716, 'pornographic': 5717, 'experiments': 5718, 'kidding.': 5719, 'intellectual': 5720, 'contemplation': 5721, 'immediate': 5722, 'care.': 5723, 'ogrodnik/ripe': 5724, 'pornography': 5725, '2.': 5726, '3.': 5727, 'require': 5728, '5.': 5729, '-at': 5730, 'refill/pee': 5731, 'pee': 5732, 'remaining': 5733, 'sobriety': 5734, 'body.-': 5735, '6.': 5736, 'sip': 5737, '7.': 5738, 'underused': 5739, 'hula-hoop': 5740, 'per': 5741, '8.': 5742, '9.': 5743, 'through-line': 5744, 'beyotch': 5745, '10.': 5746, 'predict': 5747, 'internet': 5748, 'riped.': 5749, '-hawaiian': 5750, 'smirnoff': 5751, 'jr': 5752, 'spoilers': 5753, 'rebecca': 5754, 'daphne': 5755, 'dumarier': 5756, 'lush': 5757, 'gothic': 5758, 'intrigue': 5759, 'returned': 5760, 'mistaken': 5761, 'settled': 5762, 'scale': 5763, \"'war\": 5764, 'civilians': 5765, 'planes': 5766, 'necessary': 5767, 'militia': 5768, 'booming': 5769, 'began': 5770, 'turning': 5771, 'paranoid': 5772, 'jingoistic': 5773, 'thrillers': 5774, 'networks': 5775, 'deceptive': 5776, 'skilled': 5777, 'operators': 5778, 'shadows': 5779, 'abiding': 5780, 'producer': 5781, 'skirball': 5782, 'approached': 5783, 'owned': 5784, 'corruption': 5785, 'war-time': 5786, 'sabotage': 5787, 'thrust': 5788, 'vortex': 5789, 'coincidence': 5790, 'darker': 5791, 'literary': 5792, 'maven': 5793, 'dorothy': 5794, 'stint': 5795, 'returning': 5796, 'bohemian': 5797, 'roots': 5798, 'nyc': 5799, 'co-authored': 5800, 'match': 5801, 'sensibilities.': 5802, 'neglected': 5803, 'unfortunate': 5804, '25': 5805, 'barry': 5806, 'cummings': 5807, 'los': 5808, 'angeles': 5809, 'airplane': 5810, 'factory': 5811, 'frye': 5812, 'norman': 5813, 'lloydd': 5814, 'framed': 5815, 'committing': 5816, 'far-fetched': 5817, 'utah': 5818, 'circus': 5819, 'caravan': 5820, 'helpful': 5821, \"'freaks\": 5822, 'patricia': 5823, 'martin': 5824, 'priscilla': 5825, 'security': 5826, 'madly': 5827, 'saboteur': 5828, 'captor': 5829, 'mix.': 5830, 'outing': 5831, 'brews': 5832, 'network': 5833, 'demure': 5834, 'ladies': 5835, 'joes': 5836, 'respectable': 5837, 'businessmen': 5838, 'agent': 5839, 'terrorists': 5840, 'harbor': 5841, 'criminals': 5842, 'detonate': 5843, 'bombs': 5844, 'ignited': 5845, 'finales': 5846, 'attractions': 5847, 'recreated': 5848, \"'shooting\": 5849, 'ban': 5850, 'villains': 5851, 'cameo': 5852, 'sign': 5853, 'language': 5854, \"'deaf\": 5855, 'axed': 5856, 'bureau': 5857, 'practices': 5858, 'afraid': 5859, 'offending': 5860, 'deaf': 5861, 'bowled': 5862, 'heartfelt': 5863, 'karmic': 5864, 'emanating': 5865, 'whole.': 5866, 'commutes': 5867, 'inspired': 5868, 'assorted': 5869, 'smooth': 5870, 'prologue': 5871, 'japan': 5872, 'symbolizes': 5873, 'sociologically': 5874, 'lighthearted': 5875, 'dignified': 5876, 'diminished': 5877, 'imperfections': 5878, 'social': 5879, 'classes': 5880, 'lent': 5881, 'learning': 5882, 'synchronous': 5883, 'geeked': 5884, 'teens': 5885, 'smile': 5886, 'again.': 5887, 'as-is': 5888, 'film-making': 5889, 'rudimentary': 5890, 'helen': 5891, 'disturbing': 5892, 'exploitation': 5893, 'curtis': 5894, 'harrington': 5895, 'slew': 5896, 'auntie': 5897, 'roo': 5898, 'henry': 5899, 'farrell': 5900, 'hush': 5901, 'charlotte': 5902, 'mixture': 5903, 'genres': 5904, 'horrific': 5905, 'swinging': 5906, '1930': 5907, 'tap-dancing': 5908, 'unquestionably': 5909, 'literally': 5910, 'catapulted': 5911, 'sublime': 5912, 'religion': 5913, 'wardrobes': 5914, 'exhausting': 5915, 'trial': 5916, 'sentenced': 5917, 'life-imprisonment': 5918, 'adelle': 5919, 'shelley': 5920, 'winters': 5921, 'adapts': 5922, 'environment': 5923, 'millionaire': 5924, 'sink': 5925, 'downwards': 5926, 'spiral': 5927, 'insanity': 5928, 'paranoia': 5929, 'listens': 5930, 'ramblings': 5931, 'radio-evangelist': 5932, 'fears': 5933, 'punished': 5934, 'crimes': 5935, 'develops': 5936, 'tendencies': 5937, 'adequately': 5938, 'tango': 5939, 'extended': 5940, 'unrelated': 5941, 'continuously': 5942, 'ominous': 5943, 'benefices': 5944, 'unpredictable': 5945, 'introvert': 5946, 'snap': 5947, 'petrifying': 5948, 'freddy': 5949, 'kruegers': 5950, 'voorhees': 5951, 'myers': 5952, 'supportive': 5953, 'underdeveloped': 5954, 'robbed': 5955, 'michéal': 5956, 'macliammóir': 5957, 'cocky': 5958, 'elocution': 5959, 'moorehead': 5960, 'priestess': 5961, 'timothy': 5962, 'carey': 5963, 'obtrusive': 5964, 'visitor': 5965, 'gruesome': 5966, 'shock': 5967, 'grand': 5968, 'guignol': 5969, 'costume': 5970, 'breathtaking': 5971, 'fellow': 5972, 'brownie': 5973, 'st.': 5974, 'louis.': 5975, 'record': 5976, 'broad': 5977, 'clarke': 5978, 'resume': 5979, 'molly': 5980, 'mccarthy': 5981, 'afoot': 5982, 'crahan': 5983, 'denton': 5984, 'dukas': 5985, 'suspicions': 5986, 'aroused.': 5987, 'robbery': 5988, 'guggenheim': 5989, 'stix': 5990, 'documentaries': 5991, 'marlon': 5992, 'brando': 5993, 'imitation': 5994, 'dick': 5995, 'powell': 5996, 'productions': 5997, 'signed': 5998, 'this.': 5999, 'overlooked': 6000, 'love.': 6001, 'corny': 6002, 'teams': 6003, 'engaged': 6004, 'scavenger': 6005, 'wits': 6006, 'win': 6007, 'contest': 6008, 'joy': 6009, 'yours': 6010, 'debuts': 6011, 'naughton': 6012, 'pepper': 6013, 'commercials': 6014, '1981': 6015, 'werewolf': 6016, 'ruebens': 6017, 'wee': 6018, 'herman-esquire': 6019, 'roll': 6020, 'fox': 6021, 'stephen': 6022, 'furst': 6023, 'flounder': 6024, 'names': 6025, 'characters.': 6026, 'vhs': 6027, 'sometime': 6028, 'flip': 6029, 'disgrace': 6030, 'bollywood': 6031, 'neal': 6032, 'n': 6033, 'nikki': 6034, 'genes': 6035, 'skipped': 6036, 'tanisha': 6037, 'worn': 6038, 'uday': 6039, 'chopra': 6040, 'spoiled': 6041, 'halla': 6042, 're': 6043, 'eh': 6044, '......': 6045, 'discard': 6046, 'cd': 6047, 'recorded': 6048, 'ultimately': 6049, 'animation/science-fiction': 6050, 'countless': 6051, 'charmed': 6052, 'homely': 6053, 'simplicity': 6054, 'sincerity': 6055, 'steam': 6056, 'trains': 6057, 'role.i': 6058, 'confess': 6059, 'roberta': 6060, 'zealand': 6061, 'nicest': 6062, 'v': 6063, 'eg': 6064, 'britney': 6065, 'bashing': 6066, 'message.': 6067, 'range': 6068, 'pop/rock': 6069, '45.': 6070, 'spears': 6071, 'realised': 6072, 'sang': 6073, 'recognise': 6074, 'wall': 6075, \"'self\": 6076, \"promotion'.\": 6077, 'entertained': 6078, 'producers': 6079, 'entertain': 6080, 'epidemic': 6081, 'self-esteem': 6082, 'breezy': 6083, 'texan': 6084, 'twang': 6085, 'fade': 6086, 'up/do': 6087, 'yeh': 6088, 'them.': 6089, 'bloke': 6090, 'hannibal': 6091, 'self-indulgent': 6092, 'misfortune': 6093, 'unwatchable': 6094, 'improvised': 6095, 'toback': 6096, 'downey': 6097, 'busty': 6098, 'beauty': 6099, 'stacie': 6100, 'randall': 6101, 'pvc': 6102, 'clad': 6103, 'bad-ass': 6104, 'bitch': 6105, 'alexandra': 6106, 'faithful': 6107, 'acolyte': 6108, 'faust': 6109, 'trapped': 6110, 'master': 6111, 'malevolent': 6112, 'minx': 6113, 'breaks': 6114, 'warehouse': 6115, 'vital': 6116, 'conducting': 6117, 'satanic': 6118, 'ritual': 6119, 'summon': 6120, 'mare': 6121, 'accidentally': 6122, 'enters': 6123, 'pentagram': 6124, 'loss': 6125, 'diminutive': 6126, 'troll-like': 6127, 'dark.': 6128, 'replacement': 6129, 'ex-lover': 6130, 'jonathan': 6131, 'graves': 6132, 'liapis': 6133, 'investigating': 6134, 'wise-cracking': 6135, 'inter-dimensional': 6136, 'half-pints': 6137, 'sorts': 6138, 'trouble': 6139, 'home.': 6140, 'warped': 6141, 'jim': 6142, 'wynorski': 6143, 'females': 6144, 'big-breasted': 6145, 'hooker': 6146, 'ghoulies': 6147, 'exception': 6148, 'film\\x97whether': 6149, 'curator': 6150, 'antiquities': 6151, 'patient': 6152, 'asylum\\x97is': 6153, 'stv': 6154, 'bearable.': 6155, 'semi-naked': 6156, 'crumpet': 6157, 'easier': 6158, 'warrant': 6159, 'labelled': 6160, 'ordeal': 6161, 'humour': 6162, 'blurb': 6163, 'knee': 6164, 'knackers': 6165, 'comedic': 6166, 'banter': 6167, 'bargain': 6168, 'consisting': 6169, 'rubbery': 6170, 'earlier.': 6171, 'solely': 6172, 'bimbo': 6173, 'quotient': 6174, 'bronte': 6175, 'dalton': 6176, 'rochester': 6177, 'eyre': 6178, 'overcomes': 6179, 'zelah': 6180, 'lengthy': 6181, 'quotes': 6182, \"'romance\": 6183, 're-read': 6184, 'derek': 6185, 'recommendation': 6186, 'bo': 6187, 'disrobing': 6188, 'auditioning': 6189, 'wet': 6190, 't-shirt': 6191, 'contests': 6192, 'frequently': 6193, 'idiotic': 6194, 'orang': 6195, 'utans': 6196, 'africa': 6197, 'enhances': 6198, 'par': 6199, 'lord': 6200, 'spirited': 6201, 'jess': 6202, 'soccer': 6203, 'rules': 6204, 'blush': 6205, 'tooooo': 6206, 'colourful': 6207, 'conventions': 6208, 'providing': 6209, 'essentially': 6210, 'choosing': 6211, 'thanks': 6212, 'refreshing': 6213, '^_~': 6214, 'reasonably': 6215, 'smartly': 6216, 'you.': 6217, 'expectations': 6218, 'brains': 6219, 'um': 6220, 'dragging': 6221, 'times.': 6222, 'modest': 6223, 'bestowing': 6224, 'warmth': 6225, 'chuckled': 6226, 'sparrow': 6227, 'possession': 6228, 'eerie': 6229, 'similarities': 6230, 'connections': 6231, '23.': 6232, 'connection': 6233, 'end.': 6234, '23': 6235, 'intriguing': 6236, 'undone': 6237, 'ninety': 6238, 'awful.': 6239, 'joel': 6240, 'schumacher': 6241, 'redeem': 6242, 'booth': 6243, 'reminds': 6244, 'stinker': 6245, 'drenched': 6246, 'clunky': 6247, 'switches': 6248, 'stuck': 6249, 'carrey': 6250, 'narrate': 6251, 'tears': 6252, 'impatiently': 6253, 'explanation': 6254, 'celebrating': 6255, 'finished.': 6256, 'sleepwalking': 6257, 'narration': 6258, 'bore': 6259, 'madsen': 6260, 'scripts': 6261, 'logan': 6262, 'lerman': 6263, 'bland': 6264, 'huston': 6265, 'offered': 6266, 'thrills': 6267, 'patches': 6268, 'necessarily': 6269, 'river': 6270, 'maclean': 6271, 'ebbs': 6272, 'flows': 6273, 'trip.': 6274, 'friendly': 6275, 'fits': 6276, 'restrained': 6277, 'calm': 6278, 'captures': 6279, 'craig': 6280, 'sheffer': 6281, 'brad': 6282, 'pitt': 6283, 'surprising': 6284, 'brothers': 6285, 'skerritt': 6286, 'brenda': 6287, 'blethyn': 6288, '8.6': 6289, 'provoking': 6290, 'humbling': 6291, 'tragedies': 6292, 'altruistic': 6293, 'enemy': 6294, 'kentucky': 6295, 'lessens': 6296, 'glamor': 6297, 'unit.': 6298, 'highlight': 6299, 'glamorous': 6300, 'retelling': 6301, 'loose': 6302, 'translation': 6303, 'kelly': 6304, 'numbers': 6305, 'renting': 6306, 'jay': 6307, 'leno': 6308, 'replacing': 6309, 'carson': 6310, 'host': 6311, 'tonight': 6312, 'topical': 6313, 'conan': 6314, \"o'brien\": 6315, 'leno.': 6316, 'sparking': 6317, 'concerns': 6318, 'stakeholders': 6319, 'ovitz': 6320, 'compelling': 6321, 'thought.': 6322, 'briefly': 6323, 'limned': 6324, 'touched': 6325, 'perfunctory': 6326, 'intentioned': 6327, 'gentleman': 6328, 'agreement': 6329, 'theatres': 6330, 'via': 6331, 'outraged': 6332, 'jewish': 6333, 'loaded': 6334, 'bodies': 6335, 'metaphorical': 6336, 'shamefully': 6337, 'featurette': 6338, 'warners': 6339, 'novelist': 6340, 'brooks': 6341, 'disowned': 6342, 'shift': 6343, 'homophobic': 6344, 'anti-semitic': 6345, '\\x96': 6346, 'mincing': 6347, 'caricature': 6348, 'souls': 6349, 'instantly': 6350, 'recognisable': 6351, 'drift': 6352, 'halfway': 6353, 'proving': 6354, 'saving': 6355, 'guy.': 6356, 'teaming': 6357, 'buddy': 6358, 'fix': 6359, 'blueprint': 6360, 'hue': 6361, 'rko': 6362, 'sweltering': 6363, 'economy': 6364, 'cut': 6365, 'laid-back': 6366, 'quietly': 6367, 'maigret-like': 6368, 'tramp': 6369, 'perpetually': 6370, 'compulsive': 6371, 'liar': 6372, 'admirer': 6373, 'ties': 6374, 'wrongly': 6375, 'accused': 6376, '1946': 6377, 'reward': 6378, 'investigated': 6379, 'huac': 6380, 'tendency': 6381, 'crusading': 6382, 'overview': 6383, 'elm': 6384, 'warriors': 6385, 'predictability': 6386, 'lend': 6387, 'plumbed': 6388, 'depths': 6389, 'indication': 6390, 'sick': 6391, 'judged': 6392, 'illustrate': 6393, 'vacant': 6394, 'soulless': 6395, 'cynical': 6396, 'was.': 6397, 'morally': 6398, 'questionable': 6399, 'molester': 6400, 'englund': 6401, 'in-no-way-scary': 6402, 'booms': 6403, 'laughter': 6404, 'mockery': 6405, 'paying': 6406, 'disheartened': 6407, 'insensitive': 6408, 'plight': 6409, 'haaaaaaaaaaaaaarr': 6410, 'har': 6411, 'hars': 6412, 'pre-death': 6413, 'flashback': 6414, 'boo-hiss': 6415, 'pantomime': 6416, 'slop': 6417, 'transatlantic': 6418, 'ie': 6419, 'overstated': 6420, 'misplaced': 6421, 'irony.': 6422, 'universally': 6423, 'breckin': 6424, 'meyer': 6425, 'overacts': 6426, 'kananga': 6427, 'yaphet': 6428, 'kotto': 6429, 'dignity': 6430, 'roseanne': 6431, 'arnold': 6432, 'visibly': 6433, 'sinking': 6434, 'mire': 6435, 'wholly': 6436, 'merit': 6437, 'carlos': 6438, 'ricky': 6439, 'dean': 6440, 'noel': 6441, 'coward-like': 6442, 'wittily': 6443, 'prompted': 6444, 'responds': 6445, 'wilde': 6446, 'torments': 6447, 'threatening': 6448, 'pin': 6449, 'magnified': 6450, 'shouts': 6451, 'quips': 6452, 'noting': 6453, 'occur': 6454, 'instaneously': 6455, 'knocked': 6456, 'unconscious': 6457, 'instant': 6458, 'computer': 6459, '3-d': 6460, 'requirements.': 6461, 'teenagers': 6462, 'heading': 6463, 'obnoxious': 6464, 'dislikeable': 6465, 'lezlie': 6466, 'deane': 6467, 'greet': 6468, 'k': 6469, 'scallops': 6470, 'incongruous': 6471, 'pop': 6472, 'scares': 6473, 'fun.': 6474, 'critics': 6475, 'is.': 6476, 'deceive': 6477, 'milk': 6478, 'snake': 6479, 'selfish': 6480, 'oneself': 6481, 'inadvertently': 6482, 'gangster': 6483, 'surviving': 6484, 'futility': 6485, 'anyone.': 6486, 'amitabh': 6487, 'aryan': 6488, 'diligently': 6489, 'chawla': 6490, 'expressions': 6491, 'express': 6492, 'herself.': 6493, 'raj': 6494, 'kumar': 6495, 'santoshi': 6496, 'nanak': 6497, 'punjabi': 6498, 'lesson-giving': 6499, 'arts': 6500, 'astral': 6501, 'projection': 6502, 'spirit': 6503, 'renewed': 6504, 'wellbeing': 6505, 'leaves': 6506, 'uncontrolled': 6507, 'roams': 6508, 'murderous': 6509, 'synopsis.': 6510, 'synopsis': 6511, 'correct': 6512, 'out-of-body': 6513, 'winston': 6514, 'rekert': 6515, 'sharpe': 6516, 'foreshadows': 6517, 'upcoming': 6518, 'dogfight': 6519, 'bednarski': 6520, 'matthew': 6521, 'draws': 6522, 'spree': 6523, 'kaufman': 6524, 'connected': 6525, 'investigation': 6526, 'janus': 6527, 'perform': 6528, 'tying': 6529, 'knot': 6530, 'eternal': 6531, 'unsatisfying': 6532, 'hype': 6533, 'preview': 6534, 'clips': 6535, 'interview': 6536, 'bbc': 6537, 'broadcast': 6538, 'world.': 6539, 'one-dimensional': 6540, 'mediocre': 6541, 'cbc': 6542, 'recipe': 6543, 'fails.': 6544, 'muslim': 6545, 'bigoted': 6546, 'ignorant': 6547, 'rooted': 6548, 'bursting': 6549, 'export': 6550, 'basis': 6551, 'painfull': 6552, 'staggering': 6553, '400': 6554, 'page': 6555, 'cram': 6556, 'madden': 6557, 'ambitious': 6558, 'emotionally': 6559, 'incomplete.': 6560, 'toll': 6561, 'cinematographer': 6562, 'braveheart': 6563, 'legends': 6564, 'winning': 6565, 'splendid': 6566, 'choices': 6567, 'greek': 6568, 'kefallonia': 6569, 'images': 6570, 'photographing': 6571, 'majestic': 6572, 'townspeople': 6573, 'mandolin': 6574, 'passages': 6575, 'vocals': 6576, 'italian': 6577, 'marvelous.': 6578, 'bringing': 6579, 'occupation': 6580, 'greater': 6581, 'ready': 6582, 'unfold': 6583, 'component': 6584, 'abbreviated': 6585, 'compromises': 6586, 'skeletal': 6587, 'negative': 6588, 'sparse': 6589, 'features.': 6590, 'cage': 6591, 'joined': 6592, 'sing': 6593, 'gears': 6594, 'seamlessly': 6595, 'fierce': 6596, 'principle': 6597, 'resolve': 6598, 'personas.': 6599, 'penelope': 6600, 'cruz': 6601, 'uninspired': 6602, 'pelagia': 6603, 'dominates': 6604, 'placid': 6605, 'torrential': 6606, 'dynamic': 6607, 'objectified': 6608, 'corelli': 6609, 'establishing': 6610, 'medicine': 6611, 'christian': 6612, 'bale': 6613, 'overwrought': 6614, 'stiff': 6615, 'fiancé.': 6616, 'drawbacks': 6617, 'admission': 6618, 'cgi': 6619, 'crocs': 6620, 'darwin': 6621, 'adelaide': 6622, 'rogue': 6623, 'cringeworthy.': 6624, 'suspenseful': 6625, 'compare': 6626, 'eating': 6627, 'aussie': 6628, 'pat': 6629, 'struths': 6630, 'crikeys': 6631, 'woody': 6632, 'harrison': 6633, 'bottom.': 6634, 'amazement': 6635, 'hid': 6636, 'blockbuster': 6637, 'kristin': 6638, 'thomas': 6639, 'willem': 6640, 'dafoe': 6641, 'ripped': 6642, 'jill': 6643, 'johnson': 6644, 'belle': 6645, 'babysits': 6646, 'mendrakis': 6647, 'benefits': 6648, 'shes': 6649, '2.she': 6650, 'lol.': 6651, 'site': 6652, 'reviewing': 6653, 'critic': 6654, 'early-talkie': 6655, 'melodrama': 6656, 'biopic': 6657, 'fictional': 6658, 'plutocrat': 6659, 'hopping': 6660, 'preston': 6661, 'sturges': 6662, 'gift': 6663, 'innovations': 6664, 'watchable': 6665, 'spencer': 6666, 'old-man': 6667, 'authority': 6668, 'colleen': 6669, 'matched': 6670, 'multifaceted': 6671, 'woman-behind-the-man': 6672, 'vinson': 6673, 'treacherous': 6674, 'femmes': 6675, 'fatales': 6676, 'sending': 6677, 'soap-opera': 6678, 'reverberations': 6679, 'print': 6680, 'snippets': 6681, 'awfully': 6682, 'hokey': 6683, 'fascinated': 6684, 'buzz': 6685, 'disappear': 6686, 'stopped': 6687, 'continued': 6688, 'visible': 6689, 'gary': 6690, 'thompson': 6691, 'marlowe': 6692, 'listed': 6693, 'exist': 6694, 'scripts-r-us': 6695, 'blank': 6696, 'blanks': 6697, 'split': 6698, 'alien/giant-bug/monster/invisible-man': 6699, 'crowbar': 6700, 'burn': 6701, 'huge-rabbit/shark/invisible-man': 6702, 'unsurvivable': 6703, 'invisible': 6704, 'ir': 6705, 'spraying': 6706, 'deterioration': 6707, 'treating': 6708, 'desire': 6709, 'stunk.': 6710, 'suffice': 6711, 'machine': 6712, 'milieu': 6713, 'qualified': 6714, 'restrictive': 6715, 'victorian': 6716, 'harsher': 6717, 'principal': 6718, 'contend': 6719, 'webs': 6720, 'interact': 6721, 'molina': 6722, 'epiphany': 6723, 'avidly': 6724, 'saturday': 6725, 'clannad': 6726, 'legend': 6727, 'solved': 6728, 'praed': 6729, 'robin': 6730, 'earl': 6731, 'huntingdon': 6732, 'robins': 6733, 'medieval': 6734, 'costner': 6735, 'granddad': 6736, 'tie': 6737, 'happier': 6738, 'rare': 6739, 'bias': 6740, 'product': 6741, 'distinct': 6742, 'film-makers': 6743, 'palestinian': 6744, 'boorish': 6745, 'untrustworthy': 6746, 'discuss': 6747, 'sadness': 6748, 'arranged': 6749, 'politically': 6750, 'oppressed': 6751, 'israeli': 6752, 'position': 6753, 'teenager': 6754, 'palestinians': 6755, 'designed': 6756, 'prevent': 6757, 'peace.': 6758, 'mourning': 6759, 'closed': 6760, 'minded': 6761, 'fence': 6762, 'unwilling': 6763, 'bomber': 6764, 'closed-minded': 6765, 'mindset': 6766, 'pleas': 6767, 'requests': 6768, 'acknowledgment': 6769, 'acquired': 6770, 'land.': 6771, 'impartiality': 6772, 'exploitative': 6773, 'edits': 6774, 'instance': 6775, 'representation': 6776, 'acknowledge': 6777, 'partially': 6778, 'obliged': 6779, 'regardless': 6780, 'heart-wrenching': 6781, 'grew': 6782, 'reeves': 6783, 'kent': 6784, 'oil': 6785, 'emerge': 6786, 'deadly': 6787, 'mayhem.': 6788, 'technology': 6789, '16': 6790, 'timeless': 6791, 'adventures': 6792, 'babu': 6793, 'riba': 6794, 'mariana': 6795, 'nicknamed': 6796, 'esther': 6797, 'sacha': 6798, 'kicha': 6799, '15-17': 6800, '1953': 6801, 'belgrade': 6802, 'yugoslavia': 6803, 'jeans': 6804, 'seems.': 6805, 'sacrifice': 6806, 'willingly': 6807, 'fallen': 6808, 'unexpected': 6809, 'difficulties': 6810, 'wake': 6811, 'communist': 6812, 'reunite': 6813, '1985': 6814, 'reservations': 6815, 'subtitles': 6816, 'dialogues': 6817, 'conversational': 6818, 'required': 6819, 'text': 6820, 'absorb': 6821, 'library': 6822, 'understood': 6823, 'acquiring': 6824, 'streptomycin': 6825, 'relative.': 6826, 'yugoslavian': 6827, 'conveyed': 6828, 'invulnerability': 6829, 'idealism': 6830, 'bonds': 6831, 'flashforward': 6832, 'keeping': 6833, 'vis-a-vis': 6834, 'happened.': 6835, 'jovan': 6836, 'acin': 6837, '1941-1991': 6838, 'gaps': 6839, 'spiteful': 6840, 'unhinged': 6841, 'hater': 6842, 'shoestring': 6843, 'budget.': 6844, 'awkwardly': 6845, 'exposition': 6846, 'exposing': 6847, 'much.': 6848, '1/10': 6849, 'revolt': 6850, 'revamp': 6851, 'recycle': 6852, 'lightning': 6853, 'twice.': 6854, 'halperin': 6855, 'recycled': 6856, 'lugosi': 6857, 'court': 6858, 'rights': 6859, 'owners': 6860, 'halperins': 6861, \"'zombie\": 6862, 'victor': 6863, 'uninteresting': 6864, 'insulting': 6865, 'debacle': 6866, 'walking': 6867, 'hypnotism': 6868, 'victims.': 6869, 'wan': 6870, 'mind-controlled': 6871, 'eggs': 6872, 'own.': 6873, 'jealous': 6874, 'madness': 6875, 'mind-control': 6876, 'techniques': 6877, 'spit.': 6878, 'blatantly': 6879, 'developments': 6880, 'racially': 6881, 'king': 6882, 'atomic': 6883, 'fest': 6884, 'invaders': 6885, 'ridiculously': 6886, 'melodramatic': 6887, 'korean': 6888, 'twitch': 6889, 'idiot.': 6890, '2006': 6891, 'rocked': 6892, 'tasty': 6893, 'mr.meatloaf': 6894, 'dish': 6895, 'rolled': 6896, 'substandard': 6897, 'badminton': 6898, 'elevate': 6899, 'appreciation': 6900, 'marvel': 6901, 'steamy': 6902, 'd.': 6903, 'socks': 6904, 'misleading': 6905, 'campaign': 6906, 'irritatingly': 6907, 'clichéd': 6908, 'sub-par': 6909, 'haunted': 6910, 'considering': 6911, 'conjunction': 6912, 'task': 6913, 'brothers.': 6914, 'cobbled': 6915, 'messengers': 6916, 'plucked': 6917, 'birds': 6918, 'lifted': 6919, 'comes.': 6920, 'centered': 6921, 'ghosts': 6922, 'whomever': 6923, 'marketing': 6924, 'absent': 6925, 'fooled': 6926, 'lacks': 6927, 'resembling': 6928, 'stilted': 6929, 'coupled': 6930, 'hackneyed': 6931, 'anyhow': 6932, 'arrest': 6933, 'adds': 6934, 'profoundly': 6935, 'noises': 6936, 'flashes': 6937, 'sheeted': 6938, 'closet': 6939, 'boo': 6940, 'poorly-made': 6941, 'spirits': 6942, 'warn': 6943, 'checked': 6944, 'netflix': 6945, 'frankly': 6946, 'writter': 6947, 'e.g.': 6948, 'judy': 6949, 'tenuta': 6950, 'touting': 6951, 'judy-ism': 6952, 'incomprehensible': 6953, 'reprehensible': 6954, 'nope': 6955, 'recognized': 6956, 'spinning': 6957, 'overused': 6958, 'sake': 6959, 'ludicrous': 6960, 'hippie': 6961, 'mentality': 6962, 'nut': 6963, 'shell': 6964, 'bores': 6965, 'rationalize': 6966, 'marriages': 6967, 'innocent': 6968, 'fiends': 6969, 'wash': 6970, 'ups': 6971, 'hippy': 6972, 'waif-like': 6973, 'kay': 6974, 'lenz': 6975, 'hitch': 6976, 'hikes': 6977, 'sleeps': 6978, 'holden': 6979, 'liquor': 6980, 'washed': 6981, 'superficial': 6982, 'encapsulates': 6983, 'thin': 6984, 'quick': 6985, 'meal': 6986, 'ticket': 6987, 'immature': 6988, 'offering': 6989, 'stupidest': 6990, 'harped': 6991, 'slumber': 6992, 'overdone': 6993, 'cheerleaders': 6994, 'abandoned': 6995, 'cabin': 6996, 'football': 6997, 'offed': 6998, 'upped': 6999, 'excessive': 7000, 'cheerleader': 7001, 'besides': 7002, 'suffers': 7003, 'shot-on-a-home-video-camera': 7004, 'cheapness': 7005, 'bomb': 7006, 'turd': 7007, 'feared': 7008, 'reputation': 7009, 'god-awful': 7010, 'anticipated': 7011, 'mexican-made': 7012, 'k.': 7013, 'gordon': 7014, 'operate': 7015, 'pole': 7016, 'cloud': 7017, 'elves': 7018, 'toys': 7019, 'groups': 7020, 'nick': 7021, 'observes': 7022, 'monitors': 7023, 'kiddies': 7024, 'holiday': 7025, 'languages': 7026, 'claus': 7027, 'observe': 7028, 'labor': 7029, 'laws': 7030, 'slinky': 7031, 'red-suited': 7032, 'apprentice': 7033, 'traveling': 7034, 'eve': 7035, 'rounds': 7036, 'nightmare': 7037, 'trippy': 7038, 'bound': 7039, 'frighten': 7040, 'holidays': 7041, 'jesus': 7042, 'creepier': 7043, 'history.': 7044, 'gypo': 7045, 'art-house': 7046, 'h.': 7047, 'august': 7048, 'portion': 7049, 'rightly': 7050, 'deserved.': 7051, 'though.': 7052, 'stands': 7053, 'duh': 7054, 'expose': 7055, 'beverly': 7056, 'hills': 7057, 'milks': 7058, 'granny': 7059, 'jed': 7060, 'clampett': 7061, 'chauffers': 7062, 'bisset': 7063, 'woronov': 7064, 'manuel': 7065, 'debt': 7066, 'physical': 7067, 'bartel': 7068, 'sensual': 7069, 'oder': 7070, 'teenaged': 7071, 'missionary': 7072, 'africa.': 7073, 'hopper': 7074, 'troubles': 7075, 'dunnit': 7076, 'losers': 7077, 'drool': 7078, 'beavis': 7079, 'butthead': 7080, 'emran': 7081, 'hashmi': 7082, 'disappoints': 7083, 'hrshitta': 7084, 'bhatt': 7085, 'celina': 7086, 'jaitley': 7087, 'worthwhile': 7088, 'spoof': 7089, 'anu': 7090, 'malik': 7091, 'obsession': 7092, 'shayaris': 7093, 'sini': 7094, 'ne': 7095, 'remix': 7096, 'count': 7097, 'lip-locking': 7098, 'lip-synching': 7099, 'chartbuster': 7100, 'bhatts': 7101, 'pepe': 7102, 'le': 7103, 'moko': 7104, 'boyer': 7105, 'europe': 7106, 'casbah': 7107, 'algiers': 7108, 'capture': 7109, 'remain': 7110, 'custody': 7111, 'arrested.': 7112, 'combination': 7113, 'dangerous': 7114, 'classy': 7115, 'letdown': 7116, 'commander': 7117, 'repeated': 7118, 'suggest': 7119, 'suggestion': 7120, 'commissioner': 7121, 'janvier': 7122, 'inspector': 7123, 'slimane': 7124, 'calleia': 7125, 'hardened': 7126, 'gaby': 7127, 'hedy': 7128, 'lamarr': 7129, 'entertains': 7130, 'populace': 7131, 'irony': 7132, 'impossible': 7133, 'trap.': 7134, 'lesser': 7135, 'extent': 7136, 'prissy': 7137, 'cant': 7138, 'extending': 7139, 'tutor': 7140, 'introduction': 7141, 'sassy': 7142, 'flippin': 7143, '-stay': 7144, 'crumb': 7145, 'mentioning': 7146, 'generous': 7147, 'scum': 7148, 'garden-variety': 7149, 'college/frat': 7150, 'boy-esquire': 7151, 'towel': 7152, 'slapping': 7153, 'teen': 7154, 'angst': 7155, 'innuendo': 7156, '@': 7157, 'ended': 7158, 'kissed': 7159, 'all-': 7160, 'pirites': 7161, 'jet': 7162, '-if': 7163, 'cells': 7164, 'heed': 7165, 'phat': 7166, 'mistake.': 7167, 'friday': 7168, 'hoop': 7169, 'lyric': 7170, 'lookin': 7171, 'booty': 7172, 'dominique': 7173, 'simone': 7174, 'nudity': 7175, 'non-existent': 7176, 'cable': 7177, 'amused.': 7178, 'commentary': 7179, 'racism': 7180, 'conditions': 7181, 'rural': 7182, 'stereotypes': 7183, 'phoney': 7184, 'offensive': 7185, 'sensibilities': 7186, 'southerners': 7187, 'tawdry': 7188, 'thinly-disguised': 7189, 'connors': 7190, 'uncomfortable': 7191, 'change-of-pace': 7192, 'reed': 7193, 'lecherous': 7194, 'warden': 7195, 'tina': 7196, 'ginger': 7197, 'gilligan': 7198, 'clinker': 7199, 'demonically': 7200, 'possessed': 7201, 'dessert': 7202, 'exceptionally': 7203, 'undeniably': 7204, 'cathode': 7205, 'ray': 7206, 'refuse': 7207, 'apex': 7208, 'unremitting': 7209, 'silliness': 7210, 'atrociousness': 7211, \"so-execrable-it's-downright-awesome\": 7212, 'crenna': 7213, 'haggard': 7214, 'inebriated': 7215, 'yvette': 7216, 'mimieux': 7217, 'rape': 7218, 'endured': 7219, 'jackson': 7220, 'sluggishly': 7221, 'disgustingly': 7222, 'suburbanite': 7223, 'sleepy': 7224, 'asunder': 7225, 'shepard': 7226, 'ancient': 7227, 'lethal': 7228, 'repellently': 7229, 'cutesy': 7230, 'richards': 7231, 'ike': 7232, 'eisenmann': 7233, 'psychic': 7234, 'moppets': 7235, 'mountain': 7236, 'worshiping': 7237, 'crayon': 7238, 'drawing': 7239, 'canine': 7240, 'den': 7241, 'claptrap': 7242, 'ai': 7243, 'tide': 7244, 'cartoonish': 7245, 'risible': 7246, \"n'ridiculous\": 7247, 'valiantly': 7248, 'martine': 7249, 'beswicke': 7250, 'r.g': 7251, 'armstrong': 7252, 'jory': 7253, 'shaman': 7254, 'malicious': 7255, 'mephestophelion': 7256, 'mutt': 7257, 'puts': 7258, 'whammy': 7259, 'forcing': 7260, 'wildly': 7261, 'lawnmower': 7262, 'blade': 7263, 'stuck-up': 7264, 'snobby': 7265, 'fright': 7266, 'noses': 7267, 'putrid': 7268, 'stench': 7269, 'admittedly': 7270, 'smelly': 7271, 'schlock': 7272, 'devout': 7273, 'deem': 7274, 'endearingly': 7275, 'abominable': 7276, 'offal': 7277, 'boob': 7278, 'tube': 7279, 'alpo': 7280, 'distinctly': 7281, 'luke-warm': 7282, 'engrossing': 7283, 'described': 7284, \"'mills\": 7285, 'boon': 7286, 'sniffing': 7287, 'surreptitiously': 7288, 'dabbing': 7289, 'victoria': 7290, 'albert': 7291, 'passionately': 7292, 'conroy': 7293, 'desperate': 7294, 'queen': 7295, 'rumoured': 7296, 'duchess': 7297, 'explore': 7298, 'theory': 7299, 'blunt': 7300, 'princess': 7301, 'stifling': 7302, 'courtiers': 7303, 'politicians': 7304, 'determination': 7305, 'prospered': 7306, 'reign': 7307, 'recommendations': 7308, 'one-and-a-half': 7309, 'torment': 7310, 'horror-movie': 7311, 'horror-movies': 7312, 'se': 7313, 'spectacle': 7314, 'ya': 7315, 'blair': 7316, 'whitch': 7317, 'hand-held-cameras': 7318, 'namely': 7319, 'hysterically': 7320, 'sound-wise': 7321, 'wise.': 7322, 'varies': 7323, 'euro-house': 7324, 'grungy': 7325, 'hard-rock': 7326, 'advise': 7327, 'circumstances': 7328, 'goldsworthy': 7329, 'rivers': 7330, 'tides': 7331, 'build': 7332, 'leaf': 7333, 'thorn': 7334, 'flow': 7335, 'inspires': 7336, 'affects': 7337, 'covered': 7338, 'snowballs': 7339, 'makers': 7340, 'unflinching': 7341, 'gripping': 7342, 'conspiracy': 7343, 'theories': 7344, 'disturbed': 7345, 'feds': 7346, 'coverups': 7347, 'news': 7348, 'tidy': 7349, 'consume': 7350, 'scored': 7351, 'elton': 7352, 'impact': 7353, 'recently': 7354, 'seasons': 7355, '35': 7356, 'photograph': 7357, 'forgive': 7358, 'teary-eyed': 7359, 'anxious': 7360, 'rider': 7361, 'youngsters': 7362, '56': 7363, 'respect': 7364, 'sixties': 7365, 'reflect': 7366, 'aging': 7367, 'indies': 7368, 'niiiiiight': 7369, 'heat': 7370, 'heeaaaaaaaaaart-beat': 7371, 'b.j': 7372, 'cook': 7373, 'skylark-': 7374, 'airwaves': 7375, 'well-written': 7376, 'well-acted': 7377, 'solvers': 7378, 'dash': 7379, 'detectives': 7380, 'do/did': 7381, 'giambone': 7382, 'tip': 7383, 'guest': 7384, 'story-driven': 7385, 'goers': 7386, 'observation': 7387, 'mystifies': 7388, 'ang': 7389, 'tobey': 7390, 'maguire': 7391, 'spiderman': 7392, 'skeet': 7393, 'ulrich': 7394, 'jericho': 7395, 'rhys': 7396, 'tudors': 7397, 'caviezel': 7398, 'simon': 7399, 'ruffalo': 7400, 'jeffrey': 7401, 'wright': 7402, 'wilkinson': 7403, 'jewel': 7404, 'killing.': 7405, 'biographies': 7406, 'award': 7407, 'omitted': 7408, 'seldom': 7409, '33': 7410, 'nations': 7411, 'nitwits': 7412, 'support': 7413, 'aftermath': 7414, 'revolution': 7415, 'terror': 7416, '1794': 7417, 'strikingly': 7418, '9/11': 7419, 'socio-political': 7420, 'landscape': 7421, 'worrying': 7422, '-whupping': 7423, 'ruins': 7424, 'voted': 7425, 'denied': 7426, 'character.': 7427, 'doctrinaire': 7428, 'robespierre': 7429, 'empty': 7430, 'simplistic': 7431, 'reductive': 7432, 'ideology': 7433, 'elucidate': 7434, 'boundaries': 7435, 'totalitarianism': 7436, 'self-defense': 7437, 'legalistic': 7438, 'litmus': 7439, 'tests': 7440, 'aggravate': 7441, 'belligerent': 7442, 'overprivileged': 7443, 'yale': 7444, 'wojciech': 7445, 'pszoniak': 7446, 'slovenly': 7447, 'deparidieu': 7448, 'robespierres': 7449, 'comforting': 7450, 'shortly': 7451, 'guillotine': 7452, 'cube': 7453, 'archetypes': 7454, 'mankind': 7455, 'represented': 7456, 'hostile': 7457, 'non-literal': 7458, 'individual': 7459, 'triumphing': 7460, 'indefinable': 7461, 'petty': 7462, 'squabbles': 7463, 'struggle': 7464, 'sequels.': 7465, 'hypercube': 7466, 'massive': 7467, 'ignoring': 7468, 'vastly': 7469, 'inferior': 7470, 'commercial': 7471, 'sans': 7472, 'homage': 7473, 'tribute': 7474, 'idiotically': 7475, 'altered': 7476, 'letters': 7477, 'cubes': 7478, 'rip-off': 7479, 'watchers': 7480, 'architects': 7481, 'exit': 7482, 'kazan': 7483, 'bleep': 7484, 'devoid': 7485, 'it.who': 7486, 'acting.this': 7487, 'plot.everybody': 7488, 'one.since': 7489, 'me.the': 7490, 'godfather': 7491, 'movie.this': 7492, 'goriest': 7493, 'see.no': 7494, 'collection.buy': 7495, 'horehounds': 7496, 'drew': 7497, 'fuller': 7498, 'kiddy': 7499, 'officially': 7500, 'k-mart': 7501, 'gather': 7502, 'coffee': 7503, 'shop': 7504, 'pirate': 7505, 'hosted': 7506, 'beard': 7507, 'chandler': 7508, 'joey': 7509, 'wayne': 7510, 'jessie': 7511, 'one-liner': 7512, 'spouting': 7513, 'bearded': 7514, 'dj': 7515, 'unbeknownst': 7516, 'crazed': 7517, 'nurse/serial': 7518, 'ross': 7519, 'rachel': 7520, 'stunners': 7521, 'voodoo': 7522, 'dentures.': 7523, 'really.': 7524, 'freezer': 7525, 'laboured': 7526, 'playbook': 7527, 'brave': 7528, 'max': 7529, 'judging': 7530, 'contained': 7531, 'emmy': 7532, 'gob-smacked.': 7533, 'nasa': 7534, 'worker': 7535, 'attached': 7536, 'shuttle': 7537, 'simulator': 7538, 'pear-shaped': 7539, 'twenty-nine': 7540, 'before.': 7541, 'salvaging': 7542, 'script.': 7543, 'above-average': 7544, 'lower': 7545, 'while.': 7546, 'heath': 7547, 'ledger': 7548, 'heartthrob': 7549, 'deformed': 7550, 'naomi': 7551, 'watts': 7552, 'item': 7553, 'longest': 7554, 'orlando': 7555, 'bloom': 7556, 'scraggly': 7557, 'deer-in-the-headlights': 7558, 'agree.': 7559, 'griffiths': 7560, 'self': 7561, 'geoffrey': 7562, 'bankrobbers': 7563, 'murderers': 7564, 'butch': 7565, 'cassidy': 7566, 'cliche-ridden': 7567, 'stayed': 7568, \"didn't.\": 7569, '10-15': 7570, 'unintentionally': 7571, 'hotel': 7572, 'knight': 7573, 'monty': 7574, 'python': 7575, 'holy': 7576, 'grail': 7577, 'yer': 7578, 'erotic': 7579, 'amateurish': 7580, 'rosanna': 7581, 'arquette': 7582, 'midwest': 7583, 'intrigues': 7584, 'videotaped': 7585, 'bisexual': 7586, 'everybody': 7587, 'starving': 7588, 'aids': 7589, 'all-time': 7590, 'selflessness': 7591, 'dedication': 7592, 'preachy': 7593, 'lukas': 7594, 'bette': 7595, 'davis': 7596, 'grandma': 7597, 'dressed-up': 7598, 'awakening': 7599, 'startling': 7600, 'thumbs': 7601, 'edgar': 7602, 'poe': 7603, 'usher': 7604, 'poem': 7605, 'black-and-white': 7606, 'decrepit': 7607, 'boris': 7608, 'karloff': 7609, 'demented': 7610, 'inventor': 7611, 'life-size': 7612, 'dolls': 7613, 'terrorize': 7614, 'guests': 7615, 'subjected': 7616, 'terrifying': 7617, 'experiences': 7618, 'mysteries.': 7619, 'darkened': 7620, 'room.': 7621, 'basinger': 7622, 'gallery': 7623, 'low-budget': 7624, 'horror/action/western': 7625, 'suck': 7626, 'bounty': 7627, 'hunter': 7628, 'weakest': 7629, 'looks/acts': 7630, '3-5': 7631, 'reload': 7632, 'mode': 7633, 'annoying.': 7634, 'nominating': 7635, 'urgently': 7636, 'justification': 7637, 'iraq': 7638, 'bungling': 7639, 'patriotic.': 7640, 'heroic': 7641, '_inspire_': 7642, 'loving-war-like-a-drug': 7643, 'pile': 7644, 'dung': 7645, 'wondered': 7646, 'produce': 7647, 'listless': 7648, 'formulaic': 7649, 'disappointingly': 7650, 'theorist': 7651, 'declaration': 7652, 'independence': 7653, 'protect': 7654, 'invasion': 7655, 'spews': 7656, 'bargaining': 7657, 'chip': 7658, 'valium': 7659, 'reasoning': 7660, 'misogyny': 7661, 'whatever-her-name-was': 7662, 'chided': 7663, 'shutting': 7664, 'slap': 7665, 'gravity': 7666, 'poutily': 7667, 'astonishingly': 7668, 'wastes': 7669, 'cinema.': 7670, '4.': 7671, 'sara': 7672, 'self-sacrificing': 7673, 'deliberately': 7674, 'minchin': 7675, 'punishing': 7676, 'describing': 7677, 'wicked': 7678, 'disneyfied': 7679, 'trotting': 7680, 'sunset': 7681, 'improbable': 7682, 'puh-leeze': 7683, 'friendship': 7684, 'becky': 7685, \"'adopting\": 7686, 'lottie': 7687, 'items': 7688, 'flung': 7689, 'poverty': 7690, 'cousins': 7691, 'respectively': 7692, \"'feel-good\": 7693, 'fantastic.': 7694, 'harping': 7695, \"'read\": 7696, 'adapt': 7697, 'preferably': 7698, 'sturgis': 7699, 'unseen': 7700, '1990s': 7701, 'resurfaced': 7702, 'gained': 7703, 'notoriety': 7704, 'pauline': 7705, 'kael': 7706, 'herman': 7707, 'mankiewicz': 7708, 'orson': 7709, 'welles': 7710, 'thread': 7711, 'web': 7712, 'case.': 7713, 'narrators': 7714, 'newsreel': 7715, 'ralston': 7716, 'luce': 7717, 'clone': 7718, 'thatcher': 7719, 'memoirs': 7720, 'leland': 7721, 'susan': 7722, 'alexander': 7723, 'raymond': 7724, 'butler': 7725, 'slant': 7726, 'reflecting': 7727, 'hatred': 7728, 'failings': 7729, 'method': 7730, 'overlapping': 7731, 're-tellings': 7732, 'incident.': 7733, 'garner': 7734, 'rose': 7735, 'railroad': 7736, 'ralph': 7737, 'sarah': 7738, 'padden': 7739, 'restricts': 7740, 'narrates': 7741, 'respected': 7742, 'skeptical': 7743, 'henry.': 7744, 'anti-labor': 7745, 'troublemakers': 7746, 'slowed': 7747, 'union': 7748, 'walk-out': 7749, 'preoccupied': 7750, 'detriment': 7751, 'scabs': 7752, 'black.': 7753, 'duplicating': 7754, 'aware': 7755, 'worldly': 7756, 'pair': 7757, 'empire': 7758, 'expands': 7759, 'improves': 7760, 'notices': 7761, 'mistress': 7762, 'learns': 7763, 'unfaithful': 7764, 'destroys': 7765, 'her.': 7766, 'similarly': 7767, 'martyr': 7768, 'marries': 7769, 'trent': 7770, 'incestuous': 7771, 'cuckolding': 7772, 'causes': 7773, 'himself.': 7774, 'jumps': 7775, 'unconvincingly': 7776, 'discusses': 7777, 'debentures': 7778, 'financing': 7779, 'realism': 7780, 'depression': 7781, 'el': 7782, 'padrino': 7783, 'damian': 7784, 'chapa': 7785, 'edited': 7786, 'kinga': 7787, 'edit.': 7788, 'epic': 7789, 'also.': 7790, 'artists': 7791, 'b.s': 7792, 'falk': 7793, 'lieutenant': 7794, 'columbo': 7795, 'stevens': 7796, 'hurl': 7797, 'insults': 7798, 'aforementioned': 7799, 'doubtful': 7800, 'career.': 7801, '69': 7802, 'titles': 7803, 'ho-hum': 7804, 'horst': 7805, 'buchholz': 7806, 'danger': 7807, 'unknowingly': 7808, 'luke': 7809, 'perry': 7810, 'antedote': 7811, \"d'abo\": 7812, 'cat-and-mouse': 7813, 'chases': 7814, 'gunfire': 7815, 'conti': 7816, 'hendrick': 7817, 'haese': 7818, 'roger': 7819, 'haggardly': 7820, 'accepting': 7821, 'bugs': 7822, 'bunny': 7823, 'manager': 7824, 'transferring': 7825, 'oblige': 7826, 'taxidermy': 7827, 'stuffing': 7828, 'rabbit': 7829, 'rascally': 7830, '60+': 7831, 'disc': 7832, 'collection': 7833, 'volume': 7834, 'a-': 7835, 'latest': 7836, 'installment': 7837, 'space.': 7838, 'receives': 7839, 'peach': 7840, 'inviting': 7841, 'celebration': 7842, 'mushroom': 7843, 'kingdom': 7844, 'arriving': 7845, 'bowser': 7846, 'attacking': 7847, 'airships': 7848, 'kidnaps': 7849, 'midst': 7850, 'lands': 7851, 'luma': 7852, 'lumas': 7853, 'rosalina': 7854, 'scattered': 7855, 'flying': 7856, 'galaxies': 7857, 'consists': 7858, 'planets': 7859, 'amongst': 7860, 'retrieve': 7861, 'environments': 7862, 'controls': 7863, 'wiimote': 7864, 'shake': 7865, 'remote': 7866, 'activate': 7867, 'pointer': 7868, 'objects': 7869, 'wii': 7870, '360': 7871, 'games.': 7872, 'minor': 7873, 'gripes': 7874, 'upside': 7875, 'quit': 7876, 'restart': 7877, 'challenging': 7878, 'wii.': 7879, 'gratifying': 7880, 'converted': 7881, 'distortion': 7882, 'contrivance': 7883, 'bulgakov': 7884, 'understandably': 7885, 'misguided': 7886, 'art-film': 7887, 'deeper': 7888, 'margarita': 7889, 'orchestral': 7890, 'conductor': 7891, 'wheeler': 7892, 'sneaking': 7893, 'sentiment': 7894, 'abroad': 7895, 'invested': 7896, 'mythical': 7897, 'promised': 7898, 'woolsey': 7899, 'arrived': 7900, 'refused': 7901, 'kings': 7902, 'pastime.': 7903, '1940s': 7904, 'reviewed': 7905, 'ritz': 7906, 'careers': 7907, 'reminiscent': 7908, 'marx': 7909, 'duck': 7910, 'soup': 7911, 'cracked': 7912, 'romp': 7913, 'talked': 7914, 'groucho': 7915, 'punchlines': 7916, 'prattle': 7917, 'pointlessly': 7918, 'goofy': 7919, 'additionally': 7920, 'routine': 7921, 'popularized': 7922, 'spark': 7923, 'timing': 7924, 'spiel': 7925, 'prematurely': 7926, 'twist.': 7927, 'duo': 7928, 'mildly': 7929, 'billies': 7930, 'rainmakers': 7931, 'attended': 7932, 'ashton': 7933, 'kutcher': 7934, 'delivered': 7935, 'underlying': 7936, 'frailties': 7937, 'strengths': 7938, 'respective': 7939, 'confronts': 7940, 'coast': 7941, 'elite': 7942, 'education': 7943, 'rescuers': 7944, 'preparation': 7945, 'responsibility': 7946, 'wowing': 7947, 'seas': 7948, 'storm': 7949, 'co-star': 7950, 'clancy': 7951, 'hbo': 7952, 'carnivale': 7953, 'kodiak': 7954, 'prerequisite': 7955, 'veins': 7956, 'overdue': 7957, 'exposure': 7958, 'applauding': 7959, 'golf': 7960, '26': 7961, '10:30': 7962, 'pm': 7963, '1800': 7964, 'harry': 7965, 'vardon': 7966, 'awaken': 7967, 'voices': 7968, 'inquire': 7969, 'stirred': 7970, 'francis': 7971, 'decisions': 7972, 'eddie': 7973, 'lowery': 7974, 'caddy': 7975, 'encouraging': 7976, 'pushes': 7977, 'instrumental': 7978, 'a.m.': 7979, '...........': 7980, 'steven': 7981, 'martial': 7982, 'segal': 7983, 'action/fighting': 7984, 'inaccurate': 7985, 'panhandlers': 7986, 'claimed': 7987, '20-40': 7988, 'drove': 7989, 'able.and': 7990, '100,000': 7991, 'id': 7992, 'damned': 7993, 'prepaid': 7994, '10-20000': 7995, 'nl': 7996, '1-2': 7997, '2-5': 7998, 'casinos': 7999, 'bankroll': 8000, '1000': 8001, 'month': 8002, 'wanting': 8003, 'risk': 8004, 'spending': 8005, '1000-2000': 8006, 'slept': 8007, 'contact': 8008, 'sevencard2003': 8009, 'yahoo': 8010, 'messenger.i': 8011, 'drank': 8012, 'smoke': 8013, 'im': 8014, 'govt': 8015, 'housing': 8016, '177': 8017, 'ssi': 8018, 'online': 8019, 'poker': 8020, 'mom': 8021, 'sunflower': 8022, 'diversified': 8023, 'convention': 8024, 'theyd': 8025, 'sooner': 8026, 'select': 8027, 'rotj': 8028, 'considered': 8029, 'profound': 8030, 'episodic': 8031, 'strikes': 8032, 'slower-moving': 8033, 'emotion': 8034, 'cited': 8035, 'insignificant': 8036, 'compared': 8037, 'excellence': 8038, 'yoda': 8039, 'bobba': 8040, 'fett': 8041, 'c': 8042, 'ewoks': 8043, 'defeated': 8044, 'stormtroopers': 8045, 'darth': 8046, 'vader': 8047, 'debunk': 8048, 'lucas': 8049, 'appearances': 8050, 'momentous': 8051, 'lived': 8052, 'tantamount': 8053, 'complained': 8054, 'obi': 8055, 'kenobi': 8056, 'hmmmmmmmmmmmm': 8057, 'overpowering': 8058, 'endor': 8059, 'cognizant': 8060, 'terrain': 8061, 'tactics': 8062, 'defeating': 8063, 'forest': 8064, 'vines': 8065, 'ropes': 8066, 'logs': 8067, 'walkers': 8068, 'traps': 8069, 'disadvantaged': 8070, 'outnumbered': 8071, 'advantages': 8072, 'blasters': 8073, 'conquest': 8074, 'heros': 8075, 'clan': 8076, 'lastly': 8077, 'han': 8078, 'solo': 8079, 'chewbacca': 8080, 'aim': 8081, 'armies': 8082, 'pitted': 8083, 'legion': 8084, 'escaping': 8085, 'lando': 8086, 'rescuing': 8087, 'leia': 8088, 'star.': 8089, 'annakin': 8090, 'skywalker': 8091, 'symbolized': 8092, 'underwent': 8093, 'helmet': 8094, 'removing': 8095, 'removal': 8096, 'mechanized': 8097, 'subconscious': 8098, 'conscious': 8099, 'preceding': 8100, 'accolades': 8101, 'deception': 8102, 'dupe': 8103, 'criticizes': 8104, 'polls': 8105, 'misleading.': 8106, 'return': 8107, 'jedi': 8108, 'riveted': 8109, '135': 8110, 'boredom': 8111, 'saber': 8112, 'phantom': 8113, 'menace': 8114, 'nitpicky': 8115, 'stinks': 8116, 'meritorious': 8117, 'unfortunately.': 8118, 'domestic': 8119, 'disturbance': 8120, 'headache-inducing': 8121, \"'style\": 8122, 'sanctimony': 8123, 'forces': 8124, 're-evaluate': 8125, 'condemned': 8126, 'failures': 8127, 'better.': 8128, 'blatant': 8129, 'reproduce': 8130, 'se7en': 8131, 'smell': 8132, 'wanna-be': 8133, 'hip': 8134, 'quick-cuts': 8135, 'bombastic': 8136, 'colors': 8137, 'from.': 8138, 'renart': 8139, 'paré': 8140, 'policewoman': 8141, 'smith': 8142, 'rubin': 8143, 'vancouver': 8144, 'menacing': 8145, 'chilling': 8146, 'nickname': 8147, 'uh': 8148, 'proverb': 8149, 'tongues': 8150, 'ingenious': 8151, '666.': 8152, 'gerrick': 8153, 'casper': 8154, 'dien': 8155, 'good-looking': 8156, 'temper': 8157, 'psycho': 8158, 'kicks': 8159, 'psychopath': 8160, 'disco': 8161, 'stomach': 8162, 'renard': 8163, 'blocks': 8164, 'dates': 8165, 'assumption': 8166, 'identity.': 8167, 'embarrassment': 8168, 'contradictions': 8169, 'resolved': 8170, '87': 8171, 'ranges': 8172, 'atrocious': 8173, 'generic': 8174, 'techno': 8175, 'provided': 8176, 'nudity.': 8177, 'distinguish': 8178, 'title.': 8179, 'churned': 8180, 'defies': 8181, 'categorisation.': 8182, 'lodger': 8183, 'eater': 8184, 'infects': 8185, 'ghoul': 8186, 'defined.': 8187, 'pathos': 8188, 'realises': 8189, 'horrified': 8190, 'supplying': 8191, \"'food\": 8192, 'inserting': 8193, \"'quiet\": 8194, 'opposed': 8195, 'blasting': 8196, 'raging': 8197, 'satisfy': 8198, \"'horror\": 8199, 'movies.': 8200, \"'innocent\": 8201, 'azn': 8202, 'disliked': 8203, 'woo': 8204, 'adverse': 8205, 'hearted': 8206, 'tampopo': 8207, 'chung': 8208, 'favourites': 8209, 'slit': 8210, 'wrists': 8211, 'laborious': 8212, 'okazaki': 8213, 'spiked': 8214, 'quaalude': 8215, 'mumbling': 8216, 'aoki': 8217, 'cbs': 8218, 'spike': 8219, 'bensonhurst': 8220, 'clete': 8221, 'preface': 8222, 'ed': 8223, 'rolls': 8224, 'culled': 8225, 'punches': 8226, 'texture': 8227, 'newsreel-like': 8228, 'murphy': 8229, 'applied': 8230, 'ownership': 8231, 'dysfunctional': 8232, \"'simpler\": 8233, 'blends': 8234, 'competent': 8235, 'highlighted': 8236, 'loy': 8237, 'douglas': 8238, 'b/c': 8239, 'mel': 8240, 'discouraged': 8241, 'censor': 8242, 'dont': 8243, 'disagree': 8244, 'kristina': 8245, 'claire': 8246, 'danes': 8247, 'foolish': 8248, 'hollywood-ized': 8249, 'raw': 8250, 'tear': 8251, 'sobbed': 8252, 'afterward': 8253, 'relentless': 8254, 'stanley': 8255, 'donen': 8256, 'minnelli': 8257, 'sidney': 8258, 'musical': 8259, 'abba': 8260, 'unflattering': 8261, 'loving': 8262, 'fool': 8263, 'baranski': 8264, 'julie': 8265, 'walters': 8266, 'lily': 8267, 'tomlyn': 8268, 'altman': 8269, 'pierce': 8270, 'brosnam': 8271, 'colin': 8272, 'firth': 8273, 'petter': 8274, 'mattei': 8275, 'visually': 8276, 'variation': 8277, 'schnitzler': 8278, 'transfers': 8279, 'connect': 8280, 'stylishly': 8281, 'luxurious': 8282, 'habitat.': 8283, 'stages': 8284, 'inhabits': 8285, 'fulfillment': 8286, 'discerns': 8287, 'encounter.': 8288, 'buscemi': 8289, 'rosario': 8290, 'dawson': 8291, 'imperioli': 8292, 'grenier': 8293, 'alive.': 8294, 'luck': 8295, 'await': 8296, 'anxiously': 8297, 'linnett': 8298, '1st': 8299, 'contract': 8300, 'stipulation': 8301, 'agrees': 8302, 'recreation': 8303, 'emphasis': 8304, 'ameche': 8305, 'fay': 8306, 'extras': 8307, 'restored': 8308, '2008.': 8309, 'emphasized': 8310, 'singin': 8311, '1952': 8312, 'dyke-carl': 8313, 'reiner': 8314, '1969': 8315, 'recreating': 8316, '1939.': 8317, 'portions': 8318, 'bygone': 8319, 'glorious': 8320, 'w': 8321, 'pristine': 8322, 'uphill': 8323, 'climb': 8324, 'superbly': 8325, 'input': 8326, 'cavalcade': 8327, 'mack': 8328, 'sennett': 8329, 'legacy': 8330, 'reworking': 8331, 'mabel': 8332, 'normand': 8333, 'sinnott': 8334, 'throwings': 8335, 'bathing': 8336, 'keystone': 8337, 'cops': 8338, 'turpin': 8339, 'roscoe': 8340, 'fatty': 8341, 'arbuckle': 8342, 'adviser': 8343, 'subjects': 8344, 'silents': 8345, 'pasture': 8346, 'fortunate': 8347, 'evolution': 8348, '1908': 8349, '1935': 8350, '500': 8351, 'chaplin': 8352, 'swanson': 8353, 'bing': 8354, 'crosby': 8355, 'langdon': 8356, 'roy': 8357, 'rogers': 8358, 'thar': 8359, '.as': 8360, 'selective': 8361, '1931': 8362, '1937': 8363, 'e.g': 8364, 'co-eds': 8365, '1945': 8366, 'oyster': 8367, 'wandering': 8368, 'willies': 8369, '1926': 8370, 'nostalgia': 8371, 'participated': 8372, 'knack': 8373, 'associating': 8374, 'eternally': 8375, 'lawrence': 8376, 'welk': 8377, '1950': 8378, 're-release': 8379, 'triumph': 8380, 'tillie': 8381, 'punctured': 8382, '1914': 8383, 'honored': 8384, 'autobiography': 8385, 'companion': 8386, 'published': 8387, 'concrete': 8388, 'association': 8389, 'kops': 8390, '1957': 8391, 'pioneer': 8392, 'banquet': 8393, 'haired': 8394, 'subdued': 8395, 'underplaying': 8396, 'nifty': 8397, 'dollop': 8398, 'snuck': 8399, 'broken-down': 8400, 'immigrants': 8401, 'all-star': 8402, 'wild-eyed': 8403, 'shamelessly': 8404, 'willes': 8405, 'borders': 8406, 'cruel-faced': 8407, 'faces': 8408, 'archer': 8409, 'barney': 8410, 'kendis': 8411, 'half-hour': 8412, 'documented': 8413, 'datd': 8414, 'consistently': 8415, 'verge': 8416, 'uwe': 8417, 'boll': 8418, 'outings': 8419, 'hotd2': 8420, 'suggesting': 8421, 'insulted': 8422, 'celluloid': 8423, 'angelic': 8424, '9-year-old': 8425, 'whiny': 8426, 'brat': 8427, '19-year-old': 8428, 'appealing': 8429, 'amidala': 8430, '22-year-old': 8431, 'warrior': 8432, 'slaughtering': 8433, 'framework': 8434, 'ludicrosity': 8435, 'squared.': 8436, 'perverted': 8437, 'obi-wan': 8438, 'anchor': 8439, 'hacks': 8440, 'legs': 8441, 'suffer': 8442, 'consistent': 8443, 'plausible': 8444, 'motivations': 8445, 'old.': 8446, 'awwww': 8447, 'geart': 8448, 'chipmunk': 8449, 'missing.': 8450, 'boys/girls': 8451, \"n'roll\": 8452, 'diamond': 8453, 'ls': 8454, 'excite': 8455, 'clip': 8456, 'mutilation': 8457, 'hacked': 8458, 'machete': 8459, 'belong': 8460, 'organizations': 8461, 'species.': 8462, 'banned': 8463, 'destroyed': 8464, 'contacted': 8465, 'collaborate': 8466, 'market': 8467, 'removed': 8468, 'honesty': 8469, 'ymca': 8470, 'halloween': 8471, 'anxiety': 8472, 'maze': 8473, 'vaguely': 8474, 'holler': 8475, 'climaxes': 8476, 'available': 8477, 'lustre': 8478, 'messing': 8479, 'classics': 8480, 'fiennes': 8481, 'juliette': 8482, 'brioche': 8483, 'kathy': 8484, 'decision': 8485, 'aims': 8486, 'relevant': 8487, 'nit': 8488, 'throwaway': 8489, 'rainy': 8490, 'quincy': 8491, 'deepak': 8492, 'verma': 8493, 'hindley': 8494, 'britains': 8495, 'talents': 8496, 'strongest': 8497, 'facilities': 8498, 'hire': 8499, 'instill': 8500, 'deserved': 8501, 'flowing': 8502, 'dumb/silly': 8503, 'skit': 8504, 'get-togethers': 8505, 'string': 8506, 'unassuming-': 8507, 'old-time-bbc': 8508, 'discomforting': 8509, 'chosen-': 8510, 'sheen': 8511, 'polari': 8512, 'seamless': 8513, 'guided': 8514, 'diary': 8515, 'entries': 8516, 'terrificly': 8517, 'performed': 8518, 'masterful': 8519, \"'dream\": 8520, 'disappears': 8521, 'concerning': 8522, 'orton': 8523, 'halliwell': 8524, 'murals': 8525, 'decorating': 8526, 'terribly': 8527, 'warren': 8528, 'heads': 8529, 'brisk': 8530, 'hour.': 8531, 'walton': 8532, 'unlucky': 8533, 'jockey': 8534, 'intent': 8535, 'frieda': 8536, 'inescourt': 8537, 'lockhart': 8538, 'benita': 8539, 'hume': 8540, 'rosalind': 8541, 'ivan': 8542, 'h.b': 8543, 'warner': 8544, 'nat': 8545, 'pendleton': 8546, 'dimwit': 8547, 'deco': 8548, 'decoration': 8549, 'fancy': 8550, 'interiors': 8551, 'complicated': 8552, 'reasonable': 8553, 'assurance': 8554, 'baffled': 8555, 'philo': 8556, 'vance': 8557, 'suspense.': 8558, 'passes': 8559, 'flicking': 8560, 'choice.': 8561, 'remembered': 8562, 'trailer': 8563, 'terrified': 8564, 'altitude': 8565, 'reaching': 8566, 'biting': 8567, 'got.': 8568, 'assessment': 8569, 'righteousness': 8570, 'vicious': 8571, '.ask': 8572, 'contestants': 8573, 'motives': 8574, 'contestant': 8575, 'trigger': 8576, 'candidate': 8577, 'safe.': 8578, 'craving': 8579, 'more.': 8580, 'farmer': 8581, 'associate': 8582, 'glitch': 8583, '5th': 8584, 'standing': 8585, 'execute': 8586, 'interestingly': 8587, 'cama': 8588, 'gato': 8589, 'brazilian': 8590, 'first-time': 8591, 'director/producer/writer': 8592, 'alexandre': 8593, 'stockler': 8594, '4,000': 8595, 'cheaper': 8596, 'exhibited': 8597, 'theaters': 8598, 'sponsors': 8599, 'companies': 8600, 'realized': 8601, 'chances': 8602, 'shrink': 8603, 'unbelievably': 8604, 'preposterous': 8605, 'verbose': 8606, 'ideologically': 8607, 'fanatical': 8608, 'catastrophic': 8609, 'upper-middle': 8610, 'youth': 8611, 'neo-nazis': 8612, 'closeted': 8613, 'gays': 8614, 'expertise': 8615, 'notion': 8616, 'aurally': 8617, 'recalls': 8618, 'amateur': 8619, 'lasts': 8620, \"count'em\": 8621, 'unrelenting': 8622, 'hysteria': 8623, 'clumsiness': 8624, 'funny-bad.': 8625, 'partying': 8626, 'gang-rape': 8627, 'spanking': 8628, 'accidental': 8629, 'staircase': 8630, 'culminating': 8631, 'deciding': 8632, 'corpses': 8633, 'landfill': 8634, 'influenced': 8635, 'bully': 8636, 'moralist': 8637, 'sexploitative': 8638, 'high-class': 8639, 'masterworks': 8640, 'crap.': 8641, 'monomaniacal': 8642, 'throat': 8643, 'grabs': 8644, 'collar': 8645, 'non-stop': 8646, 'rant': 8647, 'repetition': 8648, 'exhaustion': 8649, 'numb-minded': 8650, 'babbling': 8651, 'recording': 8652, 'uniformly': 8653, 'narcissistic': 8654, 'control-freak': 8655, 'anticipates': 8656, 'criticisms': 8657, 'smartie/cutie': 8658, 'protagonists': 8659, 'phony': 8660, 'megalomaniac': 8661, 'ambitions': 8662, 'incapable': 8663, 'hand-held': 8664, 'stylization': 8665, 'alternate': 8666, 'subjective': 8667, 'stupefyingly': 8668, 'verbosity': 8669, 'exists': 8670, 'hateful': 8671, 'condemning': 8672, 'moralizing': 8673, 'caio': 8674, 'blat': 8675, 'promising': 8676, 'brazil': 8677, 'sleepy-eyed': 8678, 'puppy': 8679, 'sal': 8680, 'mineo': 8681, 'carandiru': 8682, 'lavoura': 8683, 'arcaica': 8684, 'proibido': 8685, 'proibir': 8686, 'embarrassingly': 8687, 'under-equipped': 8688, 'realm': 8689, 'sexploitation': 8690, 'goddawful': 8691, 'web-cam': 8692, 'middle-class': 8693, 'preach': 8694, 'despises': 8695, 'interviewees': 8696, 'selecting': 8697, 'abject': 8698, 'racist': 8699, 'sexist': 8700, 'assholes': 8701, 'everywhere': 8702, 'prove': 8703, 'youths': 8704, 'fascists': 8705, 'recreational': 8706, 'neo-fascists': 8707, 'potentialize': 8708, 'fascist': 8709, 'dogmatic': 8710, 'self-righteousness': 8711, 'mind-bending': 8712, '1,000': 8713, 'harmful': 8714, 'insidious': 8715, 'detractors': 8716, 'unwatched': 8717, 'unmentioned': 8718, 'thinks': 8719, 'doth': 8720, 'protest': 8721, 'sites': 8722, 'profane': 8723, 'writings': 8724, 'skew': 8725, 'data': 8726, 'customs': 8727, 'definitions': 8728, 'stays': 8729, 'growing': 8730, 'translations': 8731, 'research': 8732, 'italics': 8733, 'translators': 8734, 'verse': 8735, 'spaces': 8736, 'punctuation': 8737, 'paragraphs': 8738, 'numeric': 8739, 'verses': 8740, 'godisnowhere': 8741, 'meanings': 8742, 'biblical': 8743, 'researchers': 8744, \"'lexicon\": 8745, 'assist': 8746, 'provides': 8747, 'arabic': 8748, 'hebrew': 8749, 'depending': 8750, 'scripture': 8751, 'translated': 8752, 'symbolic': 8753, 'soapbox': 8754, 'maegi': 8755, 'vile': 8756, 'urban': 8757, '70s/80s': 8758, \"weren't/are\": 8759, 'biscuit': 8760, 'realistically': 8761, 'kingpin': 8762, 'schoiol': 8763, 'brutality': 8764, 'exterminator': 8765, 'ma': 8766, 'shattered': 8767, 'gagging': 8768, 'cluttered': 8769, 'haphazard': 8770, 'adjective': 8771, 'heaping': 8772, 'doses': 8773, 'plods': 8774, 'pace.': 8775, 'camera.': 8776, 'disservice': 8777, 'computer-controlled': 8778, 'weighted': 8779, 'curse': 8780, 'character-driven': 8781, 'hoops': 8782, 'maturation': 8783, 'waking': 8784, 'contrivance.': 8785, 'muted': 8786, 'arm-waving': 8787, 'do.': 8788, 'artsy': 8789, 'woods': 8790, 'dangly': 8791, 'look-at-me': 8792, \"i'm-the-figurative-and-literal-representation-of-the-naked-vulnerability-of-\": 8793, 'glory.': 8794, 'sander': 8795, 'sic': 8796, 'desecration': 8797, 'horror/sci-fi': 8798, 'predator': 8799, 'sci-fi/action': 8800, 'mess-about': 8801, 'blame': 8802, \"'alien\": 8803, 'grading': 8804, 'connoisseurs': 8805, 'site.': 8806, 'ridden': 8807, 'overrun/not': 8808, 'aliens': 8809, 'alien/predator': 8810, 'hybrid': 8811, 'realise': 8812, 'coherent': 8813, 'disbelief': 8814, 'strictly': 8815, 'suspended': 8816, 'collect': 8817, 'here.': 8818, 'hunting': 8819, 'damaged': 8820, 'calculate': 8821, 'woodland': 8822, 'hugged': 8823, 'huggers': 8824, 'comical': 8825, 'irresponsible': 8826, 'redneck': 8827, 'muppet.': 8828, 'edgy': 8829, 'thriller-type': 8830, 'ex-con': 8831, 'emotionless': 8832, 'feeble': 8833, 'slasher/horror': 8834, 'undesirable': 8835, 'beaten': 8836, 'protective': 8837, 'jock': 8838, 'sportsman': 8839, 'scottish': 8840, 'cute/not': 8841, 'shite': 8842, 'reversal': 8843, 'pc': 8844, 'ripley': 8845, 'credential': 8846, 'child.': 8847, 'storytelling': 8848, 'brightest': 8849, 'alien-ridden': 8850, 'universe.': 8851, 'predator-alien': 8852, 'mothers': 8853, 'shocked': 8854, 'titillate': 8855, 'perverse': 8856, 'fathers': 8857, 'shagging': 8858, 'saucy': 8859, 'disinterested': 8860, 'tarnishes': 8861, 'enjoyment': 8862, 'worry': 8863, 'decision.': 8864, 'ps': 8865, 'trained': 8866, 'survive': 8867, 'guardian': 8868, 'olive': 8869, 'garden': 8870, 'dampening': 8871, 'flashbacks': 8872, 'waterworld': 8873, 'butterfly': 8874, 'annoys': 8875, 'simian': 8876, 'approximately': 8877, 'subside': 8878, 'hesitancies': 8879, 'slip': 8880, 'gripped': 8881, 'tighter': 8882, 'orange': 8883, 'bristled': 8884, 'rebellious': 8885, 'sunglasses': 8886, 'toothpick': 8887, 'sportin': 8888, 'smirk': 8889, 'clooney': 8890, 'soften': 8891, 'jabs': 8892, 'darn': 8893, 'ape': 8894, 'efficiently': 8895, 'mixing': 8896, 'quibble': 8897, 'overcooked': 8898, 'sappiness': 8899, 'value.': 8900, 'sessions': 8901, 'swimmers': 8902, 'informative': 8903, 'introduce': 8904, 'group.': 8905, 'swimmer': 8906, '-you': 8907, 'missions': 8908, 'disorientation': 8909, 'hypothermia': 8910, 'oxygen': 8911, 'panicked': 8912, 'survival': 8913, 'kutcher/kevin': 8914, 'thank': 8915, 'breed': 8916, 'customers.': 8917, 'gist': 8918, 'moviegoers': 8919, 'embark': 8920, 'daring': 8921, '29': 8922, \"'80\": 8923, 'pride': 8924, 'noted': 8925, 'ninth': 8926, 'greed': 8927, 'laziness': 8928, 'anywhere.': 8929, 'ic': 8930, 'pseudo': 8931, 'remind': 8932, 'honor': 8933, 'heavy': 8934, 'downward': 8935, 'overseas': 8936, 'elvira': 8937, 'fav': 8938, 'liners': 8939, 'till': 8940, 'july': 8941, 'surfing': 8942, '12:30': 8943, 'believing': 8944, 'happen.': 8945, 'hispanic': 8946, 'interests': 8947, 'personalities': 8948, 'color.': 8949, 'props': 8950, 'freaky': 8951, 'rapist': 8952, 'definite': 8953, 'definition': 8954, 'hicksville': 8955, 'so/so': 8956, 'moon': 8957, 'gag': 8958, 'reflexes': 8959, 'flips': 8960, 'horrid': 8961, 'gabriela': 8962, 'heartbeat': 8963, 'dreamgirls': 8964, 'raving': 8965, 'quarter': 8966, 'wore': 8967, 'rent.': 8968, 'overdose': 8969, 'flimsy': 8970, 'whatnot': 8971, 'draw': 8972, 'copy-cat': 8973, 'caddyshack': 8974, 'stack': 8975, 'jackie': 8976, 'mason': 8977, 'compete': 8978, 'rodney': 8979, 'dangerfield': 8980, 'wilcoxon': 8981, 'hystericly': 8982, 'lawyer': 8983, 'quaid': 8984, 'originals': 8985, 'suits': 8986, 'motions': 8987, 'ing': 8988, 'bonfire': 8989, 'chippindale': 8990, 'roast': 8991, 'retriever': 8992, 'arff': 8993, 'comin': 8994, 'upstairs': 8995, 'grabbing': 8996, 'pjs': 8997, 'cramming': 8998, 'brand': 8999, 'bmw': 9000, 'offsetting': 9001, 'acroyd': 9002, 'isnt': 9003, 'shô': 9004, 'kasugi': 9005, 'christopher': 9006, 'john-rhys': 9007, 'davies': 9008, 'b-adventure': 9009, 'swashbuckling': 9010, 'woolworths': 9011, 'birthday': 9012, 'hilarity': 9013, 'purposes.': 9014, 'mistaken.': 9015, 'baller': 9016, 'scouser/australian': 9017, 'identified': 9018, 'abysmal.': 9019, 'finals.': 9020, 'annoyingly': 9021, 'default.': 9022, 'critical': 9023, 'destroyers': 9024, 'anti-christ': 9025, '{': 9026, 'peaked': 9027, 'downhill': 9028, 'gwoemul': 9029, 'succeeded': 9030, 'successive': 9031, 'blockbusters': 9032, 'budgets': 9033, 'movie-makers': 9034, 'squander': 9035, 'investor': 9036, 'goodwill': 9037, 'built': 9038, '1999': 9039, 'break-out': 9040, 'shiri/swiri': 9041, 'mainland': 9042, 'china': 9043, 'investors': 9044, 'detailed': 9045, 'fluid': 9046, 'korean/': 9047, 'east': 9048, 'asian-styled': 9049, 'dragon': 9050, '1996': 9051, 'dragonheart': 9052, 'digitally': 9053, 'dragons': 9054, 'dungeons': 9055, '2000': 9056, 'learnt': 9057, 'koreans': 9058, 'folk': 9059, 'arirang': 9060, 'creature': 9061, 'scripting': 9062, '99': 9063, 'diaz': 9064, \"d'onofrio\": 9065, 'keanu': 9066, 'aykroyd': 9067, 'minnesota': 9068, 'undecided': 9069, 'riveting': 9070, 'tightens': 9071, 'blaire': 9072, 'raptors': 9073, 'raptor': 9074, '13th': 9075, 'eats': 9076, 'banana.': 9077, 'viewings': 9078, 'dinosaurs': 9079, 'coals': 9080, 'liebman': 9081, 'selby': 9082, 'communicate': 9083, 'intensity': 9084, 'revive': 9085, 'blow': 9086, 'dramatically': 9087, '36th': 9088, 'chamber': 9089, 'kung-fu': 9090, 'shaw': 9091, 'produces': 9092, '70s': 9093, '80s': 9094, 'spaghetti': 9095, 'westerns': 9096, 'liu': 9097, 'counterpart': 9098, 'clint': 9099, 'eastwood': 9100, 'remastered': 9101, 'scope': 9102, 'days.': 9103, 'sums': 9104, 'era.': 9105, 'workers': 9106, 'dye-mill': 9107, 'wages': 9108, 'incoming': 9109, 'manchu': 9110, 'gangsters': 9111, 'impersonate': 9112, 'shaolin': 9113, 'rouse': 9114, 'pushed': 9115, 'limit': 9116, 'impersonating': 9117, 'mob': 9118, 'temple': 9119, 'sly': 9120, 'abbot': 9121, 'impersonated': 9122, 'miyagi': 9123, 'painting': 9124, 'fences': 9125, 'erect': 9126, 'scaffoldings': 9127, 'builds': 9128, 'unorthodox': 9129, 'non-contact': 9130, 'angled': 9131, 'clarity': 9132, 'sparring': 9133, 'partners': 9134, 'slow-motion': 9135, 'stunts': 9136, 'tad': 9137, 'yuen': 9138, 'ping': 9139, 'ad-nausem': 9140, 'monday': 9141, 'denomination': 9142, 'combine': 9143, 'daily': 9144, 'punchline': 9145, 'stomach.': 9146, 'ever.': 9147, 'interviewing': 9148, 'mask': 9149, 'freak': 9150, 'ponder': 9151, 'awkwardness': 9152, 'imprisoning': 9153, 'understandable': 9154, 'cannes': 9155, '2000.': 9156, 'predominated': 9157, 'colored': 9158, 'persons': 9159, 'principally': 9160, 'silence': 9161, 'characterize': 9162, 'leung': 9163, 'maggie': 9164, 'cheung': 9165, 'dresses': 9166, 'wearing': 9167, 'prevented': 9168, 'artistic': 9169, 'wildfire': 9170, 'staying': 9171, 'taping': 9172, 'thanking': 9173, 'win-win': 9174, 'afternoon': 9175, 'comedian': 9176, 'sanechaos': 9177, 're-make': 9178, 'gosh': 9179, 'assembling': 9180, 'writer/director': 9181, 'bio': 9182, 'glaringly': 9183, 'usage': 9184, 'chopped': 9185, 'mini-series': 9186, 'sit-com': 9187, 'translate': 9188, 'cringed': 9189, 'shriveled': 9190, 'meg': 9191, 'perky': 9192, 'recreate': 9193, 'stereo-typed': 9194, 'annette': 9195, 'bening': 9196, '2000s': 9197, 'updates': 9198, 'subtleties': 9199, 'not.': 9200, 'yorker': 9201, 'appropriate': 9202, 'execs': 9203, 'caption': 9204, 'unmarried': 9205, 'stella': 9206, 'midler': 9207, 'collins': 9208, 'obligation': 9209, 'raise': 9210, 'jenny': 9211, 'trini': 9212, 'alvarado': 9213, 'worse.': 9214, 'dallas': 9215, 'affected': 9216, 'well-made': 9217, '1990': 9218, 'beaches': 9219, 'drags': 9220, 'marsha': 9221, 'callan': 9222, 'photographer': 9223, 'co-produced': 9224, 'tv-movie': 9225, 'clay': 9226, 'cheats': 9227, 'reveal': 9228, '1/2': 9229, 'bitching': 9230, 'verifies': 9231, 'network.': 9232, 'beatles': 9233, 'releases': 9234, 'remember.': 9235, \"'john\": 9236, 'lennon': 9237, 'mccartney': 9238, 'broken': 9239, 'jared': 9240, 'harris': 9241, 'aiden': 9242, 'quinn': 9243, 'underestimated': 9244, 'excellent.': 9245, 'paragraph': 9246, 'counted': 9247, 'musicians': 9248, 'rude': 9249, 'biographical': 9250, \"'backbeat'.\": 9251, 'pleasent': 9252, '95': 9253, 'develop.': 9254, '1976': 9255, \"'comments\": 9256, 'likes': 9257, 'him/her': 9258, 'tested': 9259, 'continually': 9260, 'wizardry': 9261, 'wretched': 9262, 'employ': 9263, 'fatone': 9264, 'sin.': 9265, 'obviousness': 9266, 'shrek': 9267, 'toy': 9268, 'willie': 9269, 'wonka': 9270, 'continual': 9271, 'dumbing-down': 9272, 'flocking': 9273, 'dreck': 9274, 'finding': 9275, 'nemo': 9276, 'chocolate': 9277, 'eye-crossing': 9278, 'kool': 9279, 'dee': 9280, 'alt': 9281, 'comprise': 9282, 'hammy': 9283, 'amateurishly': 9284, 'hack': 9285, 'washed-up': 9286, 'has-been': 9287, 'never-was': 9288, 'thespian': 9289, 'coleman': 9290, 'howlingly': 9291, 'screamed': 9292, 'degrading': 9293, 'anna': 9294, 'fragment': 9295, 'article': 9296, 'drifted': 9297, 'mouthwash': 9298, 'listerine': 9299, 'minty': 9300, 'spit': 9301, 'chance.': 9302, 'gargoyles': 9303, 'romania': 9304, 'priests': 9305, 'pare': 9306, 'agents': 9307, 'amok': 9308, 'enthusiastic': 9309, 'cg': 9310, 'gargoyles.': 9311, 'helsing': 9312, 'dreary': 9313, 'latch': 9314, 'adamant': 9315, 'figuratively': 9316, '`': 9317, 'lisa': 9318, 'krueger': 9319, 'approach': 9320, 'examine': 9321, 'heather': 9322, 'graham': 9323, 'obsessive': 9324, 'joline': 9325, 'story.': 9326, 'carl': 9327, '597': 9328, 'realizes': 9329, 'refuses': 9330, 'paso': 9331, 'considers': 9332, 'spiritual': 9333, 'coma': 9334, 'vigil': 9335, 'watches': 9336, 'waits': 9337, 'velazquez': 9338, 'waitress': 9339, 'eateries': 9340, 'grampy': 9341, 'alfonso': 9342, 'arau': 9343, 'mystic': 9344, 't-bo': 9345, 'neil': 9346, 'goran': 9347, 'visnjic': 9348, 'pinatas': 9349, 'eclectic': 9350, 'point-of-view': 9351, 'privy': 9352, 'therefore': 9353, 'deliberate': 9354, 'soak': 9355, 'ambiance': 9356, 'creates': 9357, 'seriousness': 9358, 'heavy-handed': 9359, 'concentrates': 9360, 'evolves': 9361, 'textured': 9362, 'affecting': 9363, 'upbeat': 9364, 'life.': 9365, 'frame': 9366, 'immerses': 9367, 'traits': 9368, 'nuance': 9369, 'imperative': 9370, 'viable': 9371, 'alluring': 9372, 'vibrant': 9373, 'exudes': 9374, 'countenance': 9375, 'agreeable': 9376, 'shared': 9377, 'innermost': 9378, 'vibrantly': 9379, 'instincts': 9380, 'flamboyant': 9381, 'attractively': 9382, 'down-to-earth': 9383, 'refreshingly': 9384, 'up-front': 9385, 'convincingly': 9386, 'casey': 9387, 'affleck': 9388, 'dickens': 9389, 'clea': 9390, 'du': 9391, 'vall': 9392, 'mimi': 9393, 'phoenix': 9394, 'alexakis': 9395, 'dylan': 9396, 'editor': 9397, 'stepping': 9398, 'hilton': 9399, 'dry': 9400, 'valve.': 9401, 'donald': 9402, 'hairdo': 9403, 'wwe': 9404, 'anymore': 9405, 'sightseeing': 9406, 'travel': 9407, '3000': 9408, 'saudi': 9409, 'arabia': 9410, 'italy': 9411, 'bulgaria': 9412, 'croatia': 9413, 'slovenia': 9414, 'stopovers': 9415, 'soaking': 9416, 'sights.': 9417, 'reda': 9418, 'haj': 9419, 'mule': 9420, 'mecca': 9421, 'vehicle.': 9422, 'opt': 9423, 'resents': 9424, 'pilgrimage': 9425, 'arduous': 9426, 'pals.': 9427, 'challenges': 9428, 'duke': 9429, 'varied': 9430, 'alternating': 9431, 'stops': 9432, 'motels': 9433, 'gap': 9434, 'impose': 9435, 'assert': 9436, 'differences.': 9437, 'coincide': 9438, 'hari': 9439, 'raya': 9440, 'haji': 9441, 'pilgrims': 9442, 'behold': 9443, 'claustrophobia': 9444, 'congregating': 9445, 'sights': 9446, 'dwelled': 9447, 'destination.': 9448, 'rang': 9449, 'appreciate': 9450, 'pleasantly': 9451, 'session': 9452, 'chase': 9453, 'increasing': 9454, 'hijacking': 9455, 'kinds': 9456, 'reduce': 9457, 'headache.': 9458, 'stinging': 9459, 'sappy': 9460, 'promo': 9461, 'miserably': 9462, 'inc.': 9463, 'depresses': 9464, 'targets': 9465, 'corporatization': 9466, 'diminishes': 9467, 'atrocity': 9468, 'trivializes': 9469, 'frost': 9470, 'distributed': 9471, 'a-pix': 9472, 'deals': 9473, 'entertaingly': 9474, 'intentionally': 9475, 'snowman': 9476, 'waaaaaaaaaaay': 9477, 'becuz': 9478, 'scariest': 9479, 'bird': 9480, 'dangling': 9481, 'parachutes': 9482, 'horror.': 9483, 'resolution': 9484, 'humor.': 9485, 'janet': 9486, 'leigh': 9487, 'bumped': 9488, 'screenwriters': 9489, 'well-worn': 9490, 'skippy': 9491, 'wussy': 9492, \"'metal\": 9493, 'nerd': 9494, 'sammi': 9495, 'curr': 9496, 'hissy': 9497, 'tearing': 9498, 'posters': 9499, 'bedroom': 9500, 'unreleased': 9501, 'idol': 9502, 'junk': 9503, 'simmons': 9504, 'ozzy': 9505, 'osbourne': 9506, 'coherency': 9507, 'applaud': 9508, 'elise': 9509, 'cloths': 9510, '20th': 9511, 'shelf': 9512, 'surly': 9513, 'muddled': 9514, 'merging': 9515, 'disparate': 9516, 'dunne': 9517, 'assisting': 9518, 'scalawag': 9519, 'cabot': 9520, 'convinces': 9521, 'unsuspecting': 9522, 'birth': 9523, 'controversial': 9524, 'alluded': 9525, 'hoped': 9526, 'phrase': 9527, 'clueless': 9528, 'attend': 9529, 'stillborn': 9530, '1/4': 9531, 'tacking': 9532, 'unexpectedly': 9533, 'crusade': 9534, 'reformer': 9535, 'writer.': 9536, 'emerges': 9537, 'reform': 9538, 'wayside': 9539, 'tricked': 9540, 'irene': 9541, 'tireless': 9542, 'flies': 9543, 'clothes': 9544, 'indicted': 9545, 'crooked': 9546, 'assures': 9547, 'convicted': 9548, 'scoundrel': 9549, 'information': 9550, 'bench': 9551, 'amass': 9552, 'fortune': 9553, 'vain': 9554, 'freed': 9555, 'vows': 9556, 'ends.': 9557, 'gathered': 9558, 'strong-minded': 9559, 'undoes': 9560, 'positives': 9561, 'advocate': 9562, 'weak-minded': 9563, 'needy': 9564, 'amoral': 9565, 're-write': 9566, 'lewd': 9567, 'salacious': 9568, 'milland': 9569, 'weekend': 9570, 'separating': 9571, 'digger': 9572, 'sugar': 9573, 'pose': 9574, 'ariszted': 9575, 'misha': 9576, 'auer': 9577, 'penniless': 9578, 'durbin': 9579, 'penny': 9580, 'booked': 9581, 'soprano': 9582, 'hugely': 9583, 'fargo': 9584, '1987.': 9585, 'outrageously': 9586, 'fantasizes': 9587, 'guts': 9588, 'would-be': 9589, 'millions': 9590, 'hears': 9591, 'outburst': 9592, 'borrowing': 9593, 'hawai': 9594, 'resulting': 9595, 'surprises.': 9596, 'exceptional': 9597, 'undervalued': 9598, 'relies': 9599, 'innovative': 9600, 'off-beat': 9601, '1980s': 9602, 'malaise': 9603, 'revolve': 9604, 'chock': 9605, 'kids.': 9606, 'overexaggerating': 9607, 'rephrase': 9608, 'dissilusioned': 9609, 'marketed': 9610, 'fast-forward': 9611, 'educational': 9612, 'cosmic': 9613, 'phenominon': 9614, 'degress': 9615, 'russ': 9616, 'eight': 9617, 'kiki': 9618, 'delivery': 9619, 'service': 9620, 'handles': 9621, 'litely': 9622, 'drilling': 9623, 'amature': 9624, 'mst3k-ers': 9625, 'willis': 9626, 'antics': 9627, 'tack': 9628, 'real-life': 9629, 'boxing': 9630, 'champ': 9631, 'blast': 9632, 'stifled': 9633, 'san': 9634, 'francisco': 9635, 'teller': 9636, 'celebrated': 9637, 'pugilist': 9638, 'deb': 9639, 'pal': 9640, 'bare-knuckle': 9641, 'arrested': 9642, 'prominent': 9643, 'entrance': 9644, 'weasel': 9645, 'graces': 9646, 'resident': 9647, 'boxer': 9648, 'unusually': 9649, 'adept': 9650, 'skill': 9651, 'sport': 9652, 'comers': 9653, 'champion': 9654, 'l.': 9655, 'sullivan': 9656, 'epitome': 9657, 'mussed': 9658, 'virtually': 9659, 'stuntwork': 9660, 'impressively': 9661, 'delicious': 9662, 'credible': 9663, 'duplicitous': 9664, 'pore': 9665, 'costar': 9666, 'advances': 9667, 'undergoing': 9668, 'statutory': 9669, 'charges': 9670, 'repulsed': 9671, 'cavalier': 9672, 'burly': 9673, 'brawny': 9674, 'towering': 9675, 'tender': 9676, 'ebullient': 9677, 'frawley': 9678, 'dependably': 9679, 'cantankerous': 9680, 'rambunctious': 9681, 'assortment': 9682, 'stuffy': 9683, 'nob': 9684, 'types': 9685, 'appointed': 9686, 'securely': 9687, 'gowns': 9688, 'garish': 9689, 'upswept': 9690, 'hairstyles': 9691, 'glimpse': 9692, 'earliest': 9693, 'championship': 9694, 'purposes': 9695, 'zingers': 9696, 'salman': 9697, 'refreshed': 9698, 'ali': 9699, 'larter': 9700, 'desired': 9701, 'brady': 9702, 'clarence': 9703, 'doolittle': 9704, 'sailors': 9705, 'four-day': 9706, 'hollywood.joe': 9707, 'lola': 9708, 'shyer': 9709, 'girls.they': 9710, 'navy.they': 9711, 'singer.clarence': 9712, 'susie': 9713, 'shyness': 9714, 'way.but': 9715, 'does.soon': 9716, 'susie.the': 9717, 'lie': 9718, 'know.as': 9719, 'feelings.george': 9720, 'anchors': 9721, 'aweigh': 9722, 'comedy.gene': 9723, 'top-notch': 9724, 'routines.frank': 9725, 'brooklyn.shy': 9726, 'well.kathryn': 9727, 'grayson': 9728, 'abbott.we': 9729, 'gifted': 9730, 'operatic': 9731, '88.the': 9732, '9-year': 9733, 'stockwell': 9734, 'sailor.jose': 9735, 'iturbi': 9736, 'himself.it': 9737, 'piano.edgar': 9738, 'station.sara': 9739, 'berner': 9740, 'jerry': 9741, 'mouse.there': 9742, 'numbers.just': 9743, '.it': 9744, 'funny.it': 9745, 'sings': 9746, 'brahms': 9747, 'lullaby': 9748, 'stockwell.it': 9749, 'jealousy': 9750, '.the': 9751, 'dances': 9752, 'mouse.also': 9753, 'butler.they': 9754, 'mickey': 9755, 'mouse': 9756, 'refused.the': 9757, 'georgie': 9758, 'stoll': 9759, 'score.anchors': 9760, 'rosalba': 9761, 'neri': 9762, 'villainess': 9763, 'mesmerizing': 9764, 'damon': 9765, 'undresses': 9766, 'parrot': 9767, 'gun-play': 9768, 'done.': 9769, 'brawl': 9770, 'occurs': 9771, 'choreographed': 9772, 'overlook': 9773, 'terence': 9774, 'hill/bud': 9775, 'annoyed': 9776, 'yuma': 9777, 'cowardly': 9778, 'sidekick': 9779, 'tuco': 9780, 'assure': 9781, 'johnny': 9782, 'boyle': 9783, 'absurdity': 9784, 'spoke': 9785, 'pretending': 9786, 'jaded': 9787, 'stone-hearted': 9788, 'ultra-evil': 9789, 'raspy': 9790, 'synthesizer': 9791, 'crank': 9792, '1984ish': 9793, 'cox': 9794, 'borges': 9795, 'minimalism': 9796, 'tightly': 9797, 'lonnrot': 9798, 'questioning': 9799, 'yidische': 9800, 'zaitung': 9801, 'thereabouts': 9802, 'satisfaction': 9803, 'ops': 9804, 'stan': 9805, 'deservedly': 9806, 'ollie': 9807, 'recovering': 9808, 'boiled': 9809, 'chaos': 9810, 'curiously': 9811, 'gilbert': 9812, 'ceiling': 9813, 'calms': 9814, 'syringe': 9815, 'comedians': 9816, 'wanders': 9817, 'self-mutilation': 9818, 'coping': 9819, 'abusive': 9820, \"'apparently\": 9821, 'andy': 9822, 'copp': 9823, 'gorehounds': 9824, 'extreme': 9825, 'lured': 9826, 'splatter': 9827, 'unsettling': 9828, 'experimental': 9829, 'chore': 9830, 'through.': 9831, '82': 9832, 'dis-chordant': 9833, 'mind-numbingly': 9834, 'sanity': 9835, 'marbles': 9836, 'barking': 9837, 'section': 9838, 'picking': 9839, 'crawl': 9840, 'scratch': 9841, 'cheep': 9842, 'baler': 9843, 'foul': 9844, 'slot.': 9845, 'zeus': 9846, 'hera': 9847, 'drops': 9848, 'followers': 9849, 'gods': 9850, 'certainty': 9851, 'antagonistic': 9852, 'boy-o-boy': 9853, 'caracter': 9854, 'more/better': 9855, 'monsters': 9856, 'juarassic': 9857, 'desirable': 9858, 'compensated': 9859, '42': 9860, 'tv.': 9861, 'myth': 9862, 'lore': 9863, 'purchased': 9864, 'criterion': 9865, 'nevsky': 9866, 'rousing': 9867, 'germans.': 9868, 'criticism': 9869, 'eisenstein': 9870, 'propagandist': 9871, 'stalin': 9872, 'postal': 9873, 'finsished': 9874, 'mercs': 9875, 'infiltrating': 9876, 'tropical': 9877, 'schemed': 9878, 'schmucks': 9879, 'loneley': 9880, 'invites': 9881, 'countrymen': 9882, 'players': 9883, 'til': 9884, 'schweiger': 9885, 'udo': 9886, 'kier': 9887, 'ralf': 9888, 'moeller.': 9889, 'selfs': 9890, 'biz': 9891, 'bratwurst': 9892, 'dudes': 9893, 'tils': 9894, 'badass': 9895, 'agenda': 9896, 'genetically-mutated-soldiers': 9897, 'gms': 9898, 'top-secret': 9899, 'thats': 9900, 'palm': 9901, 'lumberjack-woods': 9902, 'mehehe': 9903, 'bolls': 9904, 'suck.': 9905, 'imply': 9906, 'cromed/albino': 9907, 'reeks': 9908, 'scheisse': 9909, 'poop': 9910, 'simpletons': 9911, 'fa': 9912, 'r': 9913, 'wiff': 9914, 'btw': 9915, 'republic': 9916, 'formed': 9917, 'xvi': 9918, 'revolutionary': 9919, 'danton': 9920, 'depardieu': 9921, 'commanding': 9922, 'polish': 9923, 'moderate': 9924, 'deposed': 9925, 'committee': 9926, 'resulted': 9927, 'confident': 9928, 'persuade': 9929, 'curb': 9930, 'bloodletting': 9931, 'overthrown': 9932, 'supporters': 9933, 'traitors': 9934, 'andrzej': 9935, 'wajda': 9936, 'poland': 9937, 'solidarity': 9938, 'trade': 9939, 'iron': 9940, 'lech': 9941, 'walesa': 9942, 'comparisons': 9943, 'jaruselski': 9944, 'danton/walesa': 9945, 'robespierre/jaruselski': 9946, 'dictatorial': 9947, 'represent': 9948, 'stanislawa': 9949, 'przybyszewska': 9950, 'criticised': 9951, 'static': 9952, 'behind-the-scenes': 9953, 'meetings': 9954, 'committees': 9955, 'assembly': 9956, 'courtroom': 9957, 'activities': 9958, 'spatula': 9959, 'contends': 9960, 'joins': 9961, 'spoons': 9962, '15-minute': 9963, 'absorbed': 9964, 'odd-ball': 9965, 'high-budget': 9966, 'rifle': 9967, 'firing': 9968, 'franchot': 9969, 'centuries': 9970, 'arms': 9971, 'country.': 9972, 'kicked': 9973, 'encouraged': 9974, 'belted': 9975, 'p.': 9976, 'unit': 9977, 'pinned': 9978, 'nest': 9979, 'handedly': 9980, 'commission': 9981, 'steeple': 9982, 'gunned': 9983, 'raised': 9984, 'surrender': 9985, 'artillery': 9986, 'wounding': 9987, 'volunteer': 9988, 'duffy': 9989, 'gladys': 9990, 'recovered': 9991, 'stationed': 9992, 'sticky': 9993, 'proposal': 9994, 'marrying': 9995, 'resentful': 9996, 'meek': 9997, 'non-violent': 9998, 'smug': 9999, 'mobster': 10000, 'underworld': 10001, 'inoffensive': 10002, 'insurance': 10003, 'adjuster.': 10004, 'circle': 10005, 'ratted': 10006, 'executing': 10007, 'valentine': 10008, 'mobsters': 10009, 'admitted': 10010, 'guilt': 10011, 'rumors': 10012, 'fugitive': 10013, 'manger': 10014, 'barker': 10015, 'tracked': 10016, 'thieves': 10017, 'git': 10018, 'night.': 10019, 'ghastly': 10020, 'firstly': 10021, 'prostitution': 10022, 'akin': 10023, 'dancer': 10024, 'warmers': 10025, 'giggling': 10026, 'healthy': 10027, 'occasional': 10028, 'whimper': 10029, 'predicament': 10030, \"'happy\": 10031, 'palatable': 10032, 'chicken': 10033, 'adorn': 10034, 'characteristics': 10035, 'chef': 10036, 'food': 10037, 'wear': 10038, 'bailing': 10039, 'consequently': 10040, 'indulges': 10041, \"'pretty\": 10042, 'gere': 10043, 'seduce': 10044, \"'lady\": 10045, 'yep': 10046, 'moron': 10047, 'splashing': 10048, 'lotus': 10049, 'esprit': 10050, 'turbo': 10051, 'necklaces': 10052, 'diamonds': 10053, 'limos': 10054, 'please.': 10055, 'shopping': 10056, 'eddy': 10057, 'calculator': 10058, 'registered': 10059, \"'thieves\": 10060, 'subject.': 10061, 'hangin': 10062, 'treat': 10063, 'mercy': 10064, 'pardon': 10065, 'jam-packed': 10066, 'boothe': 10067, 'stellar': 10068, '1974': 10069, 'liebmann': 10070, 'jones': 10071, 'duckling': 10072, 'story-line': 10073, 'bloodbath': 10074, 'surrounds': 10075, 'occurring': 10076, 'investigations': 10077, 'towns': 10078, 'small-time': 10079, 'reporter': 10080, 'ex-drug': 10081, 'addict': 10082, 'priest': 10083, 'witchcraft': 10084, 'protégé': 10085, 'handicapped': 10086, 'townsman': 10087, 'deaf/mute': 10088, 'interwoven': 10089, 'classical': 10090, 'old-fashioned': 10091, 'giallo/murder-mystery': 10092, 'non-splatter': 10093, 'despair': 10094, 'sleaze': 10095, 'habit': 10096, 'disconcerting': 10097, '8.5/10': 10098, 'tremendous': 10099, 'pacing': 10100, 'patience': 10101, \"'distance\": 10102, \"'flow\": 10103, \"'love\": 10104, 'faux': 10105, '20-minute': 10106, 'eriksen': 10107, 'doc': 10108, 'posting': 10109, 'website': 10110, '1997-98': 10111, 'tricky': 10112, 'pushy': 10113, \"'host\": 10114, 'elicit': 10115, 'authenticity': 10116, 'believability': 10117, 'joyous': 10118, 'abandon': 10119, 'fertile': 10120, 'corner': 10121, 'ring': 10122, 'wedding': 10123, 'placed': 10124, 'todays': 10125, 'volumes': 10126, 'bracelet': 10127, 'lover': 10128, 'buys': 10129, 'new-fangled': 10130, 'mccabe': 10131, 'garnered': 10132, 'sterling': 10133, 'boom-town': 10134, 'brackish': 10135, 'beatty': 10136, 'turn-of-the-century': 10137, 'entrepreneur': 10138, 'settles': 10139, 'outskirts': 10140, 'organize': 10141, 'brothel': 10142, 'profits': 10143, 'naturally': 10144, 'menaced': 10145, 'toughs': 10146, 'solemn': 10147, 'wintry': 10148, 'vignettes': 10149, 'languid': 10150, 'stare': 10151, 'self-defeating': 10152, 'altman-quirky': 10153, 'proudly': 10154, 'serum': 10155, 'diseases': 10156, 'cadavers': 10157, 'acquainted': 10158, 'errors': 10159, 'excitement': 10160, 'angie': 10161, 'kate': 10162, 'scenarios': 10163, 'dislike': 10164, 'boarding': 10165, 'anyways': 10166, 'jamie': 10167, 'lynn': 10168, 'expression': 10169, 'designer': 10170, 'beach.': 10171, 'awake': 10172, 'dumbed': 10173, 'ad': 10174, 'nauseum': 10175, 'cosmos': 10176, 'sagan': 10177, 'infernal': 10178, '10-dimensional': 10179, 'beckham': 10180, 'packed': 10181, 'stroy': 10182, 'achieve': 10183, 'strives': 10184, \"'hush\": 10185, 'destination': 10186, 'complications': 10187, '1993': 10188, 'hit-show': 10189, 'producing': 10190, 'feature-length': 10191, 'slated': 10192, 'status': 10193, 'feature-films': 10194, 'wb': 10195, 'sub-zero': 10196, 'joker': 10197, 'batwoman': 10198, 'modeling': 10199, 'begun': 10200, 'targeting': 10201, 'operations': 10202, 'gotham': 10203, 'thorne': 10204, 'oswald': 10205, 'cobblepot': 10206, 'penguin': 10207, 'unravel': 10208, 'line.': 10209, 'sleeker': 10210, 'futuristic': 10211, 'utilized': 10212, 'fifth': 10213, 'sixth': 10214, 'sleek': 10215, 'overabundance': 10216, 'rodent-shaped': 10217, 'hearts.': 10218, 'alumni': 10219, 'hastings': 10220, 'costanzo': 10221, 'bullock': 10222, 'tara': 10223, 'gordon/batgirl': 10224, 'hints': 10225, 'romantic-relationship': 10226, 'efrem': 10227, 'zimbalist': 10228, 'season.': 10229, 'motb': 10230, 'torch': 10231, 'hardcore': 10232, 'five-minute': 10233, 'exasperating': 10234, 'quease-inducing': 10235, 'dogme': 10236, 'dramamine': 10237, 'seasickness': 10238, 'forty': 10239, 'twaddle.': 10240, 'dismal': 10241, 'steady': 10242, 'breathing': 10243, 'continuing': 10244, 'leprosy': 10245, 'poked': 10246, 'civilization': 10247, 'lawlessness': 10248, 'freighters': 10249, 'registry': 10250, 'nationality': 10251, 'enforce': 10252, 'ships': 10253, 'crews': 10254, 'dirt': 10255, 'threatened': 10256, 'bullied': 10257, 'complying': 10258, 'rewarded': 10259, 'compliance': 10260, 'coat': 10261, 'reading.': 10262, 'horrifying': 10263, 'releasing': 10264, 'contenders': 10265, 'britain': 10266, 'bruckheimer': 10267, 'pertwee': 10268, 'omar': 10269, 'epps': 10270, 'sisters': 10271, 'tons': 10272, 'intricate': 10273, 'positions': 10274, 'improve': 10275, \"'score\": 10276, 'impossibly': 10277, 'jigsaw': 10278, 'tasks': 10279, 'nad': 10280, 'definately': 10281, 'b-movies': 10282, 'unability': 10283, 'creators': 10284, 'spielberg': 10285, 'again-and-again': 10286, 'dentist': 10287, 'authors': 10288, 'imagining': 10289, 'horror-type': 10290, 'marjorie': 10291, 'farrah': 10292, 'fawcett': 10293, 'lone': 10294, 'biker': 10295, 'mortally': 10296, 'shaken': 10297, 'attacker': 10298, 'address': 10299, 'russo': 10300, 'bruised': 10301, 'upper': 10302, 'daylights': 10303, 'renders': 10304, 'wasp': 10305, 'spray': 10306, 'hog': 10307, 'battered': 10308, 'roommates': 10309, 'scarwid': 10310, 'alfrie': 10311, 'woodard': 10312, 'render': 10313, 'punishment': 10314, 'ditsy': 10315, 'stain': 10316, 'm.': 10317, 'ashmit': 10318, 'olivier': 10319, 'malikka': 10320, 'cheating': 10321, 'lane.they': 10322, 'traces': 10323, 'soft': 10324, 'mallika': 10325, 'dared': 10326, 'feasibility': 10327, 'censors': 10328, 'undue': 10329, 'careful': 10330, 'remaking': 10331, 'caution': 10332, 'belief.even': 10333, 'sucks.i': 10334, 'troma': 10335, 'crap.i': 10336, 'avenger': 10337, 'rockabilly': 10338, '.but': 10339, 'lloyd': 10340, 'taste.it': 10341, 'imaginable.i': 10342, 'unemployed': 10343, 'did.i': 10344, 'charisma.with': 10345, 'atrocity.as': 10346, 'people.but': 10347, 'traumatic': 10348, 'ears.the': 10349, 'problems.the': 10350, 'smallest': 10351, 'way.and': 10352, 'making.but': 10353, 'it.go': 10354, 'it.just': 10355, 'wesley': 10356, 'snipes': 10357, '5.8': 10358, 'unoriginal': 10359, 'thinner': 10360, 'mimic': 10361, 'waist': 10362, 'ísnt': 10363, 'wept': 10364, 'wannabe': 10365, '2/10': 10366, 'shooter': 10367, 'june': 10368, 'snow.': 10369, 'gandofini': 10370, 'deny': 10371, 'affinity': 10372, 'furious': 10373, 'dhoom': 10374, 'rempit': 10375, 'tiny': 10376, 'efficiency': 10377, 'transportation': 10378, 'owning': 10379, 'wheels': 10380, 'tax': 10381, 'shores': 10382, 'taxes': 10383, 'bills': 10384, 'operating': 10385, 'quipped': 10386, 'sea.': 10387, 'chicks': 10388, 'demographic': 10389, 'plunging': 10390, 'necklines': 10391, 'uncanny': 10392, 'buxom': 10393, 'skirts': 10394, 'accentuating': 10395, 'meters': 10396, 'curves': 10397, 'possess': 10398, 'ahem': 10399, 'sexists': 10400, 'motor': 10401, 'truckloads': 10402, 'leggy': 10403, 'collective': 10404, 'orgasmic': 10405, 'sighs': 10406, 'wheelers': 10407, 'beside': 10408, 'pants': 10409, 's': 10410, 'creamed': 10411, 'growling': 10412, 'engine': 10413, 'moans.': 10414, 'droves': 10415, 'evos': 10416, 'skylines': 10417, 'centerstage': 10418, 'gt': 10419, 'drool-worthy': 10420, 'facade': 10421, 'modification': 10422, 'alongside': 10423, 'ferrari': 10424, 'enzos': 10425, 'porshe': 10426, 'carerra': 10427, 'gts': 10428, 'koenigsegg': 10429, 'ccxs': 10430, 'wings': 10431, 'mercilessly': 10432, 'wrecked': 10433, 'motoring': 10434, 'financed': 10435, 'redline': 10436, 'excuses': 10437, 'tarmac': 10438, 'pedals': 10439, 'accelerator': 10440, 'tapping': 10441, 'brake': 10442, 'pedal': 10443, 'blasphemy': 10444, 'steering': 10445, 'shifts': 10446, 'shifting': 10447, 'pretend': 10448, 'baddest': 10449, 'asses': 10450, 'snarling': 10451, 'dirty': 10452, 'tall': 10453, 'woeful': 10454, 'elementary': 10455, 'schoolkids.': 10456, 'heroine': 10457, 'natasha': 10458, 'plasticky': 10459, 'nadia': 10460, 'bjorlin': 10461, 'fours': 10462, 'immersed': 10463, 'pedigree': 10464, 'lyrics': 10465, 'innuendos': 10466, 'shafts': 10467, 'lubricants': 10468, 'gangsta': 10469, 'griffin': 10470, 'leo': 10471, 'dicaprio': 10472, 'race.': 10473, 'rigged': 10474, 'chopping': 10475, 'block': 10476, 'naming': 10477, 'kang': 10478, 'vin': 10479, 'diesel': 10480, '105': 10481, 'vegas.': 10482, 'pimp': 10483, 'illustrates': 10484, 'back.': 10485, 'macbeth': 10486, 'present-day': 10487, 'unnecessarily': 10488, 'relevance': 10489, 'outfits.': 10490, 'fundamental': 10491, 'blunder': 10492, 'shakespearian': 10493, 'cringeful': 10494, 'prolonged': 10495, 'tuned': 10496, 'go.': 10497, 'world-class': 10498, 'succeeding': 10499, 'with.': 10500, 'prophetic': 10501, 'seen.': 10502, 'concepts': 10503, 'hearsay': 10504, 'educated': 10505, '1984': 10506, 'burton': 10507, 'grim': 10508, 'desolate': 10509, 'fantastically': 10510, 'making.': 10511, 'sides': 10512, 'bandied': 10513, 'eurasia': 10514, 'explanation.': 10515, 'reports': 10516, 'canteen': 10517, 'scrub': 10518, 'essential': 10519, 'dis-jointed': 10520, 'constant': 10521, 'chatter': 10522, 'screens': 10523, 'swamps': 10524, 'harder': 10525, 'same.': 10526, 'coverage.': 10527, 'abide': 10528, 'steps': 10529, \"'literal\": 10530, 'hailed': 10531, 'denying': 10532, 'predicted': 10533, 'novelists': 10534, 'gaping': 10535, 'storyline.': 10536, 'waited': 10537, 'eject': 10538, 'foolishly': 10539, 'yay': 10540, 'ove': 10541, 'glance': 10542, 'oy': 10543, 'vey': 10544, 'iranian': 10545, 'majidi': 10546, 'kiarostami': 10547, 'makhmalbafs': 10548, 'non-documentary': 10549, 'subversive': 10550, 'subtly': 10551, \"'system\": 10552, 'purposely': 10553, 'falseness': 10554, 'non-actors': 10555, 'rooting': 10556, 'straightaway': 10557, 'a.': 10558, 'excellently': 10559, 'scripted': 10560, 'patriarchal': 10561, 'jury': 10562, 'berlin': 10563, '2006.': 10564, 'dear': 10565, 'near-perfect': 10566, 'mid': 10567, 'bateman': 10568, 'ahna': 10569, 'capri': 10570, 'k.t': 10571, 'geri': 10572, 'reischl': 10573, 'hillsboro': 10574, 'strangely': 10575, 'coven': 10576, 'evil.': 10577, 'loopholes': 10578, 'pros': 10579, 'strother': 10580, 'l.q': 10581, 'forgoes': 10582, 'manges': 10583, 'hampers': 10584, 'chews': 10585, 'masterwork': 10586, 'rediscovered': 10587, 'explaining': 10588, 'classrooms': 10589, 'prints': 10590, 'vault': 10591, 'marques': 10592, 'hp3': 10593, 'reid': 10594, 'hp': 10595, 'albeit': 10596, 'hoodwinked': 10597, 'kym': 10598, 'whitley': 10599, 'candle': 10600, 'ketty': 10601, 'lester': 10602, 'curry': 10603, 'meagen': 10604, 'mari': 10605, 'morrow': 10606, 'substantial': 10607, 'diversion': 10608, 'ok.': 10609, 'hudlin': 10610, 'achingly': 10611, 'foreboding': 10612, 'thunderstorms': 10613, 'house-great': 10614, 'glazing': 10615, 'tedium': 10616, 'spate': 10617, '20+': 10618, 'salt': 10619, 'inherent': 10620, 'direction.': 10621, 'irrelevant': 10622, 'shower': 10623, 'hope.': 10624, 'uk': 10625, '80': 10626, 'value-': 10627, \"'daft\": 10628, 'worry-its': 10629, 'telegraphed': 10630, 'steep': 10631, 'upward': 10632, 'slope': 10633, 'brandishing': 10634, 'scythe': 10635, 'slide': 10636, 'not-': 10637, 'conveniently': 10638, 'upright': 10639, 'weapon.': 10640, 'steele': 10641, 'undergone': 10642, 'odds': 10643, 'ophelia': 10644, 'gentle': 10645, 'pip': 10646, 'accuses': 10647, 'nutshell.': 10648, 'janine': 10649, 'turner': 10650, 'exercises': 10651, 'active': 10652, 'pages': 10653, 'townsend': 10654, 'voice-over': 10655, 'lace': 10656, 'elegance': 10657, 'focused': 10658, 'eerier': 10659, 'soundtrack.': 10660, 'korn': 10661, 'sickness': 10662, 'bobbing': 10663, 'noggin': 10664, 'butthead.': 10665, 'goth-rock': 10666, 'zoom': 10667, 'splice': 10668, 'montage': 10669, 'degenerates': 10670, 'impress': 10671, 'contacts': 10672, 'pale': 10673, 'reminiscing': 10674, 'salem': 10675, 'aaliyah': 10676, 'renowned': 10677, 'belly': 10678, 'coppola': 10679, 'legitimate': 10680, 'second-rate': 10681, 'battlestar': 10682, 'galactica': 10683, 'mini': 10684, 'jy': 10685, 'jimboduck-dot-com': 10686, 'religion/philosophy': 10687, 'quantum': 10688, 'physics': 10689, 'wrong.': 10690, 'eastern': 10691, 'religions': 10692, 'illusion': 10693, 'subatomic': 10694, 'particles': 10695, 'barriers': 10696, 'believed': 10697, 'poppycock': 10698, 'asserts': 10699, 'remotest': 10700, 'astronomically': 10701, 'misrepresent': 10702, 'marlee': 10703, 'maitlan': 10704, 'self-hate': 10705, 'nowadays': 10706, 'wasting': 10707, 'elegant': 10708, 'nova': 10709, 'pbs': 10710, 'newton': 10711, 'witten': 10712, 'm': 10713, 'hour-long': 10714, 'mechanics': 10715, 'fog': 10716, 'metaphysical': 10717, 'appropriation': 10718, 'dull.': 10719, 'boring.': 10720, 'polishing': 10721, 'paradise': 10722, 'foremost': 10723, 'unprofessional': 10724, 'sloppy': 10725, 'fbi': 10726, 'afi': 10727, 'siege': 10728, 'koresh': 10729, 'madman': 10730, 'unbalanced': 10731, 'eccentric': 10732, 'branch': 10733, 'davidian': 10734, 'compound': 10735, 'heartbreaking': 10736, 'seeming': 10737, 'harmless': 10738, 'angering': 10739, 'callous': 10740, 'testimony': 10741, 'partisan': 10742, 'defense': 10743, 'democrats': 10744, 'ny': 10745, 'representative': 10746, 'schumer': 10747, 'democrat': 10748, 'left-leaning': 10749, \"d'amato\": 10750, 'mislike': 10751, 'haven´t': 10752, 'ussr': 10753, 'december': 10754, 'littlehammer16787': 10755, 'united': 10756, 'states': 10757, 'underwood.': 10758, 'good-hearted': 10759, 'harvard': 10760, 'convoked': 10761, 'flordia': 10762, 'everglades': 10763, 'unjustly': 10764, 'bobby': 10765, 'earl.confessing': 10766, 'vilifyied': 10767, 'confession': 10768, 'digs': 10769, 'discrimination.that': 10770, 'lt.tanny': 10771, 'villainously': 10772, 'psychotic': 10773, 'introduced.he': 10774, 'butchered': 10775, 'girl.when': 10776, 'lucid': 10777, 'coincidences': 10778, 're-trial.is': 10779, 'unfettered': 10780, 'eludes': 10781, 'swimmingly': 10782, 'focus.armstrong': 10783, 'parents.whom': 10784, 'immensely': 10785, 'detests.sullivan': 10786, 'divulges': 10787, 'joanie': 10788, 'shriver': 10789, 'heinous': 10790, 'here.it': 10791, 'psychopathic': 10792, 'shriver.he': 10793, 'fiendish': 10794, 'revenge.upon': 10795, 'daughter.now': 10796, 'thwart': 10797, 'him.when': 10798, 'arrive': 10799, 'sicko': 10800, 'inevitably': 10801, 'endure': 10802, 'agonizing': 10803, 'pain': 10804, 'castration.but': 10805, 'virtuous': 10806, 'thwarts': 10807, 'baddie.is': 10808, 'stabbed': 10809, 'man-eating': 10810, 'alligators.paul': 10811, 'tanny': 10812, 'works.delivers': 10813, 'subterfuge.how': 10814, 'hazed': 10815, 'lawmen.sentenced': 10816, 'unfair': 10817, 'penalties.even': 10818, 'wrongfully': 10819, 'baddie': 10820, 'oblivious': 10821, 'holier': 10822, 'thou': 10823, 'hero.laurence': 10824, 'watchably': 10825, 'underwood': 10826, 'invigorating': 10827, 'psychos.capeshaw': 10828, 'okay.ruby': 10829, 'grandmother.the': 10830, 'transformers': 10831, 'he-man': 10832, 'thundercats': 10833, 'ulysses': 10834, '31': 10835, 'finishes': 10836, 'airing': 10837, 'tops': 10838, 'splendored': 10839, 'suyin': 10840, 'tackles': 10841, 'asians': 10842, 'topic': 10843, 'eurasian': 10844, 'settings': 10845, 'advent': 10846, 'communism': 10847, 'journalist': 10848, 'torn': 10849, 'regions': 10850, 'affection': 10851, 'melt': 10852, 'romantically': 10853, 'inclined.': 10854, 'hilltop': 10855, 'overlooking': 10856, 'intimate': 10857, 'tear-jerker': 10858, 'romances': 10859, 'passé': 10860, 'shining': 10861, 'introverted': 10862, 'baleful': 10863, 'genuinely': 10864, 'satisfying': 10865, 'presentation.': 10866, 'follows.': 10867, 'cedric': 10868, 'forth': 10869, 'mismatch': 10870, 'ambiguous': 10871, 'mathieu': 10872, 'sexually': 10873, 'sharing': 10874, 'attuned': 10875, 'carnival': 10876, 'festivities': 10877, 'romps': 10878, 'purely': 10879, 'presque': 10880, 'rien': 10881, 'polished': 10882, 'professionally': 10883, 'low-brained': 10884, 'haha': 10885, 'thirteen': 10886, 'tacky': 10887, 'quiet-american': 10888, 'adolescent': 10889, 'cool-kid': 10890, 'flushes': 10891, 'cherry': 10892, 'tv-guru': 10893, 'blake': 10894, 'adorable': 10895, 'pet-brain': 10896, 'nation-wide': 10897, 'controlling': 10898, 'label': 10899, 'thinkers': 10900, 'meadowvale': 10901, 'teen-rebel': 10902, 'extraterrestrial': 10903, 'meh': 10904, 'bloodshed': 10905, 'over-sized': 10906, 'sock-puppet': 10907, 'buffs': 10908, 'pearson': 10909, 'plague': 10910, 'resign': 10911, 'gale': 10912, 'worship': 10913, 're-animator': 10914, 'kossak': 10915, 'nudity-factor': 10916, 'repertoire': 10917, 'credited': 10918, \"'runaway\": 10919, 'referred': 10920, \"'one\": 10921, '18th': 10922, '2004': 10923, 'displeasure': 10924, 'bebble': 10925, 'manson': 10926, 'underground': 10927, 'polanski': 10928, 'liars': 10929, 'assuming': 10930, 'helter': 10931, 'skelter': 10932, 'mimicked': 10933, 'dibs': 10934, 'outsider': 10935, 'mtv': 10936, 'pissed': 10937, 'sloshed': 10938, 'shouting': 10939, 'bullsh': 10940, 'tagline': 10941, 'catered': 10942, 'attracting': 10943, 'dimly': 10944, 'lit': 10945, 'theatre': 10946, 'spawned': 10947, 'beer': 10948, 'shout': 10949, 'rocky': 10950, 'horroresque': 10951, 'accomplishes': 10952, 'warping': 10953, 'shape': 10954, 'slasher/comic': 10955, 'book/porno/rape': 10956, 'dreamed': 10957, 'individual.': 10958, 'samples': 10959, 'choppy': 10960, 'simulate': 10961, 'nauseating': 10962, 'uncertainty': 10963, 'catalogues': 10964, 'observers': 10965, 'midnight': 10966, 'behaving': 10967, 'resembled': 10968, 'stoned': 10969, 'enthusiast': 10970, 'portraying': 10971, 'descriptions': 10972, 'lethargic': 10973, 'chubby': 10974, 'presented.': 10975, 'sadie': 10976, 'declares': 10977, 'disclaimer': 10978, 'giveaway': 10979, 'signalling': 10980, 'psychedelic': 10981, 'heap': 10982, 'lay': 10983, 'alchemy': 10984, 'instead.': 10985, 'fifteen': 10986, 'witnessed': 10987, 'ailments': 10988, 'lulls': 10989, 'sleepiness': 10990, 'deathly': 10991, 'eyelids': 10992, 'heavier': 10993, \"'mystery\": 10994, 'paranormal': 10995, 'suited': 10996, 'tasks.': 10997, 'd-': 10998, '1950s': 10999, 'undead': 11000, \"'space-dust\": 11001, 'electronic': 11002, 'collars': 11003, 'loner': 11004, 'timmy': 11005, 'fido': 11006, 'connelly': 11007, 'domesticated': 11008, 'zombie.': 11009, 'surrogate': 11010, 'unable': 11011, 'hot-to-trot': 11012, 'carrie-anne': 11013, 'moss': 11014, 'scarred': 11015, 'blink': 11016, 'attacks': 11017, 'brewing': 11018, 'bullies': 11019, 'house-help': 11020, 'schtick': 11021, 'deliciously': 11022, 'romero': 11023, 'zombie-verse': 11024, 'transplanting': 11025, 'stroke': 11026, 'tackle': 11027, \"'reanimated\": 11028, 'inclusion': 11029, 'bub': 11030, 'tarman': 11031, 'corpse': 11032, 'yin': 11033, 'bag': 11034, 'pus': 11035, 'commendable': 11036, \"k'sun\": 11037, 'ms.moss': 11038, 'mentions\\x97ray': 11039, 'yummy': 11040, 'currie': 11041, 'treasure': 11042, 'future.': 11043, '8.5': 11044, 'rounded': 11045, 'ranks': 11046, 'ps2': 11047, 'difficulty': 11048, 'wesker': 11049, 'etc.': 11050, 'glover': 11051, 'gordon-levitt': 11052, 'fricker': 11053, 'danza': 11054, 'milton': 11055, 'perfectness': 11056, 'mistakes': 11057, 'rates': 11058, 'griffith': 11059, 'garb': 11060, 'hysterics': 11061, 'everytime': 11062, 'laying': 11063, 'couch': 11064, 'assets': 11065, 'med': 11066, 'temporarily': 11067, 'stopping': 11068, 'flatliners': 11069, 'reminisce': 11070, 'comfortable': 11071, 'groundhog': 11072, 'bastards': 11073, 'scripts.': 11074, 'fubarred': 11075, 'malibu': 11076, 'minority': 11077, 'outcast': 11078, 'co-habitation': 11079, 'nuclear': 11080, 'dorms': 11081, 'sushi': 11082, 'complimentary': 11083, 'laptop': 11084, 'student.': 11085, 'zoey': 11086, 'attends': 11087, 'pca': 11088, 'all-boys': 11089, 'athletic': 11090, 'perfectionist': 11091, 'saves': 11092, 'likable.': 11093, 'contradicts': 11094, 'agreeing': 11095, 'crush': 11096, 'anorexic': 11097, 'airhead': 11098, 'stereotypes.': 11099, 'ticks': 11100, 'complain': 11101, 'too-good-to-be-true': 11102, 'afford': 11103, 'homework': 11104, 'suntan': 11105, 'stress-free': 11106, '101': 11107, 'hills.': 11108, 'tyson': 11109, 'stretching': 11110, 'forwarding': 11111, 'esoterics': 11112, 'muddling': 11113, 'sensationalistic': 11114, 'lukewarm': 11115, 'greece': 11116, 'home-village': 11117, '5yo': 11118, 'mourikis': 11119, 'lambropoulou': 11120, 'hatzisavvas': 11121, 'excellency': 11122, 'estate': 11123, 'gardening': 11124, 'owns': 11125, 'fools': 11126, 'polluting': 11127, 'sabotaged': 11128, 'confront': 11129, 'back-up': 11130, 'rosemary': 11131, 'thyme': 11132, 'grades': 11133, 'chan': 11134, 'concentrated': 11135, 'shitty': 11136, 'stollen': 11137, 'entertainer': 11138, 'hes': 11139, 'everyway': 11140, 'wires': 11141, 'stunt': 11142, 'doubles': 11143, 'mr.amitabh': 11144, 'bachan': 11145, 'sarkar': 11146, 'ram': 11147, 'gopal': 11148, 'tamil': 11149, 'nayakan': 11150, 'kamala': 11151, 'hassan': 11152, 'accepts': 11153, 'colombia': 11154, 'mise': 11155, 'en': 11156, 'distend': 11157, 'interpreters': 11158, 'rhythm': 11159, 'rap': 11160, 'latter-day': 11161, 'peer': 11162, 'respectfully': 11163, 'confluence': 11164, 'dive': 11165, 'descendant': 11166, 'admiral': 11167, 'horatio': 11168, 'naval': 11169, 'warfare': 11170, 'depictions': 11171, 'subs': 11172, 'atlantic': 11173, 'unacquainted': 11174, 'priorities': 11175, 'warship': 11176, 'rank': 11177, 'british-gaumont': 11178, 'quieter': 11179, 'humanity': 11180, 'engages': 11181, 'over-produced': 11182, 'pressburger': 11183, '49th': 11184, 'parallel': 11185, 'powerfully': 11186, 'persuasive': 11187, 'eric': 11188, 'portman': 11189, 'mills': 11190, 'billing': 11191, 'font': 11192, 'shines': 11193, 'gainsborough': 11194, 'pre-cgi': 11195, 'intense': 11196, 'witnesses': 11197, 'snuff': 11198, 'bargained': 11199, 'mafia': 11200, 'experts': 11201, 'rendering': 11202, 'imperial': 11203, 'feathers': 11204, '1939': 11205, 'zulu': 11206, 'wind': 11207, 'age.': 11208, 'teddy': 11209, 'roosevelt': 11210, 'conventional': 11211, 'gentility': 11212, 'smitten': 11213, 'manly': 11214, 'disarmed': 11215, 'scorn': 11216, 'prigs': 11217, 'slight': 11218, 'peoples': 11219, 'cultures': 11220, 'arabs': 11221, 'flattering': 11222, 'faultless': 11223, 'composition': 11224, 'underappreciated': 11225, 'identify': 11226, 'brigand': 11227, 'candace': 11228, 'bergen': 11229, 'feisty': 11230, 'wily': 11231, 'hay': 11232, 'kanaly': 11233, 'spiffy': 11234, 'radiant': 11235, 'can-do': 11236, 'transcendent': 11237, 'symbolically': 11238, 'moor': 11239, 'steed': 11240, 'leonard': 11241, 'maltin': 11242, '1995': 11243, 'literate': 11244, 'mounted': 11245, 'photographed': 11246, 'tips': 11247, 'homages': 11248, 'fairbanks': 11249, '77': 11250, 'showdown': 11251, 'edd': 11252, 'byrnes': 11253, 'roland': 11254, 'undeserved': 11255, 'holly': 11256, 'prestigious': 11257, 'philadelphia': 11258, 'grows': 11259, 'lindsey': 11260, 'haun': 11261, 'roth': 11262, 'pleased': 11263, 'fact-based': 11264, 'boost': 11265, 'cole': 11266, 'fakes': 11267, 'accustomed': 11268, 'robs': 11269, 'banks': 11270, 'burroughs': 11271, 'abner': 11272, 'cushing': 11273, 'invents': 11274, 'burrowing': 11275, 'doug': 11276, 'mcclure': 11277, 'corkscrew': 11278, 'subhuman': 11279, 'monsters.': 11280, 'adventurer': 11281, 'effeminate': 11282, 'overacted': 11283, 'caroline': 11284, 'munro': 11285, 'dia': 11286, 'godfrey': 11287, 'cy': 11288, 'crane': 11289, 'plunged': 11290, 'semi-cheesy': 11291, 'betraying': 11292, 'shlitz': 11293, 'set-up': 11294, 'blown': 11295, 'equal': 11296, 'budgeted': 11297, 'jolting': 11298, 'tenney': 11299, 'heart-stopping': 11300, 'set-ups': 11301, 'tongue-in-cheek': 11302, 'marks': 11303, 'sullen': 11304, 'checking': 11305, 'entry': 11306, 'dynamics': 11307, 'trustworthy': 11308, 'castings': 11309, 'rafael': 11310, 'asi': 11311, 'dayan': 11312, 'elder': 11313, 'taly': 11314, 'rehearsal': 11315, 'improvements': 11316, 'reaganomics': 11317, 'commies': 11318, 'couldn': 11319, 'rambo': 11320, 'uncommon': 11321, 'valor': 11322, 'turgid': 11323, 'fests': 11324, 'wing': 11325, 'cheek': 11326, 've': 11327, 'spoofing': 11328, 'sophistication': 11329, 'tyrants': 11330, 'z': 11331, '11': 11332, 'gross': 11333, 'disneyland': 11334, 'crocodiles': 11335, 'zoo': 11336, 'glass.': 11337, 'shark': 11338, 'grizzly': 11339, 'fisherman': 11340, 'crocodile': 11341, 'surf': 11342, 'croc': 11343, 'primeval': 11344, 'tailing': 11345, 'closely': 11346, 'behind.': 11347, 'saltwater': 11348, 'crododile': 11349, 'ferocious': 11350, 'weirdest': 11351, 'concert': 11352, 'horror-splatter-gore': 11353, 'thirst': 11354, 'archive': 11355, 'braindead': 11356, 'citb': 11357, 'revolves': 11358, 'hypnotized': 11359, 'khmmm': 11360, 'psychiatrists': 11361, 'horrors': 11362, 'dropping': 11363, 'lying': 11364, 'ooze': 11365, 'gorefest': 11366, 'masters': 11367, 'dismemberment': 11368, 'eyeballs': 11369, 'maggot': 11370, 'infested': 11371, 'decapitations': 11372, 'putted': 11373, 'boiling': 11374, 'organs': 11375, 'toast': 11376, 'efx': 11377, 'grip': 11378, 'clock': 11379, '1972': 11380, 'c.': 11381, 'changling': 11382, 'ernesto': 11383, 'mercedes': 11384, 'frustration': 11385, 'ditch': 11386, 'no-good': 11387, 'avail.': 11388, 'transvestite': 11389, 'harvey': 11390, 'keitel': 11391, 'indignity': 11392, 'gorilla': 11393, 'tarintino': 11394, 'monologue': 11395, 'man.': 11396, 'premier': 11397, 'mork': 11398, 'mindy': 11399, 'chronological': 11400, 'jester': 11401, 't.v': 11402, 'drastic': 11403, 'diamantopoulos': 11404, 'integrity': 11405, 'sensitivity': 11406, 'dead-on': 11407, 'creatively': 11408, 'taxi': 11409, 'orkan': 11410, 'suspected-': 11411, 'garry': 11412, 'marshall': 11413, 'belushi': 11414, 'heckles': 11415, 'pam': 11416, 'dawber': 11417, 'nanoo': 11418, '1911': 11419, '1918.': 11420, 'yank': 11421, 'oxford': 11422, 'conceited': 11423, 'blow-hard': 11424, 'arrives': 11425, 'teamwork': 11426, 'decency': 11427, 'haines': 11428, 'frances': 11429, 'x.': 11430, 'bushman': 11431, 'pickford': 11432, 'loser': 11433, 'viewing.': 11434, 'harold': 11435, 'freshman': 11436, 'unlikable': 11437, 'westpoint': 11438, 'advised': 11439, '4/25/08==i': 11440, 'highest': 11441, '1920': 11442, 'over-rated': 11443, 'dozens': 11444, 'hirsute': 11445, 'scout': 11446, 'troop': 11447, 'meandering': 11448, 'tentatively': 11449, 'sharif': 11450, 'palance': 11451, 'fiery': 11452, 'oratory': 11453, 'kurtz': 11454, 'swallowing': 11455, 'bug': 11456, 'strategic': 11457, 'incorporate': 11458, 'smiling': 11459, 'fishies': 11460, 'positively': 11461, 'vaudevillian': 11462, 'hypothesis': 11463, 'bay': 11464, 'dentistry': 11465, 'surfeit': 11466, 'uppity': 11467, 'peasants': 11468, 'passel': 11469, 'homoeroticism': 11470, 'castro': 11471, 'manic': 11472, 'cigar-fellatio': 11473, 'medved': 11474, 'escapade': 11475, 'springwood': 11476, 'broaden': 11477, 'horizons': 11478, 'stripped': 11479, 'chill': 11480, 'wisecracks': 11481, 'slumming': 11482, 'sparks': 11483, 'non-makeup': 11484, 'cameos': 11485, 'joint': 11486, 'then-couple': 11487, 'shock-rocker': 11488, 'depp': 11489, 'acknowledges': 11490, 'icon': 11491, 'become.': 11492, 'spencer.': 11493, 'replaying': 11494, 'key': 11495, 'credits.': 11496, '4/10': 11497, 'tapes': 11498, 'knock': 11499, 'manos': 11500, 'troll': 11501, 'hobgoblins': 11502, 'shudder': 11503, 'cockroach': 11504, 'steroids': 11505, 'ouija': 11506, 'mysteriously': 11507, 'reappear': 11508, 're-watch': 11509, '25min': 11510, '2hrs': 11511, 'tubbs': 11512, 'lipp': 11513, 'reels': 11514, 'puns': 11515, 'briss': 11516, '..........': 11517, '3/4': 11518, 'consequences': 11519, 'al': 11520, 'pacino': 11521, 'toni': 11522, 'servillo': 11523, 'components': 11524, 'grand-daughter': 11525, 'magnani': 11526, 'c-grade': 11527, 'porn.': 11528, 'overhaul': 11529, 'pointless.': 11530, 'twister': 11531, 'wards': 11532, 'tornadoes': 11533, 'dodgy': 11534, 'devastation': 11535, 'years.': 11536, 'mix': 11537, 'fx': 11538, 'merits': 11539, 'merman': 11540, 'angela': 11541, 'lansbury': 11542, 'tyne': 11543, 'daly': 11544, 'bravura': 11545, 'mama': 11546, 'natalie': 11547, 'arguably': 11548, 'strippers': 11549, 'always-dependable': 11550, 'ebersole': 11551, 'mame': 11552, 'cher': 11553, 'pun': 11554, 'rage': 11555, 'plot-script': 11556, 'busey': 11557, 'w=waste': 11558, 'surround': 11559, 'jeep': 11560, 'wagoneer': 11561, 'ensues': 11562, 'dominoes': 11563, 'circles': 11564, 'bullet/pellet': 11565, 'noticed-damn': 11566, 'six-shooter': 11567, '300': 11568, 'exploring': 11569, 'complexities': 11570, 'interpersonal': 11571, 'underbellies': 11572, 'surfaces': 11573, 'mccullers': 11574, 'twinkles': 11575, 'fuzzies': 11576, 'distinction': 11577, 'interesting.': 11578, 'gamely': 11579, 'stockard': 11580, 'channing': 11581, 'transcend': 11582, 'nation': 11583, 'globally': 11584, 'inspirational': 11585, 'racial': 11586, 'existed': 11587, 'prohibited': 11588, 'equalized': 11589, 'o.c': 11590, 'rectified': 11591, 'terrorist': 11592, 'incident': 11593, 'tackle.': 11594, 'bsg': 11595, 'monotheism': 11596, 'existentialism': 11597, 'terrorism': 11598, 'subtext': 11599, 'contemplate': 11600, 'evoking': 11601, 'matrix': 11602, 'discussed': 11603, 'films/television': 11604, 'referenced': 11605, 'cylon': 11606, 'caprica': 11607, 'viewers.': 11608, 'greystone': 11609, \"'lacy\": 11610, 'rand': 11611, 'stoltz': 11612, 'malcomson': 11613, 'individually': 11614, 'developing': 11615, 'magda': 11616, 'apanowicz': 11617, 'confident.': 11618, \"'caprica\": 11619, 'greatness': 11620, 'ian': 11621, 'mcshane.': 11622, 'mcshane': 11623, 'subtlety': 11624, 'actor.': 11625, 'amounts': 11626, 'participation': 11627, 'mailed': 11628, 'highlander': 11629, 'package': 11630, 'clear-cut': 11631, 'by-the-numbers': 11632, 'dots': 11633, 'unanswered': 11634, 'did.': 11635, 'brawls': 11636, 'hook': 11637, 'parties': 11638, 'involved.': 11639, 'dislikes': 11640, 'dangle': 11641, 'enormous': 11642, 'answering': 11643, '-unlike': 11644, 'reviewers-': 11645, '14th': 11646, '1994.': 11647, 'playstations': 11648, 'zelda': 11649, 'nes': 11650, 'alvin': 11651, 'seville': 11652, 'theodore': 11653, 'adoptive': 11654, 'airport': 11655, 'chipmunks': 11656, 'pack': 11657, 'dave': 11658, 'qualify': 11659, 'miller': 11660, 'café': 11661, 'chipettes': 11662, 'brittany': 11663, 'jeanette': 11664, 'eleanore': 11665, 'balloon': 11666, 'sky': 11667, 'klaus': 11668, 'claudia': 11669, 'furschtien': 11670, 'overhear': 11671, 'needing': 11672, 'safe': 11673, 'transporting': 11674, 'deposit': 11675, 'doll': 11676, 'likeness': 11677, 'secretely': 11678, 'offs': 11679, 'opposing': 11680, 'varify': 11681, '100.000': 11682, 'jamal': 11683, 'interpol': 11684, 'redundant': 11685, 'checks': 11686, 'questioned': 11687, 'kick-ass': 11688, 'shred': 11689, 'topped': 11690, 'suggestive': 11691, 'wooly': 11692, 'royal': 11693, 'philharmonic': 11694, 'orchestra': 11695, 'relation': 11696, 'animators': 11697, 'insist': 11698, 'panties': 11699, 'egypt': 11700, 'chased': 11701, 'arabian': 11702, 'leans': 11703, 'basket': 11704, 'skirt': 11705, 'unexplained': 11706, '4-feet': 11707, 'high-pitched': 11708, 'janice': 11709, 'karman': 11710, 'perfects': 11711, 'bagdasarian': 11712, 'voiced': 11713, 'nancy': 11714, 'bart': 11715, 'simpson': 11716, 'crooks': 11717, 'complaining': 11718, 'fades': 11719, \"''headin\": 11720, 'attending': 11721, 'readers': 11722, '7.8': 11723, 'tomatoes': 11724, 'ranked': 11725, '7.9': 11726, 'averaged': 11727, '8.2': 11728, 'underrated': 11729, 'gem.': 11730, 'posterity': 11731, 'requisite': 11732, 'outspoken': 11733, 'mina': 11734, 'forthcoming': 11735, 'expressive': 11736, 'verbalize': 11737, '51': 11738, 'birch': 11739, 'filmgoing': 11740, 'bravo': 11741, 'drifter': 11742, 'wyoming': 11743, 'schmuck': 11744, 'lyle': 11745, 'walsh': 11746, 'sheriff': 11747, 'rick': 11748, 'dahl': 11749, 'neo': 11750, 'dutcher': 11751, 'matured': 11752, 'introducing': 11753, 'elders': 11754, 'mormon': 11755, 'missionaries': 11756, 'highlighting': 11757, 'disobedience': 11758, 'alienation': 11759, 'unrealistically': 11760, 'inaccurately': 11761, 'predominantly': 11762, 'attest': 11763, 'vulgarity.': 11764, 'inspire': 11765, 'forgiveness': 11766, 'gathers': 11767, 'jipped': 11768, 'quintessential': 11769, 'neurotic': 11770, 'upper-class': 11771, 'manhattanites': 11772, 'cheat': 11773, 'spouses': 11774, 'creativity': 11775, 'annie': 11776, 'neuroticism': 11777, 'rehashing': 11778, 'standby': 11779, 'stimulated': 11780, 'faulkner': 11781, 'sacrilegious': 11782, 'mocking': 11783, 'permanent': 11784, 'tcm': 11785, 'moving.': 11786, 'mississippi': 11787, 'square': 11788, 'courthouse': 11789, 'buildings': 11790, 'pennants': 11791, 'ole': 11792, 'weekends': 11793, 'lot.': 11794, 'x': 11795, 'files': 11796, 'homes': 11797, 'inheritances': 11798, 'estates': 11799, 'lunch-hours': 11800, 'fx.': 11801, 'co-host': 11802, 'carter': 11803, 'announced': 11804, 'renovated': 11805, 'renovations': 11806, 'personl': 11807, 'air.': 11808, '-and': 11809, 'collectible': 11810, 'vanished': 11811, 'sore.': 11812, 'extracts': 11813, 'jar': 11814, 'bathroom': 11815, 'tank': 11816, 'guarded': 11817, 'incompetent': 11818, 'mexico': 11819, 'butthorn': 11820, 'gibson': 11821, 'serviceable': 11822, 'damns': 11823, 'mediocrity': 11824, 'heavies': 11825, 'whupped': 11826, 'array': 11827, 'sympathize': 11828, 'crisp': 11829, 'fitting': 11830, 'harmonious': 11831, 'endeavor': 11832, 'reach.': 11833, 'hysterical': 11834, 'outbursts': 11835, 'goddesses': 11836, 'confirmed': 11837, 'hurting': 11838, 'maturing': 11839, 'necessity': 11840, 'compromise': 11841, 'idealized': 11842, 'caricatured': 11843, 'similarity': 11844, 'fritz': 11845, 'lang': 11846, 'considerably': 11847, 'clash': 11848, 'stanywck': 11849, 'ants': 11850, 'dirt-mirrors': 11851, 'non-ants': 11852, 'conquering': 11853, 'scientists': 11854, 'bio-dome': 11855, 'extermination': 11856, 'disposal': 11857, 'dye': 11858, 'avail': 11859, 'pesticides': 11860, 'quickly.': 11861, 'phases': 11862, 'progress': 11863, 'report': 11864, 'hang': 11865, 'mst3k': 11866, '0': 11867, 'ktma': 11868, 'riffing': 11869, 'j': 11870, 'tb': 11871, 'lighten': 11872, 'gamera': 11873, 'trick/surprise': 11874, 'damp': 11875, 'justin': 11876, 'motocrossed': 11877, 'motocross': 11878, 'lingo': 11879, 'previews': 11880, 'regretted': 11881, '/tried/': 11882, 'safely': 11883, 'walken': 11884, 'stiller': 11885, 'now-a-days': 11886, 'amy': 11887, 'poehler': 11888, 'resurrection': 11889, 'seahunt': 11890, 'tech': 11891, 'me.i': 11892, 'gunsmoke': 11893, 'week.you': 11894, 'comeback': 11895, 'hunt.we': 11896, 'adventure.oh': 11897, 'outlet': 11898, 'viewpoints': 11899, 'movies.so': 11900, 'say.would': 11901, 'hunt.if': 11902, 'rhymes': 11903, 'submit': 11904, 'resnais': 11905, 'hiroshima': 11906, 'mon': 11907, 'amour': 11908, 'colour': 11909, 'embellished': 11910, 'inter-titles': 11911, 'aperture': 11912, 'crankers': 11913, 'placard': 11914, 'colours': 11915, 'seconds.': 11916, 'diddy': 11917, 'chorus': 11918, 'blabbering': 11919, 'whiz': 11920, 'audrey': 11921, 'tautou': 11922, 'appreciable': 11923, 'yawning': 11924, 'cacophony': 11925, 'skittles': 11926, 'endured.': 11927, 'expensive': 11928, 'flit': 11929, 'moths': 11930, 'lamp': 11931, 'songs.': 11932, 'aw': 11933, 'damning': 11934, 'indictment': 11935, 'engage': 11936, 'debate': 11937, 'setup': 11938, 'co-worker': 11939, 'twists/devices': 11940, 'lock': 11941, 'peak': 11942, 'osama': 11943, 'hands-down': 11944, 'catwoman': 11945, 'fiction.': 11946, 'september': 11947, 'journalists': 11948, 'unprepared': 11949, 'vendetta': 11950, 'sept.': 11951, 'bin': 11952, 'laden.': 11953, 'document': 11954, 'convenient': 11955, 'speeches': 11956, 'macgyver': 11957, 'mishaps': 11958, 'translator': 11959, 'sensible': 11960, 'voice-of-reason': 11961, 'whine': 11962, 'morons.': 11963, 'overlong': 11964, 'jacoby': 11965, 'hamlet': 11966, 'patrick': 11967, 'claudius': 11968, 'ceases': 11969, 'amaze': 11970, 'bard': 11971, 'tinkered': 11972, 'indecision': 11973, 'passions': 11974, 'revengeful': 11975, 'suspected': 11976, 'usurped': 11977, 'throne': 11978, 'belonging': 11979, 'kin': 11980, 'solidified': 11981, 'wittenburg': 11982, 'displaying': 11983, 'damnation': 11984, 'overreaches': 11985, 'hubris': 11986, 'undoing': 11987, 'polonius': 11988, 'spirals': 11989, 'rosencrantz': 11990, 'guildenstern': 11991, 'laertes': 11992, 'gertrude': 11993, 'african-americans': 11994, 'untapped': 11995, 'captivating': 11996, 'lorenz': 11997, 'tate': 11998, 'nia': 11999, 'blues': 12000, 'sensuality': 12001, 'creamy': 12002, 'splash': 12003, 'kahlua': 12004, 'butterscotch': 12005, 'michaels': 12006, 'caine': 12007, 'gambon': 12008, 'dublin': 12009, 'hams': 12010, 'buddies': 12011, 'sergeants': 12012, 'carouse': 12013, 'india': 12014, 'intensely': 12015, 'resurgence': 12016, 'implacable': 12017, 'guru': 12018, 'lowliest': 12019, 'servant': 12020, 'regiment': 12021, 'gunga': 12022, 'din': 12023, 'massacre.': 12024, 'musketeers': 12025, 'interludes': 12026, 'barest': 12027, 'grips': 12028, 'conclusion.': 12029, 'fruitless': 12030, 'nuances': 12031, 'cary': 12032, 'thirds': 12033, 'organism': 12034, 'inseparable': 12035, 'intents': 12036, 'indistinguishable': 12037, 'parenthetically': 12038, 'boasted': 12039, 'distinguished': 12040, 'clandestine': 12041, 'affairs': 12042, 'earning': 12043, 'fewer': 12044, 'honorary': 12045, 'knighthoods': 12046, 'reportedly': 12047, 'undercover': 12048, 'sympathizers': 12049, 'laurels': 12050, 'jaffe': 12051, 'infuses': 12052, 'courage': 12053, 'unforgettable.': 12054, 'montague': 12055, 'properly': 12056, 'regimental': 12057, 'eduardo': 12058, 'ciannelli': 12059, 'incarnate': 12060, 'thuggee': 12061, 'coote': 12062, 'lumsden': 12063, 'mavens': 12064, 'cecil': 12065, 'kellaway': 12066, 'father.': 12067, 'picks': 12068, 'demonic': 12069, 'worshipers': 12070, 'blood-soaked': 12071, 'kali': 12072, 'hindu': 12073, 'goddess': 12074, 'bane': 12075, 'ritualistically': 12076, 'strangling': 12077, '30,000': 12078, '1840': 12079, 'cooperation': 12080, 'princely': 12081, 'suppressing': 12082, 'henceforth': 12083, 'nightmares': 12084, 'pedro': 12085, 'almodóvar': 12086, 'zaniness': 12087, 'regulars': 12088, 'preservation': 12089, 'exact': 12090, 'indicative': 12091, 'stylings': 12092, '60s-early': 12093, '70s.': 12094, 'distorted': 12095, 'tricks': 12096, 'tiresome': 12097, 'bluntly': 12098, 'mortals': 12099, 'gamers': 12100, 'fireball': 12101, 'dungeon': 12102, 'sword': 12103, 'axe': 12104, 'shield': 12105, 'plate': 12106, 'okok': 12107, 'hongkong': 12108, 'rpers': 12109, 'dices': 12110, 'fighter': 12111, 'wizard': 12112, 'flaming': 12113, 'chaotic': 12114, 'bonded': 12115, 'software': 12116, 'dice': 12117, 'participle': 12118, 'goldeneye': 12119, 'thee': 12120, 'vg': 12121, 'modern-day': 12122, 'medium': 12123, 'wouldnt': 12124, 'gameplay': 12125, 'alike': 12126, 'some/most': 12127, 'creations': 12128, \"'bond'-able\": 12129, 'ranking': 12130, 'unlockables': 12131, 'multi-player': 12132, 'stand-out': 12133, 'awesome.': 12134, 'woke': 12135, 'bravely': 12136, 'slumber.': 12137, 'provincial': 12138, 'stunningly': 12139, 'girl-to-die-for': 12140, 'kidman': 12141, 'email': 12142, 'russia': 12143, 'beloved': 12144, 'johns': 12145, 'refund': 12146, 'policy': 12147, 'matching': 12148, 'process.': 12149, 'decently-paid': 12150, 'safe-feeling': 12151, 'clerk': 12152, 'decision-making': 12153, 'decently': 12154, 'subliminal': 12155, 'cassel': 12156, 'kassovitz': 12157, 'russians': 12158, 'background.': 12159, 'artificial': 12160, 'pink': 12161, 'floyd': 12162, 'sophia': 12163, 'whereever': 12164, '99.9999': 12165, 'marines': 12166, 'disrespecting': 12167, 'flag': 12168, 'baffling': 12169, 'breach': 12170, 'protocol': 12171, 'unnoticed': 12172, 'glossed': 12173, 'kia': 12174, 'mia': 12175, 'denmark': 12176, 'military.': 12177, 'hogwash': 12178, 'middle-management': 12179, 'bear': 12180, 'morality': 12181, 'darius': 12182, 'roller-coaster': 12183, 'duchenne': 12184, 'muscular': 12185, 'dystrophy': 12186, 'muscles': 12187, 'wheelchair': 12188, 'round-the-clock': 12189, '6,000': 12190, 'round-trip': 12191, 'downs': 12192, 'cope': 12193, 'rapturous': 12194, 'reception': 12195, 'b-list': 12196, 'horror/suspense': 12197, 'mouthed': 12198, 'maniac': 12199, 'make-shift': 12200, 'tank/truck': 12201, 'whorish': 12202, 'hitchhiker': 12203, 'chase/suspense': 12204, 'passable': 12205, 'horror/slasher': 12206, 'buff': 12207, 'scarecrow': 12208, 'slayer': 12209, 'toons': 12210, 'rental': 12211, 'pumpkin': 12212, '0.2': 12213, '<UNK>': 1}\n",
      "LEXICON SAMPLE (12213 total items):\n",
      "{'although': 2, 'most': 3, 'americans': 4, 'have': 5, 'little': 6, 'knowledge': 7, 'of': 8, 'his': 9, 'work': 10, 'other': 11, 'than': 12, 'star': 13, 'wars': 14, ',': 15, 'alec': 16, 'guinness': 17, 'produced': 18, 'an': 19, 'amazing': 20, 'body': 21}\n"
     ]
    }
   ],
   "source": [
    "'''Count tokens (words) in texts and add them to the lexicon'''\n",
    "\n",
    "import pickle\n",
    "\n",
    "def make_lexicon(token_seqs, min_freq=1, use_padding=False):\n",
    "    # First, count how often each word appears in the text. Save this count in a dictionary called token_counts\n",
    "    token_counts = {}\n",
    "    for seq in token_seqs:\n",
    "        for token in seq:\n",
    "            if token in token_counts:\n",
    "                token_counts[token] += 1\n",
    "            else:\n",
    "                token_counts[token] = 1\n",
    "    \n",
    "\n",
    "    # Then, assign each word to a numerical index, i.e save  all these words in a list. Filter words that occur less than or equal to min_freq times.\n",
    "    \n",
    "    lexicon =  [token for token, count in token_counts.items() if count >= min_freq]\n",
    "    \n",
    "    #create a dictionary lexicon that maps each word to its index. Note that indexes will start from 2,  index 0 is saved for padding and index 1 for unknown words ('<UNK>')\n",
    "    lexicon = {token:idx + 2 for idx,token in enumerate(lexicon)}\n",
    "    \n",
    "    lexicon[u'<UNK>'] = 1 # Unknown words are those that occur fewer than min_freq times\n",
    "    lexicon_size = len(lexicon)\n",
    "    print(lexicon)\n",
    "    print(\"LEXICON SAMPLE ({} total items):\".format(lexicon_size))\n",
    "    print(dict(list(lexicon.items())[:20]))\n",
    "    return lexicon\n",
    "\n",
    "lexicon = make_lexicon(token_seqs=train_reviews['Tokenized_Review'], min_freq=1)\n",
    "\n",
    "\n"
   ]
  },
  {
   "cell_type": "markdown",
   "metadata": {
    "id": "xJV579pyTIrj"
   },
   "source": [
    "###  <font color='#6629b2'>From strings to numbers</font>\n",
    "\n",
    "Once the lexicon is built, we can use it to transform each review from a list of string tokens into a list of numerical indices."
   ]
  },
  {
   "cell_type": "code",
   "execution_count": 29,
   "metadata": {
    "colab": {
     "base_uri": "https://localhost:8080/",
     "height": 363
    },
    "executionInfo": {
     "elapsed": 8,
     "status": "ok",
     "timestamp": 1638280797257,
     "user": {
      "displayName": "Shruti Prasad",
      "photoUrl": "https://lh3.googleusercontent.com/a/default-user=s64",
      "userId": "00085333802018642516"
     },
     "user_tz": -330
    },
    "id": "zGTcs7dWTIrj",
    "outputId": "aeb4021a-4b07-4b3a-e247-569462081007"
   },
   "outputs": [
    {
     "data": {
      "text/html": [
       "<div>\n",
       "<style scoped>\n",
       "    .dataframe tbody tr th:only-of-type {\n",
       "        vertical-align: middle;\n",
       "    }\n",
       "\n",
       "    .dataframe tbody tr th {\n",
       "        vertical-align: top;\n",
       "    }\n",
       "\n",
       "    .dataframe thead th {\n",
       "        text-align: right;\n",
       "    }\n",
       "</style>\n",
       "<table border=\"1\" class=\"dataframe\">\n",
       "  <thead>\n",
       "    <tr style=\"text-align: right;\">\n",
       "      <th></th>\n",
       "      <th>Tokenized_Review</th>\n",
       "      <th>Review_Idxs</th>\n",
       "    </tr>\n",
       "  </thead>\n",
       "  <tbody>\n",
       "    <tr>\n",
       "      <th>325</th>\n",
       "      <td>[although, most, americans, have, little, know...</td>\n",
       "      <td>[2, 3, 4, 5, 6, 7, 8, 9, 10, 11, 12, 13, 14, 1...</td>\n",
       "    </tr>\n",
       "    <tr>\n",
       "      <th>553</th>\n",
       "      <td>[this, movie, pretty, much, sucked, ., i, 'm, ...</td>\n",
       "      <td>[56, 164, 165, 166, 167, 33, 34, 168, 24, 25, ...</td>\n",
       "    </tr>\n",
       "    <tr>\n",
       "      <th>582</th>\n",
       "      <td>[i, would, recommend, this, film, to, anyone, ...</td>\n",
       "      <td>[34, 75, 204, 56, 60, 30, 214, 215, 72, 216, 8...</td>\n",
       "    </tr>\n",
       "    <tr>\n",
       "      <th>488</th>\n",
       "      <td>[a, fey, story, of, a, martian, attempt, to, c...</td>\n",
       "      <td>[85, 250, 251, 8, 85, 252, 253, 30, 254, 255, ...</td>\n",
       "    </tr>\n",
       "    <tr>\n",
       "      <th>496</th>\n",
       "      <td>[first, off, ,, i, have, to, say, that, i, lov...</td>\n",
       "      <td>[213, 149, 15, 34, 5, 30, 196, 61, 34, 412, 25...</td>\n",
       "    </tr>\n",
       "    <tr>\n",
       "      <th>76</th>\n",
       "      <td>[the, last, hard, men, finds, james, coburn, a...</td>\n",
       "      <td>[25, 466, 467, 450, 468, 469, 470, 19, 471, 47...</td>\n",
       "    </tr>\n",
       "    <tr>\n",
       "      <th>427</th>\n",
       "      <td>[this, is, an, ok, adaptation, of, the, breath...</td>\n",
       "      <td>[56, 72, 19, 585, 586, 8, 25, 587, 540, 413, 8...</td>\n",
       "    </tr>\n",
       "    <tr>\n",
       "      <th>550</th>\n",
       "      <td>[a, response, to, previous, comments, made, by...</td>\n",
       "      <td>[85, 627, 30, 628, 629, 77, 338, 630, 8, 25, 6...</td>\n",
       "    </tr>\n",
       "    <tr>\n",
       "      <th>329</th>\n",
       "      <td>[what, a, surprisingly, good, movie, this, one...</td>\n",
       "      <td>[192, 85, 774, 591, 164, 56, 123, 775, 428, 30...</td>\n",
       "    </tr>\n",
       "    <tr>\n",
       "      <th>260</th>\n",
       "      <td>[paul, verhoeven, 's, predecessor, to, his, br...</td>\n",
       "      <td>[788, 789, 68, 790, 30, 9, 791, 792, 793, 794,...</td>\n",
       "    </tr>\n",
       "  </tbody>\n",
       "</table>\n",
       "</div>"
      ],
      "text/plain": [
       "                                      Tokenized_Review  \\\n",
       "325  [although, most, americans, have, little, know...   \n",
       "553  [this, movie, pretty, much, sucked, ., i, 'm, ...   \n",
       "582  [i, would, recommend, this, film, to, anyone, ...   \n",
       "488  [a, fey, story, of, a, martian, attempt, to, c...   \n",
       "496  [first, off, ,, i, have, to, say, that, i, lov...   \n",
       "76   [the, last, hard, men, finds, james, coburn, a...   \n",
       "427  [this, is, an, ok, adaptation, of, the, breath...   \n",
       "550  [a, response, to, previous, comments, made, by...   \n",
       "329  [what, a, surprisingly, good, movie, this, one...   \n",
       "260  [paul, verhoeven, 's, predecessor, to, his, br...   \n",
       "\n",
       "                                           Review_Idxs  \n",
       "325  [2, 3, 4, 5, 6, 7, 8, 9, 10, 11, 12, 13, 14, 1...  \n",
       "553  [56, 164, 165, 166, 167, 33, 34, 168, 24, 25, ...  \n",
       "582  [34, 75, 204, 56, 60, 30, 214, 215, 72, 216, 8...  \n",
       "488  [85, 250, 251, 8, 85, 252, 253, 30, 254, 255, ...  \n",
       "496  [213, 149, 15, 34, 5, 30, 196, 61, 34, 412, 25...  \n",
       "76   [25, 466, 467, 450, 468, 469, 470, 19, 471, 47...  \n",
       "427  [56, 72, 19, 585, 586, 8, 25, 587, 540, 413, 8...  \n",
       "550  [85, 627, 30, 628, 629, 77, 338, 630, 8, 25, 6...  \n",
       "329  [192, 85, 774, 591, 164, 56, 123, 775, 428, 30...  \n",
       "260  [788, 789, 68, 790, 30, 9, 791, 792, 793, 794,...  "
      ]
     },
     "execution_count": 29,
     "metadata": {},
     "output_type": "execute_result"
    }
   ],
   "source": [
    "'''Convert each review from a list of tokens to a list of numbers (indices)'''\n",
    "\n",
    "def tokens_to_idxs(token_seqs, lexicon): \n",
    "    #complete this function to return a list of indexed tokens \n",
    "    idx_seqs = [[lexicon[token] if token in lexicon else lexicon['<UNK>'] for token in token_seq]  for token_seq in token_seqs]\n",
    "    return idx_seqs\n",
    "\n",
    "train_reviews['Review_Idxs'] = tokens_to_idxs(token_seqs=train_reviews['Tokenized_Review'], lexicon=lexicon)\n",
    "                                   \n",
    "train_reviews[['Tokenized_Review', 'Review_Idxs']][:10]"
   ]
  },
  {
   "cell_type": "code",
   "execution_count": 30,
   "metadata": {
    "colab": {
     "base_uri": "https://localhost:8080/",
     "height": 597
    },
    "executionInfo": {
     "elapsed": 632,
     "status": "ok",
     "timestamp": 1638280797882,
     "user": {
      "displayName": "Shruti Prasad",
      "photoUrl": "https://lh3.googleusercontent.com/a/default-user=s64",
      "userId": "00085333802018642516"
     },
     "user_tz": -330
    },
    "id": "rx3Z-2MUTIrj",
    "outputId": "cae117cc-1bdf-4de7-846a-90ef2713659a"
   },
   "outputs": [
    {
     "name": "stdout",
     "output_type": "stream",
     "text": [
      "TRAIN INPUT:\n",
      " [[0 0 1 ... 0 0 0]\n",
      " [0 0 0 ... 0 0 0]\n",
      " [0 0 0 ... 0 0 0]\n",
      " ...\n",
      " [0 0 0 ... 0 0 0]\n",
      " [0 0 0 ... 0 0 0]\n",
      " [0 0 0 ... 1 1 1]]\n",
      "SHAPE: (420, 12214) \n",
      "\n"
     ]
    },
    {
     "data": {
      "text/html": [
       "<div>\n",
       "<style scoped>\n",
       "    .dataframe tbody tr th:only-of-type {\n",
       "        vertical-align: middle;\n",
       "    }\n",
       "\n",
       "    .dataframe tbody tr th {\n",
       "        vertical-align: top;\n",
       "    }\n",
       "\n",
       "    .dataframe thead th {\n",
       "        text-align: right;\n",
       "    }\n",
       "</style>\n",
       "<table border=\"1\" class=\"dataframe\">\n",
       "  <thead>\n",
       "    <tr style=\"text-align: right;\">\n",
       "      <th></th>\n",
       "      <th>Word</th>\n",
       "      <th>Count</th>\n",
       "    </tr>\n",
       "  </thead>\n",
       "  <tbody>\n",
       "    <tr>\n",
       "      <th>0</th>\n",
       "      <td></td>\n",
       "      <td>0</td>\n",
       "    </tr>\n",
       "    <tr>\n",
       "      <th>1</th>\n",
       "      <td>&lt;UNK&gt;</td>\n",
       "      <td>0</td>\n",
       "    </tr>\n",
       "    <tr>\n",
       "      <th>2</th>\n",
       "      <td>although</td>\n",
       "      <td>1</td>\n",
       "    </tr>\n",
       "    <tr>\n",
       "      <th>3</th>\n",
       "      <td>most</td>\n",
       "      <td>1</td>\n",
       "    </tr>\n",
       "    <tr>\n",
       "      <th>4</th>\n",
       "      <td>americans</td>\n",
       "      <td>1</td>\n",
       "    </tr>\n",
       "    <tr>\n",
       "      <th>...</th>\n",
       "      <td>...</td>\n",
       "      <td>...</td>\n",
       "    </tr>\n",
       "    <tr>\n",
       "      <th>12209</th>\n",
       "      <td>slayer</td>\n",
       "      <td>0</td>\n",
       "    </tr>\n",
       "    <tr>\n",
       "      <th>12210</th>\n",
       "      <td>toons</td>\n",
       "      <td>0</td>\n",
       "    </tr>\n",
       "    <tr>\n",
       "      <th>12211</th>\n",
       "      <td>rental</td>\n",
       "      <td>0</td>\n",
       "    </tr>\n",
       "    <tr>\n",
       "      <th>12212</th>\n",
       "      <td>pumpkin</td>\n",
       "      <td>0</td>\n",
       "    </tr>\n",
       "    <tr>\n",
       "      <th>12213</th>\n",
       "      <td>0.2</td>\n",
       "      <td>0</td>\n",
       "    </tr>\n",
       "  </tbody>\n",
       "</table>\n",
       "<p>12214 rows × 2 columns</p>\n",
       "</div>"
      ],
      "text/plain": [
       "            Word  Count\n",
       "0                     0\n",
       "1          <UNK>      0\n",
       "2       although      1\n",
       "3           most      1\n",
       "4      americans      1\n",
       "...          ...    ...\n",
       "12209     slayer      0\n",
       "12210      toons      0\n",
       "12211     rental      0\n",
       "12212    pumpkin      0\n",
       "12213        0.2      0\n",
       "\n",
       "[12214 rows x 2 columns]"
      ]
     },
     "execution_count": 30,
     "metadata": {},
     "output_type": "execute_result"
    }
   ],
   "source": [
    "'''Encode reviews (train_reviews['Review_Idxs']) as bag-of-words vectors'''\n",
    "\n",
    "import numpy \n",
    "\n",
    "def idx_seqs_to_bows(idx_seqs, matrix_length):\n",
    "    #complete the function to return an array having bag-of-words vectors of the encoded reviews\n",
    "    # hint: numpy.bincount()\n",
    "    bow = numpy.array([numpy.bincount(numpy.array(idx_seq), minlength=matrix_length) \n",
    "                            for idx_seq in idx_seqs])\n",
    "    return bow\n",
    "    \n",
    "\n",
    "\n",
    "bow_train_reviews = idx_seqs_to_bows(train_reviews['Review_Idxs'], \n",
    "                                     matrix_length=len(lexicon) + 1) #add one to length for padding)\n",
    "\n",
    "print(\"TRAIN INPUT:\\n\", bow_train_reviews)\n",
    "print(\"SHAPE:\", bow_train_reviews.shape, \"\\n\")\n",
    "\n",
    "#Showing an example mapping string words to counts\n",
    "lexicon_lookup = {idx: lexicon_item for lexicon_item, idx in lexicon.items()}\n",
    "lexicon_lookup[0] = \"\"\n",
    "pd.DataFrame([(lexicon_lookup[idx], count) for idx, count in enumerate(bow_train_reviews[0])], \n",
    "                 columns=['Word', 'Count'])"
   ]
  },
  {
   "cell_type": "markdown",
   "metadata": {
    "id": "2JVU_lThTIrk"
   },
   "source": [
    "##  <font color='#6629b2'>Building a Recurrent Neural Network </font>\n",
    "\n",
    "\n",
    "\n",
    "###  <font color='#6629b2'>Numerical lists to matrices</font>\n",
    "\n",
    "The input representation for the RNN explicitly encodes the order of words in the review. We'll return to the lists of the word indices contained in train_reviews['Review_Idxs']. The input to the model will be these number sequences themselves. We need to put all the reviews in the training set into a single matrix, where each row is a review and each column is a word index in that sequence. This enables the model to process multiple sequences in parallel (batches) as opposed to one at a time. Using batches significantly speeds up training. However, each review has a different number of words, so we create a padded matrix equal to the length on the longest review in the training set. For all reviews with fewer words, we prepend the row with zeros representing an empty word position. This is why the number 0 was not assigned as a word index in the lexicon. We can tell Keras to ignore these zeros during training."
   ]
  },
  {
   "cell_type": "code",
   "execution_count": 31,
   "metadata": {
    "colab": {
     "base_uri": "https://localhost:8080/"
    },
    "executionInfo": {
     "elapsed": 13,
     "status": "ok",
     "timestamp": 1638280797883,
     "user": {
      "displayName": "Shruti Prasad",
      "photoUrl": "https://lh3.googleusercontent.com/a/default-user=s64",
      "userId": "00085333802018642516"
     },
     "user_tz": -330
    },
    "id": "Q7K_fW6JTIrk",
    "outputId": "b771e0c9-63b9-4297-9ac2-61287257c400"
   },
   "outputs": [
    {
     "name": "stdout",
     "output_type": "stream",
     "text": [
      "TRAIN INPUT:\n",
      " [[    0     0     0 ...    24   163    33]\n",
      " [    0     0     0 ...    56   123    33]\n",
      " [    0     0     0 ...    91    67   112]\n",
      " ...\n",
      " [    0     0     0 ...   420  5451   112]\n",
      " [    0     0     0 ... 11305   428    33]\n",
      " [    0     0     0 ...   164  1506    33]]\n",
      "SHAPE: (420, 1506) \n",
      "\n"
     ]
    }
   ],
   "source": [
    "from tensorflow.keras.preprocessing.sequence import pad_sequences\n",
    "\n",
    "def pad_idx_seqs(idx_seqs):\n",
    "    #find the biggest review's length and save it in the variable below\n",
    "    max_seq_len =max([len(idx_seq) for idx_seq in idx_seqs])\n",
    "    pad = pad_sequences(sequences=idx_seqs, maxlen=max_seq_len)\n",
    "    return pad\n",
    "    #pad all these indexed reviews and return these padded sequences\n",
    "    #HINT: use pad_sequences function by keras\n",
    "    \n",
    "    \n",
    "\n",
    "\n",
    "train_padded_idxs = pad_idx_seqs(train_reviews['Review_Idxs'])\n",
    "\n",
    "print(\"TRAIN INPUT:\\n\", train_padded_idxs)\n",
    "print(\"SHAPE:\", train_padded_idxs.shape, \"\\n\")"
   ]
  },
  {
   "cell_type": "markdown",
   "metadata": {
    "id": "KqHA7ijWTIrk"
   },
   "source": [
    "###  <font color='#6629b2'>Model Layers</font>\n",
    "The RNN will have four layers:\n",
    "\n",
    "**1. Input**: The input layer takes in the matrix of word indices.\n",
    "\n",
    "**2. Embedding**: A [layer](https://keras.io/layers/embeddings/) that converts integer word indices into distributed vector representations (embeddings), which were introduced above. The difference here is that rather than plugging in embeddings from a pretrained model as before, the word embeddings will be learned inside the model itself. Thus, the input to the model will be the word indices rather than their embeddings, and the embedding values will change as the model is trained. The mask_zero=True parameter in this layer indicates that values of 0 in the matrix (the padding) will be ignored by the model.\n",
    "\n",
    "**3. GRU**: A [recurrent (GRU) hidden layer](https://keras.io/layers/recurrent/), the central component of the model. As it observes each word in the review, it integrates the word embedding representation with what it's observed so far to compute a representation (hidden state) of the review at that timepoint. There are a few architectures for this layer - we use the GRU variation, Keras also provides LSTM or just the simple vanilla recurrent layer (see the materials at the bottom for an explanation of the difference). This layer outputs the last hidden state of the sequence (i.e. the hidden representation of the review after its last word is observed).\n",
    "\n",
    "**4. Dense**: An output [layer](https://keras.io/layers/core/#dense) that predicts the rating for the review based on its GRU representation given by the previous layer. It has one dimension that contains a continuous value (the rating). Add a proper activation function.\n",
    "\n",
    "###  <font color='#6629b2'>Parameters</font>\n",
    "\n",
    "Our function for creating the RNN takes the following parameters:\n",
    "\n",
    "**n_input_nodes**: As with the standard bag-of-words MLP, this is the number of unique words in the lexicon, plus one to account for the padding represented by 0 values. This indicates the number of rows in the embedding layer, where each row corresponds to a word.\n",
    "\n",
    "**n_embedding_nodes**: the number of dimensions (units) in the embedding layer, which can be freely defined. Here, it is set to 300.\n",
    "\n",
    "**n_hidden_nodes**: the number of dimensions in the GRU hidden layer. Like the embedding layer, this can be freely chosen. Here, it is set to 500."
   ]
  },
  {
   "cell_type": "code",
   "execution_count": 32,
   "metadata": {
    "executionInfo": {
     "elapsed": 11,
     "status": "ok",
     "timestamp": 1638280797884,
     "user": {
      "displayName": "Shruti Prasad",
      "photoUrl": "https://lh3.googleusercontent.com/a/default-user=s64",
      "userId": "00085333802018642516"
     },
     "user_tz": -330
    },
    "id": "p_QkacYSTIrk"
   },
   "outputs": [],
   "source": [
    "'''Create the model'''\n",
    "\n",
    "import tensorflow as tf\n",
    "from tensorflow.keras import layers\n",
    "from tensorflow.keras import Input, Model\n",
    "from tensorflow.keras.layers import Embedding\n",
    "from tensorflow.keras.layers import GRU, Dense\n",
    "from tensorflow.keras.layers import InputLayer\n",
    "\n",
    "def create_rnn_model(n_input_nodes, n_embedding_nodes, n_hidden_nodes):\n",
    "    \n",
    "    #complete this function to create a model and compile it having the 4 layers listed above.\n",
    "    #Note: Layer 1 -  Technically the shape of this layer is (batch_size, len(train_padded_idxs)).\n",
    "    # However, both the batch size and the length of the input matrix can be inferred from the input at training time. \n",
    "    # The batch size is implicitly included in the shape of the input, so it does not need to \n",
    "    # be specified as a dimension of the input. None can be given as placeholder for the input matrix length.\n",
    "    # By defining it as None, the model is flexible in accepting inputs with different lengths.\n",
    "    input_layer = Input(shape=(None,))\n",
    "    \n",
    "    # Layer 2\n",
    "    embedding_layer = Embedding(input_dim=n_input_nodes,output_dim=n_embedding_nodes,mask_zero=True)(input_layer)\n",
    "    \n",
    "    # Layer 3\n",
    "    gru_layer = GRU(units=n_hidden_nodes)(embedding_layer)\n",
    "    # Layer 4\n",
    "    output_layer = Dense(units=1)(gru_layer)\n",
    "    #Specify which layers are input and output, compile model with loss and optimization functions\n",
    "    model = Model(inputs=[input_layer], outputs=output_layer)\n",
    "    model.compile(loss=\"mean_squared_error\", optimizer='adam')\n",
    "    \n",
    "    return model\n"
   ]
  },
  {
   "cell_type": "code",
   "execution_count": 33,
   "metadata": {
    "executionInfo": {
     "elapsed": 12,
     "status": "ok",
     "timestamp": 1638280797885,
     "user": {
      "displayName": "Shruti Prasad",
      "photoUrl": "https://lh3.googleusercontent.com/a/default-user=s64",
      "userId": "00085333802018642516"
     },
     "user_tz": -330
    },
    "id": "BXaNvTlbTIrl"
   },
   "outputs": [],
   "source": [
    "rnn_model = create_rnn_model(n_input_nodes=len(lexicon) + 1, n_embedding_nodes=300, n_hidden_nodes=500)"
   ]
  },
  {
   "cell_type": "markdown",
   "metadata": {
    "id": "e7pYF5tDTIrl"
   },
   "source": [
    "###  <font color='#6629b2'>Training</font>"
   ]
  },
  {
   "cell_type": "code",
   "execution_count": 34,
   "metadata": {
    "colab": {
     "base_uri": "https://localhost:8080/"
    },
    "executionInfo": {
     "elapsed": 1762844,
     "status": "ok",
     "timestamp": 1638282785115,
     "user": {
      "displayName": "Shruti Prasad",
      "photoUrl": "https://lh3.googleusercontent.com/a/default-user=s64",
      "userId": "00085333802018642516"
     },
     "user_tz": -330
    },
    "id": "FVMLBRoaTIrl",
    "outputId": "2fdd2f1f-4075-4169-fe0c-8326c3514e6a"
   },
   "outputs": [
    {
     "name": "stdout",
     "output_type": "stream",
     "text": [
      "Epoch 1/5\n",
      "21/21 [==============================] - 251s 12s/step - loss: 0.2711\n",
      "Epoch 2/5\n",
      "21/21 [==============================] - 280s 13s/step - loss: 0.1429\n",
      "Epoch 3/5\n",
      "21/21 [==============================] - 280s 13s/step - loss: 0.0621\n",
      "Epoch 4/5\n",
      "21/21 [==============================] - 283s 13s/step - loss: 0.0410\n",
      "Epoch 5/5\n",
      "21/21 [==============================] - 302s 14s/step - loss: 0.0208\n"
     ]
    },
    {
     "data": {
      "text/plain": [
       "<keras.callbacks.History at 0x20ee2ca2be0>"
      ]
     },
     "execution_count": 34,
     "metadata": {},
     "output_type": "execute_result"
    }
   ],
   "source": [
    "'''\n",
    "Train the rnn_model using the padded sequences and y=train_reviews['Rating'].\n",
    "You need  to convert train_reviews['Rating'] to tensor before passing it as an argument\n",
    "Hint: tf.convert_to_tensor\n",
    "batch_size=20, epochs=5\n",
    "'''\n",
    "tensor=tf.convert_to_tensor(train_sentiment['sentiment'])\n",
    "rnn_model.fit(x=train_padded_idxs, y=tensor, batch_size=20, epochs=5)\n",
    "\n"
   ]
  },
  {
   "cell_type": "markdown",
   "metadata": {
    "id": "XaMZZ56vTIrl"
   },
   "source": [
    "###  <font color='#6629b2'>Prediction</font>"
   ]
  },
  {
   "cell_type": "code",
   "execution_count": 35,
   "metadata": {
    "executionInfo": {
     "elapsed": 24749,
     "status": "ok",
     "timestamp": 1638283351160,
     "user": {
      "displayName": "Shruti Prasad",
      "photoUrl": "https://lh3.googleusercontent.com/a/default-user=s64",
      "userId": "00085333802018642516"
     },
     "user_tz": -330
    },
    "id": "KukfX2osTIrm"
   },
   "outputs": [
    {
     "name": "stdout",
     "output_type": "stream",
     "text": [
      "TEST INPUT:\n",
      " [[   0    0    0 ...   30  625   33]\n",
      " [   0    0    0 ...  193  287   33]\n",
      " [   0    0    0 ...  351 3807  128]\n",
      " ...\n",
      " [   0    0    0 ...  173 1469   33]\n",
      " [   0    0    0 ...  524  601    1]\n",
      " [   0    0    0 ... 1940    1   33]]\n",
      "SHAPE: (180, 1218) \n",
      "\n"
     ]
    }
   ],
   "source": [
    "'''Put test reviews in padded matrix just how we did for train_reviews'''\n",
    "test_reviews['Tokenized_Review'] = test_reviews['review'].str.lower().apply(word_tokenize)\n",
    "test_reviews['Review_Idxs'] = tokens_to_idxs(token_seqs=test_reviews['Tokenized_Review'],lexicon=lexicon)\n",
    "test_padded_idxs = pad_idx_seqs(test_reviews['Review_Idxs'])\n",
    "\n",
    "print(\"TEST INPUT:\\n\", test_padded_idxs)\n",
    "print(\"SHAPE:\", test_padded_idxs.shape, \"\\n\")"
   ]
  },
  {
   "cell_type": "code",
   "execution_count": 36,
   "metadata": {
    "executionInfo": {
     "elapsed": 25400,
     "status": "ok",
     "timestamp": 1638283465251,
     "user": {
      "displayName": "Shruti Prasad",
      "photoUrl": "https://lh3.googleusercontent.com/a/default-user=s64",
      "userId": "00085333802018642516"
     },
     "user_tz": -330
    },
    "id": "XkVeEkRSTIrm"
   },
   "outputs": [],
   "source": [
    "'''Predict the ratings '''\n",
    "\n",
    "#Since ratings are integers, need to round predicted rating to nearest integer\n",
    "test_reviews['RNN_Pred_Rating'] = numpy.round(rnn_model.predict(test_padded_idxs)[:,0]).astype(int)"
   ]
  },
  {
   "cell_type": "markdown",
   "metadata": {
    "id": "ziXV_bnSTIrm"
   },
   "source": [
    "###  <font color='#6629b2'>Evaluation</font>"
   ]
  },
  {
   "cell_type": "code",
   "execution_count": 40,
   "metadata": {
    "colab": {
     "base_uri": "https://localhost:8080/"
    },
    "executionInfo": {
     "elapsed": 391,
     "status": "ok",
     "timestamp": 1638283721643,
     "user": {
      "displayName": "Shruti Prasad",
      "photoUrl": "https://lh3.googleusercontent.com/a/default-user=s64",
      "userId": "00085333802018642516"
     },
     "user_tz": -330
    },
    "id": "V1cBLFVNTIrm",
    "outputId": "ffe44bed-6795-453c-8a7f-484783de9bb2"
   },
   "outputs": [
    {
     "name": "stdout",
     "output_type": "stream",
     "text": [
      "R2 score= -0.550042\n"
     ]
    }
   ],
   "source": [
    "'''Evaluate the model with R^2'''\n",
    "\n",
    "# print the r2 score\n",
    "from sklearn.metrics import r2_score \n",
    "r2Score = r2_score(y_true=test_sentiment, y_pred=test_reviews['RNN_Pred_Rating'])\n",
    "print('R2 score=',round(r2Score,6))"
   ]
  },
  {
   "cell_type": "markdown",
   "metadata": {
    "id": "e9K1gNEqTIrm"
   },
   "source": [
    "On the full test dataset of 25,000 reviews, the $R^2$ for this model is 0.622525. So the RNN outperforms the continuous bag-of-words MLP as well as the standard bag-of-words approach.\n",
    "Your score might not be good because we're training on only 100-200 reviews."
   ]
  },
  {
   "cell_type": "markdown",
   "metadata": {
    "id": "lmoHLmW8TIrm"
   },
   "source": [
    "### <font color='#6629b2'>Visualizing data inside the model</font>\n",
    "\n",
    "To help visualize the data representation inside the model, we can look at the output of each layer in a model individually. Keras' Functional API lets you derive a new model with the layers from an existing model, so you can define the output to be a layer below the output layer in the original model. Calling predict() on this new model will produce the output of that layer for a given input. Of course, glancing at the numbers by themselves doesn't provide any interpretation of what the model has learned (although there are opportunities to [interpret these values](https://medium.com/civis-analytics/interpreting-and-visualizing-neural-networks-for-text-processing-e9dff0da9c22), but seeing them verifies the model is just a series of transformations from one matrix to another. The model stores its layers as the list model.layers, and you can retrieve specific layer by its position index in the model."
   ]
  },
  {
   "cell_type": "code",
   "execution_count": 41,
   "metadata": {
    "colab": {
     "base_uri": "https://localhost:8080/"
    },
    "executionInfo": {
     "elapsed": 2178,
     "status": "ok",
     "timestamp": 1638283635596,
     "user": {
      "displayName": "Shruti Prasad",
      "photoUrl": "https://lh3.googleusercontent.com/a/default-user=s64",
      "userId": "00085333802018642516"
     },
     "user_tz": -330
    },
    "id": "w_buMEikTIrm",
    "outputId": "9823ae0b-2a6f-42c5-ac60-cfb3ab4c7f58"
   },
   "outputs": [
    {
     "name": "stdout",
     "output_type": "stream",
     "text": [
      "EMBEDDING LAYER OUTPUT SHAPE: (180, 1218, 300)\n",
      "[[ 0.02646316  0.04013968  0.0469967  ...  0.03789624 -0.0152205\n",
      "   0.03878452]\n",
      " [ 0.02646316  0.04013968  0.0469967  ...  0.03789624 -0.0152205\n",
      "   0.03878452]\n",
      " [ 0.02646316  0.04013968  0.0469967  ...  0.03789624 -0.0152205\n",
      "   0.03878452]\n",
      " ...\n",
      " [-0.05423133 -0.03326934  0.03916905 ...  0.00944157 -0.04604006\n",
      "  -0.03263585]\n",
      " [-0.01048676  0.00841777 -0.00885442 ... -0.01910497  0.00921863\n",
      "   0.06074259]\n",
      " [ 0.00656235  0.01602003  0.02756088 ...  0.00798869 -0.0026723\n",
      "   0.02253819]]\n"
     ]
    }
   ],
   "source": [
    "'''Showing the output of the RNN embedding layer (second layer) for the test reviews'''\n",
    "\n",
    "embedding_layer = Model(inputs=rnn_model.layers[0].input, outputs=rnn_model.layers[1].output) #embedding layer is 2nd layer (index 1)\n",
    "embedding_output = embedding_layer.predict(test_padded_idxs)\n",
    "print(\"EMBEDDING LAYER OUTPUT SHAPE:\", embedding_output.shape)\n",
    "print(embedding_output[0])"
   ]
  },
  {
   "cell_type": "markdown",
   "metadata": {
    "id": "P76K-2_ETIrn"
   },
   "source": [
    "## <font color='#6629b2'>Conclusion</font>\n",
    "\n",
    "As mentioned above, the models shown here could be applied to any task where the goal is to predict a score for a particular sequence. For ratings prediction, this output is ordinal, but it could also be categorical with a few simple changes to the output layer of the model. "
   ]
  },
  {
   "cell_type": "markdown",
   "metadata": {
    "collapsed": true,
    "id": "2AD7WHR3TIrn"
   },
   "source": [
    "## <font color='#6629b2'>More resources</font>\n",
    "\n",
    "Yoav Goldberg's book [Neural Network Methods for Natural Language Processing](http://www.morganclaypool.com/doi/abs/10.2200/S00762ED1V01Y201703HLT037) is a thorough introduction to neural networks for NLP tasks in general.\n",
    "\n",
    "If you'd like to learn more about what Keras is doing under the hood, there is a [Theano tutorial](http://deeplearning.net/tutorial/lstm.html) that also applies an RNN to sentiment prediction, using the same dataset here\n",
    "\n",
    "Andrej Karpathy's blog post [The Unreasonable Effectiveness of Recurrent Neural Networks](http://karpathy.github.io/2015/05/21/rnn-effectiveness/) is very helpful for understanding the mathematical details of an RNN, applied to the task of language modeling. It also provides raw Python code with an implementation of the backpropagation algorithm.\n",
    "\n",
    "TensorFlow also has an RNN language model [tutorial](https://www.tensorflow.org/versions/r0.12/tutorials/recurrent/index.html) using the Penn Treebank dataset\n",
    "\n",
    "Chris Olah provides a good [explanation](http://colah.github.io/posts/2015-08-Understanding-LSTMs/) of how LSTM RNNs work (this explanation also applies to the GRU model used here)\n",
    "\n",
    "Denny Britz's [tutorial](http://www.wildml.com/2015/09/recurrent-neural-networks-tutorial-part-1-introduction-to-rnns/) documents well both the technical details of RNNs and their implementation in Python."
   ]
  }
 ],
 "metadata": {
  "anaconda-cloud": {},
  "colab": {
   "collapsed_sections": [],
   "name": "Copy of Tasksentiment_rating_rnn.ipynb",
   "provenance": [
    {
     "file_id": "1NArXqZDSMwhVroGamQxBIE1M_aOZwj6_",
     "timestamp": 1638185081746
    }
   ]
  },
  "kernelspec": {
   "display_name": "Python 3",
   "language": "python",
   "name": "python3"
  },
  "language_info": {
   "codemirror_mode": {
    "name": "ipython",
    "version": 3
   },
   "file_extension": ".py",
   "mimetype": "text/x-python",
   "name": "python",
   "nbconvert_exporter": "python",
   "pygments_lexer": "ipython3",
   "version": "3.8.3"
  }
 },
 "nbformat": 4,
 "nbformat_minor": 1
}
