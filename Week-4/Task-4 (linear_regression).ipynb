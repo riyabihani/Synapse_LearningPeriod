{
  "nbformat": 4,
  "nbformat_minor": 0,
  "metadata": {
    "colab": {
      "name": "Linear Regression.ipynb",
      "provenance": [],
      "collapsed_sections": []
    },
    "kernelspec": {
      "name": "python3",
      "display_name": "Python 3"
    },
    "language_info": {
      "name": "python"
    }
  },
  "cells": [
    {
      "cell_type": "code",
      "metadata": {
        "id": "xMzeUx4UJ_7U"
      },
      "source": [
        "import numpy as np\n",
        "import pandas as pd\n",
        "import matplotlib.pyplot as plt"
      ],
      "execution_count": null,
      "outputs": []
    },
    {
      "cell_type": "markdown",
      "metadata": {
        "id": "kwnZPx2aaOPT"
      },
      "source": [
        "##Synthesize data\n",
        "Synthetic data will be built using y = 2x + 3"
      ]
    },
    {
      "cell_type": "code",
      "metadata": {
        "id": "6DcWKD8YM-hx"
      },
      "source": [
        "def synthetic_data(x1, x2, num_examples):\n",
        "    X = np.random.normal(0, 1, (num_examples, len(x1)))\n",
        "    y = np.dot(X, x1) + x2\n",
        "    y += np.random.normal(0, 1, y.shape)\n",
        "    return X, y.reshape((-1, 1))"
      ],
      "execution_count": null,
      "outputs": []
    },
    {
      "cell_type": "code",
      "metadata": {
        "id": "_rWzrLhxXFuo"
      },
      "source": [
        "x,y = synthetic_data(np.array([2]), 3, 1000)"
      ],
      "execution_count": null,
      "outputs": []
    },
    {
      "cell_type": "code",
      "metadata": {
        "id": "Ewqxph4BXWlo"
      },
      "source": [
        "plt.scatter(x,y)"
      ],
      "execution_count": null,
      "outputs": []
    },
    {
      "cell_type": "code",
      "metadata": {
        "id": "EtkByoEfark8"
      },
      "source": [
        ""
      ],
      "execution_count": null,
      "outputs": []
    },
    {
      "cell_type": "markdown",
      "metadata": {
        "id": "ovGGRJeIasK0"
      },
      "source": [
        "## Initialize random x1 and x2 for your line"
      ]
    },
    {
      "cell_type": "code",
      "metadata": {
        "id": "sMe5bAayYadZ"
      },
      "source": [
        "x1_init = np.random.random(x.shape[1]) #Initial value of theta0\n",
        "x2_init = np.random.random(x.shape[1]) #Initial value of theta1"
      ],
      "execution_count": null,
      "outputs": []
    },
    {
      "cell_type": "code",
      "metadata": {
        "colab": {
          "base_uri": "https://localhost:8080/"
        },
        "id": "oaP_n49FJifX",
        "outputId": "16894c6e-680f-482a-bb47-87ed2ce8ad67"
      },
      "source": [
        "print(x1_init, x2_init)"
      ],
      "execution_count": null,
      "outputs": [
        {
          "output_type": "stream",
          "name": "stdout",
          "text": [
            "[0.73776148] [0.54719167]\n"
          ]
        }
      ]
    },
    {
      "cell_type": "code",
      "metadata": {
        "id": "Fe-skiUoXYle"
      },
      "source": [
        "plt.figure()\n",
        "plt.scatter(x,y)\n",
        "plt.plot(x, x1_init*x+x2_init, 'r')\n",
        "plt.show()"
      ],
      "execution_count": null,
      "outputs": []
    },
    {
      "cell_type": "code",
      "metadata": {
        "id": "YPo1rTgmaMCG"
      },
      "source": [
        ""
      ],
      "execution_count": null,
      "outputs": []
    },
    {
      "cell_type": "markdown",
      "metadata": {
        "id": "IPlL2SZXaxMd"
      },
      "source": [
        "## Loss Function\n",
        "We will use the mean squared error as Loss function"
      ]
    },
    {
      "cell_type": "code",
      "metadata": {
        "id": "h4_QQpsoZBm-"
      },
      "source": [
        "def mse(x1, x2, scatter_x, scatter_y):\n",
        "  n = len(scatter_x)\n",
        "  J = sum([(scatter_x[i]*x1 + x2 - scatter_y[i])**2 for i in range(n)])\n",
        "  return J/n"
      ],
      "execution_count": null,
      "outputs": []
    },
    {
      "cell_type": "code",
      "metadata": {
        "id": "qUZIbWMbZ9ey"
      },
      "source": [
        "mse(x1_init, x2_init, x,y)"
      ],
      "execution_count": null,
      "outputs": []
    },
    {
      "cell_type": "markdown",
      "metadata": {
        "id": "jk_N-e7wNDAR"
      },
      "source": [
        "## Visualizing the loss function"
      ]
    },
    {
      "cell_type": "code",
      "metadata": {
        "id": "lSmlbwZbaMVz"
      },
      "source": [
        "def plot_mse(scatter_x, scatter_y):\n",
        "  x1 = np.random.normal(0, 7, (2000,1))\n",
        "  x2 = np.random.normal(0, 7, (2000,1))\n",
        "  mse_wrt_x1 = [mse(i,x2[0],scatter_x,scatter_y) for i in x1]\n",
        "  mse_wrt_x2 = [mse(x1[0],i,scatter_x,scatter_y) for i in x2]\n",
        "  _, ax = plt.subplots(1,2,figsize=(20,10))\n",
        "\n",
        "  ax[0].plot(x1, mse_wrt_x1)\n",
        "  ax[0].set_title(\"mse x1\")\n",
        "\n",
        "  ax[1].plot(x2, mse_wrt_x2)\n",
        "  ax[1].set_title(\"mse x2\")"
      ],
      "execution_count": null,
      "outputs": []
    },
    {
      "cell_type": "code",
      "metadata": {
        "id": "GmQR_EUDO0C3"
      },
      "source": [
        "plot_mse(x,y)"
      ],
      "execution_count": null,
      "outputs": []
    },
    {
      "cell_type": "markdown",
      "metadata": {
        "id": "kPdjG8c60Ah7"
      },
      "source": [
        "x1 minima will be at 2<br>\n",
        "x2 minima will be at 3"
      ]
    },
    {
      "cell_type": "code",
      "metadata": {
        "id": "NEOa0ZvuQGJj"
      },
      "source": [
        ""
      ],
      "execution_count": null,
      "outputs": []
    },
    {
      "cell_type": "markdown",
      "metadata": {
        "id": "QE19BSiFbFLv"
      },
      "source": [
        "## Optimizer and training"
      ]
    },
    {
      "cell_type": "code",
      "metadata": {
        "id": "9Z1-Cf-La5J_"
      },
      "source": [
        "def gradient_descent(lr, scatter_x, scatter_y, x1, x2, epochs):\n",
        "  J_list = []\n",
        "  n = len(scatter_x)\n",
        "  line_list = []\n",
        "\n",
        "  for i in range(epochs+1):\n",
        "    if i%50 == 0:\n",
        "      print(\"epoch:\", i)\n",
        "\n",
        "    loss = mse(x1, x2, scatter_x, scatter_y)\n",
        "    J_list.append(loss)\n",
        "    if i%50 ==0:\n",
        "      print(\"mse:\", loss)\n",
        "\n",
        "    dx1 = 2/n*(sum([(scatter_x[i]*x1 + x2 - scatter_y[i])*scatter_x[i] for i in range(n)]))\n",
        "    dx2 = 2/n*(sum([(scatter_x[i]*x1 + x2 - scatter_y[i]) for i in range(n)]))\n",
        "\n",
        "    x1 = x1 - lr*dx1\n",
        "    x2 = x2 - lr*dx2\n",
        "\n",
        "    line_list.append((x1,x2))\n",
        "    if i%50 == 0:\n",
        "      print()\n",
        "\n",
        "  return x1, x2, line_list, J_list\n"
      ],
      "execution_count": null,
      "outputs": []
    },
    {
      "cell_type": "code",
      "metadata": {
        "id": "Hf7X2Io3aMk0"
      },
      "source": [
        "predicted_x1, predicted_x2, line_list, J_list =  gradient_descent(0.01, x,y,x1_init, x2_init, 300)"
      ],
      "execution_count": null,
      "outputs": []
    },
    {
      "cell_type": "code",
      "metadata": {
        "id": "AIeQnQm-cpE2"
      },
      "source": [
        "predicted_x1, predicted_x2"
      ],
      "execution_count": null,
      "outputs": []
    },
    {
      "cell_type": "code",
      "metadata": {
        "id": "OF5hMZ_VdKjG"
      },
      "source": [
        "2, 3"
      ],
      "execution_count": null,
      "outputs": []
    },
    {
      "cell_type": "markdown",
      "metadata": {
        "id": "anKcC7JcdVhm"
      },
      "source": [
        "# visualizing results"
      ]
    },
    {
      "cell_type": "markdown",
      "metadata": {
        "id": "I5ZybLKXdzN_"
      },
      "source": [
        "#### Cost function vs epoch"
      ]
    },
    {
      "cell_type": "code",
      "metadata": {
        "id": "hW4wdZC4ddiR"
      },
      "source": [
        "plt.plot([i for i in range(1,302)], J_list)"
      ],
      "execution_count": null,
      "outputs": []
    },
    {
      "cell_type": "markdown",
      "metadata": {
        "id": "K_ixPcD8d2cT"
      },
      "source": [
        "#### Final predicted best fit line"
      ]
    },
    {
      "cell_type": "code",
      "metadata": {
        "id": "CATPfEjHdq92"
      },
      "source": [
        "plt.figure()\n",
        "plt.scatter(x,y)\n",
        "plt.plot(x, predicted_x1*x+predicted_x2, 'r')\n",
        "plt.show()"
      ],
      "execution_count": null,
      "outputs": []
    },
    {
      "cell_type": "markdown",
      "metadata": {
        "id": "T2CbhhhBMymR"
      },
      "source": [
        "#### Visualizing the progress with epochs"
      ]
    },
    {
      "cell_type": "code",
      "metadata": {
        "id": "7eBN-nBqKX3B"
      },
      "source": [
        "_, axarr = plt.subplots(3,3,figsize=(20,15))\n",
        "\n",
        "axarr[0][0].scatter(x,y)\n",
        "axarr[0][0].plot(x, line_list[0][0]*x+line_list[0][1], 'r')\n",
        "axarr[0][0].set_title(\"epoch 0\")\n",
        "\n",
        "axarr[0][1].scatter(x,y)\n",
        "axarr[0][1].plot(x, line_list[20][0]*x+line_list[20][1], 'r')\n",
        "axarr[0][1].set_title(\"epoch 20\")\n",
        "\n",
        "axarr[0][2].scatter(x,y)\n",
        "axarr[0][2].plot(x, line_list[40][0]*x+line_list[40][1], 'r')\n",
        "axarr[0][2].set_title(\"epoch 40\")\n",
        "\n",
        "axarr[1][0].scatter(x,y)\n",
        "axarr[1][0].plot(x, line_list[60][0]*x+line_list[60][1], 'r')\n",
        "axarr[1][0].set_title(\"epoch 60\")\n",
        "\n",
        "axarr[1][1].scatter(x,y)\n",
        "axarr[1][1].plot(x, line_list[80][0]*x+line_list[80][1], 'r')\n",
        "axarr[1][1].set_title(\"epoch 80\")\n",
        "\n",
        "axarr[1][2].scatter(x,y)\n",
        "axarr[1][2].plot(x, line_list[100][0]*x+line_list[100][1], 'r')\n",
        "axarr[1][2].set_title(\"epoch 100\")\n",
        "\n",
        "axarr[2][0].scatter(x,y)\n",
        "axarr[2][0].plot(x, line_list[120][0]*x+line_list[120][1], 'r')\n",
        "axarr[2][0].set_title(\"epoch 120\")\n",
        "\n",
        "axarr[2][1].scatter(x,y)\n",
        "axarr[2][1].plot(x, line_list[140][0]*x+line_list[140][1], 'r')\n",
        "axarr[2][1].set_title(\"epoch 140\")\n",
        "\n",
        "axarr[2][2].scatter(x,y)\n",
        "axarr[2][2].plot(x, line_list[160][0]*x+line_list[160][1], 'r')\n",
        "axarr[2][2].set_title(\"epoch 160\")"
      ],
      "execution_count": null,
      "outputs": []
    },
    {
      "cell_type": "code",
      "metadata": {
        "id": "npAvNykkK7Ma"
      },
      "source": [
        ""
      ],
      "execution_count": null,
      "outputs": []
    }
  ]
}